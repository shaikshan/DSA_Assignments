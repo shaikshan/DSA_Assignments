{
 "cells": [
  {
   "cell_type": "markdown",
   "id": "5e391eaa",
   "metadata": {},
   "source": [
    "Q.1)Given an array, for each element find the value of the nearest element to the right which is having a frequency greater \n",
    "#than that of the current element. If there does not exist an answer for a position, then make the value ‘-1’."
   ]
  },
  {
   "cell_type": "code",
   "execution_count": 2,
   "id": "b61e5ed2",
   "metadata": {},
   "outputs": [],
   "source": [
    "def find_nearest_element(array):\n",
    "    frequency = {}\n",
    "    result = []\n",
    "    \n",
    "    for i in range(len(array) - 1, -1, -1):\n",
    "        if array[i] in frequency:\n",
    "            if frequency[array[i]] > frequency.get(result[-1], 0):\n",
    "                result.append(array[i])\n",
    "            else:\n",
    "                result.append(result[-1])\n",
    "        else:\n",
    "            result.append(-1)\n",
    "        \n",
    "        frequency[array[i]] = frequency.get(array[i], 0) + 1\n",
    "    \n",
    "    result.reverse()\n",
    "    return result"
   ]
  },
  {
   "cell_type": "markdown",
   "id": "8761082f",
   "metadata": {},
   "source": [
    "- Time complexity: O(n), where n is the size of the input array.\n",
    "- Space complexity: O(n), for storing the frequencies and the separate array.\n",
    "- \n",
    "- Note: This solution assumes that \"nearest element to the right\" refers to the nearest element in terms of array indices, not values."
   ]
  },
  {
   "cell_type": "markdown",
   "id": "2d96c2c7",
   "metadata": {},
   "source": [
    " Q.2)Given a stack of integers, sort it in ascending order using another temporary stack."
   ]
  },
  {
   "cell_type": "code",
   "execution_count": 3,
   "id": "f0e163f2",
   "metadata": {},
   "outputs": [],
   "source": [
    "def sort_stack(stack):\n",
    "    temp_stack = []\n",
    "    \n",
    "    while stack:\n",
    "        temp = stack.pop()\n",
    "        \n",
    "        while temp_stack and temp_stack[-1] > temp:\n",
    "            stack.append(temp_stack.pop())\n",
    "        \n",
    "        temp_stack.append(temp)\n",
    "    \n",
    "    return temp_stack[::-1]\n"
   ]
  },
  {
   "cell_type": "markdown",
   "id": "71c62f70",
   "metadata": {},
   "source": [
    "- Time complexity: O(n^2), where n is the size of the input stack.\n",
    "- Space complexity: O(n), for the temporary stack.\n",
    "\n",
    "- Note: The solution assumes that the stack is implemented as a list, where the top of the stack is the last element of the list."
   ]
  },
  {
   "cell_type": "markdown",
   "id": "8a1ca027",
   "metadata": {},
   "source": [
    " Q.3)Given a stack with push(), pop(), and empty() operations, The task is to delete the middle element of it without using any additional data structure."
   ]
  },
  {
   "cell_type": "code",
   "execution_count": 4,
   "id": "7c5b4c05",
   "metadata": {},
   "outputs": [],
   "source": [
    "def size(stack):\n",
    "    return len(stack)\n",
    "\n",
    "def delete_middle(stack, current_index):\n",
    "    if len(stack) == 0:\n",
    "        return\n",
    "\n",
    "    if current_index == size(stack) // 2:\n",
    "        stack.pop()\n",
    "        return\n",
    "\n",
    "    item = stack.pop()\n",
    "    delete_middle(stack, current_index + 1)\n",
    "    stack.append(item)"
   ]
  },
  {
   "cell_type": "markdown",
   "id": "dc5ee09c",
   "metadata": {},
   "source": [
    "- Time complexity: O(n^2), where n is the size of the input stack.\n",
    "- Space complexity: O(n), for the recursive call stack.\n",
    "- \n",
    "- Note: This solution assumes that the stack is implemented as a list, where the top of the stack is the last element of the list. The size of the stack is found using the helper function size()."
   ]
  },
  {
   "cell_type": "markdown",
   "id": "e0b4c5ae",
   "metadata": {},
   "source": [
    "Q.4) Given a Queue consisting of first n natural numbers (in random order). The task is to check whether the given Queue  elements can be arranged in increasing order in another Queue using a stack"
   ]
  },
  {
   "cell_type": "code",
   "execution_count": 5,
   "id": "35456019",
   "metadata": {},
   "outputs": [],
   "source": [
    "def check_sorting_possible(queue):\n",
    "    stack = []\n",
    "    destination_queue = []\n",
    "\n",
    "    while queue:\n",
    "        current_element = queue.pop(0)\n",
    "\n",
    "        if not destination_queue or current_element >= destination_queue[-1]:\n",
    "            destination_queue.append(current_element)\n",
    "        else:\n",
    "            while stack and stack[-1] < current_element:\n",
    "                destination_queue.append(stack.pop())\n",
    "            stack.append(current_element)\n",
    "\n",
    "        while destination_queue:\n",
    "            stack.append(destination_queue.pop(0))\n",
    "\n",
    "    if not queue:\n",
    "        return True\n",
    "    else:\n",
    "        return False"
   ]
  },
  {
   "cell_type": "markdown",
   "id": "dac0bab9",
   "metadata": {},
   "source": [
    "- Time complexity: O(n^2), where n is the size of the input queue.\n",
    "- Space complexity: O(n), for the stack and destination queue.\n",
    "- \n",
    "- Note: This solution assumes that the queue is implemented as a list, where the front of the queue is the first element of the list."
   ]
  },
  {
   "cell_type": "markdown",
   "id": "08ba6295",
   "metadata": {},
   "source": [
    "Q.5) Given a number , write a program to reverse this number using stack."
   ]
  },
  {
   "cell_type": "code",
   "execution_count": 6,
   "id": "a1d29fbc",
   "metadata": {},
   "outputs": [],
   "source": [
    "def reverse_number(number):\n",
    "    number_str = str(number)\n",
    "    stack = []\n",
    "\n",
    "    for digit in number_str:\n",
    "        stack.append(digit)\n",
    "\n",
    "    reversed_number_str = \"\"\n",
    "    while stack:\n",
    "        reversed_number_str += stack.pop()\n",
    "\n",
    "    reversed_number = int(reversed_number_str)\n",
    "    return reversed_number"
   ]
  },
  {
   "cell_type": "markdown",
   "id": "743a5f87",
   "metadata": {},
   "source": [
    "- Time complexity: O(d), where d is the number of digits in the given number.\n",
    "- Space complexity: O(d), for the stack.\n",
    "- \n",
    "- Note: This solution assumes that the number is a positive integer. If the number can be negative or contain leading zeros, additional handling might be required."
   ]
  },
  {
   "cell_type": "markdown",
   "id": "a984e99f",
   "metadata": {},
   "source": [
    "Q.6) Given an integer k and a queue of integers, The task is to reverse the order of the first k elements of the queue, \n",
    "leaving the other elements in the same relative order."
   ]
  },
  {
   "cell_type": "code",
   "execution_count": 7,
   "id": "3bad3251",
   "metadata": {},
   "outputs": [],
   "source": [
    "def reverse_k_elements(queue, k):\n",
    "    stack = []\n",
    "    for _ in range(k):\n",
    "        stack.append(queue.pop(0))\n",
    "\n",
    "    temp_queue = []\n",
    "    while stack:\n",
    "        temp_queue.append(stack.pop())\n",
    "\n",
    "    while queue:\n",
    "        temp_queue.append(queue.pop(0))\n",
    "\n",
    "    for item in temp_queue:\n",
    "        queue.append(item)\n",
    "\n",
    "    return queue\n"
   ]
  },
  {
   "cell_type": "markdown",
   "id": "e6aa5962",
   "metadata": {},
   "source": [
    "- Time complexity: O(n), where n is the size of the input queue.\n",
    "- Space complexity: O(k), for the stack.\n",
    "- \n",
    "- Note: This solution assumes that the queue is implemented as a list, where the front of the queue is the first element of the list."
   ]
  },
  {
   "cell_type": "markdown",
   "id": "7eede114",
   "metadata": {},
   "source": [
    "#Q.7) Given a sequence of n strings, the task is to check if any two similar words come together and then destroy each other\n",
    "#then print the number of words left in the sequence after this pairwise destruction."
   ]
  },
  {
   "cell_type": "code",
   "execution_count": 10,
   "id": "4d309298",
   "metadata": {},
   "outputs": [],
   "source": [
    "def check_pairwise_destruction(sequence):\n",
    "    stack = []\n",
    "    for word in sequence:\n",
    "        if not stack or word != stack[-1]:\n",
    "            stack.append(word)\n",
    "        else:\n",
    "            stack.pop()\n",
    "\n",
    "    remaining_words = len(stack)\n",
    "    return remaining_words"
   ]
  },
  {
   "cell_type": "markdown",
   "id": "d9587b83",
   "metadata": {},
   "source": [
    "- Time complexity: O(n), where n is the number of words in the sequence.\n",
    "- Space complexity: O(n), for the stack.\n",
    "- \n",
    "- Note: This solution assumes that the words are stored in a list called sequence. The comparison for similarity is based on the exact match of the words."
   ]
  },
  {
   "cell_type": "markdown",
   "id": "fadc5fc8",
   "metadata": {},
   "source": [
    "Q. 8)Given an array of integers, the task is to find the maximum absolute difference between the nearest left and the right\n",
    "smaller element of every element in the array."
   ]
  },
  {
   "cell_type": "code",
   "execution_count": 8,
   "id": "f28dcba6",
   "metadata": {},
   "outputs": [],
   "source": [
    "def max_absolute_difference(arr):\n",
    "    n = len(arr)\n",
    "    left_smaller = [None] * n\n",
    "    right_smaller = [None] * n\n",
    "    stack = []\n",
    "\n",
    "    # Find nearest right smaller elements\n",
    "    for i in range(n):\n",
    "        while stack and arr[stack[-1]] > arr[i]:\n",
    "            right_smaller[stack.pop()] = arr[i]\n",
    "        stack.append(i)\n",
    "\n",
    "    stack.clear()\n",
    "\n",
    "    # Find nearest left smaller elements\n",
    "    for i in range(n-1, -1, -1):\n",
    "        while stack and arr[stack[-1]] > arr[i]:\n",
    "            left_smaller[stack.pop()] = arr[i]\n",
    "        stack.append(i)\n",
    "\n",
    "    max_diff = 0\n",
    "\n",
    "    # Calculate maximum absolute difference\n",
    "    for i in range(n):\n",
    "        diff = abs(right_smaller[i] - left_smaller[i])\n",
    "        max_diff = max(max_diff, diff)\n",
    "\n",
    "    return max_diff\n"
   ]
  },
  {
   "cell_type": "markdown",
   "id": "1f8dc7a1",
   "metadata": {},
   "source": [
    "- Time complexity: O(n), where n is the size of the input array.\n",
    "- Space complexity: O(n), for the left_smaller and right_smaller arrays.\n",
    "- \n",
    "- Note: This solution assumes that the array is a list of integers."
   ]
  }
 ],
 "metadata": {
  "kernelspec": {
   "display_name": "Python 3 (ipykernel)",
   "language": "python",
   "name": "python3"
  },
  "language_info": {
   "codemirror_mode": {
    "name": "ipython",
    "version": 3
   },
   "file_extension": ".py",
   "mimetype": "text/x-python",
   "name": "python",
   "nbconvert_exporter": "python",
   "pygments_lexer": "ipython3",
   "version": "3.9.7"
  }
 },
 "nbformat": 4,
 "nbformat_minor": 5
}
