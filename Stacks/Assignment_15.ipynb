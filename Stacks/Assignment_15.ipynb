{
 "cells": [
  {
   "cell_type": "markdown",
   "id": "e023bab8",
   "metadata": {},
   "source": [
    "\n",
    "💡 **Question 1**\n",
    "\n",
    "Given an array **arr[ ]** of size **N** having elements, the task is to find the next greater element for each element of the array in order of their appearance in the array.Next greater element of an element in the array is the nearest element on the right which is greater than the current element.If there does not exist next greater of current element, then next greater element for current element is -1. For example, next greater of the last element is always -1.\n"
   ]
  },
  {
   "cell_type": "markdown",
   "id": "68e55182",
   "metadata": {},
   "source": [
    "To solve this problem, we can use a stack data structure to keep track of the next greater elements. Here's the step-by-step approach:\n",
    "\n",
    "- Create an empty stack and initialize it.\n",
    "- Iterate through the array from right to left.\n",
    "- For each element in the array:\n",
    "- While the stack is not empty and the top element of the stack is less than or equal to the current element, pop elements from the stack.\n",
    "- If the stack becomes empty, assign -1 as the next greater element for the current element.\n",
    "- If the stack is not empty, assign the top element of the stack as the next greater element for the current element.\n",
    "- Push the current element onto the stack.\n",
    "- After the iteration is complete, there may be elements remaining in the stack without a next greater element. Assign -1 as the next greater element for those elements.\n",
    "- Reverse the resulting next greater elements array to match the order of appearance in the original array."
   ]
  },
  {
   "cell_type": "code",
   "execution_count": 1,
   "id": "53ce7fa5",
   "metadata": {},
   "outputs": [],
   "source": [
    "def find_next_greater_elements(arr):\n",
    "    stack = []\n",
    "    result = [-1] * len(arr)\n",
    "    \n",
    "    for i in range(len(arr) - 1, -1, -1):\n",
    "        while stack and stack[-1] <= arr[i]:\n",
    "            stack.pop()\n",
    "        \n",
    "        if stack:\n",
    "            result[i] = stack[-1]\n",
    "        \n",
    "        stack.append(arr[i])\n",
    "    \n",
    "    return result[::-1]"
   ]
  },
  {
   "cell_type": "markdown",
   "id": "b683f602",
   "metadata": {},
   "source": [
    "The time complexity of this solution is O(N), where N is the size of the input array. The space complexity is O(N) as well, considering the stack used to store intermediate elements"
   ]
  },
  {
   "cell_type": "markdown",
   "id": "758fcad6",
   "metadata": {},
   "source": [
    "💡 **Question 2**\n",
    "\n",
    "Given an array **a** of integers of length **n**, find the nearest smaller number for every element such that the smaller element is on left side.If no small element present on the left print -1."
   ]
  },
  {
   "cell_type": "markdown",
   "id": "0c959d6d",
   "metadata": {},
   "source": [
    "\n",
    "- To solve this problem, we can use a stack data structure to keep track of the nearest smaller elements. Here's the step-by-step approach:\n",
    "- \n",
    "- Create an empty stack and initialize it.\n",
    "- Create an empty result array of the same length as the input array, initialized with -1.\n",
    "- Iterate through the array from left to right.\n",
    "- For each element in the array:\n",
    "- While the stack is not empty and the top element of the stack is greater than or equal to the current element, pop elements from the stack.\n",
    "- If the stack becomes empty, assign -1 as the nearest smaller element for the current element.\n",
    "- If the stack is not empty, assign the top element of the stack as the nearest smaller element for the current element.\n",
    "- Push the current element onto the stack.\n",
    "- After the iteration is complete, the result array will contain the nearest smaller element for each element, or -1 if no smaller element is found on the left."
   ]
  },
  {
   "cell_type": "code",
   "execution_count": 2,
   "id": "0fbfd43c",
   "metadata": {},
   "outputs": [],
   "source": [
    "def find_nearest_smaller_elements(arr):\n",
    "    stack = []\n",
    "    result = [-1] * len(arr)\n",
    "    \n",
    "    for i in range(len(arr)):\n",
    "        while stack and stack[-1] >= arr[i]:\n",
    "            stack.pop()\n",
    "        \n",
    "        if stack:\n",
    "            result[i] = stack[-1]\n",
    "        \n",
    "        stack.append(arr[i])\n",
    "    \n",
    "    return result\n"
   ]
  },
  {
   "cell_type": "markdown",
   "id": "32b3967d",
   "metadata": {},
   "source": [
    "The time complexity of this solution is O(N), where N is the size of the input array. The space complexity is O(N) as well, considering the stack used to store intermediate elements."
   ]
  },
  {
   "cell_type": "markdown",
   "id": "d29d5951",
   "metadata": {},
   "source": [
    "💡 **Question 3**\n",
    "\n",
    "Implement a Stack using two queues **q1** and **q2**."
   ]
  },
  {
   "cell_type": "markdown",
   "id": "f70ccb81",
   "metadata": {},
   "source": [
    "- To implement a stack using two queues, we can utilize the following approach:\n",
    "- \n",
    "- Create two queues, q1 and q2.\n",
    "- For the push operation:\n",
    "- Add the new element to q1.\n",
    "- For the pop operation:\n",
    "- Move all elements from q1 to q2, except for the last element.\n",
    "- Remove and return the last element from q1.\n",
    "- Swap the names of q1 and q2, so that q2 becomes the new empty queue and q1 contains the remaining elements.\n",
    "- For the top operation:\n",
    "- Move all elements from q1 to q2, except for the last element.\n",
    "- Get and store the last element from q1.\n",
    "- Swap the names of q1 and q2, so that q2 becomes the new empty queue and q1 contains the remaining elements.\n",
    "- Return the stored last element.\n",
    "- For the empty operation:\n",
    "Return whether both q1 and q2 are empty."
   ]
  },
  {
   "cell_type": "code",
   "execution_count": 3,
   "id": "32919852",
   "metadata": {},
   "outputs": [],
   "source": [
    "from queue import Queue\n",
    "\n",
    "class Stack:\n",
    "    def __init__(self):\n",
    "        self.q1 = Queue()\n",
    "        self.q2 = Queue()\n",
    "\n",
    "    def push(self, element):\n",
    "        self.q1.put(element)\n",
    "\n",
    "    def pop(self):\n",
    "        if self.q1.empty():\n",
    "            return None\n",
    "        \n",
    "        while self.q1.qsize() > 1:\n",
    "            self.q2.put(self.q1.get())\n",
    "        \n",
    "        element = self.q1.get()\n",
    "        \n",
    "        self.q1, self.q2 = self.q2, self.q1\n",
    "        \n",
    "        return element\n",
    "\n",
    "    def top(self):\n",
    "        if self.q1.empty():\n",
    "            return None\n",
    "        \n",
    "        while self.q1.qsize() > 1:\n",
    "            self.q2.put(self.q1.get())\n",
    "        \n",
    "        element = self.q1.get()\n",
    "        self.q2.put(element)\n",
    "        \n",
    "        self.q1, self.q2 = self.q2, self.q1\n",
    "        \n",
    "        return element\n",
    "\n",
    "    def empty(self):\n",
    "        return self.q1.empty() and self.q2.empty()\n"
   ]
  },
  {
   "cell_type": "markdown",
   "id": "746f5e2f",
   "metadata": {},
   "source": [
    "The time complexity of the push operation is O(1), while the pop, top, and empty operations have a time complexity of O(n) in the worst case, where n is the number of elements in the stack. The space complexity is O(n) as well, as the queues are used to store the elements."
   ]
  },
  {
   "cell_type": "markdown",
   "id": "59cc0681",
   "metadata": {},
   "source": [
    "💡 **Question 4**\n",
    "\n",
    "You are given a stack **St**. You have to reverse the stack using recursion."
   ]
  },
  {
   "cell_type": "markdown",
   "id": "659d6749",
   "metadata": {},
   "source": [
    "- To reverse a stack using recursion, we can follow the below recursive algorithm:\n",
    "- \n",
    "- Create a recursive function, let's call it reverse_stack.\n",
    "- The base case for the recursion is when the stack is empty. In this case, return.\n",
    "- For the recursive case:\n",
    "- Pop an element, x, from the stack.\n",
    "- Recursively call reverse_stack to reverse the remaining stack elements.\n",
    "- After the recursive call, insert x at the bottom of the stack by calling another recursive function, let's call it insert_at_bottom.\n",
    "- Create the insert_at_bottom recursive function:\n",
    "- The base case for the recursion is when the stack is empty. In this case, push x onto the stack.\n",
    "- For the recursive case:\n",
    "- Pop an element, y, from the stack.\n",
    "- Recursively call insert_at_bottom to insert x at the bottom of the remaining stack elements.\n",
    "- After the recursive call, push y back onto the stack.\n",
    "- Finally, call the reverse_stack function passing the original stack as the argument."
   ]
  },
  {
   "cell_type": "code",
   "execution_count": 6,
   "id": "5d141779",
   "metadata": {},
   "outputs": [],
   "source": [
    "def reverse_stack(stack):\n",
    "    if not stack.empty():\n",
    "        x = stack.pop()\n",
    "        reverse_stack(stack)\n",
    "        insert_at_bottom(stack, x)\n",
    "\n",
    "def insert_at_bottom(stack, x):\n",
    "    if stack.empty():\n",
    "        stack.push(x)\n",
    "    else:\n",
    "        y = stack.pop()\n",
    "        insert_at_bottom(stack, x)\n",
    "        stack.push(y)\n"
   ]
  },
  {
   "cell_type": "markdown",
   "id": "45fc59ed",
   "metadata": {},
   "source": [
    "The time complexity of reversing the stack using recursion is O(n^2), where n is the number of elements in the stack. This is because for each element, we need to recursively pop and push elements until we reach the bottom of the stack. The space complexity is O(n) due to the recursion stack."
   ]
  },
  {
   "cell_type": "markdown",
   "id": "73e314b6",
   "metadata": {},
   "source": [
    "💡 **Question 5**\n",
    "\n",
    "You are given a string **S**, the task is to reverse the string using stack."
   ]
  },
  {
   "cell_type": "markdown",
   "id": "b8ff4115",
   "metadata": {},
   "source": [
    "- To reverse a string using a stack, we can follow the following algorithm: \n",
    "- Create an empty stack.\n",
    "- Iterate through each character in the string from left to right.\n",
    "- For each character, push it onto the stack.\n",
    "- After iterating through all characters, create an empty string to store the reversed string.\n",
    "- Pop each character from the stack and append it to the reversed string.\n",
    "- The reversed string is the final result."
   ]
  },
  {
   "cell_type": "code",
   "execution_count": 7,
   "id": "240e2890",
   "metadata": {},
   "outputs": [],
   "source": [
    "def reverse_string(string):\n",
    "    stack = []\n",
    "    \n",
    "    # Push each character onto the stack\n",
    "    for char in string:\n",
    "        stack.append(char)\n",
    "    \n",
    "    reversed_string = \"\"\n",
    "    \n",
    "    # Pop each character from the stack and append it to the reversed string\n",
    "    while stack:\n",
    "        reversed_string += stack.pop()\n",
    "    \n",
    "    return reversed_string\n"
   ]
  },
  {
   "cell_type": "markdown",
   "id": "33f6f0e2",
   "metadata": {},
   "source": [
    "The time complexity of this algorithm is O(n), where n is the length of the input string. This is because we iterate through each character of the string once. The space complexity is also O(n) as we need to store the characters in the stack."
   ]
  },
  {
   "cell_type": "markdown",
   "id": "aae67700",
   "metadata": {},
   "source": [
    "💡 **Question 6**\n",
    "\n",
    "Given string **S** representing a postfix expression, the task is to evaluate the expression and find the final value. Operators will only include the basic arithmetic operators like ***, /, + and -**."
   ]
  },
  {
   "cell_type": "markdown",
   "id": "29b41162",
   "metadata": {},
   "source": [
    "\n",
    "- To evaluate a postfix expression, we can use a stack data structure. Here's the step-by-step approach: \n",
    "- Create an empty stack.\n",
    "- Iterate through each character in the postfix expression from left to right.\n",
    "- For each character:\n",
    "- If the character is an operand (a number), convert it to an integer and push it onto the stack.\n",
    "- If the character is an operator, pop the top two elements from the stack.\n",
    "- Perform the corresponding operation (e.g., addition, subtraction, multiplication, or division) on the two popped elements.\n",
    "- Push the result of the operation back onto the stack.\n",
    "- After iterating through all characters, the stack will contain only one element, which is the final result of the expression.\n",
    "- Pop and return the top element from the stack."
   ]
  },
  {
   "cell_type": "code",
   "execution_count": 8,
   "id": "c531ea12",
   "metadata": {},
   "outputs": [],
   "source": [
    "def evaluate_postfix(expression):\n",
    "    stack = []\n",
    "    \n",
    "    for char in expression:\n",
    "        if char.isdigit():\n",
    "            stack.append(int(char))\n",
    "        else:\n",
    "            operand2 = stack.pop()\n",
    "            operand1 = stack.pop()\n",
    "            \n",
    "            if char == '+':\n",
    "                result = operand1 + operand2\n",
    "            elif char == '-':\n",
    "                result = operand1 - operand2\n",
    "            elif char == '*':\n",
    "                result = operand1 * operand2\n",
    "            elif char == '/':\n",
    "                result = operand1 / operand2\n",
    "            \n",
    "            stack.append(result)\n",
    "    \n",
    "    return stack.pop()\n"
   ]
  },
  {
   "cell_type": "markdown",
   "id": "77b87653",
   "metadata": {},
   "source": [
    "In the example above, the postfix expression \"2354+9-\" evaluates to 17. The time complexity of this algorithm is O(n), where n is the length of the postfix expression. This is because we iterate through each character in the expression once. The space complexity is also O(n) as the stack is used to store intermediate results."
   ]
  },
  {
   "cell_type": "markdown",
   "id": "079ffa8e",
   "metadata": {},
   "source": [
    "💡 **Question 7**\n",
    "\n",
    "Design a stack that supports push, pop, top, and retrieving the minimum element in constant time.\n",
    "\n",
    "Implement the `MinStack` class:\n",
    "\n",
    "- `MinStack()` initializes the stack object.\n",
    "- `void push(int val)` pushes the element `val` onto the stack.\n",
    "- `void pop()` removes the element on the top of the stack.\n",
    "- `int top()` gets the top element of the stack.\n",
    "- `int getMin()` retrieves the minimum element in the stack.\n",
    "\n",
    "You must implement a solution with `O(1)` time complexity for each function."
   ]
  },
  {
   "cell_type": "markdown",
   "id": "70c18848",
   "metadata": {},
   "source": [
    "To design a stack that supports push, pop, top, and retrieving the minimum element in constant time, we can utilize an additional stack to keep track of the minimum elements."
   ]
  },
  {
   "cell_type": "code",
   "execution_count": 9,
   "id": "31a7f392",
   "metadata": {},
   "outputs": [],
   "source": [
    "class MinStack:\n",
    "    def __init__(self):\n",
    "        self.stack = []  # Main stack to store elements\n",
    "        self.min_stack = []  # Auxiliary stack to track minimum elements\n",
    "\n",
    "    def push(self, val):\n",
    "        self.stack.append(val)  # Push the element onto the main stack\n",
    "\n",
    "        # If the min stack is empty or the new element is smaller than or equal to the top element of the min stack,\n",
    "        # push the new element onto the min stack\n",
    "        if not self.min_stack or val <= self.min_stack[-1]:\n",
    "            self.min_stack.append(val)\n",
    "\n",
    "    def pop(self):\n",
    "        if self.stack:\n",
    "            top_element = self.stack.pop()  # Pop the top element from the main stack\n",
    "\n",
    "            # If the top element of the main stack is the same as the top element of the min stack,\n",
    "            # pop the top element from the min stack as well\n",
    "            if top_element == self.min_stack[-1]:\n",
    "                self.min_stack.pop()\n",
    "\n",
    "    def top(self):\n",
    "        if self.stack:\n",
    "            return self.stack[-1]  # Return the top element of the main stack\n",
    "\n",
    "    def getMin(self):\n",
    "        if self.min_stack:\n",
    "            return self.min_stack[-1]  # Return the top element of the min stack\n"
   ]
  },
  {
   "cell_type": "markdown",
   "id": "93240fd0",
   "metadata": {},
   "source": [
    "The MinStack class utilizes two stacks: stack to store the elements, and min_stack to keep track of the minimum elements. The push operation checks if the new element is smaller than or equal to the top element of the min_stack and pushes it onto both stacks if applicable. The pop operation removes the top element from the stack and, if it's also the top element of the min_stack, removes it from the min_stack as well. The top operation returns the top element of the stack, and the getMin operation returns the top element of the min_stack.\n",
    "\n",
    "The time complexity of all operations, including push, pop, top, and getMin, is O(1) as required. The space complexity is O(n), where n is the number of elements in the stack, since both stack and min_stack store the elements."
   ]
  },
  {
   "cell_type": "markdown",
   "id": "619b27d1",
   "metadata": {},
   "source": [
    "💡 **Question 8**\n",
    "\n",
    "Given `n` non-negative integers representing an elevation map where the width of each bar is `1`, compute how much water it can trap after raining."
   ]
  },
  {
   "cell_type": "markdown",
   "id": "29b408eb",
   "metadata": {},
   "source": [
    "- To compute the amount of water that can be trapped after raining in an elevation map, we can use the Two-Pointers approach. Here's the step-by-step algorithm:\n",
    "- \n",
    "- Initialize two pointers, left and right, to the first and last indices of the elevation map, respectively.\n",
    "- Initialize variables, left_max and right_max, to store the maximum height encountered from the left and right directions, respectively. Set both to 0.\n",
    "- Initialize a variable, total_water, to 0 to keep track of the total amount of water trapped.\n",
    "- While the left pointer is less than or equal to the right pointer:\n",
    "- If the height at the left pointer is less than or equal to the height at the right pointer:\n",
    "- Update the left_max if the height at the left pointer is greater than the left_max.\n",
    "- Add the difference between the left_max and the height at the left pointer to the total_water.\n",
    "- Move the left pointer one step to the right.\n",
    "- Otherwise:\n",
    "- Update the right_max if the height at the right pointer is greater than the right_max.\n",
    "- Add the difference between the right_max and the height at the right pointer to the total_water.\n",
    "- Move the right pointer one step to the left.\n",
    "- After the traversal is complete, return the total_water."
   ]
  },
  {
   "cell_type": "code",
   "execution_count": 10,
   "id": "44a60262",
   "metadata": {},
   "outputs": [
    {
     "name": "stdout",
     "output_type": "stream",
     "text": [
      "6\n"
     ]
    }
   ],
   "source": [
    "def trap_water(elevation_map):\n",
    "    left = 0\n",
    "    right = len(elevation_map) - 1\n",
    "    left_max = right_max = total_water = 0\n",
    "    \n",
    "    while left <= right:\n",
    "        if elevation_map[left] <= elevation_map[right]:\n",
    "            left_max = max(left_max, elevation_map[left])\n",
    "            total_water += left_max - elevation_map[left]\n",
    "            left += 1\n",
    "        else:\n",
    "            right_max = max(right_max, elevation_map[right])\n",
    "            total_water += right_max - elevation_map[right]\n",
    "            right -= 1\n",
    "    \n",
    "    return total_water\n",
    "\n",
    "# Example usage:\n",
    "elevation_map = [0, 1, 0, 2, 1, 0, 1, 3, 2, 1, 2, 1]\n",
    "water_trapped = trap_water(elevation_map)\n",
    "print(water_trapped)\n"
   ]
  },
  {
   "cell_type": "markdown",
   "id": "404e117e",
   "metadata": {},
   "source": [
    "In the example above, the elevation map [0, 1, 0, 2, 1, 0, 1, 3, 2, 1, 2, 1] can trap a total of 6 units of water. The time complexity of this algorithm is O(n), where n is the size of the elevation map. This is because we perform a single pass traversal over the elevation map. The space complexity is O(1) as we only use a constant amount of additional space to store the variables."
   ]
  },
  {
   "cell_type": "code",
   "execution_count": null,
   "id": "c16d1a7e",
   "metadata": {},
   "outputs": [],
   "source": []
  }
 ],
 "metadata": {
  "kernelspec": {
   "display_name": "Python 3 (ipykernel)",
   "language": "python",
   "name": "python3"
  },
  "language_info": {
   "codemirror_mode": {
    "name": "ipython",
    "version": 3
   },
   "file_extension": ".py",
   "mimetype": "text/x-python",
   "name": "python",
   "nbconvert_exporter": "python",
   "pygments_lexer": "ipython3",
   "version": "3.9.7"
  }
 },
 "nbformat": 4,
 "nbformat_minor": 5
}
