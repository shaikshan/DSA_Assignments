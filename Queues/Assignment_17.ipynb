{
 "cells": [
  {
   "cell_type": "markdown",
   "id": "3bdb26f3",
   "metadata": {},
   "source": [
    "💡 **Question 1**\n",
    "\n",
    "Given a string `s`, *find the first non-repeating character in it and return its index*. If it does not exist, return `-1`.\n",
    "\n"
   ]
  },
  {
   "cell_type": "markdown",
   "id": "567edac1",
   "metadata": {},
   "source": [
    "- Solution:\n",
    "- \n",
    "- Create a hash table to store the frequency of each character in the string.\n",
    "- Iterate over the string and for each character, check if its frequency is 1. If it is, then return the index of the character.\n",
    "- If no character has a frequency of 1, then return -1."
   ]
  },
  {
   "cell_type": "code",
   "execution_count": 1,
   "id": "3cb37f80",
   "metadata": {},
   "outputs": [],
   "source": [
    "def first_non_repeating_character(s):\n",
    "    \"\"\"\n",
    "    Finds the first non-repeating character in a string.\n",
    "\n",
    "    Args:\n",
    "        s: The string to search.\n",
    "\n",
    "    Returns:\n",
    "        The index of the first non-repeating character, or -1 if no such character exists.\n",
    "    \"\"\"\n",
    "\n",
    "    h = {}\n",
    "    for i, c in enumerate(s):\n",
    "        if c not in h:\n",
    "            h[c] = 1\n",
    "        elif h[c] == 1:\n",
    "            return i\n",
    "        else:\n",
    "            h[c] += 1\n",
    "    return -1\n"
   ]
  },
  {
   "cell_type": "markdown",
   "id": "f5a9eef4",
   "metadata": {},
   "source": [
    "- Time and space complexity:\n",
    "- \n",
    "- Time complexity: O(n), where n is the length of the string.\n",
    "- Space complexity: O(1), because the hash table only needs to store a constant number of characters."
   ]
  },
  {
   "cell_type": "markdown",
   "id": "18127228",
   "metadata": {},
   "source": [
    "💡 **Question 2**\n",
    "\n",
    "Given a **circular integer array** `nums` of length `n`, return *the maximum possible sum of a non-empty **subarray** of* `nums`.\n",
    "\n",
    "A **circular array** means the end of the array connects to the beginning of the array. Formally, the next element of `nums[i]` is `nums[(i + 1) % n]` and the previous element of `nums[i]` is `nums[(i - 1 + n) % n]`.\n",
    "\n",
    "A **subarray** may only include each element of the fixed buffer `nums` at most once. Formally, for a subarray `nums[i], nums[i + 1], ..., nums[j]`, there does not exist `i <= k1`, `k2 <= j` with `k1 % n == k2 % n`."
   ]
  },
  {
   "cell_type": "markdown",
   "id": "a21ca465",
   "metadata": {},
   "source": [
    "- Solution:\n",
    "- \n",
    "- Kadane's algorithm can be used to find the maximum sum of a contiguous subarray in a normal array.\n",
    "- To adapt Kadane's algorithm to work with circular arrays, we need to keep track of the minimum sum as well as the maximum sum.\n",
    "- The minimum sum is initialized to the minimum element in the array.\n",
    "- The maximum sum is initialized to the value of the first element in the array.\n",
    "- We iterate over the array and update the maximum sum and minimum sum as follows:\n",
    "- If the current element is greater than the maximum sum, then we update the maximum sum to the current element.\n",
    "- If the current element is less than the minimum sum, then we update the minimum sum to the current element.\n",
    "- If the current element is between the maximum sum and the minimum sum, then we do not update either the maximum sum or the minimum sum.\n",
    "- After we have iterated over the entire array, we return the maximum sum."
   ]
  },
  {
   "cell_type": "code",
   "execution_count": 2,
   "id": "f2877c6d",
   "metadata": {},
   "outputs": [],
   "source": [
    "def max_circular_sum(nums):\n",
    "    \"\"\"\n",
    "    Finds the maximum possible sum of a non-empty subarray of a circular integer array.\n",
    "\n",
    "    Args:\n",
    "        nums: The circular integer array.\n",
    "\n",
    "    Returns:\n",
    "        The maximum possible sum of a non-empty subarray of nums.\n",
    "    \"\"\"\n",
    "\n",
    "    max_so_far = float(\"-inf\")\n",
    "    max_ending_here = 0\n",
    "    min_ending_here = float(\"inf\")\n",
    "    min_so_far = float(\"inf\")\n",
    "    for i in range(len(nums)):\n",
    "        max_ending_here = max(max_ending_here + nums[i], nums[i])\n",
    "        min_ending_here = min(min_ending_here + nums[i], nums[i])\n",
    "        if max_ending_here < min_ending_here:\n",
    "            max_ending_here = 0\n",
    "            min_ending_here = nums[i]\n",
    "        max_so_far = max(max_so_far, max_ending_here)\n",
    "    return max(max_so_far, sum(nums))\n"
   ]
  },
  {
   "cell_type": "markdown",
   "id": "e1c03a81",
   "metadata": {},
   "source": [
    "- Time and space complexity:\n",
    "- \n",
    "- Time complexity: O(n), where n is the length of the array.\n",
    "- Space complexity: O(1), because the algorithm only needs to store a few variables."
   ]
  },
  {
   "cell_type": "markdown",
   "id": "c55c6955",
   "metadata": {},
   "source": [
    "💡 **Question 3**\n",
    "\n",
    "The school cafeteria offers circular and square sandwiches at lunch break, referred to by numbers `0` and `1` respectively. All students stand in a queue. Each student either prefers square or circular sandwiches.\n",
    "\n",
    "The number of sandwiches in the cafeteria is equal to the number of students. The sandwiches are placed in a **stack**. At each step:\n",
    "\n",
    "- If the student at the front of the queue **prefers** the sandwich on the top of the stack, they will **take it** and leave the queue.\n",
    "- Otherwise, they will **leave it** and go to the queue's end.\n",
    "\n",
    "This continues until none of the queue students want to take the top sandwich and are thus unable to eat.\n",
    "\n",
    "You are given two integer arrays `students` and `sandwiches` where `sandwiches[i]` is the type of the `ith` sandwich in the stack (`i = 0` is the top of the stack) and `students[j]` is the preference of the `jth` student in the initial queue (`j = 0` is the front of the queue). Return *the number of students that are unable to eat.*"
   ]
  },
  {
   "cell_type": "markdown",
   "id": "a12fcf6a",
   "metadata": {},
   "source": [
    "- Solution:\n",
    "- \n",
    "- We can use two counters to keep track of the number of square and circular sandwiches that are left.\n",
    "- We iterate over the students array and for each student, we do the following:\n",
    "- If the student prefers square sandwiches and the top sandwich is square, then we decrement the counter for square sandwiches.\n",
    "- If the student prefers circular sandwiches and the top sandwich is circular, then we decrement the counter for circular sandwiches.\n",
    "- If the student does not prefer the top sandwich, then we increment the counter for students that are unable to eat.\n",
    "- After we have iterated over the entire students array, we return the value of the students that are unable to eat counter."
   ]
  },
  {
   "cell_type": "code",
   "execution_count": 3,
   "id": "16edc225",
   "metadata": {},
   "outputs": [],
   "source": [
    "def number_of_students_unable_to_eat(students, sandwiches):\n",
    "    \"\"\"\n",
    "    Finds the number of students that are unable to eat at lunch.\n",
    "\n",
    "    Args:\n",
    "        students: The preferences of the students.\n",
    "        sandwiches: The types of the sandwiches.\n",
    "\n",
    "    Returns:\n",
    "        The number of students that are unable to eat.\n",
    "    \"\"\"\n",
    "\n",
    "    num_square_sandwiches = 0\n",
    "    num_circular_sandwiches = 0\n",
    "    num_students_unable_to_eat = 0\n",
    "    for i in range(len(students)):\n",
    "        if students[i] == 0 and sandwiches[i] == 0:\n",
    "            num_square_sandwiches -= 1\n",
    "        elif students[i] == 1 and sandwiches[i] == 1:\n",
    "            num_circular_sandwiches -= 1\n",
    "        else:\n",
    "            num_students_unable_to_eat += 1\n",
    "    return num_students_unable_to_eat\n"
   ]
  },
  {
   "cell_type": "markdown",
   "id": "51c65894",
   "metadata": {},
   "source": [
    "- Time and space complexity:\n",
    "- \n",
    "- Time complexity: O(n), where n is the length of the arrays.\n",
    "- Space complexity: O(1), because the algorithm only needs to store two counters."
   ]
  },
  {
   "cell_type": "markdown",
   "id": "dcedcf80",
   "metadata": {},
   "source": [
    "💡 **Question 4**\n",
    "\n",
    "You have a `RecentCounter` class which counts the number of recent requests within a certain time frame.\n",
    "\n",
    "Implement the `RecentCounter` class:\n",
    "\n",
    "- `RecentCounter()` Initializes the counter with zero recent requests.\n",
    "- `int ping(int t)` Adds a new request at time `t`, where `t` represents some time in milliseconds, and returns the number of requests that has happened in the past `3000` milliseconds (including the new request). Specifically, return the number of requests that have happened in the inclusive range `[t - 3000, t]`.\n",
    "\n",
    "It is **guaranteed** that every call to `ping` uses a strictly larger value of `t` than the previous call."
   ]
  },
  {
   "cell_type": "markdown",
   "id": "4bf2f6b7",
   "metadata": {},
   "source": [
    "- Explanation: \n",
    "- The RecentCounter class maintains a queue of timestamps. The queue is sorted in ascending order, so the timestamp at the front of the queue is the most recent request.\n",
    "- The ping() method adds a new timestamp to the queue and then pops any timestamps that are older than 3000 milliseconds. The method then returns the length of the queue, which is the number of recent requests."
   ]
  },
  {
   "cell_type": "code",
   "execution_count": 4,
   "id": "b44d5c7e",
   "metadata": {},
   "outputs": [],
   "source": [
    "class RecentCounter:\n",
    "\n",
    "    def __init__(self):\n",
    "        self.queue = []\n",
    "\n",
    "    def ping(self, t):\n",
    "        self.queue.append(t)\n",
    "        while self.queue[0] < t - 3000:\n",
    "            self.queue.pop(0)\n",
    "        return len(self.queue)"
   ]
  },
  {
   "cell_type": "markdown",
   "id": "15255532",
   "metadata": {},
   "source": [
    "- Time and space complexity:\n",
    "- Time complexity: O(1) for ping(), because the method only needs to modify the queue.\n",
    "- Space complexity: O(3000) for the queue, because the queue can store up to 3000 timestamps."
   ]
  },
  {
   "cell_type": "markdown",
   "id": "7d024cf6",
   "metadata": {},
   "source": [
    "💡 **Question 5**\n",
    "\n",
    "There are `n` friends that are playing a game. The friends are sitting in a circle and are numbered from `1` to `n` in **clockwise order**. More formally, moving clockwise from the `ith` friend brings you to the `(i+1)th` friend for `1 <= i < n`, and moving clockwise from the `nth` friend brings you to the `1st` friend.\n",
    "\n",
    "The rules of the game are as follows:\n",
    "\n",
    "1. **Start** at the `1st` friend.\n",
    "2. Count the next `k` friends in the clockwise direction **including** the friend you started at. The counting wraps around the circle and may count some friends more than once.\n",
    "3. The last friend you counted leaves the circle and loses the game.\n",
    "4. If there is still more than one friend in the circle, go back to step `2` **starting** from the friend **immediately clockwise** of the friend who just lost and repeat.\n",
    "5. Else, the last friend in the circle wins the game.\n",
    "\n",
    "Given the number of friends, `n`, and an integer `k`, return *the winner of the game*."
   ]
  },
  {
   "cell_type": "markdown",
   "id": "e33b1d21",
   "metadata": {},
   "source": [
    "- Explanation:\n",
    "- The find_winner_of_circular_game() function starts at the first friend and counts the next k friends in the clockwise direction. The last friend that is counted leaves the circle and the game continues. This process repeats until there is only one friend left, who is the winner of the game. \n",
    "- The function works by maintaining a current friend counter. The counter is initialized to 1 and then incremented by k - 1 in the first loop. The counter is then incremented by 1 in the second loop. The function returns the value of the counter when the game is over."
   ]
  },
  {
   "cell_type": "code",
   "execution_count": 5,
   "id": "8f2336f7",
   "metadata": {},
   "outputs": [],
   "source": [
    "def find_winner_of_circular_game(n, k):\n",
    "    \"\"\"\n",
    "    Finds the winner of the circular game.\n",
    "\n",
    "    Args:\n",
    "        n: The number of friends.\n",
    "        k: The number of friends to skip.\n",
    "\n",
    "    Returns:\n",
    "        The winner of the game.\n",
    "    \"\"\"\n",
    "\n",
    "    current_friend = 1\n",
    "    while n > 1:\n",
    "        for _ in range(k - 1):\n",
    "            current_friend = (current_friend + 1) % n\n",
    "        current_friend = (current_friend + 1) % n\n",
    "        n -= 1\n",
    "    return current_friend\n"
   ]
  },
  {
   "cell_type": "markdown",
   "id": "c7e9d1bc",
   "metadata": {},
   "source": [
    "- Time and space complexity:\n",
    "- Time complexity: O(n), where n is the number of friends.\n",
    "- Space complexity: O(1), because the function only needs to store a few variables."
   ]
  },
  {
   "cell_type": "markdown",
   "id": "89a99ce5",
   "metadata": {},
   "source": [
    "💡 **Question 6**\n",
    "\n",
    "You are given an integer array `deck`. There is a deck of cards where every card has a unique integer. The integer on the `ith` card is `deck[i]`.\n",
    "\n",
    "You can order the deck in any order you want. Initially, all the cards start face down (unrevealed) in one deck.\n",
    "\n",
    "You will do the following steps repeatedly until all cards are revealed:\n",
    "\n",
    "1. Take the top card of the deck, reveal it, and take it out of the deck.\n",
    "2. If there are still cards in the deck then put the next top card of the deck at the bottom of the deck.\n",
    "3. If there are still unrevealed cards, go back to step 1. Otherwise, stop.\n",
    "\n",
    "Return *an ordering of the deck that would reveal the cards in increasing order*.\n",
    "\n",
    "**Note** that the first entry in the answer is considered to be the top of the deck."
   ]
  },
  {
   "cell_type": "markdown",
   "id": "ee39c6ba",
   "metadata": {},
   "source": [
    "- Solution: \n",
    "- We can use a stack to store the revealed cards.\n",
    "- We iterate over the deck array and for each card, we do the following:\n",
    "- If the card is not in the stack, then we push it onto the stack.\n",
    "- If the card is in the stack, then we pop it from the stack and reveal it.\n",
    "- After we have iterated over the entire deck array, we return the stack."
   ]
  },
  {
   "cell_type": "code",
   "execution_count": 6,
   "id": "802e908a",
   "metadata": {},
   "outputs": [],
   "source": [
    "def reveal_cards(deck):\n",
    "    \"\"\"\n",
    "    Reveals the cards in increasing order.\n",
    "\n",
    "    Args:\n",
    "        deck: The deck of cards.\n",
    "\n",
    "    Returns:\n",
    "        The order in which the cards should be revealed.\n",
    "    \"\"\"\n",
    "\n",
    "    stack = []\n",
    "    for card in deck:\n",
    "        if card not in stack:\n",
    "            stack.append(card)\n",
    "        else:\n",
    "            stack.pop()\n",
    "    return stack\n"
   ]
  },
  {
   "cell_type": "markdown",
   "id": "30bf04b7",
   "metadata": {},
   "source": [
    "- Time and space complexity: \n",
    "- Time complexity: O(n), where n is the length of the deck array.\n",
    "- Space complexity: O(n), because the function needs to store the stack of revealed cards."
   ]
  },
  {
   "cell_type": "markdown",
   "id": "893d48bd",
   "metadata": {},
   "source": [
    "💡 **Question 7**\n",
    "\n",
    "Design a queue that supports `push` and `pop` operations in the front, middle, and back.\n",
    "\n",
    "Implement the `FrontMiddleBack` class:\n",
    "\n",
    "- `FrontMiddleBack()` Initializes the queue.\n",
    "- `void pushFront(int val)` Adds `val` to the **front** of the queue.\n",
    "- `void pushMiddle(int val)` Adds `val` to the **middle** of the queue.\n",
    "- `void pushBack(int val)` Adds `val` to the **back** of the queue.\n",
    "- `int popFront()` Removes the **front** element of the queue and returns it. If the queue is empty, return `1`.\n",
    "- `int popMiddle()` Removes the **middle** element of the queue and returns it. If the queue is empty, return `1`.\n",
    "- `int popBack()` Removes the **back** element of the queue and returns it. If the queue is empty, return `1`.\n",
    "\n",
    "**Notice** that when there are **two** middle position choices, the operation is performed on the **frontmost** middle position choice. For example:\n",
    "\n",
    "- Pushing `6` into the middle of `[1, 2, 3, 4, 5]` results in `[1, 2, 6, 3, 4, 5]`.\n",
    "- Popping the middle from `[1, 2, 3, 4, 5, 6]` returns `3` and results in `[1, 2, 4, 5, 6]`."
   ]
  },
  {
   "cell_type": "markdown",
   "id": "6d4ae59b",
   "metadata": {},
   "source": [
    "- Explanation:\n",
    "- The FrontMiddleBack class maintains a queue of integers. The class has four methods:\n",
    "- pushFront(): Pushes an integer to the front of the queue.\n",
    "- pushMiddle(): Pushes an integer to the middle of the queue.\n",
    "- pushBack(): Pushes an integer to the back of the queue.\n",
    "- popFront(): Pops an integer from the front of the queue and returns it.\n",
    "- popMiddle(): Pops an integer from the middle of the queue and returns it.\n",
    "- popBack(): Pops an integer from the back of the queue and returns it.\n",
    "- The pushFront(), pushMiddle(), and pushBack() methods simply add the integer to the queue at the appropriate location. The popFront(), popMiddle(), and popBack() methods simply remove the integer from the queue at the appropriate location and return it.\n",
    "- The popMiddle() method takes care to pop the frontmost middle position choice, if there are two middle positions. For example, if the queue contains the integers 1, 2, 3, 4, 5, and 6, then the popMiddle() method will pop the integer 3."
   ]
  },
  {
   "cell_type": "code",
   "execution_count": 7,
   "id": "cdea2aa3",
   "metadata": {},
   "outputs": [],
   "source": [
    "class FrontMiddleBack:\n",
    "\n",
    "    def __init__(self):\n",
    "        self.queue = []\n",
    "\n",
    "    def pushFront(self, val):\n",
    "        self.queue.insert(0, val)\n",
    "\n",
    "    def pushMiddle(self, val):\n",
    "        self.queue.insert(len(self.queue) // 2, val)\n",
    "\n",
    "    def pushBack(self, val):\n",
    "        self.queue.append(val)\n",
    "\n",
    "    def popFront(self):\n",
    "        if self.queue:\n",
    "            return self.queue.pop(0)\n",
    "        else:\n",
    "            return 1\n",
    "\n",
    "    def popMiddle(self):\n",
    "        if self.queue:\n",
    "            return self.queue.pop(len(self.queue) // 2)\n",
    "        else:\n",
    "            return 1\n",
    "\n",
    "    def popBack(self):\n",
    "        if self.queue:\n",
    "            return self.queue.pop()\n",
    "        else:\n",
    "            return 1\n"
   ]
  },
  {
   "cell_type": "markdown",
   "id": "7c06a733",
   "metadata": {},
   "source": [
    "- Time and space complexity: \n",
    "- Time complexity: O(1) for all operations, because the operations only need to modify the queue.\n",
    "- Space complexity: O(n), where n is the number of elements in the queue, because the queue needs to store all of the elements."
   ]
  },
  {
   "cell_type": "markdown",
   "id": "37112bf9",
   "metadata": {},
   "source": [
    "💡 **Question 8**\n",
    "\n",
    "For a stream of integers, implement a data structure that checks if the last `k` integers parsed in the stream are **equal** to `value`.\n",
    "\n",
    "Implement the **DataStream** class:\n",
    "\n",
    "- `DataStream(int value, int k)` Initializes the object with an empty integer stream and the two integers `value` and `k`.\n",
    "- `boolean consec(int num)` Adds `num` to the stream of integers. Returns `true` if the last `k` integers are equal to `value`, and `false` otherwise. If there are less than `k` integers, the condition does not hold true, so returns `false`."
   ]
  },
  {
   "cell_type": "markdown",
   "id": "69539d53",
   "metadata": {},
   "source": [
    "- Explanation:\n",
    "- The DataStream class maintains a window of the last k integers that have been parsed in the stream. The class has two methods:\n",
    "- consec(): Adds num to the stream of integers and returns true if the last k integers are equal to value, and false otherwise. If there are less than k integers, the condition does not hold true, so returns false.\n",
    "- The consec() method first checks if the length of the window is less than k. If it is, then the condition does not hold true, so the method returns false. Otherwise, the method checks if all of the integers in the window are equal to value. If they are, then the method returns true. Otherwise, the method returns false."
   ]
  },
  {
   "cell_type": "code",
   "execution_count": 8,
   "id": "b0616be6",
   "metadata": {},
   "outputs": [],
   "source": [
    "class DataStream:\n",
    "\n",
    "    def __init__(self, value, k):\n",
    "        self.value = value\n",
    "        self.k = k\n",
    "        self.window = []\n",
    "\n",
    "    def consec(self, num):\n",
    "        self.window.append(num)\n",
    "        if len(self.window) < self.k:\n",
    "            return False\n",
    "        else:\n",
    "            if all(x == self.value for x in self.window[-self.k:]):\n",
    "                return True\n",
    "            else:\n",
    "                return False\n"
   ]
  },
  {
   "cell_type": "markdown",
   "id": "7e7b5329",
   "metadata": {},
   "source": [
    "- Time and space complexity:\n",
    "\n",
    "- Time complexity: O(1) for consec(), because the method only needs to iterate over the window.\n",
    "- Space complexity: O(k), because the class needs to store the window of k integers."
   ]
  }
 ],
 "metadata": {
  "kernelspec": {
   "display_name": "Python 3 (ipykernel)",
   "language": "python",
   "name": "python3"
  },
  "language_info": {
   "codemirror_mode": {
    "name": "ipython",
    "version": 3
   },
   "file_extension": ".py",
   "mimetype": "text/x-python",
   "name": "python",
   "nbconvert_exporter": "python",
   "pygments_lexer": "ipython3",
   "version": "3.9.7"
  }
 },
 "nbformat": 4,
 "nbformat_minor": 5
}
