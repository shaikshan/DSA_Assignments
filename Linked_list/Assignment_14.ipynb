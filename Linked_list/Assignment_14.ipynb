{
 "cells": [
  {
   "cell_type": "markdown",
   "id": "a7c2cfe7",
   "metadata": {},
   "source": [
    "\n",
    "💡 **Question 1**\n",
    "\n",
    "Given a linked list of **N** nodes such that it may contain a loop.\n",
    "\n",
    "A loop here means that the last node of the link list is connected to the node at position X(1-based index). If the link list does not have any loop, X=0.\n",
    "\n",
    "Remove the loop from the linked list, if it is present, i.e. unlink the last node which is forming the loop.\n"
   ]
  },
  {
   "cell_type": "markdown",
   "id": "d06e56ca",
   "metadata": {},
   "source": [
    "- Use the Floyd's Cycle-Finding Algorithm to detect the loop in the linked list.\n",
    "- Initialize two pointers, slow and fast, both pointing to the head of the linked list.\n",
    "- Move slow pointer by one step and fast pointer by two steps at a time until they meet or fast pointer reaches the end of the linked list.\n",
    "- If they meet, it means there is a loop in the linked list. Store the meeting point as a reference.\n",
    "- Reset either the slow pointer or the fast pointer to the head of the linked list and move both pointers by one step at a time until they meet again. This time, the meeting point will be the start of the loop.\n",
    "- Once the start of the loop is found, move the slow pointer to the node just before the start of the loop while keeping the fast pointer at the start of the loop.\n",
    "- Break the loop by setting the next pointer of the node pointed by the slow pointer to None.\n",
    "- The loop has been removed from the linked list.\n",
    "- Here is the Python code for the solution:"
   ]
  },
  {
   "cell_type": "code",
   "execution_count": 1,
   "id": "6250a6d2",
   "metadata": {},
   "outputs": [],
   "source": [
    "class ListNode:\n",
    "    def __init__(self, val):\n",
    "        self.val = val\n",
    "        self.next = None\n",
    "\n",
    "def removeLoop(head):\n",
    "    if not head or not head.next:\n",
    "        return\n",
    "\n",
    "    slow = head\n",
    "    fast = head\n",
    "    loopExists = False\n",
    "\n",
    "    # Detect loop using Floyd's Cycle-Finding Algorithm\n",
    "    while fast and fast.next:\n",
    "        slow = slow.next\n",
    "        fast = fast.next.next\n",
    "        if slow == fast:\n",
    "            loopExists = True\n",
    "            break\n",
    "\n",
    "    # If loop exists, find the start of the loop\n",
    "    if loopExists:\n",
    "        slow = head\n",
    "        while slow.next != fast.next:\n",
    "            slow = slow.next\n",
    "            fast = fast.next\n",
    "\n",
    "        # Break the loop\n",
    "        fast.next = None"
   ]
  },
  {
   "cell_type": "markdown",
   "id": "2d87b4ba",
   "metadata": {},
   "source": [
    "The time complexity of this solution is O(N), where N is the number of nodes in the linked list. The space complexity is O(1) as it uses only a constant amount of extra space."
   ]
  },
  {
   "cell_type": "markdown",
   "id": "a2d517aa",
   "metadata": {},
   "source": [
    "\n",
    "💡 **Question 2**\n",
    "\n",
    "A number **N** is represented in Linked List such that each digit corresponds to a node in linked list. You need to add 1 to it.\n"
   ]
  },
  {
   "cell_type": "markdown",
   "id": "12e27a82",
   "metadata": {},
   "source": [
    "- Initialize a carry variable to 1 to represent the value to be added.\n",
    "- Traverse the linked list in reverse order (from right to left) using a pointer.\n",
    "- At each node, add the carry value to the current node value.\n",
    "- Update the current node value to the sum modulo 10 (to keep it within the range of 0-9).\n",
    "- Update the carry value to the sum divided by 10 (to get the carry for the next node).\n",
    "- Move the pointer to the previous node.\n",
    "- Repeat steps 3-6 until the end of the linked list.\n",
    "- After traversing the entire linked list, if the carry value is still 1, create a new node with value 1 and append it to the end of the linked list.\n",
    "- Return the updated linked list.\n",
    "- Here is the Python code for the solution:"
   ]
  },
  {
   "cell_type": "code",
   "execution_count": 2,
   "id": "e07e8a98",
   "metadata": {},
   "outputs": [],
   "source": [
    "class ListNode:\n",
    "    def __init__(self, val=0, next=None):\n",
    "        self.val = val\n",
    "        self.next = next\n",
    "\n",
    "def addOne(head):\n",
    "    dummy = ListNode(0)\n",
    "    dummy.next = head\n",
    "    pointer = head\n",
    "    carry = 1\n",
    "\n",
    "    # Traverse the linked list in reverse order\n",
    "    while pointer:\n",
    "        # Add the carry value to the current node value\n",
    "        sum = pointer.val + carry\n",
    "        # Update the current node value\n",
    "        pointer.val = sum % 10\n",
    "        # Update the carry value\n",
    "        carry = sum // 10\n",
    "        # Move to the previous node\n",
    "        pointer = pointer.next\n",
    "\n",
    "    # If there is a remaining carry, add a new node at the end\n",
    "    if carry == 1:\n",
    "        pointer = dummy\n",
    "        while pointer.next:\n",
    "            pointer = pointer.next\n",
    "        pointer.next = ListNode(1)\n",
    "\n",
    "    return dummy.next"
   ]
  },
  {
   "cell_type": "markdown",
   "id": "09816dc0",
   "metadata": {},
   "source": [
    "The time complexity of this solution is O(N), where N is the number of digits in the linked list. The space complexity is O(1) as it uses only a constant amount of extra space."
   ]
  },
  {
   "cell_type": "markdown",
   "id": "433d4ff4",
   "metadata": {},
   "source": [
    "\n",
    "💡 **Question 3**\n",
    "\n",
    "Given a Linked List of size N, where every node represents a sub-linked-list and contains two pointers:(i) a **next** pointer to the next node,(ii) a **bottom** pointer to a linked list where this node is head.Each of the sub-linked-list is in sorted order.Flatten the Link List such that all the nodes appear in a single level while maintaining the sorted order. **Note:** The flattened list will be printed using the bottom pointer instead of next pointer.\n"
   ]
  },
  {
   "cell_type": "markdown",
   "id": "3536eab7",
   "metadata": {},
   "source": [
    "- Here's the solution to the problem: \n",
    "- Initialize a dummy node and set its bottom pointer to None.\n",
    "- Traverse the main linked list and for each node:\n",
    "- If the node has a bottom linked list, merge it with the current flattened list.\n",
    "- To merge, traverse the bottom linked list and find the appropriate position to insert each node into the flattened list.\n",
    "- Return the flattened list by following the bottom pointers from the dummy node.\n",
    "- Here is the Python code for the solution:"
   ]
  },
  {
   "cell_type": "code",
   "execution_count": 3,
   "id": "f8470e2b",
   "metadata": {},
   "outputs": [],
   "source": [
    "class ListNode:\n",
    "    def __init__(self, val=0, next=None, bottom=None):\n",
    "        self.val = val\n",
    "        self.next = next\n",
    "        self.bottom = bottom\n",
    "\n",
    "def mergeTwoLists(a, b):\n",
    "    dummy = ListNode(0)\n",
    "    pointer = dummy\n",
    "\n",
    "    # Merge the two lists in sorted order\n",
    "    while a and b:\n",
    "        if a.val < b.val:\n",
    "            pointer.bottom = a\n",
    "            a = a.bottom\n",
    "        else:\n",
    "            pointer.bottom = b\n",
    "            b = b.bottom\n",
    "        pointer = pointer.bottom\n",
    "\n",
    "    # Attach the remaining nodes, if any\n",
    "    if a:\n",
    "        pointer.bottom = a\n",
    "    if b:\n",
    "        pointer.bottom = b\n",
    "\n",
    "    return dummy.bottom\n",
    "\n",
    "def flattenLinkedList(head):\n",
    "    # Base case: If head is None or there are no sub-linked lists\n",
    "    if not head or not head.next:\n",
    "        return head\n",
    "\n",
    "    # Recursively flatten the rest of the linked list\n",
    "    head.next = flattenLinkedList(head.next)\n",
    "\n",
    "    # Merge the current linked list with the flattened rest\n",
    "    head = mergeTwoLists(head, head.next)\n",
    "\n",
    "    return head"
   ]
  },
  {
   "cell_type": "markdown",
   "id": "2630e707",
   "metadata": {},
   "source": [
    "The time complexity of this solution is O(N*M), where N is the number of nodes in the main linked list and M is the average number of nodes in each sub-linked list. The space complexity is O(1) as it uses only a constant amount of extra space."
   ]
  },
  {
   "attachments": {
    "image.png": {
     "image/png": "[encoded data removed]"
    }
   },
   "cell_type": "markdown",
   "id": "dc247736",
   "metadata": {},
   "source": [
    "\n",
    "💡 **Question 4**\n",
    "\n",
    "You are given a special linked list with **N** nodes where each node has a next pointer pointing to its next node. You are also given **M** random pointers, where you will be given **M** number of pairs denoting two nodes **a** and **b**  **i.e. a->arb = b** (arb is pointer to random node)**.**\n",
    "\n",
    "Construct a copy of the given list. The copy should consist of exactly **N** new nodes, where each new node has its value set to the value of its corresponding original node. Both the next and random pointer of the new nodes should point to new nodes in the copied list such that the pointers in the original list and copied list represent the same list state. None of the pointers in the new list should point to nodes in the original list.\n",
    "\n",
    "For example, if there are two nodes **X** and **Y** in the original list, where **X.arb** **-->** **Y**, then for the corresponding two nodes **x** and **y** in the copied list, **x.arb --> y.**\n",
    "\n",
    "Return the head of the copied linked list.\n",
    "![image.png](attachment:image.png)\n",
    "\n",
    "Note :- The diagram isn't part of any example, it just depicts an example of how the linked list may look like."
   ]
  },
  {
   "cell_type": "markdown",
   "id": "33948346",
   "metadata": {},
   "source": [
    "Here's the solution to the problem:\n",
    "\n",
    "- Traverse the original linked list and create a new node for each node in the original list. Set the value of each new node to the corresponding value in the original node.\n",
    "- Create a dictionary to map each node in the original list to its corresponding node in the new list. This will help us connect the random pointers correctly.\n",
    "- Traverse the original list again, and for each node, create the random pointer in the new list. Look up the corresponding node in the dictionary using the random pointer of the original node, and set the random pointer of the new node accordingly.\n",
    "- Finally, return the head of the new list.\n",
    "- Here is the Python code for the solution:"
   ]
  },
  {
   "cell_type": "code",
   "execution_count": 4,
   "id": "9631565a",
   "metadata": {},
   "outputs": [],
   "source": [
    "class Node:\n",
    "    def __init__(self, data):\n",
    "        self.data = data\n",
    "        self.next = None\n",
    "        self.random = None\n",
    "\n",
    "def copyRandomList(head):\n",
    "    if not head:\n",
    "        return None\n",
    "\n",
    "    # Step 1: Create new nodes and map original nodes to new nodes\n",
    "    current = head\n",
    "    new_head = None\n",
    "    new_prev = None\n",
    "    node_map = {}\n",
    "\n",
    "    while current:\n",
    "        new_node = Node(current.data)\n",
    "        node_map[current] = new_node\n",
    "\n",
    "        if new_prev:\n",
    "            new_prev.next = new_node\n",
    "        else:\n",
    "            new_head = new_node\n",
    "\n",
    "        new_prev = new_node\n",
    "        current = current.next\n",
    "\n",
    "    # Step 2: Set random pointers in the new list\n",
    "    current = head\n",
    "    new_current = new_head\n",
    "\n",
    "    while current:\n",
    "        if current.random:\n",
    "            new_current.random = node_map[current.random]\n",
    "        current = current.next\n",
    "        new_current = new_current.next\n",
    "\n",
    "    return new_head"
   ]
  },
  {
   "cell_type": "markdown",
   "id": "8442c8ac",
   "metadata": {},
   "source": [
    "The time complexity of this solution is O(N), where N is the number of nodes in the original linked list. The space complexity is also O(N) as we are creating a new copy of the list."
   ]
  },
  {
   "cell_type": "markdown",
   "id": "0ef9bdd4",
   "metadata": {},
   "source": [
    "\n",
    "💡 **Question 5**\n",
    "\n",
    "Given the `head` of a singly linked list, group all the nodes with odd indices together followed by the nodes with even indices, and return *the reordered list*.\n",
    "\n",
    "The **first** node is considered **odd**, and the **second** node is **even**, and so on.\n",
    "\n",
    "Note that the relative order inside both the even and odd groups should remain as it was in the input.\n",
    "\n",
    "You must solve the problem in `O(1)` extra space complexity and `O(n)` time complexity.\n"
   ]
  },
  {
   "cell_type": "markdown",
   "id": "26dca7c4",
   "metadata": {},
   "source": [
    "Here's the solution to the problem:\n",
    "\n",
    "- Initialize two pointers, odd_head and even_head, to point to the first odd node and the first even node respectively. Also, keep track of the first even node as even_start.\n",
    "- Traverse the linked list with a pointer, current, and keep track of the previous node, prev.\n",
    "- At each node, check if its index is odd or even. If it is odd, connect it to the previous odd node using prev.next = current. If it is even, connect it to the previous even node using prev.next = current.\n",
    "- Update the prev pointer to the current node and move the current pointer to the next node.\n",
    "- After traversing the entire list, connect the last odd node to the even_start node to merge the odd and even groups.\n",
    "- Return the odd_head as the new head of the reordered list.\n",
    "- Here is the Python code for the solution:"
   ]
  },
  {
   "cell_type": "code",
   "execution_count": 5,
   "id": "5678cbef",
   "metadata": {},
   "outputs": [],
   "source": [
    "class ListNode:\n",
    "    def __init__(self, val=0, next=None):\n",
    "        self.val = val\n",
    "        self.next = next\n",
    "\n",
    "def oddEvenList(head):\n",
    "    if not head or not head.next:\n",
    "        return head\n",
    "\n",
    "    odd_head = head\n",
    "    even_head = head.next\n",
    "    even_start = even_head\n",
    "\n",
    "    current = even_head.next\n",
    "    prev = even_head\n",
    "\n",
    "    index = 3\n",
    "\n",
    "    while current:\n",
    "        if index % 2 == 1:\n",
    "            prev.next = current.next\n",
    "            current.next = even_head\n",
    "            odd_head.next = current\n",
    "            odd_head = current\n",
    "            current = prev.next\n",
    "        else:\n",
    "            prev = current\n",
    "            current = current.next\n",
    "\n",
    "        index += 1\n",
    "\n",
    "    odd_head.next = even_start\n",
    "\n",
    "    return head\n"
   ]
  },
  {
   "cell_type": "markdown",
   "id": "40e452f2",
   "metadata": {},
   "source": [
    "The time complexity of this solution is O(n), where n is the number of nodes in the linked list, as we traverse the entire list once. The space complexity is O(1) as we only use a constant amount of extra space."
   ]
  },
  {
   "cell_type": "markdown",
   "id": "e21f1156",
   "metadata": {},
   "source": [
    "\n",
    "💡 **Question 6**\n",
    "\n",
    "Given a singly linked list of size **N**. The task is to **left-shift** the linked list by **k** nodes, where **k** is a given positive integer smaller than or equal to length of the linked list.\n"
   ]
  },
  {
   "cell_type": "markdown",
   "id": "f03d65c3",
   "metadata": {},
   "source": [
    "- Check if the given linked list is empty or if the shift value, k, is 0. If either condition is true, return the head of the linked list as it is.\n",
    "- Calculate the length of the linked list by traversing it and keeping a count of the nodes.\n",
    "- Adjust the shift value, k, by taking its modulo with the length of the linked list. This step ensures that k is within the range of the linked list length.\n",
    "- If the adjusted shift value, k, is 0, return the head of the linked list as it is.\n",
    "- Initialize two pointers, fast and slow, to point to the head of the linked list.\n",
    "- Move the fast pointer k steps ahead.\n",
    "- Move both the fast and slow pointers simultaneously until the fast pointer reaches the last node of the linked list.\n",
    "- After the loop ends, the slow pointer will be pointing to the (k+1)-th node from the beginning of the linked list.\n",
    "- Set the new_head to the next node of the slow pointer and set the next pointer of the slow pointer to None to break the original link.\n",
    "- Move the fast pointer to the last node of the linked list.\n",
    "- Set the next pointer of the last node to the head of the original linked list.\n",
    "- Return the new_head as the new head of the shifted linked list.\n",
    "- Here is the Python code for the solution:"
   ]
  },
  {
   "cell_type": "code",
   "execution_count": 6,
   "id": "745f3cce",
   "metadata": {},
   "outputs": [],
   "source": [
    "class ListNode:\n",
    "    def __init__(self, val=0, next=None):\n",
    "        self.val = val\n",
    "        self.next = next\n",
    "\n",
    "def shiftLinkedList(head, k):\n",
    "    if not head or k == 0:\n",
    "        return head\n",
    "\n",
    "    length = 0\n",
    "    current = head\n",
    "\n",
    "    while current:\n",
    "        length += 1\n",
    "        current = current.next\n",
    "\n",
    "    k %= length\n",
    "\n",
    "    if k == 0:\n",
    "        return head\n",
    "\n",
    "    fast = head\n",
    "    slow = head\n",
    "\n",
    "    for _ in range(k):\n",
    "        fast = fast.next\n",
    "\n",
    "    while fast.next:\n",
    "        fast = fast.next\n",
    "        slow = slow.next\n",
    "\n",
    "    new_head = slow.next\n",
    "    slow.next = None\n",
    "    fast.next = head\n",
    "\n",
    "    return new_head"
   ]
  },
  {
   "cell_type": "markdown",
   "id": "4578d294",
   "metadata": {},
   "source": [
    "The time complexity of this solution is O(n), where n is the number of nodes in the linked list, as we traverse the list once to calculate its length. The space complexity is O(1) as we only use a constant amount of extra space."
   ]
  },
  {
   "cell_type": "markdown",
   "id": "7f592adf",
   "metadata": {},
   "source": [
    "\n",
    "💡 **Question 7**\n",
    "\n",
    "You are given the `head` of a linked list with `n` nodes.\n",
    "\n",
    "For each node in the list, find the value of the **next greater node**. That is, for each node, find the value of the first node that is next to it and has a **strictly larger** value than it.\n",
    "\n",
    "Return an integer array `answer` where `answer[i]` is the value of the next greater node of the `ith` node (**1-indexed**). If the `ith` node does not have a next greater node, set `answer[i] = 0`.\n"
   ]
  },
  {
   "cell_type": "markdown",
   "id": "996ce70a",
   "metadata": {},
   "source": [
    "Here's the solution to the problem:\n",
    "\n",
    "- Create an empty stack and initialize an empty list called result with the same length as the linked list.\n",
    "- Traverse the linked list from the last node to the first node.\n",
    "- For each node, perform the following steps:\n",
    "- Pop elements from the stack until the stack is empty or the top element is greater than the current node's value. These popped elements are the next greater nodes for the current node.\n",
    "- If the stack is empty, there is no next greater node for the current node, so set result[i] to 0.\n",
    "- If the stack is not empty, set result[i] to the value of the top element.\n",
    "- Push the current node's value onto the stack.\n",
    "- Reverse the result list to match the order of the original linked list.\n",
    "- Return the result list.\n",
    "- Here is the Python code for the solution:"
   ]
  },
  {
   "cell_type": "code",
   "execution_count": 7,
   "id": "e3c67ff1",
   "metadata": {},
   "outputs": [],
   "source": [
    "class ListNode:\n",
    "    def __init__(self, val=0, next=None):\n",
    "        self.val = val\n",
    "        self.next = next\n",
    "\n",
    "def nextLargerNodes(head):\n",
    "    stack = []\n",
    "    result = []\n",
    "\n",
    "    current = head\n",
    "    while current:\n",
    "        while stack and stack[-1][0] <= current.val:\n",
    "            stack.pop()\n",
    "\n",
    "        if not stack:\n",
    "            result.append(0)\n",
    "        else:\n",
    "            result.append(stack[-1][0])\n",
    "\n",
    "        stack.append((current.val, len(result) - 1))\n",
    "        current = current.next\n",
    "\n",
    "    return result[::-1]\n"
   ]
  },
  {
   "cell_type": "markdown",
   "id": "ae05d483",
   "metadata": {},
   "source": [
    "The time complexity of this solution is O(n), where n is the number of nodes in the linked list, as we traverse the list once. The space complexity is O(n) as we use a stack to store the next greater elements."
   ]
  },
  {
   "cell_type": "markdown",
   "id": "7c9998a1",
   "metadata": {},
   "source": [
    "\n",
    "💡 **Question 8**\n",
    "\n",
    "Given the `head` of a linked list, we repeatedly delete consecutive sequences of nodes that sum to `0` until there are no such sequences.\n",
    "\n",
    "After doing so, return the head of the final linked list.  You may return any such answer.\n",
    "\n",
    "(Note that in the examples below, all sequences are serializations of `ListNode` objects.)\n"
   ]
  },
  {
   "cell_type": "markdown",
   "id": "c1af7fde",
   "metadata": {},
   "source": [
    "Here's the solution to the problem:\n",
    "\n",
    "- Create a dummy node and set its next pointer to the head of the linked list. This dummy node will help in handling the case where the head itself is part of a sequence that sums to 0.\n",
    "- Initialize a variable called prefix_sum to keep track of the running sum as we traverse the linked list.\n",
    "- Create an empty dictionary called prefix_sums to store the running sums as keys and the corresponding nodes as values.\n",
    "- Traverse the linked list while updating the prefix_sum and prefix_sums dictionary as follows:\n",
    "- Add the current node's value to the prefix_sum.\n",
    "- Check if the prefix_sum exists as a key in the prefix_sums dictionary. If it does, it means we have found a sequence that sums to 0.\n",
    "- In this case, update the next pointer of the node corresponding to the prefix_sum to skip the nodes in the sequence.\n",
    "- Remove the entries from the prefix_sums dictionary for the keys between the prefix_sum and the current prefix_sum.\n",
    "- If the prefix_sum does not exist as a key in the prefix_sums dictionary, add it along with the current node to the dictionary.\n",
    "- Move to the next node.\n",
    "- Return the next pointer of the dummy node, which will be the head of the final linked list.\n",
    "- Here is the Python code for the solution:"
   ]
  },
  {
   "cell_type": "code",
   "execution_count": 8,
   "id": "6c09fbbb",
   "metadata": {},
   "outputs": [],
   "source": [
    "class ListNode:\n",
    "    def __init__(self, val=0, next=None):\n",
    "        self.val = val\n",
    "        self.next = next\n",
    "\n",
    "def removeZeroSumSublists(head):\n",
    "    dummy = ListNode(0)\n",
    "    dummy.next = head\n",
    "\n",
    "    prefix_sum = 0\n",
    "    prefix_sums = {}\n",
    "\n",
    "    current = dummy\n",
    "    while current:\n",
    "        prefix_sum += current.val\n",
    "\n",
    "        if prefix_sum in prefix_sums:\n",
    "            current.next = prefix_sums[prefix_sum].next\n",
    "            while prefix_sums[prefix_sum] != current:\n",
    "                del prefix_sums[prefix_sum]\n",
    "                prefix_sum += current.next.val\n",
    "                current.next = current.next.next\n",
    "        else:\n",
    "            prefix_sums[prefix_sum] = current\n",
    "\n",
    "        current = current.next\n",
    "\n",
    "    return dummy.next\n"
   ]
  },
  {
   "cell_type": "markdown",
   "id": "b2ee2389",
   "metadata": {},
   "source": [
    "The time complexity of this solution is O(n), where n is the number of nodes in the linked list, as we traverse the list once. The space complexity is O(n) as we use a dictionary to store the prefix sums and their corresponding nodes."
   ]
  }
 ],
 "metadata": {
  "kernelspec": {
   "display_name": "Python 3 (ipykernel)",
   "language": "python",
   "name": "python3"
  },
  "language_info": {
   "codemirror_mode": {
    "name": "ipython",
    "version": 3
   },
   "file_extension": ".py",
   "mimetype": "text/x-python",
   "name": "python",
   "nbconvert_exporter": "python",
   "pygments_lexer": "ipython3",
   "version": "3.9.7"
  }
 },
 "nbformat": 4,
 "nbformat_minor": 5
}
