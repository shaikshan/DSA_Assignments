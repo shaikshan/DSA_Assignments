{
 "cells": [
  {
   "cell_type": "markdown",
   "id": "b55d8946",
   "metadata": {},
   "source": [
    "#### Question\n",
    "\n",
    "Move Zeroes\n",
    "Given an integer array nums, move all 0's to the end of it while maintaining the relative order of the non-zero elements.\n",
    "\n",
    "Note that you must do this in-place without making a copy of the array."
   ]
  },
  {
   "cell_type": "markdown",
   "id": "64c3256f",
   "metadata": {},
   "source": [
    "#### Solution"
   ]
  },
  {
   "cell_type": "markdown",
   "id": "a4cee486",
   "metadata": {},
   "source": [
    "To move all zeroes to the end of the array while maintaining the relative order of the non-zero elements, you can use a two-pointer approach. Here's a possible implementation:"
   ]
  },
  {
   "cell_type": "code",
   "execution_count": 1,
   "id": "4217839c",
   "metadata": {},
   "outputs": [],
   "source": [
    "def moveZeroes(nums):\n",
    "    # Initialize two pointers\n",
    "    left = 0\n",
    "    right = 0\n",
    "\n",
    "    # Move non-zero elements to the left side\n",
    "    while right < len(nums):\n",
    "        if nums[right] != 0:\n",
    "            nums[left] = nums[right]\n",
    "            left += 1\n",
    "        right += 1\n",
    "\n",
    "    # Fill the remaining positions with zeroes\n",
    "    while left < len(nums):\n",
    "        nums[left] = 0\n",
    "        left += 1"
   ]
  },
  {
   "cell_type": "markdown",
   "id": "9a6ca201",
   "metadata": {},
   "source": [
    "This solution operates in-place, modifying the original array, without making a copy. The time complexity of this algorithm is O(n), where n is the size of the input array, as we traverse the array once with the two pointers."
   ]
  },
  {
   "cell_type": "markdown",
   "id": "bab1c69c",
   "metadata": {},
   "source": [
    "#### Question\n",
    "\n",
    "First Unique Character in a String\n",
    "\n",
    "Given a string s, find the first non-repeating character in it and return its index. If it does not exist, return -1."
   ]
  },
  {
   "cell_type": "markdown",
   "id": "c841c57e",
   "metadata": {},
   "source": [
    "#### Solution\n",
    "\n",
    "\n",
    "To find the first non-repeating character in a string and return its index, you can use a dictionary to keep track of the count of each character. Here's an implementation:"
   ]
  },
  {
   "cell_type": "code",
   "execution_count": 2,
   "id": "3f2cde42",
   "metadata": {},
   "outputs": [],
   "source": [
    "def firstUniqChar(s):\n",
    "    # Create a dictionary to store character counts\n",
    "    char_count = {}\n",
    "\n",
    "    # Count the occurrences of each character\n",
    "    for char in s:\n",
    "        char_count[char] = char_count.get(char, 0) + 1\n",
    "\n",
    "    # Find the first non-repeating character\n",
    "    for i in range(len(s)):\n",
    "        if char_count[s[i]] == 1:\n",
    "            return i\n",
    "\n",
    "    # If no non-repeating character found, return -1\n",
    "    return -1"
   ]
  },
  {
   "cell_type": "markdown",
   "id": "b9c0b827",
   "metadata": {},
   "source": [
    "The time complexity of this solution is O(n), where n is the length of the input string s. We iterate through the string twice, once for counting and once for finding the first non-repeating character. The dictionary operations take constant time on average."
   ]
  },
  {
   "cell_type": "code",
   "execution_count": null,
   "id": "d4b1dfdb",
   "metadata": {},
   "outputs": [],
   "source": []
  }
 ],
 "metadata": {
  "kernelspec": {
   "display_name": "Python 3 (ipykernel)",
   "language": "python",
   "name": "python3"
  },
  "language_info": {
   "codemirror_mode": {
    "name": "ipython",
    "version": 3
   },
   "file_extension": ".py",
   "mimetype": "text/x-python",
   "name": "python",
   "nbconvert_exporter": "python",
   "pygments_lexer": "ipython3",
   "version": "3.9.7"
  }
 },
 "nbformat": 4,
 "nbformat_minor": 5
}
