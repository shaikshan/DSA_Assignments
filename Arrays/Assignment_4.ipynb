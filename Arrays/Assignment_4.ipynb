{
 "cells": [
  {
   "cell_type": "markdown",
   "id": "d6e8b65a",
   "metadata": {},
   "source": [
    "#### Question 1\n",
    "Given three integer arrays arr1, arr2 and arr3 sorted in strictly increasing order, return a sorted array of only the integers that appeared in all three arrays."
   ]
  },
  {
   "cell_type": "markdown",
   "id": "9f769e8c",
   "metadata": {},
   "source": [
    "#### Solution\n",
    "\n",
    "\n",
    "To find the integers that appear in all three arrays arr1, arr2, and arr3, we can use a common element search approach. Since the arrays are sorted in strictly increasing order, we can iterate through all three arrays simultaneously and compare the elements.\n",
    "\n",
    "Here's the algorithm to find the common elements:\n",
    "\n",
    "- Initialize three pointers p1, p2, and p3 to the start of arr1, arr2, and arr3 respectively.\n",
    "- Initialize an empty list result to store the common elements.\n",
    "- While p1, p2, and p3 are within the respective array bounds:\n",
    "    - If arr1[p1], arr2[p2], and arr3[p3] are equal, it means we have found a common element. Add it to the result list.\n",
    "    - Increment the pointer for the array with the smallest value among arr1[p1], arr2[p2], and arr3[p3].\n",
    "- Return the result list.\n",
    "\n",
    "#### Python Code"
   ]
  },
  {
   "cell_type": "code",
   "execution_count": 8,
   "id": "6e1ca62d",
   "metadata": {},
   "outputs": [],
   "source": [
    "def commonElements(arr1, arr2, arr3):\n",
    "    p1, p2, p3 = 0, 0, 0\n",
    "    result = []\n",
    "\n",
    "    while p1 < len(arr1) and p2 < len(arr2) and p3 < len(arr3):\n",
    "        if arr1[p1] == arr2[p2] == arr3[p3]:\n",
    "            result.append(arr1[p1])\n",
    "            p1 += 1\n",
    "            p2 += 1\n",
    "            p3 += 1\n",
    "        elif arr1[p1] < arr2[p2]:\n",
    "            p1 += 1\n",
    "        elif arr2[p2] < arr3[p3]:\n",
    "            p2 += 1\n",
    "        else:\n",
    "            p3 += 1\n",
    "\n",
    "    return result\n"
   ]
  },
  {
   "cell_type": "markdown",
   "id": "d77e095d",
   "metadata": {},
   "source": [
    "The algorithm runs in linear time complexity O(n), where n is the total number of elements across all three arrays. The space complexity is O(1) since we only use a constant amount of extra space for the result list."
   ]
  },
  {
   "cell_type": "markdown",
   "id": "d83aeeb8",
   "metadata": {},
   "source": [
    "\n",
    "💡**Question 2**\n",
    "\n",
    "Given two **0-indexed** integer arrays nums1 and nums2, return *a list* answer *of size* 2 *where:*\n",
    "\n",
    "- answer[0] *is a list of all **distinct** integers in* nums1 *which are **not** present in* nums2*.*\n",
    "- answer[1] *is a list of all **distinct** integers in* nums2 *which are **not** present in* nums1.\n",
    "\n",
    "**Note** that the integers in the lists may be returned in **any** order.\n",
    "\n"
   ]
  },
  {
   "cell_type": "markdown",
   "id": "8d7c81e4",
   "metadata": {},
   "source": [
    "#### Solution\n",
    "\n",
    "\n",
    "To find the distinct integers that are present in nums1 but not in nums2, and vice versa, we can use sets to perform the set difference operation. Sets allow us to efficiently determine the unique elements in each array.\n",
    "\n",
    "Here's the algorithm to find the distinct integers:\n",
    "\n",
    "- Create two sets set1 and set2 from nums1 and nums2 respectively.\n",
    "- Find the set difference diff1 by subtracting set2 from set1, i.e., diff1 = set1 - set2.\n",
    "- Find the set difference diff2 by subtracting set1 from set2, i.e., diff2 = set2 - set1.\n",
    "- Convert diff1 and diff2 to lists and assign them to answer[0] and answer[1] respectively.\n",
    "- Return answer.\n",
    "\n",
    "#### Python Code"
   ]
  },
  {
   "cell_type": "code",
   "execution_count": 2,
   "id": "e73d67bd",
   "metadata": {},
   "outputs": [],
   "source": [
    "def findDisjointArrays(nums1, nums2):\n",
    "    set1 = set(nums1)\n",
    "    set2 = set(nums2)\n",
    "\n",
    "    diff1 = list(set1 - set2)\n",
    "    diff2 = list(set2 - set1)\n",
    "\n",
    "    answer = [diff1, diff2]\n",
    "    return answer\n"
   ]
  },
  {
   "cell_type": "markdown",
   "id": "089496b4",
   "metadata": {},
   "source": [
    "The algorithm has a time complexity of O(n + m), where n and m are the lengths of nums1 and nums2 respectively. The space complexity is O(n + m) as well, since the sets set1 and set2 can contain up to n and m unique elements respectively."
   ]
  },
  {
   "cell_type": "markdown",
   "id": "5dfff5ff",
   "metadata": {},
   "source": [
    "\n",
    "💡 **Question 3**\n",
    "\n",
    "Given a 2D integer array matrix, return *the **transpose** of* matrix.\n",
    "\n",
    "The **transpose** of a matrix is the matrix flipped over its main diagonal, switching the matrix's row and column indices.\n"
   ]
  },
  {
   "cell_type": "markdown",
   "id": "df55ec22",
   "metadata": {},
   "source": [
    "#### Solution\n",
    "\n",
    "\n",
    "To obtain the transpose of a matrix, we need to flip the matrix over its main diagonal, switching the row and column indices. This can be achieved by creating a new matrix where the rows of the original matrix become the columns of the transpose matrix, and vice versa.\n",
    "\n",
    "- Here's the algorithm to compute the transpose of a matrix:\n",
    "- \n",
    "- Initialize an empty 2D matrix transpose with dimensions n x m, where n is the number of rows in the original matrix matrix, and m is the number of columns in matrix.\n",
    "- Iterate over the rows i from 0 to n-1 and columns j from 0 to m-1 of the original matrix.\n",
    "- Assign matrix[i][j] to transpose[j][i], effectively swapping the row and column indices.\n",
    "- Return the transpose matrix.\n",
    "\n",
    "#### Python Code"
   ]
  },
  {
   "cell_type": "code",
   "execution_count": 3,
   "id": "4d21de42",
   "metadata": {},
   "outputs": [],
   "source": [
    "def transposeMatrix(matrix):\n",
    "    n = len(matrix)\n",
    "    m = len(matrix[0])\n",
    "\n",
    "    # Initialize transpose matrix with dimensions m x n\n",
    "    transpose = [[0] * n for _ in range(m)]\n",
    "\n",
    "    # Compute the transpose of the matrix\n",
    "    for i in range(n):\n",
    "        for j in range(m):\n",
    "            transpose[j][i] = matrix[i][j]\n",
    "\n",
    "    return transpose\n"
   ]
  },
  {
   "cell_type": "markdown",
   "id": "8421e9ee",
   "metadata": {},
   "source": [
    "The algorithm has a time complexity of O(n * m), where n and m are the dimensions of the matrix. The space complexity is also O(n * m) since we need to create a new matrix to store the transpose."
   ]
  },
  {
   "cell_type": "markdown",
   "id": "c4497d39",
   "metadata": {},
   "source": [
    "#### Question 4\n",
    "\n",
    "Given an integer array nums of 2n integers, group these integers into n pairs (a1, b1), (a2, b2), ..., (an, bn) such that the sum of min(ai, bi) for all i is maximized. Return the maximized sum."
   ]
  },
  {
   "cell_type": "markdown",
   "id": "a40ec309",
   "metadata": {},
   "source": [
    "#### Solution\n",
    "    \n",
    "To maximize the sum of the minimum values in pairs, we need to pair the numbers such that the difference between the values in each pair is minimized. In other words, we want to pair the smallest number with the second smallest number, the third smallest number with the fourth smallest number, and so on.\n",
    "\n",
    "Here's the algorithm to maximize the sum of the minimum values in pairs:\n",
    "\n",
    "- Sort the nums array in ascending order.\n",
    "- Initialize a variable sum_min to 0.\n",
    "- Iterate over the sorted nums array in steps of 2, starting from index 0.\n",
    "- Add the value at index i to sum_min.\n",
    "- Return sum_min.\n",
    "\n",
    "#### Python Code"
   ]
  },
  {
   "cell_type": "code",
   "execution_count": 4,
   "id": "4f43f9bb",
   "metadata": {},
   "outputs": [],
   "source": [
    "def arrayPairSum(nums):\n",
    "    nums.sort()\n",
    "    sum_min = 0\n",
    "    for i in range(0, len(nums), 2):\n",
    "        sum_min += nums[i]\n",
    "    return sum_min\n",
    "\n"
   ]
  },
  {
   "cell_type": "markdown",
   "id": "0215f8fc",
   "metadata": {},
   "source": [
    "The algorithm has a time complexity of O(n log n) due to the sorting operation, where n is the length of the nums array. The space complexity is O(1) since we only need a constant amount of extra space"
   ]
  },
  {
   "cell_type": "markdown",
   "id": "d6d4b289",
   "metadata": {},
   "source": [
    "\n",
    "💡 **Question 5**\n",
    "\n",
    "You have n coins and you want to build a staircase with these coins. The staircase consists of k rows where the ith row has exactly i coins. The last row of the staircase **may be** incomplete.\n",
    "\n",
    "Given the integer n, return *the number of **complete rows** of the staircase you will build*.\n",
    "\n"
   ]
  },
  {
   "cell_type": "markdown",
   "id": "497fe09b",
   "metadata": {},
   "source": [
    "#### Solution\n",
    "\n",
    "\n",
    "To determine the number of complete rows in the staircase, we need to find the largest value of k such that the sum of the first k natural numbers (1 to k) is less than or equal to n. This can be calculated by finding the largest value of k such that k * (k + 1) / 2 is less than or equal to n.\n",
    "\n",
    "Here's the algorithm to find the number of complete rows in the staircase:\n",
    "\n",
    "- Initialize left to 0 and right to n.\n",
    "- While left is less than or equal to right:\n",
    "    - a. Calculate mid as the midpoint of left and right.\n",
    "    - b. Calculate sum_mid as mid * (mid + 1) / 2.\n",
    "    - c. If sum_mid is less than or equal to n, update left to mid + 1.\n",
    "    - d. Otherwise, update right to mid - 1.\n",
    "- Return left - 1 as the number of complete rows.\n",
    "\n",
    "#### Python Code"
   ]
  },
  {
   "cell_type": "code",
   "execution_count": 5,
   "id": "a7181995",
   "metadata": {},
   "outputs": [],
   "source": [
    "def arrangeCoins(n):\n",
    "    left, right = 0, n\n",
    "    while left <= right:\n",
    "        mid = left + (right - left) // 2\n",
    "        sum_mid = mid * (mid + 1) // 2\n",
    "        if sum_mid <= n:\n",
    "            left = mid + 1\n",
    "        else:\n",
    "            right = mid - 1\n",
    "    return left - 1\n"
   ]
  },
  {
   "cell_type": "markdown",
   "id": "81da4b0a",
   "metadata": {},
   "source": [
    "The algorithm uses binary search to find the largest value of k efficiently, resulting in a time complexity of O(log n). The space complexity is O(1) since we only need a constant amount of extra space."
   ]
  },
  {
   "cell_type": "markdown",
   "id": "a6ac6383",
   "metadata": {},
   "source": [
    "#### Question 6\n",
    "\n",
    "Given an integer array nums sorted in non-decreasing order, return an array of the squares of each number sorted in non-decreasing order."
   ]
  },
  {
   "cell_type": "markdown",
   "id": "74384a94",
   "metadata": {},
   "source": [
    "#### Solution\n",
    "\n",
    "\n",
    "To square each number in the given array and return the resulting array in non-decreasing order, we can utilize a two-pointer approach.\n",
    "\n",
    "Here's the algorithm:\n",
    "\n",
    "- Initialize two pointers, left and right, pointing to the start and end of the nums array, respectively.\n",
    "- Create an empty result array, squares.\n",
    "- While left is less than or equal to right:\n",
    "    - a. Compare the absolute values of nums[left] and nums[right].\n",
    "    - b. If the absolute value of nums[left] is greater or equal to the absolute value of nums[right], square nums[left] and append it to squares. Increment left by 1.\n",
    "    - c. Otherwise, square nums[right] and append it to squares. Decrement right by 1.\n",
    "- Reverse the squares array to obtain the squares in non-decreasing order.\n",
    "- Return the squares array.\n",
    "\n",
    "#### Python Code"
   ]
  },
  {
   "cell_type": "code",
   "execution_count": 7,
   "id": "399aff2c",
   "metadata": {},
   "outputs": [],
   "source": [
    "def sortedSquares(nums):\n",
    "    left = 0\n",
    "    right = len(nums) - 1\n",
    "    squares = []\n",
    "    \n",
    "    while left <= right:\n",
    "        if abs(nums[left]) >= abs(nums[right]):\n",
    "            squares.append(nums[left] ** 2)\n",
    "            left += 1\n",
    "        else:\n",
    "            squares.append(nums[right] ** 2)\n",
    "            right -= 1\n",
    "    \n",
    "    return squares[::-1]\n",
    "\n"
   ]
  },
  {
   "cell_type": "markdown",
   "id": "f9e920da",
   "metadata": {},
   "source": [
    "The algorithm has a time complexity of O(n) since it iterates through the nums array once. The space complexity is O(n) as well, considering the additional space required for the squares array."
   ]
  },
  {
   "cell_type": "markdown",
   "id": "a12dcf59",
   "metadata": {},
   "source": [
    "\n",
    "💡 **Question 7**\n",
    "\n",
    "You are given an m x n matrix M initialized with all 0's and an array of operations ops, where ops[i] = [ai, bi] means M[x][y] should be incremented by one for all 0 <= x < ai and 0 <= y < bi.\n",
    "\n",
    "Count and return *the number of maximum integers in the matrix after performing all the operations*\n"
   ]
  },
  {
   "cell_type": "markdown",
   "id": "155d30ea",
   "metadata": {},
   "source": [
    "#### Solution\n",
    "\n",
    "\n",
    "To determine the number of maximum integers in the matrix after performing all the operations, we need to find the size of the submatrix that is incremented by all the operations. This can be achieved by finding the minimum values of ai and bi from all the operations.\n",
    "\n",
    "Here's the algorithm to count the number of maximum integers in the matrix:\n",
    "\n",
    "- Initialize min_ai and min_bi to positive infinity.\n",
    "- Iterate through each operation [ai, bi] in ops:\n",
    "    - a. Update min_ai as the minimum of min_ai and ai.\n",
    "    - b. Update min_bi as the minimum of min_bi and bi.\n",
    "- Return min_ai * min_bi as the count of maximum integers.\n",
    "\n",
    "#### Python Code"
   ]
  },
  {
   "cell_type": "code",
   "execution_count": 9,
   "id": "1418eea0",
   "metadata": {},
   "outputs": [],
   "source": [
    "def maxCount(m, n, ops):\n",
    "    min_ai = float('inf')\n",
    "    min_bi = float('inf')\n",
    "    \n",
    "    for ai, bi in ops:\n",
    "        min_ai = min(min_ai, ai)\n",
    "        min_bi = min(min_bi, bi)\n",
    "    \n",
    "    return min_ai * min_bi\n",
    "\n"
   ]
  },
  {
   "cell_type": "markdown",
   "id": "8e921e33",
   "metadata": {},
   "source": [
    "The algorithm has a time complexity of O(k), where k is the number of operations in ops. The space complexity is O(1) since we only need a constant amount of extra space."
   ]
  },
  {
   "cell_type": "markdown",
   "id": "92b959b7",
   "metadata": {},
   "source": [
    "\n",
    "💡 **Question 8**\n",
    "\n",
    "Given the array nums consisting of 2n elements in the form [x1,x2,...,xn,y1,y2,...,yn].\n",
    "\n",
    "*Return the array in the form* [x1,y1,x2,y2,...,xn,yn].\n",
    "\n"
   ]
  },
  {
   "cell_type": "markdown",
   "id": "1ae1cf3d",
   "metadata": {},
   "source": [
    "#### Solution\n",
    "\n",
    "\n",
    "To transform the given array nums into the desired form [x1, y1, x2, y2, ..., xn, yn], we can use a simple approach that involves creating a new array and interleaving the elements from the original array.\n",
    "\n",
    "Here's the algorithm:\n",
    "\n",
    "- Initialize an empty result array, result.\n",
    "- Define two pointers, i and j, starting at indices 0 and n respectively.\n",
    "- While i is less than n:\n",
    "    - a. Append nums[i] to result.\n",
    "    - b. Append nums[j] to result.\n",
    "    - c. Increment i by 1.\n",
    "    - d. Increment j by 1.\n",
    "- Return the result array.\n",
    "    \n",
    "#### Python Code"
   ]
  },
  {
   "cell_type": "code",
   "execution_count": 10,
   "id": "2835cbf9",
   "metadata": {},
   "outputs": [],
   "source": [
    "def shuffle(nums, n):\n",
    "    result = []\n",
    "    i = 0\n",
    "    j = n\n",
    "    \n",
    "    while i < n:\n",
    "        result.append(nums[i])\n",
    "        result.append(nums[j])\n",
    "        i += 1\n",
    "        j += 1\n",
    "    \n",
    "    return result\n"
   ]
  },
  {
   "cell_type": "markdown",
   "id": "8e6d3cab",
   "metadata": {},
   "source": [
    "The algorithm has a time complexity of O(n) since we iterate through the nums array once. The space complexity is O(n) as well, considering the additional space required for the result array."
   ]
  },
  {
   "cell_type": "code",
   "execution_count": null,
   "id": "967739a5",
   "metadata": {},
   "outputs": [],
   "source": []
  }
 ],
 "metadata": {
  "kernelspec": {
   "display_name": "Python 3 (ipykernel)",
   "language": "python",
   "name": "python3"
  },
  "language_info": {
   "codemirror_mode": {
    "name": "ipython",
    "version": 3
   },
   "file_extension": ".py",
   "mimetype": "text/x-python",
   "name": "python",
   "nbconvert_exporter": "python",
   "pygments_lexer": "ipython3",
   "version": "3.9.7"
  }
 },
 "nbformat": 4,
 "nbformat_minor": 5
}
