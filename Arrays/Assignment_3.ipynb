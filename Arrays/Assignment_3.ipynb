{
 "cells": [
  {
   "cell_type": "markdown",
   "id": "1c519fd8",
   "metadata": {},
   "source": [
    "#### Question 1\n",
    "Given an integer array nums of length n and an integer target, find three integers\n",
    "in nums such that the sum is closest to the target.\n",
    "Return the sum of the three integers.\n",
    "\n",
    "You may assume that each input would have exactly one solution."
   ]
  },
  {
   "cell_type": "markdown",
   "id": "1dce4999",
   "metadata": {},
   "source": [
    "#### Solution\n",
    "\n",
    "To solve this problem, we can use a two-pointer approach along with sorting the array. Here's an algorithm to find three integers in nums whose sum is closest to the target:\n",
    "\n",
    "- Sort the array nums in ascending order.\n",
    "- Initialize a variable closestSum to store the closest sum found so far. Set it to a large value.\n",
    "- Iterate through each index i from 0 to n-2:\n",
    "    - Initialize two pointers, left and right, where left = i + 1 and right = n - 1.\n",
    "    - While left is less than right, do:\n",
    "    - Calculate the current sum as currentSum = nums[i] + nums[left] + nums[right].\n",
    "    - If the absolute difference between currentSum and target is less than the absolute difference between closestSum and target, update closestSum with currentSum.\n",
    "    - If currentSum is less than target, increment left by 1.\n",
    "    - If currentSum is greater than target, decrement right by 1.\n",
    "    - If currentSum is equal to target, return currentSum since we found an exact match.\n",
    "- After the loop, return closestSum as the sum of the three integers closest to the target.\n",
    "\n",
    "#### Python Code"
   ]
  },
  {
   "cell_type": "code",
   "execution_count": 1,
   "id": "98933c8a",
   "metadata": {},
   "outputs": [],
   "source": [
    "def threeSumClosest(nums, target):\n",
    "    nums.sort()\n",
    "    n = len(nums)\n",
    "    closestSum = float('inf')\n",
    "\n",
    "    for i in range(n - 2):\n",
    "        left = i + 1\n",
    "        right = n - 1\n",
    "\n",
    "        while left < right:\n",
    "            currentSum = nums[i] + nums[left] + nums[right]\n",
    "            if abs(currentSum - target) < abs(closestSum - target):\n",
    "                closestSum = currentSum\n",
    "\n",
    "            if currentSum < target:\n",
    "                left += 1\n",
    "            elif currentSum > target:\n",
    "                right -= 1\n",
    "            else:\n",
    "                return currentSum\n",
    "\n",
    "    return closestSum\n"
   ]
  },
  {
   "cell_type": "markdown",
   "id": "0aab6af4",
   "metadata": {},
   "source": [
    "The algorithm has a time complexity of O(n^2) since we iterate through the array nums twice with nested loops. The space complexity is O(1) since we use only a constant amount of additional memory."
   ]
  },
  {
   "cell_type": "markdown",
   "id": "6dce0efb",
   "metadata": {},
   "source": [
    "#### Question 2\n",
    "Given an array nums of n integers, return an array of all the unique quadruplets\n",
    "[nums[a], nums[b], nums[c], nums[d]] such that:\\\n",
    "           ● 0 <= a, b, c, d < n\\\n",
    "           ● a, b, c, and d are distinct.\\\n",
    "           ● nums[a] + nums[b] + nums[c] + nums[d] == target\\\n",
    "\n",
    "You may return the answer in any order."
   ]
  },
  {
   "cell_type": "markdown",
   "id": "76bad8fa",
   "metadata": {},
   "source": [
    "#### Solution \n",
    "\n",
    "To solve this problem, we can use a combination of sorting, two-pointer approach, and nested loops. Here's an algorithm to find all unique quadruplets in nums whose sum is equal to the target:\n",
    "\n",
    "- Sort the array nums in ascending order.\n",
    "- Initialize an empty list quadruplets to store the unique quadruplets.\n",
    "- Iterate through each index i from 0 to n-4:\n",
    "    - If i is greater than 0 and nums[i] is equal to nums[i-1], skip the current iteration to avoid duplicate quadruplets.\n",
    "    - Iterate through each index j from i+1 to n-3:\n",
    "    - If j is greater than i+1 and nums[j] is equal to nums[j-1], skip the current iteration to avoid duplicate quadruplets.\n",
    "    - Initialize two pointers, left and right, where left = j + 1 and right = n - 1.\n",
    "    - While left is less than right, do:\n",
    "    - Calculate the current sum as currentSum = nums[i] + nums[j] + nums[left] + nums[right].\n",
    "    - If currentSum is equal to the target, add [nums[i], nums[j], nums[left], nums[right]] to quadruplets.\n",
    "    - Increment left and decrement right while skipping any duplicates to avoid duplicate quadruplets.\n",
    "    - If currentSum is less than the target, increment left by 1.\n",
    "    - If currentSum is greater than the target, decrement right by 1.\n",
    "Return quadruplets as the list of all unique quadruplets whose sum is equal to the target\n",
    "\n",
    "#### Python Code"
   ]
  },
  {
   "cell_type": "code",
   "execution_count": 2,
   "id": "3428aed9",
   "metadata": {},
   "outputs": [],
   "source": [
    "def fourSum(nums, target):\n",
    "    nums.sort()\n",
    "    n = len(nums)\n",
    "    quadruplets = []\n",
    "\n",
    "    for i in range(n - 3):\n",
    "        if i > 0 and nums[i] == nums[i - 1]:\n",
    "            continue\n",
    "\n",
    "        for j in range(i + 1, n - 2):\n",
    "            if j > i + 1 and nums[j] == nums[j - 1]:\n",
    "                continue\n",
    "\n",
    "            left = j + 1\n",
    "            right = n - 1\n",
    "\n",
    "            while left < right:\n",
    "                currentSum = nums[i] + nums[j] + nums[left] + nums[right]\n",
    "\n",
    "                if currentSum == target:\n",
    "                    quadruplets.append([nums[i], nums[j], nums[left], nums[right]])\n",
    "\n",
    "                    while left < right and nums[left] == nums[left + 1]:\n",
    "                        left += 1\n",
    "                    while left < right and nums[right] == nums[right - 1]:\n",
    "                        right -= 1\n",
    "\n",
    "                    left += 1\n",
    "                    right -= 1\n",
    "\n",
    "                elif currentSum < target:\n",
    "                    left += 1\n",
    "                else:\n",
    "                    right -= 1\n",
    "\n",
    "    return quadruplets\n"
   ]
  },
  {
   "cell_type": "markdown",
   "id": "3a657e85",
   "metadata": {},
   "source": [
    "The algorithm has a time complexity of O(n^3) since we have three nested loops, and for each combination of i and j, we perform a two-pointer approach that"
   ]
  },
  {
   "cell_type": "markdown",
   "id": "bb9edd4b",
   "metadata": {},
   "source": [
    "\n",
    "💡 **Question 3**\n",
    "A permutation of an array of integers is an arrangement of its members into a\n",
    "sequence or linear order.\n",
    "\n",
    "For example, for arr = [1,2,3], the following are all the permutations of arr:\n",
    "[1,2,3], [1,3,2], [2, 1, 3], [2, 3, 1], [3,1,2], [3,2,1].\n",
    "\n",
    "The next permutation of an array of integers is the next lexicographically greater\n",
    "permutation of its integer. More formally, if all the permutations of the array are\n",
    "sorted in one container according to their lexicographical order, then the next\n",
    "permutation of that array is the permutation that follows it in the sorted container.\n",
    "\n",
    "If such an arrangement is not possible, the array must be rearranged as the\n",
    "lowest possible order (i.e., sorted in ascending order).\n",
    "\n",
    "● For example, the next permutation of arr = [1,2,3] is [1,3,2].\n",
    "\n",
    "● Similarly, the next permutation of arr = [2,3,1] is [3,1,2].\n",
    "\n",
    "● While the next permutation of arr = [3,2,1] is [1,2,3] because [3,2,1] does not\n",
    "have a lexicographical larger rearrangement.\n",
    "\n",
    "Given an array of integers nums, find the next permutation of nums.\n",
    "The replacement must be in place and use only constant extra memory.\n"
   ]
  },
  {
   "cell_type": "markdown",
   "id": "7473a1f1",
   "metadata": {},
   "source": [
    "#### Solution \n",
    "To find the next permutation of an array nums, we can follow these steps:\n",
    "\n",
    "- Start from the rightmost element of nums and find the first pair of adjacent elements nums[i] and nums[i-1] where nums[i-1] < nums[i].\n",
    "    - If no such pair is found, it means the array is in descending order, and we cannot find the next permutation. In this case, reverse the array to obtain the lowest possible order.\n",
    "- If a pair is found in step 1, it means there is a lexicographically larger permutation possible.\n",
    "- From the right side of the array, find the smallest element nums[j] that is greater than nums[i-1]. Swap nums[j] with nums[i-1].\n",
    "- Reverse the subarray from index i to the end of the array to obtain the next lexicographically greater permutation."
   ]
  },
  {
   "cell_type": "code",
   "execution_count": 3,
   "id": "df4915a5",
   "metadata": {},
   "outputs": [],
   "source": [
    "def nextPermutation(nums):\n",
    "    n = len(nums)\n",
    "    i = n - 1\n",
    "\n",
    "    while i > 0 and nums[i-1] >= nums[i]:\n",
    "        i -= 1\n",
    "\n",
    "    if i == 0:\n",
    "        nums.reverse()  # Array is in descending order, so reverse it\n",
    "        return\n",
    "\n",
    "    j = n - 1\n",
    "\n",
    "    while nums[j] <= nums[i-1]:\n",
    "        j -= 1\n",
    "\n",
    "    nums[i-1], nums[j] = nums[j], nums[i-1]\n",
    "\n",
    "    left = i\n",
    "    right = n - 1\n",
    "\n",
    "    while left < right:\n",
    "        nums[left], nums[right] = nums[right], nums[left]\n",
    "        left += 1\n",
    "        right -= 1\n",
    "\n"
   ]
  },
  {
   "cell_type": "markdown",
   "id": "839e6fc2",
   "metadata": {},
   "source": [
    "The algorithm has a time complexity of O(n), where n is the length of the array nums, since we perform a single pass through the array. The space complexity is O(1) since we use only constant extra memory."
   ]
  },
  {
   "cell_type": "markdown",
   "id": "e479560f",
   "metadata": {},
   "source": [
    "#### Question 4\n",
    "Given a sorted array of distinct integers and a target value, return the index if the\n",
    "target is found. If not, return the index where it would be if it were inserted in\n",
    "order.\n",
    "\n",
    "You must write an algorithm with O(log n) runtime complexity."
   ]
  },
  {
   "cell_type": "markdown",
   "id": "491e0f74",
   "metadata": {},
   "source": [
    "\n",
    "To solve this problem with a runtime complexity of O(log n), we can use a binary search algorithm. Here's the algorithm to find the index of the target value or the index where it would be inserted in order:\n",
    "\n",
    "- Initialize two pointers, left and right, where left = 0 and right = n - 1, where n is the length of the array.\n",
    "- While left <= right, do the following:\n",
    "    - Calculate the mid index as mid = (left + right) // 2.\n",
    "    - If the value at nums[mid] is equal to the target, return mid.\n",
    "    - If the value at nums[mid] is less than the target, update left = mid + 1.\n",
    "    - If the value at nums[mid] is greater than the target, update right = mid - 1.\n",
    "- If the target value is not found, return left, which represents the index where the target would be inserted in order."
   ]
  },
  {
   "cell_type": "code",
   "execution_count": 5,
   "id": "45a748c7",
   "metadata": {},
   "outputs": [],
   "source": [
    "def searchInsert(nums, target):\n",
    "    n = len(nums)\n",
    "    left = 0\n",
    "    right = n - 1\n",
    "\n",
    "    while left <= right:\n",
    "        mid = (left + right) // 2\n",
    "\n",
    "        if nums[mid] == target:\n",
    "            return mid\n",
    "        elif nums[mid] < target:\n",
    "            left = mid + 1\n",
    "        else:\n",
    "            right = mid - 1\n",
    "\n",
    "    return left\n",
    "\n"
   ]
  },
  {
   "cell_type": "markdown",
   "id": "0f987875",
   "metadata": {},
   "source": [
    "The binary search algorithm has a time complexity of O(log n), where n is the length of the array nums."
   ]
  },
  {
   "cell_type": "markdown",
   "id": "7100d146",
   "metadata": {},
   "source": [
    "#### Question 5\n",
    "You are given a large integer represented as an integer array digits, where each\n",
    "digits[i] is the ith digit of the integer. The digits are ordered from most significant\n",
    "to least significant in left-to-right order. The large integer does not contain any\n",
    "leading 0's.\n",
    "\n",
    "Increment the large integer by one and return the resulting array of digits."
   ]
  },
  {
   "cell_type": "markdown",
   "id": "1257e614",
   "metadata": {},
   "source": [
    "#### Solution\n",
    "\n",
    "To increment a large integer represented as an array of digits, we can start from the least significant digit (the rightmost digit) and perform the following steps:\n",
    "\n",
    "- Initialize a carry variable as 1, which represents the value to be added to the least significant digit.\n",
    "- Iterate over the digits from right to left:\n",
    "    - Add the carry to the current digit.\n",
    "    - If the resulting value is less than 10, update the digit and set the carry to 0 since there is no need to carry over to the next digit.\n",
    "    - If the resulting value is 10, set the digit to 0 and set the carry to 1 to indicate carrying over to the next digit.\n",
    "    - If the carry becomes 0, we have finished incrementing the number, so we can stop the iteration.\n",
    "- If the carry is still 1 after the iteration, it means there is a carry to the most significant digit. In this case, insert a new digit of 1 at the beginning of the array."
   ]
  },
  {
   "cell_type": "code",
   "execution_count": 6,
   "id": "98d823b2",
   "metadata": {},
   "outputs": [],
   "source": [
    "def plusOne(digits):\n",
    "    n = len(digits)\n",
    "    carry = 1\n",
    "\n",
    "    for i in range(n - 1, -1, -1):\n",
    "        digits[i] += carry\n",
    "\n",
    "        if digits[i] < 10:\n",
    "            carry = 0\n",
    "            break\n",
    "        else:\n",
    "            digits[i] = 0\n",
    "\n",
    "    if carry == 1:\n",
    "        digits.insert(0, 1)\n",
    "\n",
    "    return digits\n"
   ]
  },
  {
   "cell_type": "markdown",
   "id": "51037851",
   "metadata": {},
   "source": [
    "The algorithm has a time complexity of O(n), where n is the number of digits in the input array. This is because we iterate over the digits once to perform the increment operatio"
   ]
  },
  {
   "cell_type": "markdown",
   "id": "4f409aad",
   "metadata": {},
   "source": [
    "#### Question 6\n",
    "Given a non-empty array of integers nums, every element appears twice except\n",
    "for one. Find that single one.\n",
    "\n",
    "You must implement a solution with a linear runtime complexity and use only\n",
    "constant extra space."
   ]
  },
  {
   "cell_type": "markdown",
   "id": "8fcc7dfb",
   "metadata": {},
   "source": [
    "#### Solution\n",
    "\n",
    "\n",
    "To find the element that appears only once in an array nums, where every other element appears twice, we can use the XOR operation. The XOR of two identical elements is 0, so if we XOR all the elements in the array, the result will be the element that appears only once.\n",
    "\n",
    "Here's the algorithm to find the single element:\n",
    "\n",
    "- Initialize a variable result to 0.\n",
    "- Iterate through each element num in the array nums.\n",
    "- Update result by performing the XOR operation between result and num.\n",
    "- Return the value of result.\n",
    "\n",
    "Since the XOR operation has the property of being commutative and associative, the order of XORing the elements does not matter. Therefore, all the elements that appear twice will cancel each other out, leaving only the element that appears once."
   ]
  },
  {
   "cell_type": "code",
   "execution_count": 7,
   "id": "a765973f",
   "metadata": {},
   "outputs": [],
   "source": [
    "def singleNumber(nums):\n",
    "    result = 0\n",
    "\n",
    "    for num in nums:\n",
    "        result ^= num\n",
    "\n",
    "    return result\n"
   ]
  },
  {
   "cell_type": "markdown",
   "id": "34ac73c2",
   "metadata": {},
   "source": [
    "The algorithm has a linear runtime complexity of O(n), where n is the length of the array nums, since we iterate through each element once. The space complexity is O(1) since we use only a constant amount of extra space."
   ]
  },
  {
   "cell_type": "markdown",
   "id": "230974ee",
   "metadata": {},
   "source": [
    "#### Question 7\n",
    "You are given an inclusive range [lower, upper] and a sorted unique integer array\n",
    "nums, where all elements are within the inclusive range.\n",
    "\n",
    "A number x is considered missing if x is in the range [lower, upper] and x is not in\n",
    "nums.\n",
    "\n",
    "Return the shortest sorted list of ranges that exactly covers all the missing\n",
    "numbers. That is, no element of nums is included in any of the ranges, and each\n",
    "missing number is covered by one of the ranges."
   ]
  },
  {
   "cell_type": "markdown",
   "id": "edd08110",
   "metadata": {},
   "source": [
    "#### Solution\n",
    "To solve this problem, we can iterate through the given range [lower, upper] and check for missing numbers by comparing them with the elements in the sorted array nums. As we find missing numbers, we can construct the ranges accordingly.\n",
    "\n",
    "Here's the algorithm to find the shortest sorted list of ranges that covers all the missing numbers:\n",
    "\n",
    "- Initialize an empty list result to store the ranges.\n",
    "- Initialize a variable start as lower to keep track of the start of the current range.\n",
    "- Iterate through the range from lower to upper (inclusive).\n",
    "- If the current number is not found in nums, it is a missing number.\n",
    "- If start is equal to the current number, it means we have found a range of length 1, so add it to the result list as a string.\n",
    "- If start is not equal to the current number, it means we have found a range greater than 1, so add it to the result list as a string in the format \"start->end\".\n",
    "- Update start to the next number.\n",
    "- After the iteration, if start is equal to upper, add it to the result list as a string.\n",
    "- Return the result list."
   ]
  },
  {
   "cell_type": "code",
   "execution_count": 8,
   "id": "4cd3471a",
   "metadata": {},
   "outputs": [],
   "source": [
    "def findMissingRanges(nums, lower, upper):\n",
    "    result = []\n",
    "    start = lower\n",
    "\n",
    "    for num in range(lower, upper+1):\n",
    "        if num not in nums:\n",
    "            if start == num:\n",
    "                result.append(str(start))\n",
    "            else:\n",
    "                result.append(str(start) + \"->\" + str(num-1))\n",
    "            start = num + 1\n",
    "\n",
    "    if start == upper + 1:\n",
    "        result.append(str(start))\n",
    "\n",
    "    return result\n",
    "\n"
   ]
  },
  {
   "cell_type": "markdown",
   "id": "877dc276",
   "metadata": {},
   "source": [
    "The algorithm has a time complexity of O(n), where n is the difference between upper and lower plus one. This is because we iterate through the given range once. The space complexity is O(1) since we use only a constant amount of extra space to store the result."
   ]
  },
  {
   "cell_type": "markdown",
   "id": "a3857683",
   "metadata": {},
   "source": [
    "#### Question 8\n",
    "Given an array of meeting time intervals where intervals[i] = [starti, endi],\n",
    "determine if a person could attend all meetings."
   ]
  },
  {
   "cell_type": "markdown",
   "id": "4808a9ed",
   "metadata": {},
   "source": [
    "#### Solution\n",
    "\n",
    "To determine if a person could attend all the meetings, we need to check if there are any overlapping intervals in the given array of meeting time intervals. If there are any overlaps, it means the person would not have enough time to attend all the meetings.\n",
    "\n",
    "Here's the algorithm to solve this problem:\n",
    "\n",
    "Sort the meeting time intervals based on the start time.\n",
    "Iterate through the sorted intervals starting from the second interval.\n",
    "Compare the start time of the current interval with the end time of the previous interval.\n",
    "If the start time of the current interval is less than or equal to the end time of the previous interval, there is an overlap, so return False.\n",
    "If there are no overlaps, return True."
   ]
  },
  {
   "cell_type": "code",
   "execution_count": 9,
   "id": "42551d3f",
   "metadata": {},
   "outputs": [],
   "source": [
    "def canAttendMeetings(intervals):\n",
    "    intervals.sort(key=lambda x: x[0])\n",
    "\n",
    "    for i in range(1, len(intervals)):\n",
    "        if intervals[i][0] < intervals[i-1][1]:\n",
    "            return False\n",
    "\n",
    "    return True\n"
   ]
  },
  {
   "cell_type": "markdown",
   "id": "9465db73",
   "metadata": {},
   "source": [
    "The algorithm has a time complexity of O(n log n), where n is the number of intervals. This is because we sort the intervals based on the start time, which takes O(n log n) time. The iteration through the sorted intervals takes O(n) time. The space complexity is O(1) since we use only a constant amount of extra space."
   ]
  },
  {
   "cell_type": "code",
   "execution_count": null,
   "id": "c9810d4f",
   "metadata": {},
   "outputs": [],
   "source": []
  }
 ],
 "metadata": {
  "kernelspec": {
   "display_name": "Python 3 (ipykernel)",
   "language": "python",
   "name": "python3"
  },
  "language_info": {
   "codemirror_mode": {
    "name": "ipython",
    "version": 3
   },
   "file_extension": ".py",
   "mimetype": "text/x-python",
   "name": "python",
   "nbconvert_exporter": "python",
   "pygments_lexer": "ipython3",
   "version": "3.9.7"
  }
 },
 "nbformat": 4,
 "nbformat_minor": 5
}
