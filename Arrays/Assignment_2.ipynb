{
 "cells": [
  {
   "cell_type": "markdown",
   "id": "7081f5de",
   "metadata": {},
   "source": [
    "Q1. Given an integer array nums of 2n integers, group these integers into n pairs (a1, b1), (a2, b2),..., (an, bn) such that the sum of min(ai, bi) for all i is maximized. Return the maximized sum."
   ]
  },
  {
   "cell_type": "markdown",
   "id": "f6fc5e86",
   "metadata": {},
   "source": [
    "__Soluion__\n",
    "\n",
    "To maximize the sum of the minimum values in pairs from an integer array, we need to pair the numbers in a way that the smaller numbers are grouped together. Here's an algorithm to solve this problem:\n",
    "\n",
    "- Sort the nums array in ascending order.\n",
    "- Initialize a variable max_sum as 0 to keep track of the maximum sum.\n",
    "- Iterate over the sorted nums array with a step size of 2:\n",
    "    - Add the value at the current index to max_sum.\n",
    "- Return max_sum.\n",
    "\n",
    "__Python_Code__"
   ]
  },
  {
   "cell_type": "code",
   "execution_count": 1,
   "id": "5e49ccd3",
   "metadata": {},
   "outputs": [],
   "source": [
    "def arrayPairSum(nums):\n",
    "    nums.sort()\n",
    "    max_sum = 0\n",
    "\n",
    "    for i in range(0, len(nums), 2):\n",
    "        max_sum += nums[i]\n",
    "\n",
    "    return max_sum\n"
   ]
  },
  {
   "cell_type": "markdown",
   "id": "af56a34b",
   "metadata": {},
   "source": [
    "Time Complexity:\n",
    "The algorithm sorts the nums array, which takes O(n log n) time complexity. However, since the number of elements is given as 2n, the sorting step can be considered as O(n) in this case. The iteration over the sorted array takes O(n) time complexity. Therefore, the overall time complexity is O(n log n) or simply O(n).\n",
    "\n",
    "Space Complexity:\n",
    "The algorithm only uses a constant amount of extra space for variables. Hence, the space complexity is O(1), indicating that it requires constant space regardless of the size of the input array."
   ]
  },
  {
   "cell_type": "markdown",
   "id": "1760720f",
   "metadata": {},
   "source": [
    "__Solution__\n",
    "\n",
    "\n",
    "To maximize the number of different types of candies Alice can eat while following the doctor's advice, we need to count the number of unique candy types she has and compare it with the maximum limit of n/2. Here's an algorithm to solve this problem:\n",
    "\n",
    "- Create a set called uniqueCandies to store the unique candy types.\n",
    "- Iterate over the candyType array:\n",
    "    - Add each candy type to the uniqueCandies set.\n",
    "- Calculate the maximum limit of n/2 as max_limit = len(candyType) // 2.\n",
    "- Return the minimum of the number of unique candy types (len(uniqueCandies)) and the maximum limit (max_limit).\n",
    "\n",
    "__Python_Code__"
   ]
  },
  {
   "cell_type": "code",
   "execution_count": 2,
   "id": "28af7903",
   "metadata": {},
   "outputs": [],
   "source": [
    "def maxUniqueCandies(candyType):\n",
    "    uniqueCandies = set()\n",
    "    \n",
    "    for candy in candyType:\n",
    "        uniqueCandies.add(candy)\n",
    "    \n",
    "    max_limit = len(candyType) // 2\n",
    "    \n",
    "    return min(len(uniqueCandies), max_limit)"
   ]
  },
  {
   "cell_type": "markdown",
   "id": "9144a1bd",
   "metadata": {},
   "source": [
    "Time Complexity:\n",
    "The algorithm iterates over the candyType array once to count the unique candy types. Therefore, the time complexity is O(n), where n is the length of the candyType array.\n",
    "\n",
    "Space Complexity:\n",
    "The algorithm uses a set, uniqueCandies, to store the unique candy types. The space required by the set depends on the number of unique candy types, which can be at most n/2 (since n is always even). Hence, the space complexity is O(n), where n is the length of the candyType array."
   ]
  },
  {
   "cell_type": "markdown",
   "id": "771d7e70",
   "metadata": {},
   "source": [
    "__Question 3__\n",
    "\n",
    "We define a harmonious array as an array where the difference between its maximum value\n",
    "and its minimum value is exactly 1.\n",
    "\n",
    "Given an integer array nums, return the length of its longest harmonious subsequence\n",
    "among all its possible subsequences.\n",
    "\n",
    "A subsequence of an array is a sequence that can be derived from the array by deleting some or no elements without changing the order of the remaining elements."
   ]
  },
  {
   "cell_type": "markdown",
   "id": "ffd42bc1",
   "metadata": {},
   "source": [
    "__Solution__\n",
    "To find the length of the longest harmonious subsequence in an integer array, we can use a hashmap to count the frequencies of each number. By iterating through the array and checking the counts of each number and its adjacent number (i.e., number + 1), we can determine the length of the harmonious subsequence. Here's an algorithm to solve this problem:\n",
    "\n",
    "- Create an empty hashmap called numCount to store the frequencies of each number.\n",
    "- Iterate through the nums array and count the occurrences of each number by updating numCount.\n",
    "- Initialize a variable maxLen as 0 to keep track of the maximum length of the harmonious subsequence.\n",
    "- Iterate through the numCount hashmap:\n",
    "    - If the current number + 1 exists in numCount, calculate the length of the harmonious subsequence by adding the counts of the current number and its adjacent number. Update maxLen if the current length is greater than maxLen.\n",
    "- Return maxLen.\n",
    "\n",
    "__Python_Code__"
   ]
  },
  {
   "cell_type": "code",
   "execution_count": 3,
   "id": "f4927a5e",
   "metadata": {},
   "outputs": [],
   "source": [
    "from collections import Counter\n",
    "\n",
    "def findLHS(nums):\n",
    "    numCount = Counter(nums)\n",
    "    maxLen = 0\n",
    "\n",
    "    for num in numCount:\n",
    "        if num + 1 in numCount:\n",
    "            length = numCount[num] + numCount[num + 1]\n",
    "            maxLen = max(maxLen, length)\n",
    "\n",
    "    return maxLen"
   ]
  },
  {
   "cell_type": "markdown",
   "id": "9967bb4e",
   "metadata": {},
   "source": [
    "Time Complexity:\n",
    "The algorithm iterates through the nums array once and performs constant-time operations for each number. Additionally, iterating through the numCount hashmap requires time proportional to the number of unique elements. Therefore, the time complexity is O(n + m), where n is the length of the nums array and m is the number of unique elements in nums.\n",
    "\n",
    "Space Complexity:\n",
    "The algorithm uses a hashmap, numCount, to store the frequencies of the numbers. The space required by the hashmap is proportional to the number of unique elements in nums. Hence, the space complexity is O(m), where m is the number of unique elements in nums."
   ]
  },
  {
   "cell_type": "markdown",
   "id": "659c87c8",
   "metadata": {},
   "source": [
    "__Question 4__\n",
    "\n",
    "You have a long flowerbed in which some of the plots are planted, and some are not.\n",
    "However, flowers cannot be planted in adjacent plots.\n",
    "Given an integer array flowerbed containing 0's and 1's, where 0 means empty and 1 means not empty, and an integer n, return true if n new flowers can be planted in the flowerbed without violating the no-adjacent-flowers rule and false otherwise."
   ]
  },
  {
   "cell_type": "markdown",
   "id": "dd884a54",
   "metadata": {},
   "source": [
    "__Solution__\n",
    "\n",
    "\n",
    "To determine whether n new flowers can be planted in a flowerbed without violating the adjacent flowers rule, we can iterate through the flowerbed and check if each plot is empty and its adjacent plots are also empty. Here's an algorithm to solve this problem:\n",
    "\n",
    "- Initialize a variable count as 0 to keep track of the number of flowers that can be planted.\n",
    "- Iterate through the flowerbed array from left to right:\n",
    "    - If the current plot is empty (0) and both its adjacent plots are also empty or out of bounds, increment count by 1 and mark the current plot as planted (1).\n",
    "- Return true if count is greater than or equal to n, indicating that n new flowers can be planted without violating the adjacent flowers rule. Otherwise, return false.\n",
    "\n",
    "__Python_Code__"
   ]
  },
  {
   "cell_type": "code",
   "execution_count": 4,
   "id": "0d811e8d",
   "metadata": {},
   "outputs": [],
   "source": [
    "def canPlaceFlowers(flowerbed, n):\n",
    "    count = 0\n",
    "    size = len(flowerbed)\n",
    "\n",
    "    for i in range(size):\n",
    "        if flowerbed[i] == 0 and (i == 0 or flowerbed[i - 1] == 0) and (i == size - 1 or flowerbed[i + 1] == 0):\n",
    "            flowerbed[i] = 1\n",
    "            count += 1\n",
    "\n",
    "    return count >= n"
   ]
  },
  {
   "cell_type": "markdown",
   "id": "9f65f70c",
   "metadata": {},
   "source": [
    "Time Complexity:\n",
    "The algorithm iterates through the flowerbed array once. Therefore, the time complexity is O(n), where n is the length of the flowerbed array.\n",
    "\n",
    "Space Complexity:\n",
    "The algorithm uses a constant amount of extra space for variables. Hence, the space complexity is O(1), indicating that it requires constant space regardless of the size of the input array."
   ]
  },
  {
   "cell_type": "markdown",
   "id": "91795276",
   "metadata": {},
   "source": [
    "#### Question 5\n",
    "\n",
    "Given an integer array nums, find three numbers whose product is maximum and return the maximum product."
   ]
  },
  {
   "cell_type": "markdown",
   "id": "c1fe95f9",
   "metadata": {},
   "source": [
    "#### Solution\n",
    "\n",
    "To find the maximum product of three numbers in an integer array, we can sort the array and consider two scenarios:\n",
    "\n",
    "- The three largest numbers in the sorted array, as they would yield the maximum product.\n",
    "- The two smallest numbers (which could be negative) multiplied by the largest number, as this could yield a larger product.\n",
    "\n",
    "Here's an algorithm to solve this problem:\n",
    "\n",
    "- Sort the nums array in ascending order.\n",
    "- Calculate two products:\n",
    "    - Product1: Multiply the last three numbers in the sorted array.\n",
    "    - Product2: Multiply the first two numbers (smallest) with the last number (largest) in the sorted array.\n",
    "- Return the maximum of Product1 and Product2.\n",
    "\n",
    "#### Python Code"
   ]
  },
  {
   "cell_type": "code",
   "execution_count": 5,
   "id": "2ddd0741",
   "metadata": {},
   "outputs": [],
   "source": [
    "def maximumProduct(nums):\n",
    "    nums.sort()\n",
    "    product1 = nums[-1] * nums[-2] * nums[-3]\n",
    "    product2 = nums[0] * nums[1] * nums[-1]\n",
    "    return max(product1, product2)"
   ]
  },
  {
   "cell_type": "markdown",
   "id": "1d2c8bb8",
   "metadata": {},
   "source": [
    "Time Complexity:\n",
    "The algorithm sorts the nums array, which takes O(n log n) time complexity. However, since we are only interested in the maximum product, the sorting step can be considered as O(n) in this case. Therefore, the overall time complexity is O(n log n) or simply O(n).\n",
    "\n",
    "Space Complexity:\n",
    "The algorithm uses a constant amount of extra space for variables. Hence, the space complexity is O(1), indicating that it requires constant space regardless of the size of the input array."
   ]
  },
  {
   "cell_type": "markdown",
   "id": "39dae3e1",
   "metadata": {},
   "source": [
    "__Question 6__\n",
    "\n",
    "Given an array of integers nums which is sorted in ascending order, and an integer target,\n",
    "write a function to search target in nums. If target exists, then return its index. Otherwise,\n",
    "return -1.\n",
    "\n",
    "You must write an algorithm with O(log n) runtime complexity"
   ]
  },
  {
   "cell_type": "markdown",
   "id": "ad00fad2",
   "metadata": {},
   "source": [
    "__Solution__\n",
    "\n",
    "\n",
    "To solve this problem with a runtime complexity of O(log n), we can use a binary search algorithm since the given array is sorted in ascending order. Here's an algorithm to search for a target in the sorted array:\n",
    "\n",
    "- Initialize two pointers, left and right, pointing to the start and end of the array, respectively.\n",
    "- While left is less than or equal to right, do:\n",
    "    - Compute the middle index as (left + right) // 2.\n",
    "    - If the value at the middle index is equal to the target, return the middle index.\n",
    "    - If the value at the middle index is greater than the target, update right to middle - 1.\n",
    "    - If the value at the middle index is less than the target, update left to middle + 1.\n",
    "- If the target is not found in the array, return -1.\n",
    "\n",
    "__Python_Code__"
   ]
  },
  {
   "cell_type": "code",
   "execution_count": 6,
   "id": "d1f1bc3d",
   "metadata": {},
   "outputs": [],
   "source": [
    "def search(nums, target):\n",
    "    left = 0\n",
    "    right = len(nums) - 1\n",
    "\n",
    "    while left <= right:\n",
    "        middle = (left + right) // 2\n",
    "\n",
    "        if nums[middle] == target:\n",
    "            return middle\n",
    "        elif nums[middle] < target:\n",
    "            left = middle + 1\n",
    "        else:\n",
    "            right = middle - 1\n",
    "\n",
    "    return -1\n"
   ]
  },
  {
   "cell_type": "markdown",
   "id": "0531340c",
   "metadata": {},
   "source": [
    "The binary search algorithm has a runtime complexity of O(log n) as it continuously divides the search space in half."
   ]
  },
  {
   "cell_type": "markdown",
   "id": "d28ff6d5",
   "metadata": {},
   "source": [
    "__Question 7__\n",
    "\n",
    "An array is monotonic if it is either monotone increasing or monotone decreasing.\n",
    "\n",
    "An array nums is monotone increasing if for all i <= j, nums[i] <= nums[j]. An array nums is\n",
    "monotone decreasing if for all i <= j, nums[i] >= nums[j].\n",
    "\n",
    "Given an integer array nums, return true if the given array is monotonic, or false otherwise."
   ]
  },
  {
   "cell_type": "markdown",
   "id": "32ad86c1",
   "metadata": {},
   "source": [
    "__Solution__\n",
    "\n",
    "To determine if an array is monotonic, we can compare adjacent elements to check if they are in non-decreasing or non-increasing order. Here's an algorithm to solve this problem:\n",
    "\n",
    "- Initialize two boolean variables, isIncreasing and isDecreasing, as True.\n",
    "- Iterate through each pair of adjacent elements nums[i] and nums[i+1] in the array:\n",
    "    - If nums[i] > nums[i+1], set isIncreasing to False since the array is not increasing.\n",
    "    - If nums[i] < nums[i+1], set isDecreasing to False since the array is not decreasing.\n",
    "- If either isIncreasing or isDecreasing is True, return True since the array is monotonic.\n",
    "- If both isIncreasing and isDecreasing are False, return False since the array is neither increasing nor decreasing"
   ]
  },
  {
   "cell_type": "code",
   "execution_count": 7,
   "id": "96c6c563",
   "metadata": {},
   "outputs": [],
   "source": [
    "def isMonotonic(nums):\n",
    "    isIncreasing = True\n",
    "    isDecreasing = True\n",
    "\n",
    "    for i in range(len(nums) - 1):\n",
    "        if nums[i] > nums[i+1]:\n",
    "            isIncreasing = False\n",
    "        if nums[i] < nums[i+1]:\n",
    "            isDecreasing = False\n",
    "\n",
    "    return isIncreasing or isDecreasing"
   ]
  },
  {
   "cell_type": "markdown",
   "id": "eb8a7063",
   "metadata": {},
   "source": [
    "The algorithm has a time complexity of O(n) since it iterates through the array once. The space complexity is O(1) since it uses only a constant amount of additional memory to store the boolean variables"
   ]
  },
  {
   "cell_type": "markdown",
   "id": "47dab1eb",
   "metadata": {},
   "source": [
    "__Question 8__\n",
    "\n",
    "You are given an integer array nums and an integer k.\n",
    "\n",
    "In one operation, you can choose any index i where 0 <= i < nums.length and change nums[i] to nums[i] + x where x is an integer from the range [-k, k]. You can apply this operation at most once for each index i.\n",
    "\n",
    "The score of nums is the difference between the maximum and minimum elements in nums.\n",
    "\n",
    "Return the minimum score of nums after applying the mentioned operation at most once for each index in it"
   ]
  },
  {
   "cell_type": "markdown",
   "id": "b6e93c72",
   "metadata": {},
   "source": [
    "To find the minimum score of nums after applying the mentioned operation at most once for each index, we need to minimize the difference between the maximum and minimum elements in nums. Here's an algorithm to solve this problem:\n",
    "\n",
    "- Initialize minScore to a large value.\n",
    "- Iterate through each possible value of x from -k to k:\n",
    "- Create a copy of nums called modifiedNums.\n",
    "- Iterate through each index i in the range 0 to nums.length:\n",
    "- Add x to modifiedNums[i].\n",
    "- Calculate the score of modifiedNums as the difference between the maximum and minimum elements.\n",
    "- Update minScore with the minimum value between minScore and the calculated score.\n",
    "- Return minScore"
   ]
  },
  {
   "cell_type": "code",
   "execution_count": 8,
   "id": "d7cf1f84",
   "metadata": {},
   "outputs": [],
   "source": [
    "def minimumScore(nums, k):\n",
    "    minScore = float('inf')\n",
    "\n",
    "    for x in range(-k, k + 1):\n",
    "        modifiedNums = list(nums)\n",
    "\n",
    "        for i in range(len(nums)):\n",
    "            modifiedNums[i] += x\n",
    "\n",
    "        score = max(modifiedNums) - min(modifiedNums)\n",
    "        minScore = min(minScore, score)\n",
    "\n",
    "    return minScore"
   ]
  },
  {
   "cell_type": "markdown",
   "id": "4b881c8e",
   "metadata": {},
   "source": [
    "The algorithm has a time complexity of O(k * n) since we iterate through k possible values of x and for each value, we iterate through the array nums of length n. The space complexity is O(n) since we create a copy of nums for each iteration."
   ]
  },
  {
   "cell_type": "code",
   "execution_count": null,
   "id": "0b87256e",
   "metadata": {},
   "outputs": [],
   "source": []
  }
 ],
 "metadata": {
  "kernelspec": {
   "display_name": "Python 3 (ipykernel)",
   "language": "python",
   "name": "python3"
  },
  "language_info": {
   "codemirror_mode": {
    "name": "ipython",
    "version": 3
   },
   "file_extension": ".py",
   "mimetype": "text/x-python",
   "name": "python",
   "nbconvert_exporter": "python",
   "pygments_lexer": "ipython3",
   "version": "3.9.7"
  }
 },
 "nbformat": 4,
 "nbformat_minor": 5
}
