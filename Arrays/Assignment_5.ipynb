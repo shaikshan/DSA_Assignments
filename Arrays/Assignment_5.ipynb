{
 "cells": [
  {
   "cell_type": "markdown",
   "id": "5ba09fe4",
   "metadata": {},
   "source": [
    "\n",
    "💡 **Question 1**\n",
    "\n",
    "Convert 1D Array Into 2D Array\n",
    "\n",
    "You are given a **0-indexed** 1-dimensional (1D) integer array original, and two integers, m and n. You are tasked with creating a 2-dimensional (2D) array with  m rows and n columns using **all** the elements from original.\n",
    "\n",
    "The elements from indices 0 to n - 1 (**inclusive**) of original should form the first row of the constructed 2D array, the elements from indices n to 2 * n - 1 (**inclusive**) should form the second row of the constructed 2D array, and so on.\n",
    "\n",
    "Return *an* m x n *2D array constructed according to the above procedure, or an empty 2D array if it is impossible*.\n"
   ]
  },
  {
   "cell_type": "markdown",
   "id": "99a69aea",
   "metadata": {},
   "source": [
    "#### Solution\n",
    "\n",
    "\n",
    "To convert a 1D array original into a 2D array with m rows and n columns, we need to perform the following steps:\n",
    "\n",
    "- Check if it is possible to create an m x n 2D array using all elements from original. If m x n is not equal to the length of original, return an empty 2D array.\n",
    "- \n",
    "- Initialize an empty 2D array result with m rows and n columns.\n",
    "- \n",
    "- Iterate over the elements of original and distribute them into result row by row:\n",
    "- \n",
    "    - Calculate the row index row and column index col for each element based on the current index.\n",
    "    - Assign the element from original to the corresponding position in result[row][col].\n",
    "- Return the resulting 2D array result.\n",
    "\n",
    "#### Python Code"
   ]
  },
  {
   "cell_type": "code",
   "execution_count": 1,
   "id": "b0575245",
   "metadata": {},
   "outputs": [],
   "source": [
    "def convertTo2DArray(original, m, n):\n",
    "    if m * n != len(original):\n",
    "        return []\n",
    "    \n",
    "    result = [[0] * n for _ in range(m)]\n",
    "    \n",
    "    for i in range(len(original)):\n",
    "        row = i // n\n",
    "        col = i % n\n",
    "        result[row][col] = original[i]\n",
    "    \n",
    "    return result\n"
   ]
  },
  {
   "cell_type": "markdown",
   "id": "c9d75607",
   "metadata": {},
   "source": [
    "This algorithm has a time complexity of O(m * n) as we iterate over the elements of original and fill the 2D array result. The space complexity is also O(m * n) since we create a 2D array of that size to store the resulting array."
   ]
  },
  {
   "cell_type": "markdown",
   "id": "a930097c",
   "metadata": {},
   "source": [
    "\n",
    "💡 **Question 2**\n",
    "\n",
    "You have n coins and you want to build a staircase with these coins. The staircase consists of k rows where the ith row has exactly i coins. The last row of the staircase **may be** incomplete.\n",
    "\n",
    "Given the integer n, return *the number of **complete rows** of the staircase you will build*.\n"
   ]
  },
  {
   "cell_type": "markdown",
   "id": "0b9978ba",
   "metadata": {},
   "source": [
    "#### Solution\n",
    "\n",
    "To determine the number of complete rows in a staircase built using n coins, we can use a simple mathematical approach.\n",
    "\n",
    "The total number of coins required to build a complete staircase with k rows can be calculated using the formula for the sum of an arithmetic series: total = (k * (k + 1)) / 2.\n",
    "\n",
    "We can iterate from k = 1 and keep adding the number of coins required for each row until the total exceeds n. The value of k at that point will be the number of complete rows in the staircase.\n",
    "\n",
    "#### Python Code"
   ]
  },
  {
   "cell_type": "code",
   "execution_count": 2,
   "id": "8f4a2099",
   "metadata": {},
   "outputs": [],
   "source": [
    "def arrangeCoins(n):\n",
    "    k = 0  # Number of complete rows\n",
    "    total = 0  # Total coins required\n",
    "    \n",
    "    while total <= n:\n",
    "        k += 1\n",
    "        total = (k * (k + 1)) // 2\n",
    "    \n",
    "    return k - 1  # Subtract 1 to get the number of complete rows\n",
    "    \n"
   ]
  },
  {
   "cell_type": "markdown",
   "id": "3d90a76f",
   "metadata": {},
   "source": [
    "In the above example, with n = 8, we can build a staircase with 3 complete rows and have 2 coins remaining."
   ]
  },
  {
   "cell_type": "markdown",
   "id": "a3a889b6",
   "metadata": {},
   "source": [
    "\n",
    "💡 **Question 3**\n",
    "\n",
    "Given an integer array nums sorted in **non-decreasing** order, return *an array of **the squares of each number** sorted in non-decreasing order*.\n"
   ]
  },
  {
   "cell_type": "markdown",
   "id": "16ce59ce",
   "metadata": {},
   "source": [
    "#### Solution\n",
    "\n",
    "To obtain an array of the squares of each number in a sorted non-decreasing order, we can utilize a two-pointer approach.\n",
    "\n",
    "First, we initialize two pointers, left and right, pointing to the start and end of the input array nums, respectively. We also initialize a result array of the same size as nums to store the squared values.\n",
    "\n",
    "We compare the absolute values of nums[left] and nums[right]. If the absolute value of nums[left] is greater than or equal to the absolute value of nums[right], we square nums[left] and store it in the result array at index right - left. Otherwise, we square nums[right] and store it in the result array at index right - left.\n",
    "\n",
    "We then adjust the pointers based on the comparison result. If nums[left] was used, we increment left by 1; otherwise, we decrement right by 1. We repeat this process until left becomes greater than right.\n",
    "\n",
    "Finally, we return the result array, which contains the squares of the numbers in non-decreasing order.\n",
    "#### Python Code"
   ]
  },
  {
   "cell_type": "code",
   "execution_count": 3,
   "id": "d06f7432",
   "metadata": {},
   "outputs": [],
   "source": [
    "def sortedSquares(nums):\n",
    "    n = len(nums)\n",
    "    result = [0] * n\n",
    "    left = 0\n",
    "    right = n - 1\n",
    "    \n",
    "    for i in range(n - 1, -1, -1):\n",
    "        if abs(nums[left]) >= abs(nums[right]):\n",
    "            result[i] = nums[left] ** 2\n",
    "            left += 1\n",
    "        else:\n",
    "            result[i] = nums[right] ** 2\n",
    "            right -= 1\n",
    "    \n",
    "    return result\n"
   ]
  },
  {
   "cell_type": "markdown",
   "id": "153ecf28",
   "metadata": {},
   "source": [
    "In the above example, the input array nums is [-4, -2, 0, 2, 4]. The resulting array after squaring each number and sorting it in non-decreasing order is [0, 4, 4, 16, 16]."
   ]
  },
  {
   "cell_type": "markdown",
   "id": "f6d0aa21",
   "metadata": {},
   "source": [
    "\n",
    "💡 **Question 4**\n",
    "\n",
    "Given two **0-indexed** integer arrays nums1 and nums2, return *a list* answer *of size* 2 *where:*\n",
    "\n",
    "- answer[0] *is a list of all **distinct** integers in* nums1 *which are **not** present in* nums2*.*\n",
    "- answer[1] *is a list of all **distinct** integers in* nums2 *which are **not** present in* nums1.\n",
    "\n",
    "**Note** that the integers in the lists may be returned in **any** order.\n",
    "\n"
   ]
  },
  {
   "cell_type": "markdown",
   "id": "fba1da4c",
   "metadata": {},
   "source": [
    "#### Solution\n",
    "\n",
    "To find the distinct integers that are present in nums1 but not in nums2, and vice versa, we can use sets to efficiently perform the set difference operation.\n",
    "\n",
    "Here's the step-by-step approach:\n",
    "\n",
    "- Convert nums1 and nums2 into sets to remove duplicates and enable efficient set operations.\n",
    "- Find the set difference between nums1 and nums2 to get the distinct integers in nums1 that are not present in nums2. Store the result in a variable diff1.\n",
    "- Find the set difference between nums2 and nums1 to get the distinct integers in nums2 that are not present in nums1. Store the result in a variable diff2.\n",
    "- Convert diff1 and diff2 back into lists.\n",
    "- Return the list [diff1, diff2] as the result.\n",
    "\n",
    "#### Python Code"
   ]
  },
  {
   "cell_type": "code",
   "execution_count": 4,
   "id": "25be0728",
   "metadata": {},
   "outputs": [],
   "source": [
    "def findDisappearedNumbers(nums1, nums2):\n",
    "    set1 = set(nums1)\n",
    "    set2 = set(nums2)\n",
    "    \n",
    "    diff1 = list(set1 - set2)\n",
    "    diff2 = list(set2 - set1)\n",
    "    \n",
    "    return [diff1, diff2]"
   ]
  },
  {
   "cell_type": "markdown",
   "id": "0c37a604",
   "metadata": {},
   "source": [
    "In the above example, the input arrays are nums1 = [1, 2, 2, 3, 4] and nums2 = [2, 3, 5]. The distinct integers in nums1 that are not present in nums2 are [1, 4], and the distinct integers in nums2 that are not present in nums1 is [5]. The returned result is [[1, 4], [5]]"
   ]
  },
  {
   "cell_type": "markdown",
   "id": "6151cbb3",
   "metadata": {},
   "source": [
    "**Question 5**\n",
    "\n",
    "Given two integer arrays arr1 and arr2, and the integer d, *return the distance value between the two arrays*.\n",
    "\n",
    "The distance value is defined as the number of elements arr1[i] such that there is not any element arr2[j] where |arr1[i]-arr2[j]| <= d."
   ]
  },
  {
   "cell_type": "markdown",
   "id": "8828645d",
   "metadata": {},
   "source": [
    "#### Solution\n",
    "\n",
    "\n",
    "To find the distance value between two arrays arr1 and arr2, we can iterate through each element of arr1 and check if there is any element in arr2 that satisfies the condition |arr1[i] - arr2[j]| <= d. If there is no such element, we increment a counter.\n",
    "\n",
    "Here's the step-by-step approach:\n",
    "\n",
    "- Initialize a variable distance to 0.\n",
    "- Iterate through each element num1 in arr1.\n",
    "- For each num1, iterate through each element num2 in arr2.\n",
    "- Check the condition |num1 - num2| <= d. If the condition is satisfied, break the inner loop.\n",
    "- If the inner loop completes without finding a matching element, increment the distance counter by 1.\n",
    "- After iterating through all elements in arr1, return the value of distance as the result.\n",
    "\n",
    "#### Python Code"
   ]
  },
  {
   "cell_type": "code",
   "execution_count": 5,
   "id": "0e38ce25",
   "metadata": {},
   "outputs": [],
   "source": [
    "def findDistanceValue(arr1, arr2, d):\n",
    "    distance = 0\n",
    "    \n",
    "    for num1 in arr1:\n",
    "        for num2 in arr2:\n",
    "            if abs(num1 - num2) <= d:\n",
    "                break\n",
    "        else:\n",
    "            distance += 1\n",
    "    \n",
    "    return distance"
   ]
  },
  {
   "cell_type": "markdown",
   "id": "98c7e292",
   "metadata": {},
   "source": [
    "In the above example, the input arrays are arr1 = [4, 5, 8], arr2 = [10, 9, 1, 8], and d = 2. We iterate through each element of arr1 and check if there is any element in arr2 that satisfies the condition |arr1[i] - arr2[j]| <= d. In this case, only the element 4 does not have a matching element in arr2 within the given distance. Therefore, the distance value is 2."
   ]
  },
  {
   "cell_type": "markdown",
   "id": "b2fd66e5",
   "metadata": {},
   "source": [
    "💡 **Question 6**\n",
    "\n",
    "Given an integer array nums of length n where all the integers of nums are in the range [1, n] and each integer appears **once** or **twice**, return *an array of all the integers that appears **twice***.\n",
    "\n",
    "You must write an algorithm that runs in O(n) time and uses only constant extra space.\"|\n",
    "\n"
   ]
  },
  {
   "cell_type": "markdown",
   "id": "82120552",
   "metadata": {},
   "source": [
    "#### Solution\n",
    "\n",
    "\n",
    "To find all the integers that appear twice in the given array nums, we can utilize the fact that all the integers in nums are in the range [1, n]. We can use the array itself as a hash table to keep track of the count of each integer.\n",
    "\n",
    "Here's the algorithm:\n",
    "\n",
    "- Initialize an empty result array to store the integers that appear twice.\n",
    "- Iterate through each element num in nums.\n",
    "- Calculate the index as abs(num) - 1.\n",
    "- If nums[index] is positive, it means we haven't seen this number before, so we mark it as visited by negating its value (nums[index] *= -1).\n",
    "- If nums[index] is negative, it means we have seen this number before, so we add abs(num) to the result array.\n",
    "- After iterating through all elements, return the result array.\n",
    "\n",
    "#### Python Code"
   ]
  },
  {
   "cell_type": "code",
   "execution_count": 6,
   "id": "7d75c3b3",
   "metadata": {},
   "outputs": [],
   "source": [
    "def findDuplicates(nums):\n",
    "    result = []\n",
    "    for num in nums:\n",
    "        index = abs(num) - 1\n",
    "        if nums[index] > 0:\n",
    "            nums[index] *= -1\n",
    "        else:\n",
    "            result.append(abs(num))\n",
    "    return result\n"
   ]
  },
  {
   "cell_type": "markdown",
   "id": "f215061c",
   "metadata": {},
   "source": [
    "This algorithm works in O(n) time complexity since we iterate through the array once, and it uses only constant extra space."
   ]
  },
  {
   "cell_type": "markdown",
   "id": "8334e8cb",
   "metadata": {},
   "source": [
    "\n",
    "💡 **Question 7**\n",
    "\n",
    "Suppose an array of length n sorted in ascending order is **rotated** between 1 and n times. For example, the array nums = [0,1,2,4,5,6,7] might become:\n",
    "\n",
    "- [4,5,6,7,0,1,2] if it was rotated 4 times.\n",
    "- [0,1,2,4,5,6,7] if it was rotated 7 times.\n",
    "\n",
    "Notice that **rotating** an array [a[0], a[1], a[2], ..., a[n-1]] 1 time results in the array [a[n-1], a[0], a[1], a[2], ..., a[n-2]].\n",
    "\n",
    "Given the sorted rotated array nums of **unique** elements, return *the minimum element of this array*.\n",
    "\n",
    "You must write an algorithm that runs in O(log n) time.\n"
   ]
  },
  {
   "cell_type": "markdown",
   "id": "a27c4b1c",
   "metadata": {},
   "source": [
    "#### Solution\n",
    "\n",
    "To find the minimum element in a sorted rotated array with unique elements, we can use a modified version of binary search.\n",
    "\n",
    "Here's the algorithm:\n",
    "\n",
    "- Initialize two pointers, left and right, to the start and end indices of the array.\n",
    "- While left is less than right, perform the following steps:\n",
    "    - Calculate the middle index as mid using the formula: mid = left + (right - left) // 2.\n",
    "    - If nums[mid] is greater than nums[right], it means the minimum element lies in the right half of the array. So, update left = mid + 1.\n",
    "    - Otherwise, the minimum element lies in the left half of the array. So, update right = mid.\n",
    "- Return the element at index left, which will be the minimum element.\n",
    "\n",
    "#### Python Code"
   ]
  },
  {
   "cell_type": "code",
   "execution_count": 7,
   "id": "44ffaa8f",
   "metadata": {},
   "outputs": [],
   "source": [
    "def findMin(nums):\n",
    "    left = 0\n",
    "    right = len(nums) - 1\n",
    "\n",
    "    while left < right:\n",
    "        mid = left + (right - left) // 2\n",
    "\n",
    "        if nums[mid] > nums[right]:\n",
    "            left = mid + 1\n",
    "        else:\n",
    "            right = mid\n",
    "\n",
    "    return nums[left]\n"
   ]
  },
  {
   "cell_type": "markdown",
   "id": "e6bf7d8d",
   "metadata": {},
   "source": [
    "This algorithm works in O(log n) time complexity since we perform binary search on the array."
   ]
  },
  {
   "cell_type": "markdown",
   "id": "143dd1f3",
   "metadata": {},
   "source": [
    "\n",
    "💡 **Question 8**\n",
    "\n",
    "An integer array original is transformed into a **doubled** array changed by appending **twice the value** of every element in original, and then randomly **shuffling** the resulting array.\n",
    "\n",
    "Given an array changed, return original *if* changed *is a **doubled** array. If* changed *is not a **doubled** array, return an empty array. The elements in* original *may be returned in **any** order*.\n",
    "\n"
   ]
  },
  {
   "cell_type": "markdown",
   "id": "0a2b6a8d",
   "metadata": {},
   "source": [
    "#### Solution\n",
    "\n",
    "\n",
    "To determine if an array changed is a doubled array and retrieve the original array, we can follow the following steps:\n",
    "\n",
    "- Sort the array changed in ascending order.\n",
    "- Initialize an empty array called original.\n",
    "- Iterate through each element num in the sorted changed array.\n",
    "    - Check if num/2 exists in original.\n",
    "    - If it does, remove num/2 from original.\n",
    "    - If it doesn't, return an empty array since changed is not a doubled array.\n",
    "- Append num/2 to original.\n",
    "- If all elements in changed are processed successfully, return original as the original array.\n",
    "\n",
    "#### Python Code"
   ]
  },
  {
   "cell_type": "code",
   "execution_count": 8,
   "id": "42a6860d",
   "metadata": {},
   "outputs": [],
   "source": [
    "def findOriginalArray(changed):\n",
    "    if len(changed) % 2 != 0:\n",
    "        return []\n",
    "\n",
    "    changed.sort()\n",
    "    original = []\n",
    "\n",
    "    for num in changed:\n",
    "        if num / 2 in original:\n",
    "            original.remove(num / 2)\n",
    "        else:\n",
    "            return []\n",
    "\n",
    "        original.append(num / 2)\n",
    "\n",
    "    return original\n"
   ]
  },
  {
   "cell_type": "markdown",
   "id": "38e90587",
   "metadata": {},
   "source": [
    "\n",
    "The time complexity of the findOriginalArray function is O(n log n), where n is the length of the changed array. This is because the function involves sorting the changed array, which has a time complexity of O(n log n) in the worst case.\n",
    "\n",
    "The space complexity of the function is O(n), where n is the length of the changed array. This is because we create an additional array original to store the original elements, which can have a maximum size of n/2 (half the size of changed) in the worst case. Therefore, the space complexity is proportional to the input size."
   ]
  },
  {
   "cell_type": "code",
   "execution_count": null,
   "id": "b9916670",
   "metadata": {},
   "outputs": [],
   "source": []
  }
 ],
 "metadata": {
  "kernelspec": {
   "display_name": "Python 3 (ipykernel)",
   "language": "python",
   "name": "python3"
  },
  "language_info": {
   "codemirror_mode": {
    "name": "ipython",
    "version": 3
   },
   "file_extension": ".py",
   "mimetype": "text/x-python",
   "name": "python",
   "nbconvert_exporter": "python",
   "pygments_lexer": "ipython3",
   "version": "3.9.7"
  }
 },
 "nbformat": 4,
 "nbformat_minor": 5
}
