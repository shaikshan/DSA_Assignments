{
 "cells": [
  {
   "cell_type": "markdown",
   "id": "896b1a38",
   "metadata": {},
   "source": [
    "💡 **Question 1**\n",
    "\n",
    "A permutation perm of n + 1 integers of all the integers in the range [0, n] can be represented as a string s of length n where:\n",
    "\n",
    "- s[i] == 'I' if perm[i] < perm[i + 1], and\n",
    "- s[i] == 'D' if perm[i] > perm[i + 1].\n",
    "\n",
    "Given a string s, reconstruct the permutation perm and return it. If there are multiple valid permutations perm, return **any of them**.\n",
    "\n"
   ]
  },
  {
   "cell_type": "markdown",
   "id": "66f7914a",
   "metadata": {},
   "source": [
    "#### Solution\n",
    "\n",
    "To reconstruct the permutation perm from the given string s, we can follow the following algorithm:\n",
    "\n",
    "- Initialize an empty list perm to store the reconstructed permutation.\n",
    "- Initialize two variables low and high to track the current lowest and highest values available for insertion.\n",
    "- Iterate through each character ch in the string s:\n",
    "    - If ch is 'I':\n",
    "        - Append low to perm.\n",
    "        - Increment low by 1.\n",
    "    - If ch is 'D':\n",
    "        - Append high to perm.\n",
    "        - Decrement high by 1.\n",
    "- Append either low or high to perm as the last remaining element.\n",
    "- Return the reconstructed permutation perm.\n",
    "\n",
    "### Python Code"
   ]
  },
  {
   "cell_type": "code",
   "execution_count": 1,
   "id": "80642246",
   "metadata": {},
   "outputs": [],
   "source": [
    "def reconstructPermutation(s):\n",
    "    n = len(s)\n",
    "    perm = []\n",
    "    low = 0\n",
    "    high = n\n",
    "    \n",
    "    for ch in s:\n",
    "        if ch == 'I':\n",
    "            perm.append(low)\n",
    "            low += 1\n",
    "        elif ch == 'D':\n",
    "            perm.append(high)\n",
    "            high -= 1\n",
    "    \n",
    "    perm.append(low)  # Append either low or high as the last remaining element\n",
    "    \n",
    "    return perm\n"
   ]
  },
  {
   "cell_type": "markdown",
   "id": "6aed4f86",
   "metadata": {},
   "source": [
    "The time complexity of this algorithm is O(n), where n is the length of the string s, as we iterate through each character once. The space complexity is O(1) since we only use a constant amount of additional space to store the reconstructed permutation."
   ]
  },
  {
   "cell_type": "markdown",
   "id": "292a8869",
   "metadata": {},
   "source": [
    "\n",
    "💡 **Question 2**\n",
    "\n",
    "You are given an m x n integer matrix matrix with the following two properties:\n",
    "\n",
    "- Each row is sorted in non-decreasing order.\n",
    "- The first integer of each row is greater than the last integer of the previous row.\n",
    "\n",
    "Given an integer target, return true *if* target *is in* matrix *or* false *otherwise*.\n",
    "\n",
    "You must write a solution in O(log(m * n)) time complexity.\n"
   ]
  },
  {
   "cell_type": "markdown",
   "id": "a23752eb",
   "metadata": {},
   "source": [
    "#### Solution\n",
    "\n",
    "Given an m x n integer matrix matrix and an integer target, we can use a binary search approach to check if the target is present in the matrix.\n",
    "\n",
    "The idea is to consider the matrix as a flattened sorted array and perform a binary search on it. We can convert the 2D indices to 1D indices to access elements in the matrix.\n",
    "\n",
    "### Python Code"
   ]
  },
  {
   "cell_type": "code",
   "execution_count": 2,
   "id": "360c381e",
   "metadata": {},
   "outputs": [],
   "source": [
    "def searchMatrix(matrix, target):\n",
    "    if not matrix or not matrix[0]:\n",
    "        return False\n",
    "\n",
    "    rows = len(matrix)\n",
    "    cols = len(matrix[0])\n",
    "    \n",
    "    left = 0\n",
    "    right = rows * cols - 1\n",
    "    \n",
    "    while left <= right:\n",
    "        mid = left + (right - left) // 2\n",
    "        num = matrix[mid // cols][mid % cols]\n",
    "        \n",
    "        if num == target:\n",
    "            return True\n",
    "        elif num < target:\n",
    "            left = mid + 1\n",
    "        else:\n",
    "            right = mid - 1\n",
    "    \n",
    "    return False\n"
   ]
  },
  {
   "cell_type": "markdown",
   "id": "fdd9a01f",
   "metadata": {},
   "source": [
    "\n",
    "💡 **Question 3**\n",
    "\n",
    "Given an array of integers arr, return *true if and only if it is a valid mountain array*.\n",
    "\n",
    "Recall that arr is a mountain array if and only if:\n",
    "\n",
    "- arr.length >= 3\n",
    "- There exists some i with 0 < i < arr.length - 1 such that:\n",
    "    - arr[0] < arr[1] < ... < arr[i - 1] < arr[i]\n",
    "    - arr[i] > arr[i + 1] > ... > arr[arr.length - 1]\n"
   ]
  },
  {
   "cell_type": "markdown",
   "id": "257270de",
   "metadata": {},
   "source": [
    "#### Solution\n",
    "\n",
    "A mountain array is defined as an array that starts with increasing elements, reaches a peak element, and then has decreasing elements. To check if an array is a valid mountain array, we need to find a peak element such that all elements before it are in increasing order and all elements after it are in decreasing order.\n",
    "\n",
    "### Python Code"
   ]
  },
  {
   "cell_type": "code",
   "execution_count": 3,
   "id": "00cf83bd",
   "metadata": {},
   "outputs": [],
   "source": [
    "def validMountainArray(arr):\n",
    "    n = len(arr)\n",
    "    if n < 3:\n",
    "        return False\n",
    "    \n",
    "    i = 0\n",
    "    while i < n-1 and arr[i] < arr[i+1]:\n",
    "        i += 1\n",
    "    \n",
    "    if i == 0 or i == n-1:\n",
    "        return False\n",
    "    \n",
    "    while i < n-1 and arr[i] > arr[i+1]:\n",
    "        i += 1\n",
    "    \n",
    "    return i == n-1\n"
   ]
  },
  {
   "cell_type": "markdown",
   "id": "4fe5f247",
   "metadata": {},
   "source": [
    "#### Complexity Analysis:\n",
    "\n",
    "The time complexity of this solution is O(n), where n is the length of the array arr. This is because we iterate through the array at most twice.\n",
    "The space complexity is O(1) as we are using only a constant amount of extra space."
   ]
  },
  {
   "cell_type": "markdown",
   "id": "17c429ab",
   "metadata": {},
   "source": [
    "\n",
    "💡 **Question 4**\n",
    "\n",
    "Given a binary array nums, return *the maximum length of a contiguous subarray with an equal number of* 0 *and* 1.\n"
   ]
  },
  {
   "cell_type": "markdown",
   "id": "164746a6",
   "metadata": {},
   "source": [
    "#### Solution\n",
    "\n",
    "- Initialize a count variable to 0 and a max_length variable to 0.\n",
    "- Create an empty HashMap called count_map.\n",
    "- Add an initial entry to the count_map with key 0 and value -1 (to handle the case when the equal number of 0s and 1s starts from the beginning of the array).\n",
    "- Iterate through the elements of the input array nums using a for loop:\n",
    "    - If the current element is 1, increment the count by 1.\n",
    "    - If the current element is 0, decrement the count by 1.\n",
    "    - Check if the count exists in the count_map:\n",
    "        - If it exists, calculate the length of the subarray from the last occurrence of the count to the current index, and update the max_length if necessary.\n",
    "        - If it doesn't exist, add a new entry to the count_map with the count as the key and the current index as the value.\n",
    "- Return the max_length.\n",
    "\n",
    "### Python Code"
   ]
  },
  {
   "cell_type": "code",
   "execution_count": 4,
   "id": "f6a52bb7",
   "metadata": {},
   "outputs": [],
   "source": [
    "def findMaxLength(nums):\n",
    "    count = 0\n",
    "    max_length = 0\n",
    "    count_map = {0: -1}\n",
    "\n",
    "    for i in range(len(nums)):\n",
    "        if nums[i] == 1:\n",
    "            count += 1\n",
    "        else:\n",
    "            count -= 1\n",
    "\n",
    "        if count in count_map:\n",
    "            max_length = max(max_length, i - count_map[count])\n",
    "        else:\n",
    "            count_map[count] = i\n",
    "\n",
    "    return max_length\n"
   ]
  },
  {
   "cell_type": "markdown",
   "id": "3b09c75c",
   "metadata": {},
   "source": [
    "Time complexity: O(n), where n is the length of the input array nums.\n",
    "Space complexity: O(n), as we use a HashMap to store the count and its corresponding index."
   ]
  },
  {
   "cell_type": "markdown",
   "id": "d7ba4a34",
   "metadata": {},
   "source": [
    "\n",
    "💡 **Question 5**\n",
    "\n",
    "The **product sum** of two equal-length arrays a and b is equal to the sum of a[i] * b[i] for all 0 <= i < a.length (**0-indexed**).\n",
    "\n",
    "- For example, if a = [1,2,3,4] and b = [5,2,3,1], the **product sum** would be 1*5 + 2*2 + 3*3 + 4*1 = 22.\n",
    "\n",
    "Given two arrays nums1 and nums2 of length n, return *the **minimum product sum** if you are allowed to **rearrange** the **order** of the elements in* nums1\n",
    "\n"
   ]
  },
  {
   "cell_type": "markdown",
   "id": "f1e75d8d",
   "metadata": {},
   "source": [
    "#### Solution\n",
    "\n",
    "To find the minimum product sum, we need to pair the smallest elements of nums1 with the largest elements of nums2. Rearranging the elements in nums1 allows us to achieve this.\n",
    "\n",
    "- Sort nums1 in non-decreasing order.\n",
    "- Sort nums2 in non-increasing order.\n",
    "- Initialize a variable min_product_sum to 0.\n",
    "- Iterate through the elements of nums1 and nums2 simultaneously using a for loop:\n",
    "    - Multiply the current element of nums1 with the corresponding element of nums2.\n",
    "    - Add the result to min_product_sum.\n",
    "- Return min_product_sum as the result.\n",
    "\n",
    "### Python Code"
   ]
  },
  {
   "cell_type": "code",
   "execution_count": 5,
   "id": "f660b4d1",
   "metadata": {},
   "outputs": [],
   "source": [
    "def minProductSum(nums1, nums2):\n",
    "    nums1.sort()\n",
    "    nums2.sort(reverse=True)\n",
    "    \n",
    "    min_product_sum = 0\n",
    "    for i in range(len(nums1)):\n",
    "        min_product_sum += nums1[i] * nums2[i]\n",
    "    \n",
    "    return min_product_sum\n"
   ]
  },
  {
   "cell_type": "markdown",
   "id": "666a1baf",
   "metadata": {},
   "source": [
    "Time complexity: O(n log n), where n is the length of the input arrays nums1 and nums2 due to the sorting operation.\n",
    "Space complexity: O(1), as we are not using any extra space proportional to the input size."
   ]
  },
  {
   "cell_type": "markdown",
   "id": "aad57a91",
   "metadata": {},
   "source": [
    "\n",
    "💡 **Question 6**\n",
    "\n",
    "An integer array original is transformed into a **doubled** array changed by appending **twice the value** of every element in original, and then randomly **shuffling** the resulting array.\n",
    "\n",
    "Given an array changed, return original *if* changed *is a **doubled** array. If* changed *is not a **doubled** array, return an empty array. The elements in* original *may be returned in **any** order*.\n"
   ]
  },
  {
   "cell_type": "markdown",
   "id": "6d71bb4e",
   "metadata": {},
   "source": [
    "#### Solution\n",
    "\n",
    "Given an array changed, we need to determine if it is a doubled array. A doubled array is obtained by:\n",
    "\n",
    "- Appending twice the value of every element in an original array.\n",
    "- Randomly shuffling the resulting array.\n",
    "- We need to find the original array and return it if it exists, or an empty array otherwise.\n",
    "\n",
    "### Python Code"
   ]
  },
  {
   "cell_type": "code",
   "execution_count": 6,
   "id": "b0b70606",
   "metadata": {},
   "outputs": [],
   "source": [
    "def findOriginalArray(changed):\n",
    "    # Check if the length of the array is odd\n",
    "    # If it is, return an empty array\n",
    "    if len(changed) % 2 != 0:\n",
    "        return []\n",
    "    \n",
    "    # Create a dictionary to count the occurrences of each element\n",
    "    count = {}\n",
    "    original = []\n",
    "    \n",
    "    # Count the occurrences of each element in the changed array\n",
    "    for num in changed:\n",
    "        if num in count:\n",
    "            count[num] += 1\n",
    "        else:\n",
    "            count[num] = 1\n",
    "    \n",
    "    # Sort the changed array\n",
    "    sorted_nums = sorted(changed)\n",
    "    \n",
    "    # Iterate over the sorted array\n",
    "    for num in sorted_nums:\n",
    "        # If the current number has already been used, skip it\n",
    "        if count[num] == 0:\n",
    "            continue\n",
    "        \n",
    "        # If the double of the current number is also present and not used,\n",
    "        # add the current number to the original array and decrement the counts\n",
    "        if 2 * num in count and count[2 * num] > 0:\n",
    "            original.append(num)\n",
    "            count[num] -= 1\n",
    "            count[2 * num] -= 1\n",
    "        else:\n",
    "            # If the double of the current number is not found or already used,\n",
    "            # return an empty array\n",
    "            return []\n",
    "    \n",
    "    return original\n"
   ]
  },
  {
   "cell_type": "markdown",
   "id": "5ae8438b",
   "metadata": {},
   "source": [
    "⏰ Time Complexity: The time complexity of this code is O(n log n) due to the sorting operation, where n is the length of the input array changed.\n",
    "\n",
    "💾 Space Complexity: The space complexity is O(n), where n is the length of the input array changed. This is because we use a dictionary to store the counts of each element in changed, which can have at most n unique elements."
   ]
  },
  {
   "cell_type": "markdown",
   "id": "e6609596",
   "metadata": {},
   "source": [
    "\n",
    "💡 **Question 7**\n",
    "\n",
    "Given a positive integer n, generate an n x n matrix filled with elements from 1 to n2 in spiral order.\n"
   ]
  },
  {
   "cell_type": "markdown",
   "id": "557ecb7b",
   "metadata": {},
   "source": [
    "#### Solution\n",
    "\n",
    "Given a positive integer n, we need to generate an n x n matrix filled with elements in a spiral order. The spiral order starts from the top-left corner and moves in a clockwise direction, filling the matrix with elements from 1 to n^2.\n",
    "\n",
    "\n",
    "### Python Code"
   ]
  },
  {
   "cell_type": "code",
   "execution_count": 7,
   "id": "cbc0e0c5",
   "metadata": {},
   "outputs": [],
   "source": [
    "def generateMatrix(n):\n",
    "    # Initialize the matrix with zeros\n",
    "    matrix = [[0] * n for _ in range(n)]\n",
    "    \n",
    "    # Define the boundaries of the matrix\n",
    "    top = 0\n",
    "    bottom = n - 1\n",
    "    left = 0\n",
    "    right = n - 1\n",
    "    \n",
    "    # Initialize the current value to be filled\n",
    "    num = 1\n",
    "    \n",
    "    while num <= n * n:\n",
    "        # Fill the top row from left to right\n",
    "        for i in range(left, right + 1):\n",
    "            matrix[top][i] = num\n",
    "            num += 1\n",
    "        top += 1\n",
    "        \n",
    "        # Fill the right column from top to bottom\n",
    "        for i in range(top, bottom + 1):\n",
    "            matrix[i][right] = num\n",
    "            num += 1\n",
    "        right -= 1\n",
    "        \n",
    "        # Fill the bottom row from right to left\n",
    "        for i in range(right, left - 1, -1):\n",
    "            matrix[bottom][i] = num\n",
    "            num += 1\n",
    "        bottom -= 1\n",
    "        \n",
    "        # Fill the left column from bottom to top\n",
    "        for i in range(bottom, top - 1, -1):\n",
    "            matrix[i][left] = num\n",
    "            num += 1\n",
    "        left += 1\n",
    "    \n",
    "    return matrix\n"
   ]
  },
  {
   "cell_type": "markdown",
   "id": "996299ee",
   "metadata": {},
   "source": [
    "⏰ Time Complexity: The time complexity of this code is O(n^2) since we fill all n^2 elements in the matrix.\n",
    "\n",
    "💾 Space Complexity: The space complexity is O(n^2) since we create an n x n matrix to store the elements."
   ]
  },
  {
   "cell_type": "markdown",
   "id": "f098c6ea",
   "metadata": {},
   "source": [
    "\n",
    "💡 **Question 8**\n",
    "\n",
    "Given two [sparse matrices](https://en.wikipedia.org/wiki/Sparse_matrix) mat1 of size m x k and mat2 of size k x n, return the result of mat1 x mat2. You may assume that multiplication is always possible.\n",
    "\n"
   ]
  },
  {
   "cell_type": "markdown",
   "id": "ac2e76c2",
   "metadata": {},
   "source": [
    "#### Solution\n",
    "\n",
    "\n",
    "We are given two sparse matrices mat1 and mat2, and we need to compute their matrix multiplication mat1 x mat2. A sparse matrix is a matrix where most of the elements are zero. In the context of this problem, mat1 is an m x k matrix, and mat2 is a k x n matrix.\n",
    "\n",
    "The matrix multiplication mat1 x mat2 involves multiplying each element of mat1 with the corresponding element of mat2 and summing up the products to obtain the resulting matrix.\n",
    "### Python Code"
   ]
  },
  {
   "cell_type": "code",
   "execution_count": 8,
   "id": "fe9864be",
   "metadata": {},
   "outputs": [],
   "source": [
    "def multiply(mat1, mat2):\n",
    "    # Get the dimensions of the matrices\n",
    "    m, k = len(mat1), len(mat1[0])\n",
    "    k, n = len(mat2), len(mat2[0])\n",
    "    \n",
    "    # Initialize the resulting matrix with zeros\n",
    "    result = [[0] * n for _ in range(m)]\n",
    "    \n",
    "    # Perform matrix multiplication\n",
    "    for i in range(m):\n",
    "        for j in range(n):\n",
    "            for l in range(k):\n",
    "                result[i][j] += mat1[i][l] * mat2[l][j]\n",
    "    \n",
    "    return result\n"
   ]
  },
  {
   "cell_type": "markdown",
   "id": "879d8bd1",
   "metadata": {},
   "source": [
    "⏰ Time Complexity: The time complexity of this code is O(m * k * n), where m, k, and n are the dimensions of the matrices.\n",
    "\n",
    "💾 Space Complexity: The space complexity is O(m * n) since we create an m x n matrix to store the result."
   ]
  },
  {
   "cell_type": "code",
   "execution_count": null,
   "id": "f3e5d1c2",
   "metadata": {},
   "outputs": [],
   "source": []
  }
 ],
 "metadata": {
  "kernelspec": {
   "display_name": "Python 3 (ipykernel)",
   "language": "python",
   "name": "python3"
  },
  "language_info": {
   "codemirror_mode": {
    "name": "ipython",
    "version": 3
   },
   "file_extension": ".py",
   "mimetype": "text/x-python",
   "name": "python",
   "nbconvert_exporter": "python",
   "pygments_lexer": "ipython3",
   "version": "3.9.7"
  }
 },
 "nbformat": 4,
 "nbformat_minor": 5
}
