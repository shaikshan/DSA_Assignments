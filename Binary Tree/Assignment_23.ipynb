{
 "cells": [
  {
   "cell_type": "markdown",
   "id": "f6e2b129",
   "metadata": {},
   "source": [
    "💡 Question-1:\n",
    "\n",
    "Given preorder of a binary tree, calculate its **[depth(or height)](https://www.geeksforgeeks.org/write-a-c-program-to-find-the-maximum-depth-or-height-of-a-tree/)** [starting from depth 0]. The preorder is given as a string with two possible characters.\n",
    "\n",
    "1. ‘l’ denotes the leaf\n",
    "2. ‘n’ denotes internal node\n",
    "\n",
    "The given tree can be seen as a full binary tree where every node has 0 or two children. The two children of a node can ‘n’ or ‘l’ or mix of both."
   ]
  },
  {
   "cell_type": "markdown",
   "id": "ed1b7275",
   "metadata": {},
   "source": [
    "- Initialize a variable depth to 0 (representing the current depth) and a variable index to 0 (representing the current index in the preorder string).\n",
    "- If the index is out of bounds (beyond the length of the preorder string), return -1 to indicate an empty tree.\n",
    "- If the character at index in the preorder string is 'l', it represents a leaf node. Return the current depth.\n",
    "- If the character at index in the preorder string is 'n', it represents an internal node. Increment the depth by 1.\n",
    "- Recursively calculate the depth of the left subtree by calling the function with the updated index and depth values.\n",
    "- Recursively calculate the depth of the right subtree by calling the function with the updated index and depth values.\n",
    "- Return the maximum depth between the left and right subtrees."
   ]
  },
  {
   "cell_type": "code",
   "execution_count": 1,
   "id": "6a91bab4",
   "metadata": {},
   "outputs": [],
   "source": [
    "def calculate_depth(preorder):\n",
    "    def helper(preorder, index, depth):\n",
    "        if index >= len(preorder):\n",
    "            return -1  # Empty tree\n",
    "\n",
    "        if preorder[index] == 'l':\n",
    "            return depth\n",
    "\n",
    "        if preorder[index] == 'n':\n",
    "            depth += 1\n",
    "\n",
    "        left_depth = helper(preorder, index + 1, depth)\n",
    "        right_depth = helper(preorder, index + 1, depth)\n",
    "\n",
    "        return max(left_depth, right_depth)\n",
    "\n",
    "    return helper(preorder, 0, 0)"
   ]
  },
  {
   "cell_type": "markdown",
   "id": "6478b68b",
   "metadata": {},
   "source": [
    "- Time Complexity: The time complexity of the solution is O(n), where n is the number of nodes in the binary tree. Since we visit each node exactly once, the time complexity is linear with respect to the number of nodes.\n",
    "- \n",
    "- Space Complexity: The space complexity is O(h), where h is the height of the binary tree. The space is used for the recursive function call stack. In the worst case, the height of the binary tree can be equal to the number of nodes, resulting in O(n) space complexity. However, in a balanced binary tree, the height is logarithmic, resulting in O(log n) space complexity."
   ]
  },
  {
   "cell_type": "markdown",
   "id": "e50373d2",
   "metadata": {},
   "source": [
    "💡 Question-2:\n",
    "\n",
    "Given a Binary tree, the task is to print the **left view** of the Binary Tree. The left view of a Binary Tree is a set of leftmost nodes for every level."
   ]
  },
  {
   "cell_type": "markdown",
   "id": "ebd346ef",
   "metadata": {},
   "source": [
    "- Initialize an empty dictionary left_view_dict to store the leftmost nodes for each level of the binary tree.\n",
    "- Create a recursive helper function dfs(node, level) to traverse the binary tree in a depth-first manner.\n",
    "- In the dfs function:\n",
    "- Check if the current level is not already present in left_view_dict. If it's not present, add the current node to left_view_dict with the level as the key.\n",
    "- Recursively call dfs on the left child of the current node if it exists, with level + 1 as the new level.\n",
    "- Recursively call dfs on the right child of the current node if it exists, with level + 1 as the new level.\n",
    "- Call the dfs function starting from the root of the binary tree, with level = 0.\n",
    "- Traverse left_view_dict and print the leftmost node for each level, in ascending order of levels."
   ]
  },
  {
   "cell_type": "code",
   "execution_count": 2,
   "id": "f69489ff",
   "metadata": {},
   "outputs": [],
   "source": [
    "class Node:\n",
    "    def __init__(self, data):\n",
    "        self.data = data\n",
    "        self.left = None\n",
    "        self.right = None\n",
    "\n",
    "def print_left_view(root):\n",
    "    left_view_dict = {}\n",
    "\n",
    "    def dfs(node, level):\n",
    "        if level not in left_view_dict:\n",
    "            left_view_dict[level] = node.data\n",
    "\n",
    "        if node.left:\n",
    "            dfs(node.left, level + 1)\n",
    "\n",
    "        if node.right:\n",
    "            dfs(node.right, level + 1)\n",
    "\n",
    "    dfs(root, 0)\n",
    "\n",
    "    for level in sorted(left_view_dict):\n",
    "        print(left_view_dict[level])"
   ]
  },
  {
   "cell_type": "markdown",
   "id": "5a3e1053",
   "metadata": {},
   "source": [
    "- Time Complexity: The time complexity of the solution is O(n), where n is the number of nodes in the binary tree. Since we visit each node exactly once, the time complexity is linear with respect to the number of nodes.\n",
    "- \n",
    "- Space Complexity: The space complexity is O(h), where h is the height of the binary tree. The space is used for the recursive function call stack. In the worst case, the height of the binary tree can be equal to the number of nodes, resulting in O(n) space complexity. However, in a balanced binary tree, the height is logarithmic, resulting in O(log n) space complexity."
   ]
  },
  {
   "cell_type": "markdown",
   "id": "7d927864",
   "metadata": {},
   "source": [
    "💡 Question-3:\n",
    "\n",
    "Given a Binary Tree, print the Right view of it.\n",
    "\n",
    "The right view of a Binary Tree is a set of nodes visible when the tree is visited from the Right side."
   ]
  },
  {
   "cell_type": "markdown",
   "id": "6a7cc4e8",
   "metadata": {},
   "source": [
    "- Initialize an empty dictionary right_view_dict to store the rightmost nodes for each level of the binary tree.\n",
    "- Create a recursive helper function dfs(node, level) to traverse the binary tree in a depth-first manner.\n",
    "- In the dfs function:\n",
    "- Update right_view_dict[level] with the current node.data for every level. This will keep updating the rightmost node for each level as we traverse the tree from right to left.\n",
    "- Recursively call dfs on the right child of the current node if it exists, with level + 1 as the new level.\n",
    "- Recursively call dfs on the left child of the current node if it exists, with level + 1 as the new level.\n",
    "- Call the dfs function starting from the root of the binary tree, with level = 0.\n",
    "- Traverse right_view_dict and print the rightmost node for each level, in ascending order of levels."
   ]
  },
  {
   "cell_type": "code",
   "execution_count": 3,
   "id": "b1749b9d",
   "metadata": {},
   "outputs": [],
   "source": [
    "class Node:\n",
    "    def __init__(self, data):\n",
    "        self.data = data\n",
    "        self.left = None\n",
    "        self.right = None\n",
    "\n",
    "def print_right_view(root):\n",
    "    right_view_dict = {}\n",
    "\n",
    "    def dfs(node, level):\n",
    "        right_view_dict[level] = node.data\n",
    "\n",
    "        if node.right:\n",
    "            dfs(node.right, level + 1)\n",
    "\n",
    "        if node.left:\n",
    "            dfs(node.left, level + 1)\n",
    "\n",
    "    dfs(root, 0)\n",
    "\n",
    "    for level in sorted(right_view_dict):\n",
    "        print(right_view_dict[level])"
   ]
  },
  {
   "cell_type": "markdown",
   "id": "daffcc57",
   "metadata": {},
   "source": [
    "- Time Complexity: The time complexity of the solution is O(n), where n is the number of nodes in the binary tree. Since we visit each node exactly once, the time complexity is linear with respect to the number of nodes.\n",
    "\n",
    "- Space Complexity: The space complexity is O(h), where h is the height of the binary tree. The space is used for the recursive function call stack. In the worst case, the height of the binary tree can be equal to the number of nodes, resulting in O(n) space complexity. However, in a balanced binary tree, the height is logarithmic, resulting in O(log n) space complexity."
   ]
  },
  {
   "cell_type": "markdown",
   "id": "abc256fd",
   "metadata": {},
   "source": [
    "💡 Question-4:\n",
    "\n",
    "Given a Binary Tree, The task is to print the **bottom view** from left to right. A node **x** is there in output if x is the bottommost node at its horizontal distance. The horizontal distance of the left child of a node x is equal to a horizontal distance of x minus 1, and that of a right child is the horizontal distance of x plus 1.\n"
   ]
  },
  {
   "cell_type": "markdown",
   "id": "f141a775",
   "metadata": {},
   "source": [
    "- Create a dictionary bottom_view_dict to store the bottommost nodes for each horizontal distance.\n",
    "- Create a queue and initialize it with the root node and its horizontal distance, which is 0.\n",
    "- Perform a level order traversal using the queue until it becomes empty:\n",
    "- Remove the front node from the queue.\n",
    "- Update the bottom_view_dict with the current node's data for the corresponding horizontal distance.\n",
    "- If the current node has a left child, add it to the queue with a horizontal distance of the current node's horizontal distance minus 1.\n",
    "- If the current node has a right child, add it to the queue with a horizontal distance of the current node's horizontal distance plus 1.\n",
    "- Traverse the bottom_view_dict and print the nodes in ascending order of their horizontal distances."
   ]
  },
  {
   "cell_type": "code",
   "execution_count": 4,
   "id": "1fa6d40f",
   "metadata": {},
   "outputs": [],
   "source": [
    "from collections import deque\n",
    "\n",
    "class Node:\n",
    "    def __init__(self, data):\n",
    "        self.data = data\n",
    "        self.left = None\n",
    "        self.right = None\n",
    "\n",
    "def print_bottom_view(root):\n",
    "    if root is None:\n",
    "        return\n",
    "\n",
    "    bottom_view_dict = {}\n",
    "    queue = deque([(root, 0)])\n",
    "\n",
    "    while queue:\n",
    "        node, hd = queue.popleft()\n",
    "\n",
    "        bottom_view_dict[hd] = node.data\n",
    "\n",
    "        if node.left:\n",
    "            queue.append((node.left, hd - 1))\n",
    "\n",
    "        if node.right:\n",
    "            queue.append((node.right, hd + 1))\n",
    "\n",
    "    for hd in sorted(bottom_view_dict):\n",
    "        print(bottom_view_dict[hd])\n",
    "\n"
   ]
  },
  {
   "cell_type": "markdown",
   "id": "8faf697f",
   "metadata": {},
   "source": [
    "- Time Complexity: The time complexity of the solution is O(n), where n is the number of nodes in the binary tree. Since we visit each node exactly once, the time complexity is linear with respect to the number of nodes.\n",
    "\n",
    "- Space Complexity: The space complexity is O(w), where w is the maximum width of the binary tree. In the worst case, the maximum width of the tree can be equal to the number of nodes at the widest level. Therefore, the space complexity is linear with respect to the width of the tree."
   ]
  }
 ],
 "metadata": {
  "kernelspec": {
   "display_name": "Python 3 (ipykernel)",
   "language": "python",
   "name": "python3"
  },
  "language_info": {
   "codemirror_mode": {
    "name": "ipython",
    "version": 3
   },
   "file_extension": ".py",
   "mimetype": "text/x-python",
   "name": "python",
   "nbconvert_exporter": "python",
   "pygments_lexer": "ipython3",
   "version": "3.9.7"
  }
 },
 "nbformat": 4,
 "nbformat_minor": 5
}
