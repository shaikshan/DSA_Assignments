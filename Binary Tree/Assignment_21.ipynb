{
 "cells": [
  {
   "cell_type": "markdown",
   "id": "b85e49ab",
   "metadata": {},
   "source": [
    "💡 Question-1\n",
    "\n",
    "You are given a binary tree. The binary tree is represented using the TreeNode class. Each TreeNode has an integer value and left and right children, represented using the TreeNode class itself. Convert this binary tree into a binary search tree.\n",
    "\n",
    "Input:\n",
    "\n",
    "        10\n",
    "\n",
    "       /   \\\n",
    "\n",
    "     2      7\n",
    "\n",
    "   /   \\\n",
    "\n",
    " 8      4\n",
    "\n",
    "Output:\n",
    "\n",
    "        8\n",
    "\n",
    "      /   \\\n",
    "\n",
    "    4     10\n",
    "\n",
    "  /   \\\n",
    "\n",
    "2      7"
   ]
  },
  {
   "cell_type": "markdown",
   "id": "5e61c6f0",
   "metadata": {},
   "source": [
    "\n",
    "- To convert a binary tree into a binary search tree, you can follow these steps:\n",
    "- \n",
    "- Perform an in-order traversal of the binary tree to obtain a sorted list of its node values.\n",
    "- Create a new binary search tree.\n",
    "- Insert the values from the sorted list into the binary search tree, maintaining the binary search tree property."
   ]
  },
  {
   "cell_type": "code",
   "execution_count": 1,
   "id": "52386194",
   "metadata": {},
   "outputs": [],
   "source": [
    "class TreeNode:\n",
    "    def __init__(self, val=0, left=None, right=None):\n",
    "        self.val = val\n",
    "        self.left = left\n",
    "        self.right = right\n",
    "\n",
    "def inOrderTraversal(root, values):\n",
    "    if root is None:\n",
    "        return\n",
    "    \n",
    "    inOrderTraversal(root.left, values)\n",
    "    values.append(root.val)\n",
    "    inOrderTraversal(root.right, values)\n",
    "\n",
    "def createBST(values):\n",
    "    if not values:\n",
    "        return None\n",
    "    \n",
    "    mid = len(values) // 2\n",
    "    root = TreeNode(values[mid])\n",
    "    root.left = createBST(values[:mid])\n",
    "    root.right = createBST(values[mid+1:])\n",
    "    \n",
    "    return root\n",
    "\n",
    "def convertToBST(root):\n",
    "    values = []\n",
    "    inOrderTraversal(root, values)\n",
    "    \n",
    "    return createBST(values)\n"
   ]
  },
  {
   "cell_type": "markdown",
   "id": "3e0fb57d",
   "metadata": {},
   "source": [
    "- Time Complexity: The time complexity of this solution is O(n log n), where n is the number of nodes in the binary tree. This is because the in-order traversal takes O(n) time, and creating the binary search tree from the sorted list takes O(n log n) time due to the recursive nature of creating the left and right subtrees.\n",
    "- Space Complexity: The space complexity is O(n) because we use additional space to store the sorted list of node values during the in-order traversal and during the construction of the binary search tree."
   ]
  },
  {
   "cell_type": "markdown",
   "id": "9680e7d6",
   "metadata": {},
   "source": [
    "💡 Question-2:\n",
    "\n",
    "Given a Binary Search Tree with all unique values and two keys. Find the distance between two nodes in BST. The given keys always exist in BST."
   ]
  },
  {
   "cell_type": "markdown",
   "id": "8479216c",
   "metadata": {},
   "source": [
    "\n",
    "- To find the distance between two nodes in a Binary Search Tree (BST), you can follow these steps:\n",
    "- \n",
    "- Find the Lowest Common Ancestor (LCA) of the two nodes.\n",
    "- Start from the root node and compare it with both nodes.\n",
    "- If both nodes are less than the current node's value, move to the left subtree.\n",
    "- If both nodes are greater than the current node's value, move to the right subtree.\n",
    "- If one node is less than the current node's value and the other is greater, then the current node is the LCA.\n",
    "- Calculate the distances from the LCA to each of the given nodes.\n",
    "- Start from the LCA and count the number of edges traversed until reaching each of the given nodes.\n",
    "- Return the sum of the distances obtained in step 2."
   ]
  },
  {
   "cell_type": "code",
   "execution_count": 2,
   "id": "3bb981ef",
   "metadata": {},
   "outputs": [],
   "source": [
    "class TreeNode:\n",
    "    def __init__(self, val=0, left=None, right=None):\n",
    "        self.val = val\n",
    "        self.left = left\n",
    "        self.right = right\n",
    "\n",
    "def findDistance(root, node1, node2):\n",
    "    def findLCA(node, val1, val2):\n",
    "        if node.val < val1 and node.val < val2:\n",
    "            return findLCA(node.right, val1, val2)\n",
    "        elif node.val > val1 and node.val > val2:\n",
    "            return findLCA(node.left, val1, val2)\n",
    "        else:\n",
    "            return node\n",
    "\n",
    "    def findNodeDistance(node, val):\n",
    "        if node.val == val:\n",
    "            return 0\n",
    "        elif node.val < val:\n",
    "            return 1 + findNodeDistance(node.right, val)\n",
    "        else:\n",
    "            return 1 + findNodeDistance(node.left, val)\n",
    "\n",
    "    lca = findLCA(root, node1, node2)\n",
    "    distance1 = findNodeDistance(lca, node1)\n",
    "    distance2 = findNodeDistance(lca, node2)\n",
    "\n",
    "    return distance1 + distance2\n"
   ]
  },
  {
   "cell_type": "markdown",
   "id": "aab928be",
   "metadata": {},
   "source": [
    "- Time Complexity: The time complexity is O(log n) in the average case, and O(n) in the worst case, where n is the number of nodes in the BST. This is because finding the LCA and calculating the distances both take O(log n) time on average, but in the worst case (when the tree is skewed), it may take O(n) time.\n",
    "- Space Complexity: The space complexity is O(1) as no additional space is used that scales with the input size."
   ]
  },
  {
   "cell_type": "markdown",
   "id": "38c798a1",
   "metadata": {},
   "source": [
    "💡 Question-3:\n",
    "\n",
    "Write a program to convert a binary tree to a doubly linked list."
   ]
  },
  {
   "cell_type": "markdown",
   "id": "92f5e62f",
   "metadata": {},
   "source": [
    "- To convert a binary tree to a doubly linked list, you can perform an in-order traversal of the binary tree and modify the pointers of each node accordingly. The left pointer will represent the previous node in the doubly linked list, and the right pointer will represent the next node.\n",
    "- \n",
    "- Here's the step-by-step process to convert a binary tree to a doubly linked list:\n",
    "- \n",
    "- Create a class called Node to represent the nodes of the doubly linked list. Each node should have a val attribute and prev and next pointers.\n",
    "- Create a helper function called treeToDoublyList that takes the root of the binary tree as input.\n",
    "- Inside the treeToDoublyList function, define an inner recursive function called convert that performs the in-order traversal and modifies the pointers.\n",
    "- In the convert function, check if the current node is None. If so, return.\n",
    "- Recursively call convert on the left subtree.\n",
    "- If the prev pointer is None, it means we are at the leftmost node. Set the head pointer to the current node.\n",
    "- If the prev pointer is not None, update the next pointer of the previous node (prev) to point to the current node. Also, update the prev pointer of the current node to point to the previous node.\n",
    "- Update the prev pointer to the current node.\n",
    "- Recursively call convert on the right subtree.\n",
    "- Set the next pointer of the current node to the successor node (obtained from the right subtree) if it exists.\n",
    "- Finally, set the prev pointer of the head node to the predecessor node (obtained from the left subtree) if it exists.\n",
    "- Return the head pointer, which now points to the beginning of the doubly linked list.\n",
    "- Here's the Python code for the solution:"
   ]
  },
  {
   "cell_type": "code",
   "execution_count": 3,
   "id": "77154469",
   "metadata": {},
   "outputs": [],
   "source": [
    "class Node:\n",
    "    def __init__(self, val=None, prev=None, next=None):\n",
    "        self.val = val\n",
    "        self.prev = prev\n",
    "        self.next = next\n",
    "\n",
    "def treeToDoublyList(root):\n",
    "    def convert(node):\n",
    "        nonlocal prev, head\n",
    "        \n",
    "        if node is None:\n",
    "            return\n",
    "        \n",
    "        convert(node.left)\n",
    "        \n",
    "        if prev is None:\n",
    "            head = node\n",
    "        else:\n",
    "            prev.next = node\n",
    "            node.prev = prev\n",
    "        \n",
    "        prev = node\n",
    "        \n",
    "        convert(node.right)\n",
    "        \n",
    "    if root is None:\n",
    "        return None\n",
    "    \n",
    "    prev = None\n",
    "    head = None\n",
    "    \n",
    "    convert(root)\n",
    "    \n",
    "    head.prev = prev\n",
    "    prev.next = head\n",
    "    \n",
    "    return head\n"
   ]
  },
  {
   "cell_type": "markdown",
   "id": "786d579c",
   "metadata": {},
   "source": [
    "- Time Complexity: The time complexity is O(n), where n is the number of nodes in the binary tree. This is because we perform an in-order traversal, visiting each node once.\n",
    "- Space Complexity: The space complexity is O(h), where h is the height of the binary tree. This is because the recursive calls consume memory on the call stack, and the maximum depth of the call stack is equal to the height of the tree. In the worst case, when the tree is skewed, the space complexity is O(n)."
   ]
  },
  {
   "cell_type": "markdown",
   "id": "5f12456d",
   "metadata": {},
   "source": [
    "💡 Question-4:\n",
    "\n",
    "Write a program to connect nodes at the same level."
   ]
  },
  {
   "cell_type": "markdown",
   "id": "3b4da2fd",
   "metadata": {},
   "source": [
    "- To connect nodes at the same level in a binary tree, you can use a modified version of the level order traversal algorithm. Instead of just traversing the tree level by level, you also update the next pointers of each node to connect it with its right sibling.\n",
    "- \n",
    "- Here's the step-by-step process to connect nodes at the same level in a binary tree:\n",
    "- \n",
    "- Create a class called Node to represent the nodes of the binary tree. Each node should have a val attribute, left and right pointers, and a next pointer.\n",
    "- Create a helper function called connect that takes the root of the binary tree as input.\n",
    "- Inside the connect function, initialize a variable called level_start to the root node. This represents the leftmost node of the current level.\n",
    "- Use a while loop to traverse the tree level by level until level_start becomes None, indicating that all levels have been processed.\n",
    "- Inside the loop, initialize a variable called curr to level_start. This represents the current node being processed on the current level.\n",
    "- Use another while loop to traverse all the nodes on the current level by following the next pointers.\n",
    "- If curr.left is not None, set the next pointer of curr.left to curr.right.\n",
    "- If curr.right is not None and curr.next is not None, set the next pointer of curr.right to curr.next.left.\n",
    "- Move curr to its next sibling node by updating curr to curr.next.\n",
    "- Move to the next level by updating level_start to the leftmost node of the next level, which is the left child of the current level_start.\n",
    "- Return the root node of the binary tree."
   ]
  },
  {
   "cell_type": "code",
   "execution_count": 4,
   "id": "35004e08",
   "metadata": {},
   "outputs": [],
   "source": [
    "class Node:\n",
    "    def __init__(self, val=None, left=None, right=None, next=None):\n",
    "        self.val = val\n",
    "        self.left = left\n",
    "        self.right = right\n",
    "        self.next = next\n",
    "\n",
    "def connect(root):\n",
    "    if root is None:\n",
    "        return None\n",
    "\n",
    "    level_start = root\n",
    "\n",
    "    while level_start:\n",
    "        curr = level_start\n",
    "\n",
    "        while curr:\n",
    "            if curr.left:\n",
    "                curr.left.next = curr.right\n",
    "\n",
    "            if curr.right and curr.next:\n",
    "                curr.right.next = curr.next.left\n",
    "\n",
    "            curr = curr.next\n",
    "\n",
    "        level_start = level_start.left\n",
    "\n",
    "    return root\n"
   ]
  },
  {
   "cell_type": "markdown",
   "id": "845fbad8",
   "metadata": {},
   "source": [
    "- Time Complexity: The time complexity is O(n), where n is the number of nodes in the binary tree. We need to visit each node once to update the next pointers.\n",
    "- Space Complexity: The space complexity is O(1) as no additional space is used that scales with the input size."
   ]
  }
 ],
 "metadata": {
  "kernelspec": {
   "display_name": "Python 3 (ipykernel)",
   "language": "python",
   "name": "python3"
  },
  "language_info": {
   "codemirror_mode": {
    "name": "ipython",
    "version": 3
   },
   "file_extension": ".py",
   "mimetype": "text/x-python",
   "name": "python",
   "nbconvert_exporter": "python",
   "pygments_lexer": "ipython3",
   "version": "3.9.7"
  }
 },
 "nbformat": 4,
 "nbformat_minor": 5
}
