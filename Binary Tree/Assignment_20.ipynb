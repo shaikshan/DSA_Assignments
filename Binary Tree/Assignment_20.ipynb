{
 "cells": [
  {
   "cell_type": "markdown",
   "id": "5fc6ee4e",
   "metadata": {},
   "source": [
    "💡 Question-1\n",
    "\n",
    "Given a binary tree, your task is to find subtree with maximum sum in tree."
   ]
  },
  {
   "cell_type": "markdown",
   "id": "1b0ba83f",
   "metadata": {},
   "source": [
    "- To find the subtree with the maximum sum in a binary tree, we can use a recursive approach. We'll define a recursive function that calculates the sum of each subtree and keeps track of the maximum sum encountered so far.\n",
    "- \n",
    "- Start by defining a recursive function, let's call it maxSubtreeSum, which takes a node as input and returns the sum of the subtree rooted at that node.\n",
    "- \n",
    "- The base case is when the node is None, in which case the sum of the subtree is 0. So, we return 0 in that case.\n",
    "- \n",
    "- For a non-empty node, we recursively calculate the sum of the left subtree by calling maxSubtreeSum(node.left) and the sum of the right subtree by calling maxSubtreeSum(node.right).\n",
    "- \n",
    "- Now, we calculate the sum of the current subtree by adding the value of the current node and the sums of its left and right subtrees: subtree_sum = node.value + maxSubtreeSum(node.left) + maxSubtreeSum(node.right).\n",
    "- \n",
    "- We compare subtree_sum with the current maximum sum (max_sum). If subtree_sum is greater than max_sum, we update max_sum to subtree_sum.\n",
    "- \n",
    "- Finally, we return subtree_sum to propagate the sum up to the parent nodes in the recursion."
   ]
  },
  {
   "cell_type": "code",
   "execution_count": 1,
   "id": "1596aaa8",
   "metadata": {},
   "outputs": [],
   "source": [
    "class TreeNode:\n",
    "    def __init__(self, value):\n",
    "        self.value = value\n",
    "        self.left = None\n",
    "        self.right = None\n",
    "\n",
    "def maxSubtreeSum(node):\n",
    "    if node is None:\n",
    "        return 0\n",
    "    \n",
    "    left_sum = maxSubtreeSum(node.left)\n",
    "    right_sum = maxSubtreeSum(node.right)\n",
    "    \n",
    "    subtree_sum = node.value + left_sum + right_sum\n",
    "    \n",
    "    global max_sum\n",
    "    if subtree_sum > max_sum:\n",
    "        max_sum = subtree_sum\n",
    "    \n",
    "    return subtree_sum"
   ]
  },
  {
   "cell_type": "markdown",
   "id": "ce6d761f",
   "metadata": {},
   "source": [
    "The time complexity of this solution is O(n), where n is the number of nodes in the binary tree. The space complexity is O(h), where h is the height of the tree, due to the recursive calls on the call stack."
   ]
  },
  {
   "cell_type": "markdown",
   "id": "78d744e4",
   "metadata": {},
   "source": [
    "\n",
    "💡 Question-2\n",
    "\n",
    "Construct the BST (Binary Search Tree) from its given level order traversal.\n"
   ]
  },
  {
   "cell_type": "markdown",
   "id": "087d237e",
   "metadata": {},
   "source": [
    "- T o construct a Binary Search Tree (BST) from its level order traversal, we can follow the following steps:\n",
    "- C reate an empty root node and initialize it to None.\n",
    "-  \n",
    "- S tart iterating over the elements in the level order traversal list.\n",
    "-  \n",
    "- F or each element, create a new node with the value of that element. \n",
    "- I f the root node is None, set the new node as the root node. \n",
    "- O therwise, start from the root node and do the following until the new node is inserted: \n",
    "- I f the value of the new node is less than the current node's value and the left child of the current node is None, set the new node as the left child of the current node. \n",
    "- I f the value of the new node is greater than the current node's value and the right child of the current node is None, set the new node as the right child of the current node.\n",
    "- I f the value of the new node is less than the current node's value but the left child of the current node is not None, update the current node to be its left child and repeat the previous step. \n",
    "- I f the value of the new node is greater than the current node's value but the right child of the current node is not None, update the current node to be its right child and repeat the previous step. \n",
    "- R epeat steps 3 to 5 for all the elements in the level order traversal list.\n",
    "\n",
    "- F inally, return the root node of the constructed BST."
   ]
  },
  {
   "cell_type": "code",
   "execution_count": 2,
   "id": "09d8abc6",
   "metadata": {},
   "outputs": [],
   "source": [
    "class TreeNode:\n",
    "    def __init__(self, value):\n",
    "        self.value = value\n",
    "        self.left = None\n",
    "        self.right = None\n",
    "\n",
    "def constructBST(level_order):\n",
    "    if not level_order:\n",
    "        return None\n",
    "\n",
    "    root = TreeNode(level_order[0])\n",
    "    queue = [root]\n",
    "    i = 1\n",
    "\n",
    "    while i < len(level_order):\n",
    "        current = queue.pop(0)\n",
    "        left_val = level_order[i]\n",
    "        right_val = level_order[i + 1] if i + 1 < len(level_order) else None\n",
    "\n",
    "        if left_val is not None:\n",
    "            left_node = TreeNode(left_val)\n",
    "            current.left = left_node\n",
    "            queue.append(left_node)\n",
    "\n",
    "        if right_val is not None:\n",
    "            right_node = TreeNode(right_val)\n",
    "            current.right = right_node\n",
    "            queue.append(right_node)\n",
    "\n",
    "        i += 2\n",
    "\n",
    "    return root"
   ]
  },
  {
   "cell_type": "markdown",
   "id": "a1c71cb0",
   "metadata": {},
   "source": [
    "The time complexity of this solution is O(n), where n is the number of elements in the level order traversal list. The space complexity is O(m), where m is the maximum number of nodes at any level in the BST (since we use a queue for level order traversal)."
   ]
  },
  {
   "cell_type": "markdown",
   "id": "2bb8c00e",
   "metadata": {},
   "source": [
    "💡 Question-3\n",
    "\n",
    "Given an array of size n. The problem is to check whether the given array can represent the level order traversal of a Binary Search Tree or not."
   ]
  },
  {
   "cell_type": "markdown",
   "id": "de61b83a",
   "metadata": {},
   "source": [
    "- To check whether a given array can represent the level order traversal of a Binary Search Tree (BST) or not, we can follow the following steps:\n",
    "- Create an empty stack and initialize the root node as infinity.\n",
    "- Start iterating over the elements in the array.\n",
    "- For each element, check if it is smaller than the current top element of the stack. If it is, then it should be the left child of the current top element. Create a new node with the value of the element and push it onto the stack as the left child of the current top element.\n",
    "- If the element is greater than the current top element of the stack, pop elements from the stack until the element is smaller than the current top element. Keep track of the last popped element. The last popped element will be the parent of the new node with the value of the element.\n",
    "- Create a new node with the value of the element and push it onto the stack as the right child of the last popped element.\n",
    "- Repeat steps 3 to 5 for all the elements in the array.\n",
    "- fter iterating over all the elements, if there are any elements remaining in the stack, check if they are greater than the current top element. If not, return False as it violates the BST property.\n",
    "- If we reach this point without any violations, return True as the given array can represent the level order traversal of a BST.\n",
    "- Here's the Python code for the solution:"
   ]
  },
  {
   "cell_type": "code",
   "execution_count": 3,
   "id": "a0359b9c",
   "metadata": {},
   "outputs": [],
   "source": [
    "class TreeNode:\n",
    "    def __init__(self, value):\n",
    "        self.value = value\n",
    "        self.left = None\n",
    "        self.right = None\n",
    "\n",
    "def isLevelOrderBST(level_order):\n",
    "    if not level_order:\n",
    "        return True\n",
    "\n",
    "    stack = []\n",
    "    root = float('inf')\n",
    "    n = len(level_order)\n",
    "\n",
    "    for i in range(n):\n",
    "        if level_order[i] < root:\n",
    "            stack.append(TreeNode(level_order[i]))\n",
    "\n",
    "        else:\n",
    "            while len(stack) > 0:\n",
    "                if level_order[i] > stack[-1].value:\n",
    "                    root = stack.pop().value\n",
    "                else:\n",
    "                    return False\n",
    "\n",
    "            stack.append(TreeNode(level_order[i]))\n",
    "\n",
    "    return True\n"
   ]
  },
  {
   "cell_type": "markdown",
   "id": "b863b1a9",
   "metadata": {},
   "source": [
    "The time complexity of this solution is O(n), where n is the number of elements in the given array. The space complexity is O(n) in the worst case, where n is the number of elements in the array (when the array represents a valid level order traversal of a BST)."
   ]
  },
  {
   "cell_type": "code",
   "execution_count": null,
   "id": "74c5df3c",
   "metadata": {},
   "outputs": [],
   "source": []
  }
 ],
 "metadata": {
  "kernelspec": {
   "display_name": "Python 3 (ipykernel)",
   "language": "python",
   "name": "python3"
  },
  "language_info": {
   "codemirror_mode": {
    "name": "ipython",
    "version": 3
   },
   "file_extension": ".py",
   "mimetype": "text/x-python",
   "name": "python",
   "nbconvert_exporter": "python",
   "pygments_lexer": "ipython3",
   "version": "3.9.7"
  }
 },
 "nbformat": 4,
 "nbformat_minor": 5
}
