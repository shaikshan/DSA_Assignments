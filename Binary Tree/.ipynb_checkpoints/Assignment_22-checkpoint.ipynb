{
 "cells": [
  {
   "cell_type": "markdown",
   "id": "ce83c77c",
   "metadata": {},
   "source": [
    "💡 Question-1:\n",
    "\n",
    "Given a Binary Tree (Bt), convert it to a Doubly Linked List(DLL). The left and right pointers in nodes are to be used as previous and next pointers respectively in converted DLL. The order of nodes in DLL must be the same as in Inorder for the given Binary Tree. The first node of Inorder traversal (leftmost node in BT) must be the head node of the DLL."
   ]
  },
  {
   "cell_type": "markdown",
   "id": "0378f850",
   "metadata": {},
   "source": [
    "- Implement an inorder traversal of the Binary Tree.\n",
    "- During the inorder traversal, keep track of the previously visited node to establish the previous (left) pointer in the DLL.\n",
    "- For each node encountered during the inorder traversal:\n",
    "- Set its left pointer as the previously visited node.\n",
    "- If the previously visited node exists, set its right pointer as the current node.\n",
    "- Update the previously visited node to the current node.\n",
    "- After the traversal, the DLL will be formed. Set the left pointer of the first node (head) to None, as it will be the starting point of the DLL.\n",
    "- Set the right pointer of the last visited node to None, as it will be the ending point of the DLL.\n",
    "- Return the head node of the DLL."
   ]
  },
  {
   "cell_type": "code",
   "execution_count": 1,
   "id": "5ba83ec1",
   "metadata": {},
   "outputs": [],
   "source": [
    "class Node:\n",
    "    def __init__(self, value):\n",
    "        self.data = value\n",
    "        self.left = None\n",
    "        self.right = None\n",
    "\n",
    "def BinaryTreeToDLL(root):\n",
    "    def inorder(node):\n",
    "        nonlocal prev, head\n",
    "\n",
    "        if node is None:\n",
    "            return\n",
    "\n",
    "        # Inorder traversal\n",
    "        inorder(node.left)\n",
    "\n",
    "        # Update left and right pointers\n",
    "        if prev:\n",
    "            prev.right = node\n",
    "            node.left = prev\n",
    "        else:\n",
    "            # First node encountered, set it as the head\n",
    "            head = node\n",
    "\n",
    "        prev = node\n",
    "\n",
    "        inorder(node.right)\n",
    "\n",
    "    if root is None:\n",
    "        return None\n",
    "\n",
    "    prev = None\n",
    "    head = None\n",
    "\n",
    "    # Perform the inorder traversal\n",
    "    inorder(root)\n",
    "\n",
    "    # Set the left pointer of the head to None\n",
    "    head.left = None\n",
    "\n",
    "    # Set the right pointer of the last node to None\n",
    "    node = head\n",
    "    while node.right:\n",
    "        node = node.right\n",
    "    node.right = None\n",
    "\n",
    "    return head\n"
   ]
  },
  {
   "cell_type": "markdown",
   "id": "d15383ae",
   "metadata": {},
   "source": [
    "- Time Complexity: The time complexity is O(n), where n is the number of nodes in the Binary Tree. This is because we perform an inorder traversal, which visits each node once.\n",
    "- Space Complexity: The space complexity is O(h), where h is the height of the Binary Tree. This is due to the recursive stack space used during the inorder traversal. In the worst case, the Binary Tree can be skewed, resulting in a space complexity of O(n)."
   ]
  },
  {
   "cell_type": "markdown",
   "id": "0fb77a46",
   "metadata": {},
   "source": [
    "💡 Question-2\n",
    "\n",
    "A Given a binary tree, the task is to flip the binary tree towards the right direction that is clockwise. See the below examples to see the transformation.\n",
    "\n",
    "In the flip operation, the leftmost node becomes the root of the flipped tree and its parent becomes its right child and the right sibling becomes its left child and the same should be done for all left most nodes recursively."
   ]
  },
  {
   "cell_type": "markdown",
   "id": "7508a7cd",
   "metadata": {},
   "source": [
    "- If the given tree is empty or has only one node, return the tree as it is.\n",
    "- Recursively flip the left and right subtrees of the current node.\n",
    "- Swap the left and right child pointers of the current node.\n",
    "- Return the modified tree."
   ]
  },
  {
   "cell_type": "code",
   "execution_count": 3,
   "id": "8eaecce8",
   "metadata": {},
   "outputs": [],
   "source": [
    "class Node:\n",
    "    def __init__(self, value):\n",
    "        self.data = value\n",
    "        self.left = None\n",
    "        self.right = None\n",
    "\n",
    "def flipBinaryTree(root):\n",
    "    if root is None or (root.left is None and root.right is None):\n",
    "        return root\n",
    "\n",
    "    flipped_left = flipBinaryTree(root.left)\n",
    "    flipped_right = flipBinaryTree(root.right)\n",
    "\n",
    "    root.left = flipped_right\n",
    "    root.right = flipped_left\n",
    "\n",
    "    return root\n"
   ]
  },
  {
   "cell_type": "markdown",
   "id": "c23ddae4",
   "metadata": {},
   "source": [
    "- Time Complexity: The time complexity is O(n), where n is the number of nodes in the binary tree. This is because we visit each node once during the recursion.\n",
    "- Space Complexity: The space complexity is O(h), where h is the height of the binary tree. This is due to the recursive stack space used during the recursion. In the worst case, the binary tree can be skewed, resulting in a space complexity of O(n)."
   ]
  },
  {
   "cell_type": "markdown",
   "id": "e41f4785",
   "metadata": {},
   "source": [
    "💡 Question-3:\n",
    "\n",
    "Given a binary tree, print all its root-to-leaf paths without using recursion. For example, consider the following Binary Tree."
   ]
  },
  {
   "cell_type": "markdown",
   "id": "66c45b91",
   "metadata": {},
   "source": [
    "- Create an empty stack to store the nodes and their corresponding paths.\n",
    "- Push the root node along with an empty path onto the stack.\n",
    "- While the stack is not empty, do the following:\n",
    "- Pop a node and its path from the stack.\n",
    "- If the node is a leaf node (both left and right children are None), print the path.\n",
    "- If the node has a left child, push the left child onto the stack along with the path appended with the value of the left child.\n",
    "- If the node has a right child, push the right child onto the stack along with the path appended with the value of the right child.\n",
    "- Continue the process until the stack is empty."
   ]
  },
  {
   "cell_type": "code",
   "execution_count": 4,
   "id": "f7a14132",
   "metadata": {},
   "outputs": [],
   "source": [
    "class Node:\n",
    "    def __init__(self, value):\n",
    "        self.data = value\n",
    "        self.left = None\n",
    "        self.right = None\n",
    "\n",
    "def printPaths(root):\n",
    "    if root is None:\n",
    "        return\n",
    "\n",
    "    stack = [(root, str(root.data))]\n",
    "\n",
    "    while stack:\n",
    "        node, path = stack.pop()\n",
    "\n",
    "        if node.left is None and node.right is None:\n",
    "            print(path)\n",
    "\n",
    "        if node.left:\n",
    "            stack.append((node.left, path + \"->\" + str(node.left.data)))\n",
    "        if node.right:\n",
    "            stack.append((node.right, path + \"->\" + str(node.right.data)))"
   ]
  },
  {
   "cell_type": "markdown",
   "id": "6a1fd3db",
   "metadata": {},
   "source": [
    "- Time Complexity: The time complexity is O(n), where n is the number of nodes in the binary tree. We need to visit each node once.\n",
    "- Space Complexity: The space complexity is O(n) in the worst case, where n is the number of nodes in the binary tree. This is because the stack can store at most all the leaf nodes in the binary tree."
   ]
  },
  {
   "cell_type": "markdown",
   "id": "50e643b3",
   "metadata": {},
   "source": [
    "💡 Question-4:\n",
    "\n",
    "Given Preorder, Inorder and Postorder traversals of some tree. Write a program to check if they all are of the same tree."
   ]
  },
  {
   "cell_type": "markdown",
   "id": "a3ff22cf",
   "metadata": {},
   "source": [
    "- Define a function isSameTree(preorder, inorder, postorder) to check if the given traversals belong to the same tree.\n",
    "- Check if the lengths of the three traversals are equal. If not, return False.\n",
    "- Check if the given traversals are empty. If all three are empty, return True.\n",
    "- Extract the root value from the preorder traversal (the first element).\n",
    "- Find the index of the root value in the inorder traversal.\n",
    "- Divide the inorder traversal into left and right subtrees based on the index found in the previous step.\n",
    "- Divide the preorder and postorder traversals into corresponding left and right subtrees.\n",
    "- Recursively call isSameTree with the left subtree's preorder, inorder, and postorder traversals and the same for the right subtree.\n",
    "- If both recursive calls return True and the root value is the same in all three traversals, return True. Otherwise, return False."
   ]
  },
  {
   "cell_type": "code",
   "execution_count": 5,
   "id": "2f9a4cb9",
   "metadata": {},
   "outputs": [],
   "source": [
    "def isSameTree(preorder, inorder, postorder):\n",
    "    if len(preorder) != len(inorder) or len(preorder) != len(postorder):\n",
    "        return False\n",
    "\n",
    "    if not preorder and not inorder and not postorder:\n",
    "        return True\n",
    "\n",
    "    root_value = preorder[0]\n",
    "    root_index = inorder.index(root_value)\n",
    "\n",
    "    left_inorder = inorder[:root_index]\n",
    "    right_inorder = inorder[root_index+1:]\n",
    "\n",
    "    left_preorder = preorder[1:1+len(left_inorder)]\n",
    "    right_preorder = preorder[1+len(left_inorder):]\n",
    "\n",
    "    left_postorder = postorder[:len(left_inorder)]\n",
    "    right_postorder = postorder[len(left_inorder):-1]\n",
    "\n",
    "    return isSameTree(left_preorder, left_inorder, left_postorder) and \\\n",
    "           isSameTree(right_preorder, right_inorder, right_postorder) and \\\n",
    "           (root_value == inorder[root_index] == postorder[-1])\n"
   ]
  },
  {
   "cell_type": "markdown",
   "id": "80ed8e06",
   "metadata": {},
   "source": [
    "- Time Complexity: The time complexity is O(n^2) in the worst case, where n is the number of nodes in the tree. This is because finding the root value's index in the inorder traversal takes O(n) time, and it needs to be done for each recursive call. In total, there can be up to n recursive calls, resulting in a worst-case time complexity of O(n^2). However, in practice, the average time complexity is closer to O(n) when the tree is balanced.\n",
    "- Space Complexity: The space complexity is O(n) due to the recursive calls, where n is the number of nodes in the tree. In the worst case, the recursive stack can store up to n nodes."
   ]
  }
 ],
 "metadata": {
  "kernelspec": {
   "display_name": "Python 3 (ipykernel)",
   "language": "python",
   "name": "python3"
  },
  "language_info": {
   "codemirror_mode": {
    "name": "ipython",
    "version": 3
   },
   "file_extension": ".py",
   "mimetype": "text/x-python",
   "name": "python",
   "nbconvert_exporter": "python",
   "pygments_lexer": "ipython3",
   "version": "3.9.7"
  }
 },
 "nbformat": 4,
 "nbformat_minor": 5
}
