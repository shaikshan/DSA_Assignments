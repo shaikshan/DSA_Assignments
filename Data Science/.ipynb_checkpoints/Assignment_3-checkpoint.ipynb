{
 "cells": [
  {
   "cell_type": "markdown",
   "id": "ca6f40ce",
   "metadata": {},
   "source": [
    "1. Scenario: A company wants to analyze the sales performance of its products in different regions. They have collected the following data:\n",
    "- Region A: [10, 15, 12, 8, 14]\n",
    "- Region B: [18, 20, 16, 22, 25]\n",
    "- Calculate the mean sales for each region."
   ]
  },
  {
   "cell_type": "markdown",
   "id": "b5cbb852",
   "metadata": {},
   "source": [
    "- To calculate the mean sales for each region, we can use the following steps:\n",
    "- \n",
    "- Define two lists to represent the sales data for Region A and Region B.\n",
    "- Calculate the sum of sales for each region.\n",
    "- Divide the sum of sales by the number of observations in each region to find the mean."
   ]
  },
  {
   "cell_type": "code",
   "execution_count": 1,
   "id": "1079606a",
   "metadata": {},
   "outputs": [
    {
     "name": "stdout",
     "output_type": "stream",
     "text": [
      "Mean Sales (Region A): 11.8\n",
      "Mean Sales (Region B): 20.2\n"
     ]
    }
   ],
   "source": [
    "# Sales data for Region A\n",
    "sales_region_a = [10, 15, 12, 8, 14]\n",
    "\n",
    "# Sales data for Region B\n",
    "sales_region_b = [18, 20, 16, 22, 25]\n",
    "\n",
    "# Calculate mean sales for Region A\n",
    "mean_sales_region_a = sum(sales_region_a) / len(sales_region_a)\n",
    "\n",
    "# Calculate mean sales for Region B\n",
    "mean_sales_region_b = sum(sales_region_b) / len(sales_region_b)\n",
    "\n",
    "# Print the mean sales for each region\n",
    "print(\"Mean Sales (Region A):\", mean_sales_region_a)\n",
    "print(\"Mean Sales (Region B):\", mean_sales_region_b)"
   ]
  },
  {
   "cell_type": "markdown",
   "id": "a2588723",
   "metadata": {},
   "source": [
    "2. Scenario: A survey is conducted to measure customer satisfaction on a scale of 1 to 5. The data collected is as follows:\n",
    "- [4, 5, 2, 3, 5, 4, 3, 2, 4, 5]\n",
    "- Calculate the mode of the survey responses.\n"
   ]
  },
  {
   "cell_type": "markdown",
   "id": "0d434c12",
   "metadata": {},
   "source": [
    "To calculate the mode of the survey responses, we need to find the value that appears most frequently in the given data."
   ]
  },
  {
   "cell_type": "code",
   "execution_count": 2,
   "id": "68b8cb93",
   "metadata": {},
   "outputs": [
    {
     "name": "stdout",
     "output_type": "stream",
     "text": [
      "Mode(s): [4, 5]\n"
     ]
    }
   ],
   "source": [
    "from collections import Counter\n",
    "\n",
    "# Survey responses\n",
    "responses = [4, 5, 2, 3, 5, 4, 3, 2, 4, 5]\n",
    "\n",
    "# Count the frequency of each response\n",
    "response_counts = Counter(responses)\n",
    "\n",
    "# Find the mode(s)\n",
    "modes = [k for k, v in response_counts.items() if v == max(response_counts.values())]\n",
    "\n",
    "# Print the mode(s)\n",
    "print(\"Mode(s):\", modes)\n"
   ]
  },
  {
   "cell_type": "markdown",
   "id": "83184b4c",
   "metadata": {},
   "source": [
    "3. Scenario: A company wants to compare the salaries of two departments. The salary data for Department A and Department B are as follows:\n",
    "- Department A: [5000, 6000, 5500, 7000]\n",
    "- Department B: [4500, 5500, 5800, 6000, 5200]\n",
    "- Calculate the median salary for each department.\n"
   ]
  },
  {
   "cell_type": "markdown",
   "id": "875fca2d",
   "metadata": {},
   "source": [
    "To calculate the median salary for each department, we need to find the middle value of the sorted salary data. If there is an even number of observations, the median is the average of the two middle values."
   ]
  },
  {
   "cell_type": "code",
   "execution_count": 3,
   "id": "0c4c3d8f",
   "metadata": {},
   "outputs": [
    {
     "name": "stdout",
     "output_type": "stream",
     "text": [
      "Median Salary (Department A): 5750.0\n",
      "Median Salary (Department B): 5500\n"
     ]
    }
   ],
   "source": [
    "# Salary data for Department A\n",
    "salary_department_a = [5000, 6000, 5500, 7000]\n",
    "\n",
    "# Salary data for Department B\n",
    "salary_department_b = [4500, 5500, 5800, 6000, 5200]\n",
    "\n",
    "# Function to calculate the median\n",
    "def calculate_median(salary_data):\n",
    "    sorted_salary_data = sorted(salary_data)\n",
    "    n = len(sorted_salary_data)\n",
    "    if n % 2 == 0:\n",
    "        median = (sorted_salary_data[n // 2 - 1] + sorted_salary_data[n // 2]) / 2\n",
    "    else:\n",
    "        median = sorted_salary_data[n // 2]\n",
    "    return median\n",
    "\n",
    "# Calculate median salary for Department A\n",
    "median_salary_department_a = calculate_median(salary_department_a)\n",
    "\n",
    "# Calculate median salary for Department B\n",
    "median_salary_department_b = calculate_median(salary_department_b)\n",
    "\n",
    "# Print the median salary for each department\n",
    "print(\"Median Salary (Department A):\", median_salary_department_a)\n",
    "print(\"Median Salary (Department B):\", median_salary_department_b)"
   ]
  },
  {
   "cell_type": "markdown",
   "id": "eba37ba2",
   "metadata": {},
   "source": [
    "4. Scenario: A data analyst wants to determine the variability in the daily stock prices of a company. The data collected is as follows:\n",
    "- [25.5, 24.8, 26.1, 25.3, 24.9]\n",
    "- Calculate the range of the stock prices.\n"
   ]
  },
  {
   "cell_type": "markdown",
   "id": "48655108",
   "metadata": {},
   "source": [
    "To calculate the range of the stock prices, we need to find the difference between the maximum and minimum values in the given data."
   ]
  },
  {
   "cell_type": "code",
   "execution_count": 4,
   "id": "da61cec6",
   "metadata": {},
   "outputs": [
    {
     "name": "stdout",
     "output_type": "stream",
     "text": [
      "Range of Stock Prices: 1.3000000000000007\n"
     ]
    }
   ],
   "source": [
    "# Stock prices\n",
    "stock_prices = [25.5, 24.8, 26.1, 25.3, 24.9]\n",
    "\n",
    "# Calculate the range of stock prices\n",
    "price_range = max(stock_prices) - min(stock_prices)\n",
    "\n",
    "# Print the range of stock prices\n",
    "print(\"Range of Stock Prices:\", price_range)\n"
   ]
  },
  {
   "cell_type": "markdown",
   "id": "c0f1db91",
   "metadata": {},
   "source": [
    "5. Scenario: A study is conducted to compare the performance of two different teaching methods. The test scores of the students in each group are as follows:\n",
    "- Group A: [85, 90, 92, 88, 91]\n",
    "- Group B: [82, 88, 90, 86, 87]\n",
    "- Perform a t-test to determine if there is a significant difference in the mean scores between the two groups.\n"
   ]
  },
  {
   "cell_type": "markdown",
   "id": "e11673be",
   "metadata": {},
   "source": [
    "\n",
    "To perform a t-test and determine if there is a significant difference in the mean scores between Group A and Group B, we can use a two-sample independent t-test. The null hypothesis is that there is no significant difference between the means of the two groups, while the alternative hypothesis is that there is a significant difference."
   ]
  },
  {
   "cell_type": "code",
   "execution_count": 5,
   "id": "d14048d8",
   "metadata": {},
   "outputs": [
    {
     "name": "stdout",
     "output_type": "stream",
     "text": [
      "T-Statistic: 1.4312528946642733\n",
      "P-Value: 0.19023970239078333\n"
     ]
    }
   ],
   "source": [
    "from scipy import stats\n",
    "\n",
    "# Test scores for Group A\n",
    "group_a_scores = [85, 90, 92, 88, 91]\n",
    "\n",
    "# Test scores for Group B\n",
    "group_b_scores = [82, 88, 90, 86, 87]\n",
    "\n",
    "# Perform independent t-test\n",
    "t_statistic, p_value = stats.ttest_ind(group_a_scores, group_b_scores)\n",
    "\n",
    "# Print the t-statistic and p-value\n",
    "print(\"T-Statistic:\", t_statistic)\n",
    "print(\"P-Value:\", p_value)\n"
   ]
  },
  {
   "cell_type": "markdown",
   "id": "307b3774",
   "metadata": {},
   "source": [
    "6. Scenario: A company wants to analyze the relationship between advertising expenditure and sales. The data collected is as follows:\n",
    "- Advertising Expenditure (in thousands): [10, 15, 12, 8, 14]\n",
    "- Sales (in thousands): [25, 30, 28, 20, 26]\n",
    "- Calculate the correlation coefficient between advertising expenditure and sales.\n"
   ]
  },
  {
   "cell_type": "markdown",
   "id": "1855d635",
   "metadata": {},
   "source": [
    "To calculate the correlation coefficient between advertising expenditure and sales, we can use the Pearson correlation coefficient. This coefficient measures the linear relationship between two variables, ranging from -1 (strong negative correlation) to +1 (strong positive correlation), with 0 indicating no correlation."
   ]
  },
  {
   "cell_type": "code",
   "execution_count": 6,
   "id": "d49e074c",
   "metadata": {},
   "outputs": [
    {
     "name": "stdout",
     "output_type": "stream",
     "text": [
      "Correlation Coefficient: 0.8757511375750132\n"
     ]
    }
   ],
   "source": [
    "import numpy as np\n",
    "\n",
    "# Advertising expenditure (in thousands)\n",
    "advertising_expenditure = [10, 15, 12, 8, 14]\n",
    "\n",
    "# Sales (in thousands)\n",
    "sales = [25, 30, 28, 20, 26]\n",
    "\n",
    "# Calculate the correlation coefficient\n",
    "correlation_coefficient = np.corrcoef(advertising_expenditure, sales)[0, 1]\n",
    "\n",
    "# Print the correlation coefficient\n",
    "print(\"Correlation Coefficient:\", correlation_coefficient)\n"
   ]
  },
  {
   "cell_type": "markdown",
   "id": "a9ed61ce",
   "metadata": {},
   "source": [
    "7. Scenario: A survey is conducted to measure the heights of a group of people. The data collected is as follows:\n",
    " - [160, 170, 165, 155, 175, 180, 170]\n",
    " - Calculate the standard deviation of the heights.\n"
   ]
  },
  {
   "cell_type": "markdown",
   "id": "b0ac81ef",
   "metadata": {},
   "source": [
    "- Calculate the mean of the heights.\n",
    "- Calculate the squared difference between each height and the mean.\n",
    "- Calculate the average of the squared differences.\n",
    "- Take the square root of the average to get the standard deviation."
   ]
  },
  {
   "cell_type": "code",
   "execution_count": 7,
   "id": "a9776a44",
   "metadata": {},
   "outputs": [
    {
     "name": "stdout",
     "output_type": "stream",
     "text": [
      "Standard Deviation: 7.953949089757174\n"
     ]
    }
   ],
   "source": [
    "import numpy as np\n",
    "\n",
    "# Heights\n",
    "heights = [160, 170, 165, 155, 175, 180, 170]\n",
    "\n",
    "# Calculate the standard deviation\n",
    "standard_deviation = np.std(heights)\n",
    "\n",
    "# Print the standard deviation\n",
    "print(\"Standard Deviation:\", standard_deviation)\n"
   ]
  },
  {
   "cell_type": "markdown",
   "id": "d354156c",
   "metadata": {},
   "source": [
    "8. Scenario: A company wants to analyze the relationship between employee tenure and job satisfaction. The data collected is as follows:\n",
    "- Employee Tenure (in years): [2, 3, 5, 4, 6, 2, 4]\n",
    "- Job Satisfaction (on a scale of 1 to 10): [7, 8, 6, 9, 5, 7, 6]\n",
    "- Perform a linear regression analysis to predict job satisfaction based on employee tenure.\n"
   ]
  },
  {
   "cell_type": "markdown",
   "id": "ada0ed97",
   "metadata": {},
   "source": [
    "To perform a linear regression analysis and predict job satisfaction based on employee tenure, we can use the least squares method to fit a linear regression model to the given data. This will help us estimate the coefficients of the linear equation and make predictions."
   ]
  },
  {
   "cell_type": "code",
   "execution_count": 8,
   "id": "7407332a",
   "metadata": {},
   "outputs": [
    {
     "name": "stdout",
     "output_type": "stream",
     "text": [
      "Intercept: 8.595744680851062\n",
      "Slope: -0.4680851063829787\n",
      "Predicted job satisfaction for tenure of 3 years: 7.191489361702127\n"
     ]
    }
   ],
   "source": [
    "import numpy as np\n",
    "from sklearn.linear_model import LinearRegression\n",
    "\n",
    "# Employee tenure (in years)\n",
    "employee_tenure = [2, 3, 5, 4, 6, 2, 4]\n",
    "\n",
    "# Job satisfaction (on a scale of 1 to 10)\n",
    "job_satisfaction = [7, 8, 6, 9, 5, 7, 6]\n",
    "\n",
    "# Convert lists to numpy arrays and reshape for single feature\n",
    "X = np.array(employee_tenure).reshape(-1, 1)\n",
    "y = np.array(job_satisfaction)\n",
    "\n",
    "# Initialize and fit the linear regression model\n",
    "model = LinearRegression()\n",
    "model.fit(X, y)\n",
    "\n",
    "# Extract the coefficients\n",
    "intercept = model.intercept_\n",
    "slope = model.coef_[0]\n",
    "\n",
    "# Print the coefficients\n",
    "print(\"Intercept:\", intercept)\n",
    "print(\"Slope:\", slope)\n",
    "\n",
    "# Make a prediction for employee tenure of 3 years\n",
    "tenure_prediction = 3\n",
    "satisfaction_prediction = model.predict([[tenure_prediction]])\n",
    "print(\"Predicted job satisfaction for tenure of 3 years:\", satisfaction_prediction[0])"
   ]
  },
  {
   "cell_type": "markdown",
   "id": "374fee95",
   "metadata": {},
   "source": [
    "9. Scenario: A study is conducted to compare the effectiveness of two different medications. The recovery times of the patients in each group are as follows:\n",
    "- Medication A: [10, 12, 14, 11, 13]\n",
    "- Medication B: [15, 17, 16, 14, 18]\n",
    "- Perform an analysis of variance (ANOVA) to determine if there is a significant difference in the mean recovery times between the two medications.\n"
   ]
  },
  {
   "cell_type": "markdown",
   "id": "2c5d8cb2",
   "metadata": {},
   "source": [
    "To perform an analysis of variance (ANOVA) and determine if there is a significant difference in the mean recovery times between Medication A and Medication B, we can use the one-way ANOVA test. The null hypothesis is that there is no significant difference between the means of the two groups, while the alternative hypothesis is that there is a significant difference."
   ]
  },
  {
   "cell_type": "code",
   "execution_count": 9,
   "id": "dc3572f8",
   "metadata": {},
   "outputs": [
    {
     "name": "stdout",
     "output_type": "stream",
     "text": [
      "F-Statistic: 16.0\n",
      "P-Value: 0.003949772803445326\n"
     ]
    }
   ],
   "source": [
    "from scipy import stats\n",
    "\n",
    "# Recovery times for Medication A\n",
    "medication_a_times = [10, 12, 14, 11, 13]\n",
    "\n",
    "# Recovery times for Medication B\n",
    "medication_b_times = [15, 17, 16, 14, 18]\n",
    "\n",
    "# Perform one-way ANOVA\n",
    "f_statistic, p_value = stats.f_oneway(medication_a_times, medication_b_times)\n",
    "\n",
    "# Print the F-statistic and p-value\n",
    "print(\"F-Statistic:\", f_statistic)\n",
    "print(\"P-Value:\", p_value)\n"
   ]
  },
  {
   "cell_type": "markdown",
   "id": "e01f7067",
   "metadata": {},
   "source": [
    "10. Scenario: A company wants to analyze customer feedback ratings on a scale of 1 to 10. The data collected is\n",
    "\n",
    " as follows:\n",
    " - [8, 9, 7, 6, 8, 10, 9, 8, 7, 8]\n",
    " - Calculate the 75th percentile of the feedback ratings.\n"
   ]
  },
  {
   "cell_type": "markdown",
   "id": "ec7d5fb5",
   "metadata": {},
   "source": [
    "\n",
    "Solution:\n",
    "To calculate the 75th percentile of the feedback ratings, we need to find the value below which 75% of the ratings fall. This can be done by sorting the ratings in ascending order and finding the index that corresponds to the 75th percentile."
   ]
  },
  {
   "cell_type": "code",
   "execution_count": 10,
   "id": "fb7bc5d1",
   "metadata": {},
   "outputs": [
    {
     "name": "stdout",
     "output_type": "stream",
     "text": [
      "75th Percentile: 8.75\n"
     ]
    }
   ],
   "source": [
    "import numpy as np\n",
    "\n",
    "# Feedback ratings\n",
    "feedback_ratings = [8, 9, 7, 6, 8, 10, 9, 8, 7, 8]\n",
    "\n",
    "# Calculate the 75th percentile\n",
    "percentile_75 = np.percentile(feedback_ratings, 75)\n",
    "\n",
    "# Print the 75th percentile\n",
    "print(\"75th Percentile:\", percentile_75)\n"
   ]
  },
  {
   "cell_type": "markdown",
   "id": "0f242aa6",
   "metadata": {},
   "source": [
    "11. Scenario: A quality control department wants to test the weight consistency of a product. The weights of a sample of products are as follows:\n",
    " - [10.2, 9.8, 10.0, 10.5, 10.3, 10.1]\n",
    " - Perform a hypothesis test to determine if the mean weight differs significantly from 10 grams.\n"
   ]
  },
  {
   "cell_type": "markdown",
   "id": "31b2fa7c",
   "metadata": {},
   "source": [
    "\n",
    "Solution:\n",
    "To perform a hypothesis test and determine if the mean weight differs significantly from 10 grams, we can use a one-sample t-test. The null hypothesis is that the mean weight is equal to 10 grams, while the alternative hypothesis is that the mean weight is different from 10 grams."
   ]
  },
  {
   "cell_type": "code",
   "execution_count": 11,
   "id": "02d970e7",
   "metadata": {},
   "outputs": [
    {
     "name": "stdout",
     "output_type": "stream",
     "text": [
      "T-Statistic: 1.5126584522688367\n",
      "P-Value: 0.19077595151110102\n"
     ]
    }
   ],
   "source": [
    "from scipy import stats\n",
    "\n",
    "# Weight data\n",
    "weights = [10.2, 9.8, 10.0, 10.5, 10.3, 10.1]\n",
    "\n",
    "# Perform one-sample t-test\n",
    "t_statistic, p_value = stats.ttest_1samp(weights, 10)\n",
    "\n",
    "# Print the t-statistic and p-value\n",
    "print(\"T-Statistic:\", t_statistic)\n",
    "print(\"P-Value:\", p_value)\n"
   ]
  },
  {
   "cell_type": "markdown",
   "id": "8f27e241",
   "metadata": {},
   "source": [
    "12. Scenario: A company wants to analyze the click-through rates of two different website designs. The number of clicks for each design is as follows:\n",
    " - Design A: [100, 120, 110, 90, 95]\n",
    " - Design B: [80, 85, 90, 95, 100]\n",
    " - Perform a chi-square test to determine if there is a significant difference in the click-through rates between the two designs.\n"
   ]
  },
  {
   "cell_type": "markdown",
   "id": "3de94828",
   "metadata": {},
   "source": [
    "Solution:\n",
    "To perform a chi-square test and determine if there is a significant difference in the click-through rates between Design A and Design B, we can use the chi-square test for independence. The null hypothesis is that there is no significant difference in the click-through rates, while the alternative hypothesis is that there is a significant difference."
   ]
  },
  {
   "cell_type": "code",
   "execution_count": 12,
   "id": "9c879d3f",
   "metadata": {},
   "outputs": [
    {
     "name": "stdout",
     "output_type": "stream",
     "text": [
      "Chi-square Statistic: 6.110658166925435\n",
      "P-Value: 0.19103526314060296\n"
     ]
    }
   ],
   "source": [
    "from scipy import stats\n",
    "\n",
    "# Click-through rates for Design A\n",
    "clicks_design_a = [100, 120, 110, 90, 95]\n",
    "\n",
    "# Click-through rates for Design B\n",
    "clicks_design_b = [80, 85, 90, 95, 100]\n",
    "\n",
    "# Perform chi-square test for independence\n",
    "chi2_statistic, p_value, _, _ = stats.chi2_contingency([clicks_design_a, clicks_design_b])\n",
    "\n",
    "# Print the chi-square statistic and p-value\n",
    "print(\"Chi-square Statistic:\", chi2_statistic)\n",
    "print(\"P-Value:\", p_value)\n"
   ]
  },
  {
   "cell_type": "markdown",
   "id": "b8d85b65",
   "metadata": {},
   "source": [
    "13. Scenario: A survey is conducted to measure customer satisfaction with a product on a scale of 1 to 10. The data collected is as follows:\n",
    "- [7, 9, 6, 8, 10, 7, 8, 9, 7, 8]\n",
    "- Calculate the 95% confidence interval for the population mean satisfaction score.\n"
   ]
  },
  {
   "cell_type": "markdown",
   "id": "ddd66669",
   "metadata": {},
   "source": [
    "Solution:\n",
    "To calculate the 95% confidence interval for the population mean satisfaction score, we can use the formula for a confidence interval:\n",
    "\n",
    "Confidence Interval = (Sample Mean) ± (Critical Value) * (Standard Error)\n",
    "\n",
    "The critical value is obtained from the t-distribution based on the desired confidence level and the degrees of freedom (n - 1), where n is the sample size. The standard error is the standard deviation of the sample divided by the square root of the sample size."
   ]
  },
  {
   "cell_type": "code",
   "execution_count": 13,
   "id": "7983e204",
   "metadata": {},
   "outputs": [
    {
     "name": "stdout",
     "output_type": "stream",
     "text": [
      "95% Confidence Interval: (7.205994644530591, 8.59400535546941)\n"
     ]
    }
   ],
   "source": [
    "import numpy as np\n",
    "from scipy import stats\n",
    "\n",
    "# Satisfaction scores\n",
    "satisfaction_scores = [7, 9, 6, 8, 10, 7, 8, 9, 7, 8]\n",
    "\n",
    "# Calculate sample mean and standard deviation\n",
    "sample_mean = np.mean(satisfaction_scores)\n",
    "sample_std = np.std(satisfaction_scores, ddof=1)  # ddof=1 for sample standard deviation\n",
    "\n",
    "# Calculate standard error\n",
    "n = len(satisfaction_scores)\n",
    "standard_error = sample_std / np.sqrt(n)\n",
    "\n",
    "# Calculate the t-critical value\n",
    "confidence_level = 0.95\n",
    "degrees_of_freedom = n - 1\n",
    "t_critical = stats.t.ppf(confidence_level, df=degrees_of_freedom)\n",
    "\n",
    "# Calculate the confidence interval\n",
    "lower_bound = sample_mean - t_critical * standard_error\n",
    "upper_bound = sample_mean + t_critical * standard_error\n",
    "\n",
    "# Print the confidence interval\n",
    "print(\"95% Confidence Interval:\", (lower_bound, upper_bound))\n"
   ]
  },
  {
   "cell_type": "markdown",
   "id": "685ca79f",
   "metadata": {},
   "source": [
    "14. Scenario: A company wants to analyze the effect of temperature on product performance. The data collected is as follows:\n",
    "- Temperature (in degrees Celsius): [20, 22, 23, 19, 21]\n",
    "- Performance (on a scale of 1 to 10): [8, 7, 9, 6, 8]\n",
    "- Perform a simple linear regression to predict performance based on temperature.\n"
   ]
  },
  {
   "cell_type": "markdown",
   "id": "5446e463",
   "metadata": {},
   "source": [
    "Solution:\n",
    "To perform a simple linear regression and predict performance based on temperature, we can use the least squares method to fit a linear regression model to the given data. This will help us estimate the coefficients of the linear equation and make predictions.\n"
   ]
  },
  {
   "cell_type": "code",
   "execution_count": 14,
   "id": "c18019ce",
   "metadata": {},
   "outputs": [
    {
     "name": "stdout",
     "output_type": "stream",
     "text": [
      "Intercept: -2.8999999999999986\n",
      "Slope: 0.4999999999999999\n",
      "Predicted performance for temperature of 24 degrees Celsius: 9.099999999999998\n"
     ]
    }
   ],
   "source": [
    "import numpy as np\n",
    "from sklearn.linear_model import LinearRegression\n",
    "\n",
    "# Temperature (in degrees Celsius)\n",
    "temperature = [20, 22, 23, 19, 21]\n",
    "\n",
    "# Performance (on a scale of 1 to 10)\n",
    "performance = [8, 7, 9, 6, 8]\n",
    "\n",
    "# Convert lists to numpy arrays and reshape for single feature\n",
    "X = np.array(temperature).reshape(-1, 1)\n",
    "y = np.array(performance)\n",
    "\n",
    "# Initialize and fit the linear regression model\n",
    "model = LinearRegression()\n",
    "model.fit(X, y)\n",
    "\n",
    "# Extract the coefficients\n",
    "intercept = model.intercept_\n",
    "slope = model.coef_[0]\n",
    "\n",
    "# Print the coefficients\n",
    "print(\"Intercept:\", intercept)\n",
    "print(\"Slope:\", slope)\n",
    "\n",
    "# Make a prediction for a temperature of 24 degrees Celsius\n",
    "temperature_prediction = 24\n",
    "performance_prediction = model.predict([[temperature_prediction]])\n",
    "print(\"Predicted performance for temperature of 24 degrees Celsius:\", performance_prediction[0])\n"
   ]
  },
  {
   "cell_type": "markdown",
   "id": "06af85e4",
   "metadata": {},
   "source": [
    "15. Scenario: A study is conducted to compare the preferences of two groups of participants. The preferences are measured on a Likert scale from 1 to 5. The data collected is as follows:\n",
    " - Group A: [4, 3, 5, 2, 4]\n",
    " - Group B: [3, 2, 4, 3, 3]\n",
    " - Perform a Mann-Whitney U test to determine if there is a significant difference in the median preferences between the two groups.\n"
   ]
  },
  {
   "cell_type": "markdown",
   "id": "ce576fb1",
   "metadata": {},
   "source": [
    "\n",
    "Solution:\n",
    "To perform a Mann-Whitney U test and determine if there is a significant difference in the median preferences between Group A and Group B, we can use the Mann-Whitney U test, also known as the Wilcoxon rank-sum test. The null hypothesis is that there is no significant difference in the median preferences between the two groups, while the alternative hypothesis is that there is a significant difference."
   ]
  },
  {
   "cell_type": "code",
   "execution_count": 15,
   "id": "b314dbb5",
   "metadata": {},
   "outputs": [
    {
     "name": "stdout",
     "output_type": "stream",
     "text": [
      "Test Statistic: 17.0\n",
      "P-Value: 0.380836480306712\n"
     ]
    }
   ],
   "source": [
    "from scipy import stats\n",
    "\n",
    "# Preferences for Group A\n",
    "preferences_group_a = [4, 3, 5, 2, 4]\n",
    "\n",
    "# Preferences for Group B\n",
    "preferences_group_b = [3, 2, 4, 3, 3]\n",
    "\n",
    "# Perform Mann-Whitney U test\n",
    "statistic, p_value = stats.mannwhitneyu(preferences_group_a, preferences_group_b)\n",
    "\n",
    "# Print the test statistic and p-value\n",
    "print(\"Test Statistic:\", statistic)\n",
    "print(\"P-Value:\", p_value)\n"
   ]
  },
  {
   "cell_type": "markdown",
   "id": "2c3fc982",
   "metadata": {},
   "source": [
    "16. Scenario: A company wants to analyze the distribution of customer ages. The data collected is as follows:\n",
    " - [25, 30, 35, 40, 45, 50, 55, 60, 65, 70]\n",
    " - Calculate the interquartile range (IQR) of the ages.\n"
   ]
  },
  {
   "cell_type": "markdown",
   "id": "077a1901",
   "metadata": {},
   "source": [
    "\n",
    "Solution:\n",
    "To calculate the interquartile range (IQR) of the ages, we need to find the values that correspond to the 25th and 75th percentiles. The IQR is then calculated as the difference between these two values."
   ]
  },
  {
   "cell_type": "code",
   "execution_count": 16,
   "id": "dc1d0e8f",
   "metadata": {},
   "outputs": [
    {
     "name": "stdout",
     "output_type": "stream",
     "text": [
      "Interquartile Range (IQR): 22.5\n"
     ]
    }
   ],
   "source": [
    "import numpy as np\n",
    "\n",
    "# Ages\n",
    "ages = [25, 30, 35, 40, 45, 50, 55, 60, 65, 70]\n",
    "\n",
    "# Calculate the 25th and 75th percentiles\n",
    "q1 = np.percentile(ages, 25)\n",
    "q3 = np.percentile(ages, 75)\n",
    "\n",
    "# Calculate the interquartile range (IQR)\n",
    "iqr = q3 - q1\n",
    "\n",
    "# Print the IQR\n",
    "print(\"Interquartile Range (IQR):\", iqr)\n"
   ]
  },
  {
   "cell_type": "markdown",
   "id": "85adf578",
   "metadata": {},
   "source": [
    "17. Scenario: A study is conducted to compare the performance of three different machine learning algorithms. The accuracy scores for each algorithm are as follows:\n",
    " - Algorithm A: [0.85, 0.80, 0.82, 0.87, 0.83]\n",
    " - Algorithm B: [0.78, 0.82, 0.84, 0.80, 0.79]\n",
    " - Algorithm C: [0.90, 0.88, 0.89, 0.86, 0.87]\n",
    " - Perform a Kruskal-Wallis test to determine if there is a significant difference in the median accuracy scores between the algorithms.\n"
   ]
  },
  {
   "cell_type": "markdown",
   "id": "d6143893",
   "metadata": {},
   "source": [
    "\n",
    "Solution:\n",
    "To perform a Kruskal-Wallis test and determine if there is a significant difference in the median accuracy scores between the three algorithms, we can use the Kruskal-Wallis H test. The null hypothesis is that there is no significant difference in the median accuracy scores between the algorithms, while the alternative hypothesis is that there is a significant difference."
   ]
  },
  {
   "cell_type": "code",
   "execution_count": 17,
   "id": "d857f493",
   "metadata": {},
   "outputs": [
    {
     "name": "stdout",
     "output_type": "stream",
     "text": [
      "Test Statistic: 9.696947935368053\n",
      "P-Value: 0.007840333026249539\n"
     ]
    }
   ],
   "source": [
    "from scipy import stats\n",
    "\n",
    "# Accuracy scores for Algorithm A\n",
    "scores_algorithm_a = [0.85, 0.80, 0.82, 0.87, 0.83]\n",
    "\n",
    "# Accuracy scores for Algorithm B\n",
    "scores_algorithm_b = [0.78, 0.82, 0.84, 0.80, 0.79]\n",
    "\n",
    "# Accuracy scores for Algorithm C\n",
    "scores_algorithm_c = [0.90, 0.88, 0.89, 0.86, 0.87]\n",
    "\n",
    "# Perform Kruskal-Wallis test\n",
    "statistic, p_value = stats.kruskal(scores_algorithm_a, scores_algorithm_b, scores_algorithm_c)\n",
    "\n",
    "# Print the test statistic and p-value\n",
    "print(\"Test Statistic:\", statistic)\n",
    "print(\"P-Value:\", p_value)\n"
   ]
  },
  {
   "cell_type": "markdown",
   "id": "444bbcfd",
   "metadata": {},
   "source": [
    "18. Scenario: A company wants to analyze the effect of price on sales. The data collected is as follows:\n",
    " - Price (in dollars): [10, 15, 12, 8, 14]\n",
    " - Sales: [100, 80, 90, 110, 95]\n",
    " - Perform a simple linear regression to predict\n",
    "\n",
    " sales based on price.\n"
   ]
  },
  {
   "cell_type": "markdown",
   "id": "e11ff1ed",
   "metadata": {},
   "source": [
    "Solution:\n",
    "To perform a simple linear regression and predict sales based on price, we can use the least squares method to fit a linear regression model to the given data. This will help us estimate the coefficients of the linear equation and make predictions."
   ]
  },
  {
   "cell_type": "code",
   "execution_count": 18,
   "id": "53befc67",
   "metadata": {},
   "outputs": [
    {
     "name": "stdout",
     "output_type": "stream",
     "text": [
      "Intercept: 136.3719512195122\n",
      "Slope: -3.5060975609756095\n",
      "Predicted sales for price of $13: 90.79268292682927\n"
     ]
    }
   ],
   "source": [
    "import numpy as np\n",
    "from sklearn.linear_model import LinearRegression\n",
    "\n",
    "# Price (in dollars)\n",
    "price = [10, 15, 12, 8, 14]\n",
    "\n",
    "# Sales\n",
    "sales = [100, 80, 90, 110, 95]\n",
    "\n",
    "# Convert lists to numpy arrays and reshape for single feature\n",
    "X = np.array(price).reshape(-1, 1)\n",
    "y = np.array(sales)\n",
    "\n",
    "# Initialize and fit the linear regression model\n",
    "model = LinearRegression()\n",
    "model.fit(X, y)\n",
    "\n",
    "# Extract the coefficients\n",
    "intercept = model.intercept_\n",
    "slope = model.coef_[0]\n",
    "\n",
    "# Print the coefficients\n",
    "print(\"Intercept:\", intercept)\n",
    "print(\"Slope:\", slope)\n",
    "\n",
    "# Make a prediction for a price of $13\n",
    "price_prediction = 13\n",
    "sales_prediction = model.predict([[price_prediction]])\n",
    "print(\"Predicted sales for price of $13:\", sales_prediction[0])\n"
   ]
  },
  {
   "cell_type": "markdown",
   "id": "75068033",
   "metadata": {},
   "source": [
    "19. Scenario: A survey is conducted to measure the satisfaction levels of customers with a new product. The data collected is as follows:\n",
    " - [7, 8, 9, 6, 8, 7, 9, 7, 8, 7]\n",
    " - Calculate the standard error of the mean satisfaction score.\n"
   ]
  },
  {
   "cell_type": "markdown",
   "id": "f47e43f5",
   "metadata": {},
   "source": [
    "Solution:\n",
    "To calculate the standard error of the mean satisfaction score, we need to divide the standard deviation of the satisfaction scores by the square root of the sample size."
   ]
  },
  {
   "cell_type": "code",
   "execution_count": 19,
   "id": "a5ebc54f",
   "metadata": {},
   "outputs": [
    {
     "name": "stdout",
     "output_type": "stream",
     "text": [
      "Standard Error of the Mean: 0.28982753492378877\n"
     ]
    }
   ],
   "source": [
    "import numpy as np\n",
    "\n",
    "# Satisfaction scores\n",
    "scores = [7, 8, 9, 6, 8, 7, 9, 7, 8, 7]\n",
    "\n",
    "# Calculate the standard deviation\n",
    "std_dev = np.std(scores)\n",
    "\n",
    "# Calculate the sample size\n",
    "sample_size = len(scores)\n",
    "\n",
    "# Calculate the standard error of the mean\n",
    "std_error = std_dev / np.sqrt(sample_size)\n",
    "\n",
    "# Print the standard error of the mean\n",
    "print(\"Standard Error of the Mean:\", std_error)\n"
   ]
  },
  {
   "cell_type": "markdown",
   "id": "e11e7af4",
   "metadata": {},
   "source": [
    "20. Scenario: A company wants to analyze the relationship between advertising expenditure and sales. The data collected is as follows:\n",
    "- Advertising Expenditure (in thousands): [10, 15, 12, 8, 14]\n",
    "- Sales (in thousands): [25, 30, 28, 20, 26]\n",
    "- Perform a multiple regression analysis to predict sales based on advertising expenditure.\n"
   ]
  },
  {
   "cell_type": "markdown",
   "id": "6d689a4c",
   "metadata": {},
   "source": [
    "Solution:\n",
    "To perform a multiple regression analysis and predict sales based on advertising expenditure, we can use the least squares method to fit a linear regression model to the given data. This will help us estimate the coefficients of the linear equation and make predictions."
   ]
  },
  {
   "cell_type": "code",
   "execution_count": 20,
   "id": "ae3db7f7",
   "metadata": {},
   "outputs": [
    {
     "name": "stdout",
     "output_type": "stream",
     "text": [
      "Intercept: 12.20121951219512\n",
      "Slope: 1.152439024390244\n",
      "Predicted sales for advertising expenditure of $13,000: 27.182926829268293\n"
     ]
    }
   ],
   "source": [
    "import numpy as np\n",
    "from sklearn.linear_model import LinearRegression\n",
    "\n",
    "# Advertising Expenditure (in thousands)\n",
    "expenditure = [10, 15, 12, 8, 14]\n",
    "\n",
    "# Sales (in thousands)\n",
    "sales = [25, 30, 28, 20, 26]\n",
    "\n",
    "# Convert lists to numpy arrays\n",
    "X = np.array(expenditure).reshape(-1, 1)\n",
    "y = np.array(sales)\n",
    "\n",
    "# Initialize and fit the linear regression model\n",
    "model = LinearRegression()\n",
    "model.fit(X, y)\n",
    "\n",
    "# Extract the coefficients\n",
    "intercept = model.intercept_\n",
    "slope = model.coef_[0]\n",
    "\n",
    "# Print the coefficients\n",
    "print(\"Intercept:\", intercept)\n",
    "print(\"Slope:\", slope)\n",
    "\n",
    "# Make a prediction for an advertising expenditure of $13,000\n",
    "expenditure_prediction = 13\n",
    "sales_prediction = model.predict([[expenditure_prediction]])\n",
    "print(\"Predicted sales for advertising expenditure of $13,000:\", sales_prediction[0])\n"
   ]
  }
 ],
 "metadata": {
  "kernelspec": {
   "display_name": "Python 3 (ipykernel)",
   "language": "python",
   "name": "python3"
  },
  "language_info": {
   "codemirror_mode": {
    "name": "ipython",
    "version": 3
   },
   "file_extension": ".py",
   "mimetype": "text/x-python",
   "name": "python",
   "nbconvert_exporter": "python",
   "pygments_lexer": "ipython3",
   "version": "3.9.7"
  }
 },
 "nbformat": 4,
 "nbformat_minor": 5
}
