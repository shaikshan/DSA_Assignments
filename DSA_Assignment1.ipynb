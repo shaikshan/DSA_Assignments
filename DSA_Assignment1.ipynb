{
 "cells": [
  {
   "cell_type": "markdown",
   "id": "9cededd1",
   "metadata": {},
   "source": [
    "1.\n",
    "Given a non-negative integer x, return the square root of x rounded down to the nearest integer. The returned integer should be non-negative as well. You must not use any built-in exponent function or operator. \n",
    "\n",
    " Example 1:\n",
    "Input: x = 4 Output: 2 Explanation: The square root of 4 is 2, so we return 2.\n",
    "Example 2:\n",
    "\n",
    "Input: x = 8 Output: 2 Explanation: The square root of 8 is 2.82842..., and since we round it down to the nearest integer, 2 is returned.\n",
    "Constraints:\n",
    "\n",
    "0 <= x <= 2^31 - 1"
   ]
  },
  {
   "cell_type": "code",
   "execution_count": 3,
   "id": "86ae5890",
   "metadata": {},
   "outputs": [],
   "source": [
    "def Square_root(x):\n",
    "    if x == 0:\n",
    "        return 0\n",
    "    \n",
    "    num1, num2 = 0, x\n",
    "    while num1 <= num2:\n",
    "        mid = (num1 + num2) // 2\n",
    "        sqr = mid * mid\n",
    "        if sqr == x:\n",
    "            return mid\n",
    "        elif sqr < x:\n",
    "            num1 = mid + 1\n",
    "        else:\n",
    "            num2 = mid - 1\n",
    "    \n",
    "    return num1 - 1\n"
   ]
  },
  {
   "cell_type": "code",
   "execution_count": 5,
   "id": "910a1c27",
   "metadata": {},
   "outputs": [
    {
     "data": {
      "text/plain": [
       "2"
      ]
     },
     "execution_count": 5,
     "metadata": {},
     "output_type": "execute_result"
    }
   ],
   "source": [
    "Square_root(6)"
   ]
  },
  {
   "cell_type": "markdown",
   "id": "eea83e38",
   "metadata": {},
   "source": [
    "Time Complexity: O(log x) - Binary search is performed on the range [0, x], which reduces the search space by half in each iteration.\n",
    "\n",
    "Space Complexity: O(1) - Only a constant amount of extra space is used."
   ]
  },
  {
   "cell_type": "code",
   "execution_count": null,
   "id": "643206cb",
   "metadata": {},
   "outputs": [],
   "source": []
  }
 ],
 "metadata": {
  "kernelspec": {
   "display_name": "Python 3 (ipykernel)",
   "language": "python",
   "name": "python3"
  },
  "language_info": {
   "codemirror_mode": {
    "name": "ipython",
    "version": 3
   },
   "file_extension": ".py",
   "mimetype": "text/x-python",
   "name": "python",
   "nbconvert_exporter": "python",
   "pygments_lexer": "ipython3",
   "version": "3.9.7"
  }
 },
 "nbformat": 4,
 "nbformat_minor": 5
}
