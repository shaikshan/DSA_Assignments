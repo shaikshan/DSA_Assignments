{
 "cells": [
  {
   "cell_type": "markdown",
   "id": "dfd3de63",
   "metadata": {},
   "source": [
    "\n",
    "💡 **Q1.** Given an array of integers nums and an integer target, return indices of the two numbers such that they add up to target.\n",
    "\n",
    "You may assume that each input would have exactly one solution, and you may not use the same element twice.\n",
    "\n",
    "You can return the answer in any order.\n"
   ]
  },
  {
   "cell_type": "markdown",
   "id": "3f8273fa",
   "metadata": {},
   "source": [
    "__Solution__\n",
    "- Initialize an empty hash table.\n",
    "- Iterate through the array, starting from the first element:\n",
    "- Compute the complement of the current number by subtracting it from the target.\n",
    "- Check if the complement exists in the hash table:\n",
    "- If it does, return the indices of the current number and its complement.\n",
    "- If it doesn't, add the current number and its index to the hash table.\n",
    "- If no solution is found after iterating through the entire array, return an empty array or indicate that no solution exists."
   ]
  },
  {
   "cell_type": "markdown",
   "id": "e93e7b28",
   "metadata": {},
   "source": [
    "__Python_Code__"
   ]
  },
  {
   "cell_type": "code",
   "execution_count": 1,
   "id": "2f15fd52",
   "metadata": {},
   "outputs": [],
   "source": [
    "def twoSum(nums, target):\n",
    "    # Create a hash table to store the complement of each number\n",
    "    complement_dict = {}\n",
    "\n",
    "    # Iterate through the array\n",
    "    for i in range(len(nums)):\n",
    "        # Compute the complement of the current number\n",
    "        complement = target - nums[i]\n",
    "\n",
    "        # Check if the complement exists in the hash table\n",
    "        if complement in complement_dict:\n",
    "            # Return the indices of the current number and its complement\n",
    "            return [complement_dict[complement], i]\n",
    "\n",
    "        # Add the current number and its index to the hash table\n",
    "        complement_dict[nums[i]] = i\n",
    "\n",
    "    # No solution found, return an empty array or indicate no solution\n",
    "    return []"
   ]
  },
  {
   "cell_type": "markdown",
   "id": "970f7a44",
   "metadata": {},
   "source": [
    "This algorithm has a time complexity of O(n) since we iterate through the array only once.\n",
    "The space complexity is also O(n) since we may store all the numbers in the hash table in the worst case."
   ]
  },
  {
   "cell_type": "markdown",
   "id": "d707c1b6",
   "metadata": {},
   "source": [
    "\n",
    "💡 **Q2.** Given an integer array nums and an integer val, remove all occurrences of val in nums in-place. The order of the elements may be changed. Then return the number of elements in nums which are not equal to val.\n",
    "\n",
    "Consider the number of elements in nums which are not equal to val be k, to get accepted, you need to do the following things:\n",
    "\n",
    "- Change the array nums such that the first k elements of nums contain the elements which are not equal to val. The remaining elements of nums are not important as well as the size of nums.\n",
    "- Return k.\n"
   ]
  },
  {
   "cell_type": "markdown",
   "id": "9641d43c",
   "metadata": {},
   "source": [
    "__Solution__\n",
    "- Initialize two pointers, i and j, both pointing to the start of the array.\n",
    "- Iterate through the array using pointer j:\n",
    "- If the value at nums[j] is equal to the given value val, move pointer j to the next element.\n",
    "- If the value at nums[j] is not equal to val, assign the value at nums[j] to nums[i], and increment both i and j.\n",
    "- After iterating through the array, the first i elements of nums will contain the elements that are not equal to val.\n",
    "- Return the value of i."
   ]
  },
  {
   "cell_type": "markdown",
   "id": "6abc22b2",
   "metadata": {},
   "source": [
    "__Python_Code__"
   ]
  },
  {
   "cell_type": "code",
   "execution_count": 2,
   "id": "77166e13",
   "metadata": {},
   "outputs": [],
   "source": [
    "def removeElement(nums, val):\n",
    "    i = 0\n",
    "\n",
    "    # Iterate through the array using pointer j\n",
    "    for j in range(len(nums)):\n",
    "        # If nums[j] is not equal to val, assign it to nums[i]\n",
    "        if nums[j] != val:\n",
    "            nums[i] = nums[j]\n",
    "            i += 1\n",
    "\n",
    "    return i"
   ]
  },
  {
   "cell_type": "markdown",
   "id": "d49b4fbf",
   "metadata": {},
   "source": [
    "The algorithm has a time complexity of O(n) since we iterate through the array once. It also has a space complexity of O(1) since we perform the removal in-place without using any extra data structures."
   ]
  },
  {
   "cell_type": "markdown",
   "id": "08a4440d",
   "metadata": {},
   "source": [
    "\n",
    "💡 **Q3.** Given a sorted array of distinct integers and a target value, return the index if the target is found. If not, return the index where it would be if it were inserted in order.\n",
    "\n",
    "You must write an algorithm with O(log n) runtime complexity.\n",
    "\n"
   ]
  },
  {
   "cell_type": "markdown",
   "id": "f00057a1",
   "metadata": {},
   "source": [
    "__Solution__\n",
    "\n",
    "- Initialize two pointers, left and right, pointing to the start and end of the array, respectively.\n",
    "- While left is less than or equal to right, do:\n",
    "- Compute the middle index as (left + right) // 2.\n",
    "- If the value at the middle index is equal to the target, return the middle index.\n",
    "- If the value at the middle index is greater than the target, update right to middle - 1.\n",
    "- If the value at the middle index is less than the target, update left to middle + 1.\n",
    "- If the target is not found in the array, left will be the index where the target should be inserted.\n",
    "Return left.\n",
    "\n",
    "__Python_Code__"
   ]
  },
  {
   "cell_type": "code",
   "execution_count": 3,
   "id": "aa376a91",
   "metadata": {},
   "outputs": [],
   "source": [
    "def searchInsert(nums, target):\n",
    "    left = 0\n",
    "    right = len(nums) - 1\n",
    "\n",
    "    while left <= right:\n",
    "        middle = (left + right) // 2\n",
    "\n",
    "        if nums[middle] == target:\n",
    "            return middle\n",
    "        elif nums[middle] < target:\n",
    "            left = middle + 1\n",
    "        else:\n",
    "            right = middle - 1\n",
    "\n",
    "    return left"
   ]
  },
  {
   "cell_type": "markdown",
   "id": "b18c1aa5",
   "metadata": {},
   "source": [
    "The binary search algorithm has a runtime complexity of O(log n) as it continuously divides the search space in half."
   ]
  },
  {
   "cell_type": "markdown",
   "id": "0efdf6c9",
   "metadata": {},
   "source": [
    "\n",
    "Q4. You are given a large integer represented as an integer array digits, where each digits[i] is the ith digit of the integer. The digits are ordered from most significant to least significant in left-to-right order. The large integer does not contain any leading 0's.\n",
    "\n",
    "Increment the large integer by one and return the resulting array of digits.\n"
   ]
  },
  {
   "cell_type": "markdown",
   "id": "45dcf170",
   "metadata": {},
   "source": [
    "__Solution__\n",
    "To increment a large integer represented as an array of digits, we need to consider the carry that may occur when adding one to the least significant digit. Here's an algorithm to perform the increment operation\n",
    "\n",
    "- Start from the rightmost digit (the least significant digit) in the array digits.\n",
    "- Increment the rightmost digit by one.\n",
    "- If the incremented digit is less than 10, there is no carry, so we can return digits as it is.\n",
    "- If the incremented digit is equal to 10, set it to 0 and move to the next digit to the left.\n",
    "- Repeat steps 3-4 until we find a digit that is less than 10 or we reach the leftmost digit.\n",
    "- If we reach the leftmost digit and it is equal to 10, we need to insert a new digit of 1 at the beginning of the array.\n",
    "\n",
    "__Python_Code__"
   ]
  },
  {
   "cell_type": "code",
   "execution_count": 4,
   "id": "9985f8bc",
   "metadata": {},
   "outputs": [],
   "source": [
    "def plusOne(digits):\n",
    "    n = len(digits)\n",
    "\n",
    "    # Start from the rightmost digit\n",
    "    for i in range(n - 1, -1, -1):\n",
    "        digits[i] += 1\n",
    "\n",
    "        # Check if there is a carry\n",
    "        if digits[i] < 10:\n",
    "            return digits\n",
    "\n",
    "        # Set the digit to 0 and move to the next digit\n",
    "        digits[i] = 0\n",
    "\n",
    "    # If we reach here, the leftmost digit is 10\n",
    "    # Insert a new digit of 1 at the beginning\n",
    "    digits.insert(0, 1)\n",
    "\n",
    "    return digits\n"
   ]
  },
  {
   "cell_type": "markdown",
   "id": "56faed82",
   "metadata": {},
   "source": [
    "This algorithm has a time complexity of O(n), where n is the number of digits in the input array. It performs a constant number of operations on each digit in the worst case."
   ]
  },
  {
   "cell_type": "markdown",
   "id": "53ff97a3",
   "metadata": {},
   "source": [
    "Q5. You are given two integer arrays nums1 and nums2, sorted in non-decreasing order, and two integers m and n, representing the number of elements in nums1 and nums2 respectively.\n",
    "\n",
    "Merge nums1 and nums2 into a single array sorted in non-decreasing order.\n",
    "\n",
    "The final sorted array should not be returned by the function, but instead be stored inside the array nums1. To accommodate this, nums1 has a length of m + n, where the first m elements denote the elements that should be merged, and the last n elements are set to 0 and should be ignored. nums2 has a length of n."
   ]
  },
  {
   "cell_type": "markdown",
   "id": "71bc8cd7",
   "metadata": {},
   "source": [
    "__Solution__\n",
    "\n",
    "\n",
    "To merge two sorted arrays, nums1 and nums2, into nums1 in non-decreasing order, you can use a modified version of the merge sort algorithm. Since nums1 has additional space at the end, you can start merging the arrays from the last elements of each array and move backwards. Here's an algorithm to accomplish this:\n",
    "\n",
    "- Initialize three pointers, p1, p2, and p to point to the last valid element in nums1, the last element in nums2, and the last position in nums1 respectively:\n",
    "    - p1 = m - 1 (index of the last valid element in nums1)\n",
    "    - p2 = n - 1 (index of the last element in nums2)\n",
    "    - p = m + n - 1 (index of the last position in nums1)\n",
    "- While both p1 and p2 are greater than or equal to 0, do:\n",
    "    - If the element at nums1[p1] is greater than the element at nums2[p2], assign the element at nums1[p1] to nums1[p], and decrement p1 and p.\n",
    "    - Otherwise, assign the element at nums2[p2] to nums1[p], and decrement p2 and p.\n",
    "- If there are remaining elements in nums2 but no elements remaining in nums1, copy the remaining elements from nums2 to nums1.\n",
    "- Return the modified nums1\n",
    "\n",
    "__Python_Code__"
   ]
  },
  {
   "cell_type": "code",
   "execution_count": 5,
   "id": "c9587835",
   "metadata": {},
   "outputs": [],
   "source": [
    "def merge(nums1, m, nums2, n):\n",
    "    p1 = m - 1\n",
    "    p2 = n - 1\n",
    "    p = m + n - 1\n",
    "\n",
    "    while p1 >= 0 and p2 >= 0:\n",
    "        if nums1[p1] > nums2[p2]:\n",
    "            nums1[p] = nums1[p1]\n",
    "            p1 -= 1\n",
    "        else:\n",
    "            nums1[p] = nums2[p2]\n",
    "            p2 -= 1\n",
    "        p -= 1\n",
    "\n",
    "    # If there are remaining elements in nums2\n",
    "    # but no elements remaining in nums1\n",
    "    while p2 >= 0:\n",
    "        nums1[p] = nums2[p2]\n",
    "        p2 -= 1\n",
    "        p -= 1\n",
    "\n",
    "    return nums1\n"
   ]
  },
  {
   "cell_type": "markdown",
   "id": "852069a8",
   "metadata": {},
   "source": [
    "The algorithm has a time complexity of O(m + n) since we perform a constant number of operations for each element in the merged array. The space complexity is O(1) since the merging is done in-place without using any extra data structures."
   ]
  },
  {
   "cell_type": "markdown",
   "id": "6ab18391",
   "metadata": {},
   "source": [
    "Q6. Given an integer array nums, return true if any value appears at least twice in the array, and return false if every element is distinct."
   ]
  },
  {
   "cell_type": "markdown",
   "id": "1ad5b887",
   "metadata": {},
   "source": [
    "__Solution__\n",
    "\n",
    "To determine if any value appears at least twice in an array, we can use a hash set to keep track of the unique elements we have encountered so far. As we iterate through the array, we check if the current element is already present in the hash set. If it is, we have found a duplicate, and we return True. If we reach the end of the array without finding any duplicates, we return False. Here's an algorithm to solve this problem:\n",
    "\n",
    "- Initialize an empty hash set.\n",
    "- Iterate through each element num in the array nums:\n",
    "    - If num is already present in the hash set, return True.\n",
    "    - Otherwise, add num to the hash set.\n",
    "- If the loop completes without finding any duplicates, return False.\n",
    "\n",
    "__Python_Code__"
   ]
  },
  {
   "cell_type": "code",
   "execution_count": 6,
   "id": "d66811df",
   "metadata": {},
   "outputs": [],
   "source": [
    "def containsDuplicate(nums):\n",
    "    seen = set()\n",
    "\n",
    "    for num in nums:\n",
    "        if num in seen:\n",
    "            return True\n",
    "        seen.add(num)\n",
    "\n",
    "    return False\n"
   ]
  },
  {
   "cell_type": "markdown",
   "id": "ae0e3809",
   "metadata": {},
   "source": [
    "The algorithm has a time complexity of O(n) since we iterate through the array once, and the average case for hash set operations is O(1). The space complexity is also O(n) since we may store all the elements in the hash set in the worst case."
   ]
  },
  {
   "cell_type": "markdown",
   "id": "be541dec",
   "metadata": {},
   "source": [
    "\n",
    "💡 Q7. Given an integer array nums, move all 0's to the end of it while maintaining the relative order of the nonzero elements.\n",
    "\n",
    "Note that you must do this in-place without making a copy of the array.\n",
    "\n"
   ]
  },
  {
   "cell_type": "markdown",
   "id": "884e2629",
   "metadata": {},
   "source": [
    "__Solution__\n",
    "\n",
    "To move all the zeros to the end of an integer array while maintaining the relative order of the nonzero elements, you can use a two-pointer approach. Here's an algorithm to solve this problem in-place:\n",
    "\n",
    "- Initialize two pointers: left and right. Both will start at the beginning of the array (0 index).\n",
    "\n",
    "- Iterate through the array using the right pointer:\n",
    "\n",
    "    - If the value at nums[right] is not zero, swap it with the value at nums[left] and increment both left and right pointers.\n",
    "    - If the value at nums[right] is zero, only increment the right pointer.\n",
    "- Repeat step 2 until the right pointer reaches the end of the array.\n",
    "\n",
    "By the end of the iteration, all the zeros will be moved to the end of the array, while the relative order of the nonzero elements will be maintained.\n",
    "\n",
    "__Python_Code__"
   ]
  },
  {
   "cell_type": "code",
   "execution_count": 7,
   "id": "09a2808e",
   "metadata": {},
   "outputs": [],
   "source": [
    "def move_zeros(nums):\n",
    "    left = 0\n",
    "    right = 0\n",
    "\n",
    "    while right < len(nums):\n",
    "        if nums[right] != 0:\n",
    "            nums[left], nums[right] = nums[right], nums[left]\n",
    "            left += 1\n",
    "        right += 1"
   ]
  },
  {
   "cell_type": "markdown",
   "id": "303d49c0",
   "metadata": {},
   "source": [
    "Time complexity: O(n) (linear time complexity)\n",
    "Space complexity: O(1) (constant space complexity)\n"
   ]
  },
  {
   "cell_type": "markdown",
   "id": "fd62b6f0",
   "metadata": {},
   "source": [
    " Q8. You have a set of integers s, which originally contains all the numbers from 1 to n. Unfortunately, due to some error, one of the numbers in s got duplicated to another number in the set, which results in repetition of one number and loss of another number.\n",
    "\n",
    "You are given an integer array nums representing the data status of this set after the error.\n",
    "\n",
    "Find the number that occurs twice and the number that is missing and return them in the form of an array.\n"
   ]
  },
  {
   "cell_type": "markdown",
   "id": "b99541d9",
   "metadata": {},
   "source": [
    "__Solution__\n",
    "\n",
    "To find the number that occurs twice and the number that is missing in an integer array, we can utilize the properties of a set. Here's an algorithm to solve this problem:\n",
    "\n",
    "- Create a set called numSet and initialize it as an empty set.\n",
    "- Initialize two variables, duplicate and missing, as 0.\n",
    "- Iterate through each number, num, in the nums array:\n",
    "    - If num is already in the numSet, set duplicate to num.\n",
    "    - Add num to the numSet.\n",
    "- Iterate from 1 to the length of the nums array (inclusive):\n",
    "    - If the current number is not found in the numSet, set missing to that number.\n",
    "- Return an array containing duplicate and missing.\n",
    "\n",
    "__Python_Code__"
   ]
  },
  {
   "cell_type": "code",
   "execution_count": 8,
   "id": "57f1d237",
   "metadata": {},
   "outputs": [],
   "source": [
    "def findErrorNums(nums):\n",
    "    numSet = set()\n",
    "    duplicate = 0\n",
    "    missing = 0\n",
    "\n",
    "    for num in nums:\n",
    "        if num in numSet:\n",
    "            duplicate = num\n",
    "        numSet.add(num)\n",
    "\n",
    "    for i in range(1, len(nums) + 1):\n",
    "        if i not in numSet:\n",
    "            missing = i\n",
    "\n",
    "    return [duplicate, missing]"
   ]
  },
  {
   "cell_type": "markdown",
   "id": "9c8e7a1c",
   "metadata": {},
   "source": [
    "Time Complexity:\n",
    "The algorithm iterates through the nums array twice, once to find the duplicate and once to find the missing number. Therefore, the time complexity is O(n), where n is the length of the nums array.\n",
    "\n",
    "Space Complexity:\n",
    "The algorithm uses a set, numSet, to store the numbers. The size of the set will be at most equal to the length of the nums array. Thus, the space complexity is O(n), where n is the length of the nums array."
   ]
  },
  {
   "cell_type": "code",
   "execution_count": null,
   "id": "88ce1d6f",
   "metadata": {},
   "outputs": [],
   "source": []
  }
 ],
 "metadata": {
  "kernelspec": {
   "display_name": "Python 3 (ipykernel)",
   "language": "python",
   "name": "python3"
  },
  "language_info": {
   "codemirror_mode": {
    "name": "ipython",
    "version": 3
   },
   "file_extension": ".py",
   "mimetype": "text/x-python",
   "name": "python",
   "nbconvert_exporter": "python",
   "pygments_lexer": "ipython3",
   "version": "3.9.7"
  }
 },
 "nbformat": 4,
 "nbformat_minor": 5
}
