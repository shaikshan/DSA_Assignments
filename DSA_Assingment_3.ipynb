{
 "cells": [
  {
   "cell_type": "markdown",
   "id": "c122ea5f",
   "metadata": {},
   "source": [
    "17. Write a function that takes a list of numbers as input and returns a new list containing only the even numbers from the input list. Use list comprehension to solve this problem.\n",
    "\n",
    "Example:\n",
    "\n",
    "Input: [1, 2, 3, 4, 5, 6, 7, 8, 9, 10]\n",
    "\n",
    "Output: [2, 4, 6, 8, 10]"
   ]
  },
  {
   "cell_type": "code",
   "execution_count": 1,
   "id": "8e987d37",
   "metadata": {},
   "outputs": [],
   "source": [
    "def get_even_numbers(numbers):\n",
    "    even_numbers = [num for num in numbers if num % 2 == 0]\n",
    "    return even_numbers"
   ]
  },
  {
   "cell_type": "markdown",
   "id": "851e1726",
   "metadata": {},
   "source": [
    "18. Implement a decorator function called ‘timer’ that measures the execution time of a function. The ‘timer’ decorator should print the time taken by the decorated function to execute. Use the ‘time’ module in Python to calculate the execution time."
   ]
  },
  {
   "cell_type": "code",
   "execution_count": 2,
   "id": "24b31cc3",
   "metadata": {},
   "outputs": [],
   "source": [
    "import time\n",
    "\n",
    "def timer(func):\n",
    "    def wrapper(*args, **kwargs):\n",
    "        start_time = time.time()\n",
    "        result = func(*args, **kwargs)\n",
    "        end_time = time.time()\n",
    "        execution_time = end_time - start_time\n",
    "        print(f\"Execution time: {execution_time} seconds\")\n",
    "        return result\n",
    "    return wrapper\n"
   ]
  },
  {
   "cell_type": "markdown",
   "id": "59e9e783",
   "metadata": {},
   "source": [
    "19. Write a function called ‘calculate_mean’ that takes a list of numbers as input and returns the mean (average) of the numbers. The function should calculate the mean using the sum of the numbers divided by the total count."
   ]
  },
  {
   "cell_type": "code",
   "execution_count": 3,
   "id": "31acb765",
   "metadata": {},
   "outputs": [],
   "source": [
    "def calculate_mean(numbers):\n",
    "    total_sum = sum(numbers)\n",
    "    count = len(numbers)\n",
    "    mean = total_sum / count\n",
    "    return mean\n"
   ]
  },
  {
   "cell_type": "markdown",
   "id": "3d6140cc",
   "metadata": {},
   "source": [
    "20. Write a function called ‘perform_hypothesis_test’ that takes two lists of numbers as input, representing two samples. The function should perform a two-sample t-test and return the p-value. Use the ‘scipy.stats’ module in Python to calculate the t-test and p-value."
   ]
  },
  {
   "cell_type": "code",
   "execution_count": 4,
   "id": "166f4340",
   "metadata": {},
   "outputs": [],
   "source": [
    "from scipy import stats\n",
    "\n",
    "def perform_hypothesis_test(sample1, sample2):\n",
    "    t_statistic, p_value = stats.ttest_ind(sample1, sample2)\n",
    "    return p_value\n"
   ]
  }
 ],
 "metadata": {
  "kernelspec": {
   "display_name": "Python 3 (ipykernel)",
   "language": "python",
   "name": "python3"
  },
  "language_info": {
   "codemirror_mode": {
    "name": "ipython",
    "version": 3
   },
   "file_extension": ".py",
   "mimetype": "text/x-python",
   "name": "python",
   "nbconvert_exporter": "python",
   "pygments_lexer": "ipython3",
   "version": "3.9.7"
  }
 },
 "nbformat": 4,
 "nbformat_minor": 5
}
