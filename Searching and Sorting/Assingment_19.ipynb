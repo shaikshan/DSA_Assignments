{
 "cells": [
  {
   "cell_type": "markdown",
   "id": "9868ae68",
   "metadata": {},
   "source": [
    "\n",
    "💡 1. **Merge k Sorted Lists**\n",
    "\n",
    "You are given an array of `k` linked-lists `lists`, each linked-list is sorted in ascending order.\n",
    "\n",
    "*Merge all the linked-lists into one sorted linked-list and return it.*\n",
    "\n",
    "**Constraints:**\n",
    "\n",
    "- `k == lists.length`\n",
    "- `0 <= k <= 10000`\n",
    "- `0 <= lists[i].length <= 500`\n",
    "- `-10000 <= lists[i][j] <= 10000`\n",
    "- `lists[i]` is sorted in **ascending order**.\n",
    "- The sum of `lists[i].length` will not exceed `10000`."
   ]
  },
  {
   "cell_type": "markdown",
   "id": "f462bf9c",
   "metadata": {},
   "source": [
    "\n",
    "- Solution Explanation:\n",
    "- To merge k sorted lists into one sorted list, we can use a min-heap data structure. Here's the step-by-step approach:\n",
    "- Create a min-heap and initialize it.\n",
    "- Iterate through each list in the given array of linked lists and insert the first element from each list into the min-heap.\n",
    "- Create a new linked list to store the merged result.\n",
    "- While the min-heap is not empty, extract the minimum element from the heap and add it to the merged linked list.\n",
    "- If the extracted element has a next element in its original list, insert that next element into the min-heap.\n",
    "- Repeat the above step until all elements are processed.\n",
    "- Return the head of the merged linked list."
   ]
  },
  {
   "cell_type": "code",
   "execution_count": 1,
   "id": "827d7771",
   "metadata": {},
   "outputs": [],
   "source": [
    "import heapq\n",
    "\n",
    "class ListNode:\n",
    "    def __init__(self, val=0, next=None):\n",
    "        self.val = val\n",
    "        self.next = next\n",
    "\n",
    "def mergeKLists(lists):\n",
    "    min_heap = []\n",
    "    # Initialize the min-heap\n",
    "    for i in range(len(lists)):\n",
    "        if lists[i]:\n",
    "            heapq.heappush(min_heap, (lists[i].val, i))\n",
    "            lists[i] = lists[i].next\n",
    "    \n",
    "    head = ListNode()\n",
    "    curr = head\n",
    "    \n",
    "    while min_heap:\n",
    "        val, idx = heapq.heappop(min_heap)\n",
    "        curr.next = ListNode(val)\n",
    "        curr = curr.next\n",
    "        \n",
    "        if lists[idx]:\n",
    "            heapq.heappush(min_heap, (lists[idx].val, idx))\n",
    "            lists[idx] = lists[idx].next\n",
    "    \n",
    "    return head.next"
   ]
  },
  {
   "cell_type": "markdown",
   "id": "9df86491",
   "metadata": {},
   "source": [
    "- Time and Space Complexity:\n",
    "- Time Complexity: The time complexity of this solution is O(N log k), where N is the total number of nodes across all lists and k is the number of lists. The complexity arises from inserting and extracting elements from the min-heap.\n",
    "- Space Complexity: The space complexity is O(k), as we are using a min-heap to store at most k elements at any given time."
   ]
  },
  {
   "cell_type": "markdown",
   "id": "1b142e9f",
   "metadata": {},
   "source": [
    "💡 2. **Count of Smaller Numbers After Self**\n",
    "\n",
    "Given an integer array `nums`, return *an integer array* `counts` *where* `counts[i]` *is the number of smaller elements to the right of* `nums[i]`.\n",
    "\n",
    "\n",
    "**Constraints:**\n",
    "\n",
    "- `1 <= nums.length <= 100000`\n",
    "- `-10000 <= nums[i] <= 10000`"
   ]
  },
  {
   "cell_type": "markdown",
   "id": "fd4d1f48",
   "metadata": {},
   "source": [
    "\n",
    "- Solution Explanation:\n",
    "- To solve this problem, we can use the Merge Sort algorithm with a slight modification. Here's the step-by-step approach:\n",
    "- Create a helper function called mergeSort() that takes an input array and returns the sorted array along with the count of smaller elements to the right.\n",
    "- In the mergeSort() function, recursively divide the input array into two halves until you reach individual elements.\n",
    "- While merging the two sorted halves, compare the elements from both halves and count the number of smaller elements on the right side.\n",
    "- Return the merged sorted array and the count of smaller elements.\n",
    "- Finally, call the mergeSort() function on the given input array to obtain the sorted array and the count of smaller elements."
   ]
  },
  {
   "cell_type": "code",
   "execution_count": 2,
   "id": "b16f3448",
   "metadata": {},
   "outputs": [],
   "source": [
    "def countSmaller(nums):\n",
    "    def mergeSort(nums):\n",
    "        if len(nums) <= 1:\n",
    "            return nums, [0]\n",
    "        \n",
    "        mid = len(nums) // 2\n",
    "        left, left_count = mergeSort(nums[:mid])\n",
    "        right, right_count = mergeSort(nums[mid:])\n",
    "        \n",
    "        merged = []\n",
    "        count = [0] * len(nums)\n",
    "        i, j = 0, 0\n",
    "        \n",
    "        while i < len(left) and j < len(right):\n",
    "            if left[i] <= right[j]:\n",
    "                merged.append(left[i])\n",
    "                count[left_count[i] + i] += j\n",
    "                i += 1\n",
    "            else:\n",
    "                merged.append(right[j])\n",
    "                j += 1\n",
    "        \n",
    "        merged.extend(left[i:])\n",
    "        merged.extend(right[j:])\n",
    "        count.extend(left_count[i:])\n",
    "        count.extend(right_count[j:])\n",
    "        \n",
    "        return merged, count\n",
    "    \n",
    "    _, result = mergeSort(nums)\n",
    "    return result"
   ]
  },
  {
   "cell_type": "markdown",
   "id": "bf2368d9",
   "metadata": {},
   "source": [
    "- Time and Space Complexity:\n",
    "- Time Complexity: The time complexity of this solution is O(n log n), where n is the length of the input array. This complexity arises from the merge sort algorithm.\n",
    "- Space Complexity: The space complexity is O(n), as we are using additional arrays to store the merged sorted array and the count of smaller elements."
   ]
  },
  {
   "cell_type": "markdown",
   "id": "c7551deb",
   "metadata": {},
   "source": [
    "💡 3. **Sort an Array**\n",
    "\n",
    "Given an array of integers `nums`, sort the array in ascending order and return it.\n",
    "\n",
    "You must solve the problem **without using any built-in** functions in `O(nlog(n))` time complexity and with the smallest space complexity possible.\n",
    "\n",
    "**Constraints:**\n",
    "\n",
    "- `1 <= nums.length <= 5 * 10000`\n",
    "- `-5 * 104 <= nums[i] <= 5 * 10000`"
   ]
  },
  {
   "cell_type": "markdown",
   "id": "d0be8216",
   "metadata": {},
   "source": [
    "\n",
    "- Solution Explanation:\n",
    "- To sort the array in ascending order without using any built-in functions and with O(nlog(n)) time complexity, we can use the Quick Sort algorithm. Here's the step-by-step approach:\n",
    "- Create a helper function called partition() that takes an input array, selects a pivot element, and partitions the array into two halves.\n",
    "- In the partition() function, choose the last element as the pivot.\n",
    "- Initialize two pointers, \"i\" and \"j,\" to keep track of the elements less than or equal to the pivot and the elements greater than the pivot, respectively.\n",
    "- Iterate through the array from the start to the second-to-last element.\n",
    "- If an element is smaller than or equal to the pivot, swap it with the element at index \"i\" and increment \"i.\"\n",
    "- After the iteration, swap the pivot element with the element at index \"i\" to place the pivot in its correct sorted position.\n",
    "- Recursively call the partition() function on the two halves of the array, excluding the pivot element.\n",
    "- Return the sorted array."
   ]
  },
  {
   "cell_type": "code",
   "execution_count": 3,
   "id": "3d809b7a",
   "metadata": {},
   "outputs": [],
   "source": [
    "def sortArray(nums):\n",
    "    def partition(nums, low, high):\n",
    "        pivot = nums[high]\n",
    "        i = low - 1\n",
    "        \n",
    "        for j in range(low, high):\n",
    "            if nums[j] <= pivot:\n",
    "                i += 1\n",
    "                nums[i], nums[j] = nums[j], nums[i]\n",
    "        \n",
    "        nums[i + 1], nums[high] = nums[high], nums[i + 1]\n",
    "        return i + 1\n",
    "    \n",
    "    def quickSort(nums, low, high):\n",
    "        if low < high:\n",
    "            pivot = partition(nums, low, high)\n",
    "            quickSort(nums, low, pivot - 1)\n",
    "            quickSort(nums, pivot + 1, high)\n",
    "    \n",
    "    quickSort(nums, 0, len(nums) - 1)\n",
    "    return nums"
   ]
  },
  {
   "cell_type": "markdown",
   "id": "9ce232b9",
   "metadata": {},
   "source": [
    "- Time and Space Complexity:\n",
    "- Time Complexity: The time complexity of this solution is O(nlog(n)), where n is the length of the input array. This complexity arises from the quick sort algorithm.\n",
    "- Space Complexity: The space complexity is O(log(n)), as the recursive calls of the quickSort() function require space on the call stack."
   ]
  },
  {
   "cell_type": "markdown",
   "id": "0d7e114b",
   "metadata": {},
   "source": [
    "💡 4. **Move all zeroes to end of array**\n",
    "\n",
    "Given an array of random numbers, Push all the zero’s of a given array to the end of the array. For example, if the given arrays is {1, 9, 8, 4, 0, 0, 2, 7, 0, 6, 0}, it should be changed to {1, 9, 8, 4, 2, 7, 6, 0, 0, 0, 0}. The order of all other elements should be same. Expected time complexity is O(n) and extra space is O(1)."
   ]
  },
  {
   "cell_type": "markdown",
   "id": "b5a959e8",
   "metadata": {},
   "source": [
    "- Solution Explanation:\n",
    "- To move all zeroes to the end of the array while maintaining the order of other elements, we can use the two-pointer technique. Here's the step-by-step approach:\n",
    "- Initialize two pointers, \"i\" and \"j,\" both starting at index 0.\n",
    "- Iterate through the array using the pointer \"i.\"\n",
    "- If the element at index \"i\" is non-zero, swap it with the element at index \"j\" and increment both pointers \"i\" and \"j.\"\n",
    "- By doing this, all non-zero elements will be shifted towards the beginning of the array, while \"j\" keeps track of the last non-zero element's position.\n",
    "- Finally, fill the remaining positions from \"j\" to the end of the array with zeroes."
   ]
  },
  {
   "cell_type": "code",
   "execution_count": 4,
   "id": "96d3d9fd",
   "metadata": {},
   "outputs": [],
   "source": [
    "def moveZeroes(nums):\n",
    "    i = 0\n",
    "    j = 0\n",
    "    \n",
    "    while i < len(nums):\n",
    "        if nums[i] != 0:\n",
    "            nums[i], nums[j] = nums[j], nums[i]\n",
    "            j += 1\n",
    "        i += 1\n",
    "    \n",
    "    while j < len(nums):\n",
    "        nums[j] = 0\n",
    "        j += 1\n",
    "    \n",
    "    return nums"
   ]
  },
  {
   "cell_type": "markdown",
   "id": "d166b729",
   "metadata": {},
   "source": [
    "- Time and Space Complexity:\n",
    "- Time Complexity: The time complexity of this solution is O(n), where n is the length of the input array. We iterate through the array once using the two-pointer technique.\n",
    "- Space Complexity: The space complexity is O(1), as we only use a constant amount of extra space to store the two pointers."
   ]
  },
  {
   "cell_type": "markdown",
   "id": "4db16ccb",
   "metadata": {},
   "source": [
    "💡 5. **Rearrange array in alternating positive & negative items with O(1) extra space**\n",
    "\n",
    "Given an **array of positive** and **negative numbers**, arrange them in an **alternate** fashion such that every positive number is followed by a negative and vice-versa maintaining the **order of appearance**. The number of positive and negative numbers need not be equal. If there are more positive numbers they appear at the end of the array. If there are more negative numbers, they too appear at the end of the array.\n"
   ]
  },
  {
   "cell_type": "markdown",
   "id": "f49eb3b6",
   "metadata": {},
   "source": [
    "- Solution Explanation:\n",
    "- To rearrange the array in an alternating fashion with positive and negative numbers while maintaining the order, we can use a two-pointer approach. Here's the step-by-step approach:\n",
    "- Initialize two pointers, \"i\" and \"j,\" both starting at index 0.\n",
    "- Iterate through the array using the pointer \"i.\"\n",
    "- If the element at index \"i\" is positive and the element at index \"j\" is negative, swap the elements at indices \"i\" and \"j\" and increment both pointers \"i\" and \"j.\"\n",
    "- If the element at index \"i\" is negative, increment only the pointer \"i\" to find the next positive number.\n",
    "- Continue the iteration until \"i\" reaches the end of the array.\n",
    "- Finally, the array will be rearranged with positive and negative numbers in an alternating fashion while maintaining the order of appearance."
   ]
  },
  {
   "cell_type": "code",
   "execution_count": 5,
   "id": "01e991b5",
   "metadata": {},
   "outputs": [],
   "source": [
    "def rearrangeArray(nums):\n",
    "    i = 0\n",
    "    j = 0\n",
    "    \n",
    "    while i < len(nums) and j < len(nums):\n",
    "        if nums[i] >= 0:\n",
    "            i += 1\n",
    "        elif nums[j] < 0:\n",
    "            j += 1\n",
    "        else:\n",
    "            nums[i], nums[j] = nums[j], nums[i]\n",
    "            i += 1\n",
    "            j += 1\n",
    "    \n",
    "    return nums"
   ]
  },
  {
   "cell_type": "markdown",
   "id": "44e23c2a",
   "metadata": {},
   "source": [
    "- Time and Space Complexity:\n",
    "- Time Complexity: The time complexity of this solution is O(n), where n is the length of the input array. We iterate through the array once using the two-pointer technique.\n",
    "- Space Complexity: The space complexity is O(1), as we only use a constant amount of extra space to store the two pointers."
   ]
  },
  {
   "cell_type": "markdown",
   "id": "04d46185",
   "metadata": {},
   "source": [
    "💡 **6. Merge two sorted arrays**\n",
    "\n",
    "Given two sorted arrays, the task is to merge them in a sorted manner."
   ]
  },
  {
   "cell_type": "markdown",
   "id": "7cdf7406",
   "metadata": {},
   "source": [
    "- Solution Explanation:\n",
    "- To merge two sorted arrays into a single sorted array, we can use the Merge Sort algorithm's merge step. Here's the step-by-step approach:\n",
    "- Create a new array to store the merged result.\n",
    "- Initialize three pointers: \"i\" for the first array, \"j\" for the second array, and \"k\" for the merged array (initially set to 0).\n",
    "- Compare the elements at indices \"i\" and \"j\" of the two arrays.\n",
    "- If the element at index \"i\" of the first array is smaller or equal, add it to the merged array at index \"k\" and increment both \"i\" and \"k\".\n",
    "- If the element at index \"j\" of the second array is smaller, add it to the merged array at index \"k\" and increment both \"j\" and \"k\".\n",
    "- Repeat the comparison and addition steps until either the first array or the second array is fully processed.\n",
    "- If there are any remaining elements in the first array, add them to the merged array.\n",
    "- If there are any remaining elements in the second array, add them to the merged array.\n",
    "- Return the merged array as the final result."
   ]
  },
  {
   "cell_type": "code",
   "execution_count": 6,
   "id": "70ebf0bb",
   "metadata": {},
   "outputs": [],
   "source": [
    "def mergeArrays(arr1, arr2):\n",
    "    merged = []\n",
    "    i = 0\n",
    "    j = 0\n",
    "    k = 0\n",
    "    \n",
    "    while i < len(arr1) and j < len(arr2):\n",
    "        if arr1[i] <= arr2[j]:\n",
    "            merged.append(arr1[i])\n",
    "            i += 1\n",
    "        else:\n",
    "            merged.append(arr2[j])\n",
    "            j += 1\n",
    "        k += 1\n",
    "    \n",
    "    while i < len(arr1):\n",
    "        merged.append(arr1[i])\n",
    "        i += 1\n",
    "        k += 1\n",
    "    \n",
    "    while j < len(arr2):\n",
    "        merged.append(arr2[j])\n",
    "        j += 1\n",
    "        k += 1\n",
    "    \n",
    "    return merged"
   ]
  },
  {
   "cell_type": "markdown",
   "id": "007f35f7",
   "metadata": {},
   "source": [
    "- Time and Space Complexity:\n",
    "- Time Complexity: The time complexity of this solution is O(n + m), where n and m are the lengths of the two input arrays, arr1 and arr2, respectively. We iterate through both arrays once.\n",
    "- Space Complexity: The space complexity is O(n + m), as we create a new merged array to store the sorted result."
   ]
  },
  {
   "cell_type": "markdown",
   "id": "56baecf8",
   "metadata": {},
   "source": [
    "💡 7. **Intersection of Two Arrays**\n",
    "\n",
    "Given two integer arrays `nums1` and `nums2`, return *an array of their intersection*. Each element in the result must be **unique** and you may return the result in **any order**.\n",
    "\n",
    "**Constraints:**\n",
    "\n",
    "- `1 <= nums1.length, nums2.length <= 1000`\n",
    "- `0 <= nums1[i], nums2[i] <= 1000`"
   ]
  },
  {
   "cell_type": "markdown",
   "id": "1dcfc485",
   "metadata": {},
   "source": [
    "- Solution Explanation:\n",
    "- To find the intersection of two arrays, we can use a set data structure to store the unique elements of one array, and then iterate through the other array to find the common elements. Here's the step-by-step approach:\n",
    "- Create an empty set to store the unique elements.\n",
    "- Iterate through the first array, nums1, and add each element to the set.\n",
    "- Create an empty result array to store the intersection elements.\n",
    "- Iterate through the second array, nums2, and for each element, check if it exists in the set.\n",
    "- If the element is found in the set, add it to the result array and remove it from the set to avoid duplicates.\n",
    "- Finally, return the result array containing the intersection elements."
   ]
  },
  {
   "cell_type": "code",
   "execution_count": 7,
   "id": "86c72529",
   "metadata": {},
   "outputs": [],
   "source": [
    "def intersection(nums1, nums2):\n",
    "    unique_nums = set(nums1)\n",
    "    result = []\n",
    "    \n",
    "    for num in nums2:\n",
    "        if num in unique_nums:\n",
    "            result.append(num)\n",
    "            unique_nums.remove(num)\n",
    "    \n",
    "    return result"
   ]
  },
  {
   "cell_type": "markdown",
   "id": "c664985e",
   "metadata": {},
   "source": [
    "- Time and Space Complexity:\n",
    "- Time Complexity: The time complexity of this solution is O(n + m), where n and m are the lengths of the two input arrays, nums1 and nums2, respectively. We iterate through both arrays once.\n",
    "- Space Complexity: The space complexity is O(n), where n is the length of nums1. We use a set to store the unique elements of nums1. In the worst case, the set will store all the elements of nums1."
   ]
  },
  {
   "cell_type": "markdown",
   "id": "5d15a07f",
   "metadata": {},
   "source": [
    "💡 8. **Intersection of Two Arrays II**\n",
    "\n",
    "Given two integer arrays `nums1` and `nums2`, return *an array of their intersection*. Each element in the result must appear as many times as it shows in both arrays and you may return the result in **any order**.\n",
    "**Constraints:**\n",
    "\n",
    "- `1 <= nums1.length, nums2.length <= 1000`\n",
    "- `0 <= nums1[i], nums2[i] <= 1000`"
   ]
  },
  {
   "cell_type": "markdown",
   "id": "1fdabe37",
   "metadata": {},
   "source": [
    "- Solution Explanation:\n",
    "- To find the intersection of two arrays while considering the count of each element, we can use a hash map to store the count of elements in one array, and then iterate through the other array to find the common elements. Here's the step-by-step approach:\n",
    "- Create an empty dictionary, count, to store the count of elements.\n",
    "- Iterate through the first array, nums1, and for each element, update its count in the count dictionary.\n",
    "- Create an empty result array to store the intersection elements.\n",
    "- Iterate through the second array, nums2, and for each element, check if it exists in the count dictionary and its count is greater than 0.\n",
    "- If the element is found and its count is greater than 0, add it to the result array and decrement its count in the count dictionary.\n",
    "- Finally, return the result array containing the intersection elements."
   ]
  },
  {
   "cell_type": "code",
   "execution_count": 8,
   "id": "d47df947",
   "metadata": {},
   "outputs": [],
   "source": [
    "def intersect(nums1, nums2):\n",
    "    count = {}\n",
    "    \n",
    "    for num in nums1:\n",
    "        if num in count:\n",
    "            count[num] += 1\n",
    "        else:\n",
    "            count[num] = 1\n",
    "    \n",
    "    result = []\n",
    "    \n",
    "    for num in nums2:\n",
    "        if num in count and count[num] > 0:\n",
    "            result.append(num)\n",
    "            count[num] -= 1\n",
    "    \n",
    "    return result"
   ]
  },
  {
   "cell_type": "markdown",
   "id": "34f32ec2",
   "metadata": {},
   "source": [
    "- Time and Space Complexity:\n",
    "- Time Complexity: The time complexity of this solution is O(n + m), where n and m are the lengths of the two input arrays, nums1 and nums2, respectively. We iterate through both arrays once.\n",
    "- Space Complexity: The space complexity is O(n), where n is the length of nums1. We use a dictionary, count, to store the count of elements in nums1. In the worst case, the dictionary will store all the unique elements of nums1."
   ]
  }
 ],
 "metadata": {
  "kernelspec": {
   "display_name": "Python 3 (ipykernel)",
   "language": "python",
   "name": "python3"
  },
  "language_info": {
   "codemirror_mode": {
    "name": "ipython",
    "version": 3
   },
   "file_extension": ".py",
   "mimetype": "text/x-python",
   "name": "python",
   "nbconvert_exporter": "python",
   "pygments_lexer": "ipython3",
   "version": "3.9.7"
  }
 },
 "nbformat": 4,
 "nbformat_minor": 5
}
