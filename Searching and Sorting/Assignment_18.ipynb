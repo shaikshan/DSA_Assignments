{
 "cells": [
  {
   "cell_type": "markdown",
   "id": "3d129f8b",
   "metadata": {},
   "source": [
    "\n",
    "💡 1. **Merge Intervals**\n",
    "\n",
    "Given an array of `intervals` where `intervals[i] = [starti, endi]`, merge all overlapping intervals, and return *an array of the non-overlapping intervals that cover all the intervals in the input*."
   ]
  },
  {
   "cell_type": "markdown",
   "id": "fdc23ab4",
   "metadata": {},
   "source": [
    "- Sort the intervals based on the start time.\n",
    "- Initialize an empty result list to store the merged intervals.\n",
    "- Iterate through the sorted intervals:\n",
    "- If the result list is empty or the current interval does not overlap with the previous merged interval, add the current interval to the result list.\n",
    "- If the current interval overlaps with the previous merged interval, update the end time of the previous merged interval to be the maximum of the current interval's end time and the previous merged interval's end time.\n",
    "- Return the result list."
   ]
  },
  {
   "cell_type": "code",
   "execution_count": 1,
   "id": "b176a9c6",
   "metadata": {},
   "outputs": [],
   "source": [
    "def merge(intervals):\n",
    "    intervals.sort(key=lambda x: x[0])  # Sort intervals based on start time\n",
    "    merged = []  # Result list for merged intervals\n",
    "\n",
    "    for interval in intervals:\n",
    "        if not merged or interval[0] > merged[-1][1]:  # Non-overlapping interval\n",
    "            merged.append(interval)\n",
    "        else:  # Overlapping interval\n",
    "            merged[-1][1] = max(merged[-1][1], interval[1])  # Update end time\n",
    "\n",
    "    return merged\n"
   ]
  },
  {
   "cell_type": "markdown",
   "id": "d7247de2",
   "metadata": {},
   "source": [
    "- Time Complexity: The time complexity is O(n log n) due to the sorting step, where n is the number of intervals. The subsequent merging process takes linear time.\n",
    "- Space Complexity: The space complexity is O(n) as we need to store the merged intervals in the result list."
   ]
  },
  {
   "cell_type": "markdown",
   "id": "3b5edd4d",
   "metadata": {},
   "source": [
    "💡 2. **Sort Colors**\n",
    "\n",
    "Given an array `nums` with `n` objects colored red, white, or blue, sort them **[in-place](https://en.wikipedia.org/wiki/In-place_algorithm)** so that objects of the same color are adjacent, with the colors in the order red, white, and blue.\n",
    "\n",
    "We will use the integers `0`, `1`, and `2` to represent the color red, white, and blue, respectively.\n",
    "\n",
    "You must solve this problem without using the library's sort function."
   ]
  },
  {
   "cell_type": "markdown",
   "id": "a45c1756",
   "metadata": {},
   "source": [
    "- Initialize three pointers: low, mid, and high. Set low and mid to the start of the array (index 0), and high to the end of the array (index n - 1), where n is the length of the array.\n",
    "- Iterate through the array while mid <= high:\n",
    "- If nums[mid] is 0, swap it with nums[low] and increment both low and mid pointers.\n",
    "- If nums[mid] is 1, it is already in the correct position, so just increment the mid pointer.\n",
    "- If nums[mid] is 2, swap it with nums[high] and decrement the high pointer. Don't increment the mid pointer in this case, as the swapped element needs to be re-evaluated.\n",
    "- Repeat step 2 until mid is greater than high.\n",
    "- The array will be sorted in place after the above steps."
   ]
  },
  {
   "cell_type": "code",
   "execution_count": 2,
   "id": "d9be84de",
   "metadata": {},
   "outputs": [],
   "source": [
    "def sortColors(nums):\n",
    "    low = 0\n",
    "    mid = 0\n",
    "    high = len(nums) - 1\n",
    "\n",
    "    while mid <= high:\n",
    "        if nums[mid] == 0:\n",
    "            nums[mid], nums[low] = nums[low], nums[mid]\n",
    "            low += 1\n",
    "            mid += 1\n",
    "        elif nums[mid] == 1:\n",
    "            mid += 1\n",
    "        else:  # nums[mid] == 2\n",
    "            nums[mid], nums[high] = nums[high], nums[mid]\n",
    "            high -= 1\n",
    "\n",
    "    return nums\n"
   ]
  },
  {
   "cell_type": "markdown",
   "id": "6c1c4425",
   "metadata": {},
   "source": [
    "- Time Complexity: The time complexity is O(n) as we iterate through the array once.\n",
    "- Space Complexity: The space complexity is O(1) as we sort the array in place without using any additional data structures."
   ]
  },
  {
   "cell_type": "markdown",
   "id": "adac44fc",
   "metadata": {},
   "source": [
    "💡 3. **First Bad Version Solution**\n",
    "\n",
    "You are a product manager and currently leading a team to develop a new product. Unfortunately, the latest version of your product fails the quality check. Since each version is developed based on the previous version, all the versions after a bad version are also bad.\n",
    "\n",
    "Suppose you have `n` versions `[1, 2, ..., n]` and you want to find out the first bad one, which causes all the following ones to be bad.\n",
    "\n",
    "You are given an API `bool isBadVersion(version)` which returns whether `version` is bad. Implement a function to find the first bad version. You should minimize the number of calls to the API.\n"
   ]
  },
  {
   "cell_type": "markdown",
   "id": "c0188b08",
   "metadata": {},
   "source": [
    "- Implement a binary search algorithm to find the first bad version.\n",
    "- Set the left pointer to 1 (the first version) and the right pointer to n (the last version).\n",
    "- While the left pointer is less than or equal to the right pointer:\n",
    "- Calculate the middle version as mid = (left + right) // 2.\n",
    "- Check if the middle version is a bad version by calling the isBadVersion(mid) API.\n",
    "- If isBadVersion(mid) returns True, then the first bad version is either mid or before mid. So, set the right pointer to mid - 1.\n",
    "- If isBadVersion(mid) returns False, then the first bad version is after mid. So, set the left pointer to mid + 1.\n",
    "- After the binary search loop, the left pointer will point to the first bad version.\n",
    "- Return the left pointer as the result."
   ]
  },
  {
   "cell_type": "code",
   "execution_count": 3,
   "id": "430ebc4a",
   "metadata": {},
   "outputs": [],
   "source": [
    "def firstBadVersion(n):\n",
    "    left = 1\n",
    "    right = n\n",
    "\n",
    "    while left <= right:\n",
    "        mid = (left + right) // 2\n",
    "        if isBadVersion(mid):\n",
    "            right = mid - 1\n",
    "        else:\n",
    "            left = mid + 1\n",
    "\n",
    "    return left\n"
   ]
  },
  {
   "cell_type": "markdown",
   "id": "27ec615e",
   "metadata": {},
   "source": [
    "- Time Complexity: The time complexity is O(log n) as we perform binary search on the range of versions.\n",
    "- Space Complexity: The space complexity is O(1) as we only use a constant amount of extra space for the pointers."
   ]
  },
  {
   "cell_type": "markdown",
   "id": "08648e2b",
   "metadata": {},
   "source": [
    "💡 4. **Maximum Gap**\n",
    "\n",
    "Given an integer array `nums`, return *the maximum difference between two successive elements in its sorted form*. If the array contains less than two elements, return `0`.\n",
    "\n",
    "You must write an algorithm that runs in linear time and uses linear extra space."
   ]
  },
  {
   "cell_type": "markdown",
   "id": "7a6d1e37",
   "metadata": {},
   "source": [
    "- If the length of the array is less than 2, return 0.\n",
    "- Find the minimum and maximum elements in the array.\n",
    "- Calculate the bucket size as (max_val - min_val) / (n - 1), where n is the length of the array.\n",
    "- Create n - 1 buckets to store the minimum and maximum values for each bucket.\n",
    "- Iterate through the array and distribute each element into its respective bucket based on its value.\n",
    "- For each bucket, track the minimum and maximum values.\n",
    "- Iterate through the buckets and calculate the maximum gap between adjacent buckets. The maximum gap will be the maximum of (current bucket's minimum - previous bucket's maximum).\n",
    "- Return the maximum gap."
   ]
  },
  {
   "cell_type": "code",
   "execution_count": 4,
   "id": "bb3292b2",
   "metadata": {},
   "outputs": [],
   "source": [
    "def maximumGap(nums):\n",
    "    if len(nums) < 2:\n",
    "        return 0\n",
    "\n",
    "    min_val = min(nums)\n",
    "    max_val = max(nums)\n",
    "    n = len(nums)\n",
    "\n",
    "    if min_val == max_val:\n",
    "        return 0\n",
    "\n",
    "    # Calculate bucket size\n",
    "    bucket_size = (max_val - min_val) // (n - 1)\n",
    "\n",
    "    # Create buckets\n",
    "    min_buckets = [float('inf')] * (n - 1)\n",
    "    max_buckets = [float('-inf')] * (n - 1)\n",
    "\n",
    "    # Distribute elements into buckets\n",
    "    for num in nums:\n",
    "        if num == min_val or num == max_val:\n",
    "            continue\n",
    "        index = (num - min_val) // bucket_size\n",
    "        min_buckets[index] = min(min_buckets[index], num)\n",
    "        max_buckets[index] = max(max_buckets[index], num)\n",
    "\n",
    "    # Calculate maximum gap\n",
    "    max_gap = 0\n",
    "    prev_max = min_val\n",
    "    for i in range(n - 1):\n",
    "        if min_buckets[i] == float('inf') and max_buckets[i] == float('-inf'):\n",
    "            continue\n",
    "        max_gap = max(max_gap, min_buckets[i] - prev_max)\n",
    "        prev_max = max_buckets[i]\n",
    "\n",
    "    max_gap = max(max_gap, max_val - prev_max)\n",
    "    return max_gap\n"
   ]
  },
  {
   "cell_type": "markdown",
   "id": "0f64c839",
   "metadata": {},
   "source": [
    "- Time Complexity: The time complexity is O(n) as we perform linear scans through the array and the buckets.\n",
    "- Space Complexity: The space complexity is O(n) as we use extra space to store the buckets."
   ]
  },
  {
   "cell_type": "markdown",
   "id": "dc5800ba",
   "metadata": {},
   "source": [
    "💡 5. **Contains Duplicate**\n",
    "\n",
    "Given an integer array `nums`, return `true` if any value appears **at least twice** in the array, and return `false` if every element is distinct."
   ]
  },
  {
   "cell_type": "markdown",
   "id": "d1768b81",
   "metadata": {},
   "source": [
    "- Create an empty set called \"visited\".\n",
    "- Iterate through the elements in the array nums.\n",
    "- For each element, check if it exists in the \"visited\" set.\n",
    "- If it does, return True as it is a duplicate.\n",
    "- If it doesn't, add the element to the \"visited\" set.\n",
    "- If the loop completes without finding any duplicates, return False."
   ]
  },
  {
   "cell_type": "code",
   "execution_count": 5,
   "id": "a8b2d194",
   "metadata": {},
   "outputs": [],
   "source": [
    "def containsDuplicate(nums):\n",
    "    visited = set()\n",
    "\n",
    "    for num in nums:\n",
    "        if num in visited:\n",
    "            return True\n",
    "        visited.add(num)\n",
    "\n",
    "    return False\n"
   ]
  },
  {
   "cell_type": "markdown",
   "id": "1fbfe390",
   "metadata": {},
   "source": [
    "- Time Complexity: The time complexity is O(n) as we iterate through the array once, and the average time complexity of set operations is considered constant.\n",
    "- Space Complexity: The space complexity is O(n) as we use extra space to store the visited elements in a set."
   ]
  },
  {
   "cell_type": "markdown",
   "id": "7fba8a55",
   "metadata": {},
   "source": [
    "💡 6. **Minimum Number of Arrows to Burst Balloons**\n",
    "\n",
    "There are some spherical balloons taped onto a flat wall that represents the XY-plane. The balloons are represented as a 2D integer array `points` where `points[i] = [xstart, xend]` denotes a balloon whose **horizontal diameter** stretches between `xstart` and `xend`. You do not know the exact y-coordinates of the balloons.\n",
    "\n",
    "Arrows can be shot up **directly vertically** (in the positive y-direction) from different points along the x-axis. A balloon with `xstart` and `xend` is **burst** by an arrow shot at `x` if `xstart <= x <= xend`. There is **no limit** to the number of arrows that can be shot. A shot arrow keeps traveling up infinitely, bursting any balloons in its path.\n",
    "\n",
    "Given the array `points`, return *the **minimum** number of arrows that must be shot to burst all balloons*."
   ]
  },
  {
   "cell_type": "markdown",
   "id": "6535441a",
   "metadata": {},
   "source": [
    "- Sort the balloons based on their end points (xend) in ascending order.\n",
    "- Initialize the minimum number of arrows (min_arrows) as 1 and set the current arrow's position (arrow_pos) to the end point of the first balloon.\n",
    "- Iterate through the sorted balloons starting from the second balloon:\n",
    "- If the current balloon's start point (xstart) is greater than the arrow's position, it means the arrow cannot burst this balloon. So, increment min_arrows by 1 and update arrow_pos to the end point of the current balloon.\n",
    "- After the iteration, min_arrows will represent the minimum number of arrows required to burst all the balloons."
   ]
  },
  {
   "cell_type": "code",
   "execution_count": 6,
   "id": "3b416acc",
   "metadata": {},
   "outputs": [],
   "source": [
    "def findMinArrowShots(points):\n",
    "    if not points:\n",
    "        return 0\n",
    "\n",
    "    points.sort(key=lambda x: x[1])  # Sort balloons based on end points\n",
    "\n",
    "    min_arrows = 1\n",
    "    arrow_pos = points[0][1]\n",
    "\n",
    "    for i in range(1, len(points)):\n",
    "        if points[i][0] > arrow_pos:  # Current balloon cannot be burst by the arrow\n",
    "            min_arrows += 1\n",
    "            arrow_pos = points[i][1]\n",
    "\n",
    "    return min_arrows\n"
   ]
  },
  {
   "cell_type": "markdown",
   "id": "4e6d2ed0",
   "metadata": {},
   "source": [
    "- Time Complexity: The time complexity is O(n log n) due to the sorting step, where n is the number of balloons.\n",
    "- Space Complexity: The space complexity is O(1) as we use a constant amount of extra space."
   ]
  },
  {
   "cell_type": "markdown",
   "id": "6795b437",
   "metadata": {},
   "source": [
    "💡 7. **Longest Increasing Subsequence**\n",
    "\n",
    "Given an integer array `nums`, return *the length of the longest **strictly increasing***\n",
    "\n",
    "***subsequence***\n"
   ]
  },
  {
   "cell_type": "markdown",
   "id": "1eaf73fe",
   "metadata": {},
   "source": [
    "- Create an array dp of the same length as nums, initialized with all values set to 1. This array will store the length of the longest increasing subsequence ending at each index.\n",
    "- Iterate through the array nums starting from the second element:\n",
    "- For each element at index i, iterate through the elements before it (from 0 to i-1):\n",
    "- If nums[i] is greater than nums[j], update dp[i] as the maximum of dp[i] and dp[j] + 1. This means we can extend the increasing subsequence by including the current element.\n",
    "- Find the maximum value in the dp array and return it as the length of the longest increasing subsequence."
   ]
  },
  {
   "cell_type": "code",
   "execution_count": 7,
   "id": "9eeac710",
   "metadata": {},
   "outputs": [],
   "source": [
    "def lengthOfLIS(nums):\n",
    "    if not nums:\n",
    "        return 0\n",
    "\n",
    "    n = len(nums)\n",
    "    dp = [1] * n\n",
    "\n",
    "    for i in range(1, n):\n",
    "        for j in range(i):\n",
    "            if nums[i] > nums[j]:\n",
    "                dp[i] = max(dp[i], dp[j] + 1)\n",
    "\n",
    "    return max(dp)\n"
   ]
  },
  {
   "cell_type": "markdown",
   "id": "63762e14",
   "metadata": {},
   "source": [
    "- Time Complexity: The time complexity is O(n^2) due to the nested loop, where n is the length of the input array.\n",
    "- Space Complexity: The space complexity is O(n) as we use an additional array dp of length n to store the lengths of the longest increasing subsequences."
   ]
  },
  {
   "cell_type": "markdown",
   "id": "f97696d5",
   "metadata": {},
   "source": [
    "💡 8. **132 Pattern**\n",
    "\n",
    "Given an array of `n` integers `nums`, a **132 pattern** is a subsequence of three integers `nums[i]`, `nums[j]` and `nums[k]` such that `i < j < k` and `nums[i] < nums[k] < nums[j]`.\n",
    "\n",
    "Return `true` *if there is a **132 pattern** in* `nums`*, otherwise, return* `false`*.*"
   ]
  },
  {
   "cell_type": "markdown",
   "id": "f2ab2210",
   "metadata": {},
   "source": [
    "- Create a stack to store potential middle elements of the 132 pattern.\n",
    "- Initialize a variable named \"second\" to negative infinity. This will represent the potential middle element.\n",
    "- Iterate through the array nums in reverse order:\n",
    "- If the current number is greater than \"second\", it means we have found the first element (nums[i]) of the 132 pattern.\n",
    "- While the stack is not empty and the top element of the stack is less than the current number, update \"second\" with the top element of the stack.\n",
    "- Push the current number onto the stack.\n",
    "- If we find a number that is less than \"second\" during the iteration, it means we have found the 132 pattern (nums[i] < nums[k] < nums[j]). Return True.\n",
    "- If the iteration completes without finding the pattern, return False."
   ]
  },
  {
   "cell_type": "code",
   "execution_count": 8,
   "id": "ae8e97d5",
   "metadata": {},
   "outputs": [],
   "source": [
    "def find132pattern(nums):\n",
    "    stack = []\n",
    "    second = float('-inf')\n",
    "\n",
    "    for i in range(len(nums) - 1, -1, -1):\n",
    "        if nums[i] < second:\n",
    "            return True\n",
    "        while stack and nums[i] > stack[-1]:\n",
    "            second = stack.pop()\n",
    "        stack.append(nums[i])\n",
    "\n",
    "    return False\n"
   ]
  },
  {
   "cell_type": "markdown",
   "id": "f11ea152",
   "metadata": {},
   "source": [
    "- Time Complexity: The time complexity is O(n) as we iterate through the array once.\n",
    "- Space Complexity: The space complexity is O(n) as the stack can store at most n elements."
   ]
  }
 ],
 "metadata": {
  "kernelspec": {
   "display_name": "Python 3 (ipykernel)",
   "language": "python",
   "name": "python3"
  },
  "language_info": {
   "codemirror_mode": {
    "name": "ipython",
    "version": 3
   },
   "file_extension": ".py",
   "mimetype": "text/x-python",
   "name": "python",
   "nbconvert_exporter": "python",
   "pygments_lexer": "ipython3",
   "version": "3.9.7"
  }
 },
 "nbformat": 4,
 "nbformat_minor": 5
}
