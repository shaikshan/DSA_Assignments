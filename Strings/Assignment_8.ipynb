{
 "cells": [
  {
   "cell_type": "markdown",
   "id": "282ae812",
   "metadata": {},
   "source": [
    "\n",
    "💡 **Question 1**\n",
    "\n",
    "Given two strings s1 and s2, return *the lowest **ASCII** sum of deleted characters to make two strings equal*.\n"
   ]
  },
  {
   "cell_type": "markdown",
   "id": "759022d3",
   "metadata": {},
   "source": [
    "To find the lowest ASCII sum of deleted characters required to make two strings equal, we can use dynamic programming and the concept of the longest common subsequence (LCS)."
   ]
  },
  {
   "cell_type": "code",
   "execution_count": 1,
   "id": "262f6de3",
   "metadata": {},
   "outputs": [],
   "source": [
    "def minimum_ascii_delete_sum(s1, s2):\n",
    "    m, n = len(s1), len(s2)\n",
    "\n",
    "    dp = [[0] * (n + 1) for _ in range(m + 1)]\n",
    "\n",
    "    for i in range(1, m + 1):\n",
    "        dp[i][0] = dp[i - 1][0] + ord(s1[i - 1])\n",
    "    for j in range(1, n + 1):\n",
    "        dp[0][j] = dp[0][j - 1] + ord(s2[j - 1])\n",
    "\n",
    "    for i in range(1, m + 1):\n",
    "        for j in range(1, n + 1):\n",
    "            if s1[i - 1] == s2[j - 1]:\n",
    "                dp[i][j] = dp[i - 1][j - 1]\n",
    "            else:\n",
    "                dp[i][j] = min(dp[i - 1][j] + ord(s1[i - 1]),\n",
    "                               dp[i][j - 1] + ord(s2[j - 1]))\n",
    "\n",
    "    return dp[m][n]\n"
   ]
  },
  {
   "cell_type": "markdown",
   "id": "913fb46c",
   "metadata": {},
   "source": [
    "time complexity of the code is O(m * n) and the space complexity is O(m * n)."
   ]
  },
  {
   "cell_type": "markdown",
   "id": "cabc9a23",
   "metadata": {},
   "source": [
    "\n",
    "💡 **Question 2**\n",
    "\n",
    "Given a string s containing only three types of characters: '(', ')' and '*', return true *if* s *is **valid***.\n",
    "\n",
    "The following rules define a **valid** string:\n",
    "\n",
    "- Any left parenthesis '(' must have a corresponding right parenthesis ')'.\n",
    "- Any right parenthesis ')' must have a corresponding left parenthesis '('.\n",
    "- Left parenthesis '(' must go before the corresponding right parenthesis ')'.\n",
    "- '*' could be treated as a single right parenthesis ')' or a single left parenthesis '(' or an empty string \"\".\n"
   ]
  },
  {
   "cell_type": "markdown",
   "id": "4590ff1c",
   "metadata": {},
   "source": [
    "To determine if a given string s is valid according to the provided rules, we can use a stack-based approach.\n",
    "\n",
    "Here's the step-by-step explanation of the solution:\n",
    "\n",
    "- We initialize an empty stack to keep track of the opening parentheses '(' encountered so far.\n",
    "- We iterate through each character c in the string s:\n",
    "\n",
    "- If c is either '(' or '*', we push it onto the stack.\n",
    "- If c is ')', we check if the stack is empty. If it's not empty, we pop an opening parenthesis '(' from the stack. Otherwise, if the stack is empty, we try to use a '' as a substitute for the closing parenthesis. If there's no '' available, the string is not valid, and we return False.\n",
    "- After iterating through all characters in the string, we have two possibilities:\n",
    "\n",
    "- If the stack is empty, all opening parentheses '(' have been matched with corresponding closing parentheses ')', and the string is valid. We return True.\n",
    "- If the stack is not empty, we have unmatched opening parentheses '(' that do not have corresponding closing parentheses. However, we can use the '' characters to match them. We pop each opening parenthesis '(' from the stack as long as there are matching '' characters available. If the stack becomes empty, the string is valid. Otherwise, if the stack is still not empty, the string is not valid, and we return False."
   ]
  },
  {
   "cell_type": "code",
   "execution_count": 2,
   "id": "91ec2c62",
   "metadata": {},
   "outputs": [],
   "source": [
    "def is_valid(s):\n",
    "    stack = []\n",
    "\n",
    "    for c in s:\n",
    "        if c == '(' or c == '*':\n",
    "            stack.append(c)\n",
    "        elif c == ')':\n",
    "            if stack:\n",
    "                stack.pop()\n",
    "            else:\n",
    "                if '*' in stack:\n",
    "                    stack.remove('*')\n",
    "                else:\n",
    "                    return False\n",
    "\n",
    "    while stack and '*' in stack:\n",
    "        stack.remove('*')\n",
    "        stack.pop()\n",
    "\n",
    "    return len(stack) == 0\n"
   ]
  },
  {
   "cell_type": "markdown",
   "id": "767e246d",
   "metadata": {},
   "source": [
    " the time complexity of the code is O(n), and the space complexity is O(n)."
   ]
  },
  {
   "cell_type": "markdown",
   "id": "6521bd5a",
   "metadata": {},
   "source": [
    "\n",
    "💡 **Question 3**\n",
    "\n",
    "Given two strings word1 and word2, return *the minimum number of **steps** required to make* word1 *and* word2 *the same*.\n",
    "\n",
    "In one **step**, you can delete exactly one character in either string\n"
   ]
  },
  {
   "cell_type": "markdown",
   "id": "6b8f0987",
   "metadata": {},
   "source": [
    "\n",
    "To find the minimum number of steps required to make two strings word1 and word2 the same by deleting characters, we can use dynamic programming and the concept of the longest common subsequence (LCS)."
   ]
  },
  {
   "cell_type": "code",
   "execution_count": 3,
   "id": "978be327",
   "metadata": {},
   "outputs": [],
   "source": [
    "def min_steps_to_same(word1, word2):\n",
    "    m, n = len(word1), len(word2)\n",
    "\n",
    "    dp = [[0] * (n + 1) for _ in range(m + 1)]\n",
    "\n",
    "    for i in range(1, m + 1):\n",
    "        dp[i][0] = i\n",
    "    for j in range(1, n + 1):\n",
    "        dp[0][j] = j\n",
    "\n",
    "    for i in range(1, m + 1):\n",
    "        for j in range(1, n + 1):\n",
    "            if word1[i - 1] == word2[j - 1]:\n",
    "                dp[i][j] = dp[i - 1][j - 1]\n",
    "            else:\n",
    "                dp[i][j] = min(dp[i - 1][j], dp[i][j - 1]) + 1\n",
    "\n",
    "    return dp[m][n]\n"
   ]
  },
  {
   "cell_type": "markdown",
   "id": "6e476318",
   "metadata": {},
   "source": [
    "the time complexity of the code is O(m * n), and the space complexity is O(m * n)."
   ]
  },
  {
   "cell_type": "markdown",
   "id": "73c69955",
   "metadata": {},
   "source": [
    "\n",
    "💡 **Question 4**\n",
    "\n",
    "You need to construct a binary tree from a string consisting of parenthesis and integers.\n",
    "\n",
    "The whole input represents a binary tree. It contains an integer followed by zero, one or two pairs of parenthesis. The integer represents the root's value and a pair of parenthesis contains a child binary tree with the same structure.\n",
    "You always start to construct the **left** child node of the parent first if it exists.\n"
   ]
  },
  {
   "cell_type": "markdown",
   "id": "c07398d2",
   "metadata": {},
   "source": [
    "To construct a binary tree from a string consisting of parentheses and integers, we can use a recursive approach. Here's the step-by-step explanation of the solution:"
   ]
  },
  {
   "cell_type": "code",
   "execution_count": 4,
   "id": "1457ca42",
   "metadata": {},
   "outputs": [],
   "source": [
    "class TreeNode:\n",
    "    def __init__(self, val=0, left=None, right=None):\n",
    "        self.val = val\n",
    "        self.left = left\n",
    "        self.right = right\n",
    "\n",
    "def constructTree(s):\n",
    "    def extractInteger(s, pos):\n",
    "        num = \"\"\n",
    "        while pos < len(s) and s[pos].isdigit():\n",
    "            num += s[pos]\n",
    "            pos += 1\n",
    "        return int(num), pos\n",
    "\n",
    "    def constructSubTree(s, pos):\n",
    "        if s[pos] == '(':\n",
    "            pos += 1\n",
    "            left, pos = constructSubTree(s, pos)\n",
    "            node = TreeNode(left)\n",
    "            pos += 1\n",
    "        else:\n",
    "            val, pos = extractInteger(s, pos)\n",
    "            node = TreeNode(val)\n",
    "\n",
    "        if pos < len(s) and s[pos] == '(':\n",
    "            pos += 1\n",
    "            right, pos = constructSubTree(s, pos)\n",
    "            node.right = right\n",
    "            pos += 1\n",
    "\n",
    "        return node, pos\n",
    "\n",
    "    root, _ = constructSubTree(s, 0)\n",
    "    return root"
   ]
  },
  {
   "cell_type": "markdown",
   "id": "d25233f1",
   "metadata": {},
   "source": [
    "the time complexity of the code is O(n), and the space complexity is O(n)."
   ]
  },
  {
   "cell_type": "markdown",
   "id": "ff95dba6",
   "metadata": {},
   "source": [
    "\n",
    "💡 **Question 5**\n",
    "\n",
    "Given an array of characters chars, compress it using the following algorithm:\n",
    "\n",
    "Begin with an empty string s. For each group of **consecutive repeating characters** in chars:\n",
    "\n",
    "- If the group's length is 1, append the character to s.\n",
    "- Otherwise, append the character followed by the group's length.\n",
    "\n",
    "The compressed string s **should not be returned separately**, but instead, be stored **in the input character array chars**. Note that group lengths that are 10 or longer will be split into multiple characters in chars.\n",
    "\n",
    "After you are done **modifying the input array,** return *the new length of the array*.\n",
    "\n",
    "You must write an algorithm that uses only constant extra space.\n"
   ]
  },
  {
   "cell_type": "markdown",
   "id": "c0b1387d",
   "metadata": {},
   "source": [
    "To compress the given character array chars in-place, we can use two pointers: readPtr and writePtr. Here's the step-by-step explanation of the solution:"
   ]
  },
  {
   "cell_type": "code",
   "execution_count": 5,
   "id": "dc571884",
   "metadata": {},
   "outputs": [],
   "source": [
    "def compress(chars):\n",
    "    readPtr = writePtr = 0\n",
    "    count = 1\n",
    "\n",
    "    for readPtr in range(1, len(chars)):\n",
    "        if chars[readPtr] == chars[readPtr - 1]:\n",
    "            count += 1\n",
    "        else:\n",
    "            chars[writePtr] = chars[readPtr - 1]\n",
    "            writePtr += 1\n",
    "\n",
    "            if count > 1:\n",
    "                for digit in str(count):\n",
    "                    chars[writePtr] = digit\n",
    "                    writePtr += 1\n",
    "\n",
    "            count = 1\n",
    "\n",
    "    chars[writePtr] = chars[readPtr]\n",
    "    writePtr += 1\n",
    "\n",
    "    if count > 1:\n",
    "        for digit in str(count):\n",
    "            chars[writePtr] = digit\n",
    "            writePtr += 1\n",
    "\n",
    "    return writePtr\n"
   ]
  },
  {
   "cell_type": "markdown",
   "id": "e74274de",
   "metadata": {},
   "source": [
    "the time complexity of the code is O(n), and the space complexity is O(1)."
   ]
  },
  {
   "cell_type": "markdown",
   "id": "c4928697",
   "metadata": {},
   "source": [
    "\n",
    "\n",
    "💡 **Question 6**\n",
    "\n",
    "Given two strings s and p, return *an array of all the start indices of* p*'s anagrams in* s. You may return the answer in **any order**.\n",
    "\n",
    "An **Anagram** is a word or phrase formed by rearranging the letters of a different word or phrase, typically using all the original letters exactly once.\n"
   ]
  },
  {
   "cell_type": "markdown",
   "id": "c993a82d",
   "metadata": {},
   "source": [
    "To find all the start indices of anagrams of p in s, we can use a sliding window approach. Here's the step-by-step explanation of the solution:"
   ]
  },
  {
   "cell_type": "code",
   "execution_count": 6,
   "id": "be621cfc",
   "metadata": {},
   "outputs": [],
   "source": [
    "from collections import defaultdict\n",
    "\n",
    "def findAnagrams(s, p):\n",
    "    target = defaultdict(int)\n",
    "    current = defaultdict(int)\n",
    "    result = []\n",
    "\n",
    "    for char in p:\n",
    "        target[char] += 1\n",
    "\n",
    "    start = end = 0\n",
    "\n",
    "    while end < len(s):\n",
    "        current[s[end]] += 1\n",
    "\n",
    "        if end - start + 1 > len(p):\n",
    "            current[s[start]] -= 1\n",
    "            if current[s[start]] == 0:\n",
    "                del current[s[start]]\n",
    "            start += 1\n",
    "\n",
    "        if current == target:\n",
    "            result.append(start)\n",
    "\n",
    "        end += 1\n",
    "\n",
    "    return result"
   ]
  },
  {
   "cell_type": "markdown",
   "id": "15310054",
   "metadata": {},
   "source": [
    "the time complexity of the code is O(n), and the space complexity is O(1)."
   ]
  },
  {
   "cell_type": "markdown",
   "id": "3cfa6047",
   "metadata": {},
   "source": [
    "\n",
    "💡 **Question 7**\n",
    "\n",
    "Given an encoded string, return its decoded string.\n",
    "\n",
    "The encoding rule is: k[encoded_string], where the encoded_string inside the square brackets is being repeated exactly k times. Note that k is guaranteed to be a positive integer.\n",
    "\n",
    "You may assume that the input string is always valid; there are no extra white spaces, square brackets are well-formed, etc. Furthermore, you may assume that the original data does not contain any digits and that digits are only for those repeat numbers, k. For example, there will not be input like 3a or 2[4].\n",
    "\n",
    "The test cases are generated so that the length of the output will never exceed 105.\n"
   ]
  },
  {
   "cell_type": "markdown",
   "id": "c7253b07",
   "metadata": {},
   "source": [
    "To decode an encoded string, we can use a stack to keep track of the current state of decoding. Here's the step-by-step explanation of the solution:\n"
   ]
  },
  {
   "cell_type": "code",
   "execution_count": 7,
   "id": "1d813e6d",
   "metadata": {},
   "outputs": [],
   "source": [
    "def decodeString(s):\n",
    "    stack = []\n",
    "    \n",
    "    for char in s:\n",
    "        if char.isdigit():\n",
    "            stack.append(int(char))\n",
    "        elif char == '[':\n",
    "            stack.append('')\n",
    "        elif char == ']':\n",
    "            decoded_str = ''\n",
    "            while isinstance(stack[-1], str):\n",
    "                decoded_str = stack.pop() + decoded_str\n",
    "            repetition_count = stack.pop()\n",
    "            decoded_str *= repetition_count\n",
    "            stack.append(decoded_str)\n",
    "        else:\n",
    "            stack[-1] += char\n",
    "    \n",
    "    return ''.join(stack)"
   ]
  },
  {
   "cell_type": "markdown",
   "id": "91196018",
   "metadata": {},
   "source": [
    " the time complexity of the code is O(n), and the space complexity is O(n)."
   ]
  },
  {
   "cell_type": "markdown",
   "id": "441564ab",
   "metadata": {},
   "source": [
    "\n",
    "💡 **Question 8**\n",
    "\n",
    "Given two strings s and goal, return true *if you can swap two letters in* s *so the result is equal to* goal*, otherwise, return* false*.*\n",
    "\n",
    "Swapping letters is defined as taking two indices i and j (0-indexed) such that i != j and swapping the characters at s[i] and s[j].\n",
    "\n",
    "- For example, swapping at indices 0 and 2 in \"abcd\" results in \"cbad\"."
   ]
  },
  {
   "cell_type": "code",
   "execution_count": 8,
   "id": "ed7f9783",
   "metadata": {},
   "outputs": [],
   "source": [
    "def isSwappable(s, goal):\n",
    "    if len(s) != len(goal):\n",
    "        return False\n",
    "\n",
    "    diff_count = 0\n",
    "    diff_indices = []\n",
    "\n",
    "    for i in range(len(s)):\n",
    "        if s[i] != goal[i]:\n",
    "            diff_count += 1\n",
    "            diff_indices.append(i)\n",
    "\n",
    "        if diff_count > 2:\n",
    "            return False\n",
    "\n",
    "    if diff_count != 2:\n",
    "        return False\n",
    "\n",
    "    i, j = diff_indices\n",
    "    return s[i] == goal[j] and s[j] == goal[i]"
   ]
  },
  {
   "cell_type": "markdown",
   "id": "108d71ff",
   "metadata": {},
   "source": [
    " the time complexity of the code is O(n), and the space complexity is O(1)."
   ]
  }
 ],
 "metadata": {
  "kernelspec": {
   "display_name": "Python 3 (ipykernel)",
   "language": "python",
   "name": "python3"
  },
  "language_info": {
   "codemirror_mode": {
    "name": "ipython",
    "version": 3
   },
   "file_extension": ".py",
   "mimetype": "text/x-python",
   "name": "python",
   "nbconvert_exporter": "python",
   "pygments_lexer": "ipython3",
   "version": "3.9.7"
  }
 },
 "nbformat": 4,
 "nbformat_minor": 5
}
