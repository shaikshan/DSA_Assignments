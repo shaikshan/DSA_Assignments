{
 "cells": [
  {
   "cell_type": "markdown",
   "id": "805b5953",
   "metadata": {},
   "source": [
    "\n",
    "💡 **Question 1**\n",
    "\n",
    "Given a non-negative integer `x`, return *the square root of* `x` *rounded down to the nearest integer*. The returned integer should be **non-negative** as well.\n",
    "\n",
    "You **must not use** any built-in exponent function or operator.\n",
    "\n",
    "- For example, do not use `pow(x, 0.5)` in c++ or `x ** 0.5` in python."
   ]
  },
  {
   "cell_type": "markdown",
   "id": "4cc423d9",
   "metadata": {},
   "source": [
    "Explanation:\n",
    "\n",
    "- We can use a binary search approach to find the square root of the given number.\n",
    "- We start with a left pointer pointing to 0 and a right pointer pointing to the given number.\n",
    "- While the left pointer is less than or equal to the right pointer, we calculate the mid value as the average of the left and right pointers.\n",
    "- If the square of the mid value is equal to the given number, we return the mid value as the square root.\n",
    "- If the square of the mid value is greater than the given number, we update the right pointer to be mid - 1 and continue the search in the left half.\n",
    "- If the square of the mid value is less than the given number, we update the left pointer to be mid + 1 and continue the search in the right half.\n",
    "- Eventually, the left pointer will become greater than the right pointer, and the right pointer will be pointing to the largest integer whose square is less than or equal to the given number. We return the right pointer as the square root."
   ]
  },
  {
   "cell_type": "code",
   "execution_count": 1,
   "id": "ddf6b7a6",
   "metadata": {},
   "outputs": [],
   "source": [
    "def mySqrt(x):\n",
    "    left = 0\n",
    "    right = x\n",
    "\n",
    "    while left <= right:\n",
    "        mid = (left + right) // 2\n",
    "        square = mid * mid\n",
    "\n",
    "        if square == x:\n",
    "            return mid\n",
    "        elif square > x:\n",
    "            right = mid - 1\n",
    "        else:\n",
    "            left = mid + 1\n",
    "\n",
    "    return right\n"
   ]
  },
  {
   "cell_type": "markdown",
   "id": "ef2fffd1",
   "metadata": {},
   "source": [
    "Time and Space Complexity:\n",
    "- Time complexity: O(log N), where N is the given non-negative integer. The binary search approach reduces the search space by half in each iteration.\n",
    "- Space complexity: O(1). The algorithm uses a constant amount of extra space to store the left and right pointers."
   ]
  },
  {
   "cell_type": "markdown",
   "id": "3cc18e33",
   "metadata": {},
   "source": [
    "        \n",
    "💡 **Question 2**\n",
    "\n",
    "A peak element is an element that is strictly greater than its neighbors.\n",
    "\n",
    "Given a **0-indexed** integer array `nums`, find a peak element, and return its index. If the array contains multiple peaks, return the index to **any of the peaks**.\n",
    "\n",
    "You may imagine that `nums[-1] = nums[n] = -∞`. In other words, an element is always considered to be strictly greater than a neighbor that is outside the array.\n",
    "\n",
    "You must write an algorithm that runs in `O(log n)` time.\n"
   ]
  },
  {
   "cell_type": "markdown",
   "id": "9b15e946",
   "metadata": {},
   "source": [
    "You must write an algorithm that runs in O(log n) time.\n",
    "ChatGPT\n",
    "- Explanation: \n",
    "- We can use a modified binary search approach to find a peak element in the array.\n",
    "- We start with a left pointer pointing to the start of the array and a right pointer pointing to the end of the array.\n",
    "- While the left pointer is less than the right pointer, we calculate the mid value as the average of the left and right pointers.\n",
    "- We compare the mid value with its adjacent elements, nums[mid-1] and nums[mid+1], to determine if it is a peak element.\n",
    "- If nums[mid] is greater than both of its adjacent elements, it is a peak element, and we return the mid index.\n",
    "- If nums[mid] is smaller than nums[mid+1], it means there is a peak element on the right side of mid, so we update the left pointer to be mid + 1 and continue the search in the right half.\n",
    "- If nums[mid] is smaller than nums[mid-1], it means there is a peak element on the left side of mid, so we update the right pointer to be mid - 1 and continue the search in the left half.\n",
    "- Eventually, the left pointer will become equal to the right pointer, and we return either the left or right pointer as the index of the peak element.\n",
    "- Python code:"
   ]
  },
  {
   "cell_type": "code",
   "execution_count": 2,
   "id": "7a033db0",
   "metadata": {},
   "outputs": [],
   "source": [
    "def findPeakElement(nums):\n",
    "    left = 0\n",
    "    right = len(nums) - 1\n",
    "\n",
    "    while left < right:\n",
    "        mid = (left + right) // 2\n",
    "\n",
    "        if nums[mid] < nums[mid+1]:\n",
    "            left = mid + 1\n",
    "        else:\n",
    "            right = mid\n",
    "\n",
    "    return left\n"
   ]
  },
  {
   "cell_type": "markdown",
   "id": "956234ed",
   "metadata": {},
   "source": []
  },
  {
   "cell_type": "markdown",
   "id": "8c705edd",
   "metadata": {},
   "source": [
    "\n",
    "💡 **Question 3**\n",
    "\n",
    "****\n",
    "\n",
    "Given an array `nums` containing `n` distinct numbers in the range `[0, n]`, return *the only number in the range that is missing from the array.*\n",
    "\n"
   ]
  },
  {
   "cell_type": "markdown",
   "id": "0c5a8e0b",
   "metadata": {},
   "source": []
  },
  {
   "cell_type": "code",
   "execution_count": null,
   "id": "42253cd8",
   "metadata": {},
   "outputs": [],
   "source": []
  },
  {
   "cell_type": "markdown",
   "id": "716dcae2",
   "metadata": {},
   "source": []
  },
  {
   "cell_type": "markdown",
   "id": "4efb80d3",
   "metadata": {},
   "source": [
    "\n",
    "💡 **Question 4**\n",
    "\n",
    "Given an array of integers `nums` containing `n + 1` integers where each integer is in the range `[1, n]` inclusive.\n",
    "\n",
    "There is only **one repeated number** in `nums`, return *this repeated number*.\n",
    "\n",
    "You must solve the problem **without** modifying the array `nums` and uses only constant extra space.\n",
    "\n"
   ]
  },
  {
   "cell_type": "markdown",
   "id": "21e0a75e",
   "metadata": {},
   "source": []
  },
  {
   "cell_type": "code",
   "execution_count": null,
   "id": "9274f43e",
   "metadata": {},
   "outputs": [],
   "source": []
  },
  {
   "cell_type": "markdown",
   "id": "2e463960",
   "metadata": {},
   "source": []
  },
  {
   "cell_type": "markdown",
   "id": "aa53c641",
   "metadata": {},
   "source": [
    "\n",
    "💡 **Question 5**\n",
    "\n",
    "Given two integer arrays `nums1` and `nums2`, return *an array of their intersection*. Each element in the result must be **unique** and you may return the result in **any order**.\n",
    "\n"
   ]
  },
  {
   "cell_type": "markdown",
   "id": "c05b1d97",
   "metadata": {},
   "source": []
  },
  {
   "cell_type": "code",
   "execution_count": null,
   "id": "2450a385",
   "metadata": {},
   "outputs": [],
   "source": []
  },
  {
   "cell_type": "markdown",
   "id": "81a6f9c5",
   "metadata": {},
   "source": []
  },
  {
   "cell_type": "markdown",
   "id": "128f34e8",
   "metadata": {},
   "source": [
    "💡 **Question 6**\n",
    "\n",
    "Suppose an array of length `n` sorted in ascending order is **rotated** between `1` and `n` times. For example, the array `nums = [0,1,2,4,5,6,7]` might become:\n",
    "\n",
    "- `[4,5,6,7,0,1,2]` if it was rotated `4` times.\n",
    "- `[0,1,2,4,5,6,7]` if it was rotated `7` times.\n",
    "\n",
    "Notice that **rotating** an array `[a[0], a[1], a[2], ..., a[n-1]]` 1 time results in the array `[a[n-1], a[0], a[1], a[2], ..., a[n-2]]`.\n",
    "\n",
    "Given the sorted rotated array `nums` of **unique** elements, return *the minimum element of this array*.\n",
    "\n",
    "You must write an algorithm that runs in `O(log n) time.`\n"
   ]
  },
  {
   "cell_type": "markdown",
   "id": "053bde99",
   "metadata": {},
   "source": []
  },
  {
   "cell_type": "code",
   "execution_count": null,
   "id": "3c523cd3",
   "metadata": {},
   "outputs": [],
   "source": []
  },
  {
   "cell_type": "markdown",
   "id": "ebdaadd1",
   "metadata": {},
   "source": []
  },
  {
   "cell_type": "markdown",
   "id": "ba4185bf",
   "metadata": {},
   "source": [
    "💡 **Question 7**\n",
    "\n",
    "Given an array of integers `nums` sorted in non-decreasing order, find the starting and ending position of a given `target` value.\n",
    "\n",
    "If `target` is not found in the array, return `[-1, -1]`.\n",
    "\n",
    "You must write an algorithm with `O(log n)` runtime complexity.\n"
   ]
  },
  {
   "cell_type": "markdown",
   "id": "421d4713",
   "metadata": {},
   "source": []
  },
  {
   "cell_type": "code",
   "execution_count": null,
   "id": "d965cfa6",
   "metadata": {},
   "outputs": [],
   "source": []
  },
  {
   "cell_type": "markdown",
   "id": "d9eb14bb",
   "metadata": {},
   "source": []
  },
  {
   "cell_type": "markdown",
   "id": "2d41988f",
   "metadata": {},
   "source": [
    "💡 **Question 8**\n",
    "\n",
    "Given two integer arrays `nums1` and `nums2`, return *an array of their intersection*. Each element in the result must appear as many times as it shows in both arrays and you may return the result in **any order**.\n"
   ]
  },
  {
   "cell_type": "markdown",
   "id": "3d239753",
   "metadata": {},
   "source": []
  },
  {
   "cell_type": "code",
   "execution_count": null,
   "id": "c984021c",
   "metadata": {},
   "outputs": [],
   "source": []
  },
  {
   "cell_type": "markdown",
   "id": "b49dc927",
   "metadata": {},
   "source": []
  }
 ],
 "metadata": {
  "kernelspec": {
   "display_name": "Python 3 (ipykernel)",
   "language": "python",
   "name": "python3"
  },
  "language_info": {
   "codemirror_mode": {
    "name": "ipython",
    "version": 3
   },
   "file_extension": ".py",
   "mimetype": "text/x-python",
   "name": "python",
   "nbconvert_exporter": "python",
   "pygments_lexer": "ipython3",
   "version": "3.9.7"
  }
 },
 "nbformat": 4,
 "nbformat_minor": 5
}
