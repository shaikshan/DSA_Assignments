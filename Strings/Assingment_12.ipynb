{
 "cells": [
  {
   "cell_type": "markdown",
   "id": "80ae375c",
   "metadata": {},
   "source": [
    "\n",
    "💡 **Question 1**\n",
    "\n",
    "Given a singly linked list, delete **middle** of the linked list. For example, if given linked list is 1->2->**3**->4->5 then linked list should be modified to 1->2->4->5.If there are **even** nodes, then there would be **two middle** nodes, we need to delete the second middle element. For example, if given linked list is 1->2->3->4->5->6 then it should be modified to 1->2->3->5->6.If the input linked list is NULL or has 1 node, then it should return NULL"
   ]
  },
  {
   "cell_type": "markdown",
   "id": "7ff18e3c",
   "metadata": {},
   "source": [
    "- Solution:\n",
    "- To delete the middle node(s) from a singly linked list, we can use the two-pointer technique. We'll use two pointers, a slow pointer and a fast pointer, to traverse the linked list. The fast pointer will move twice as fast as the slow pointer, so when the fast pointer reaches the end of the linked list, the slow pointer will be at the middle node(s).\n",
    "- To delete the middle node(s), we'll keep track of the previous node of the slow pointer. Once we reach the middle node(s), we'll update the next pointer of the previous node to skip the middle node(s), effectively removing them from the linked list."
   ]
  },
  {
   "cell_type": "code",
   "execution_count": 1,
   "id": "719c4d48",
   "metadata": {},
   "outputs": [],
   "source": [
    "class ListNode:\n",
    "    def __init__(self, val=0, next=None):\n",
    "        self.val = val\n",
    "        self.next = next\n",
    "\n",
    "def delete_middle_node(head):\n",
    "    if not head or not head.next:\n",
    "        return None\n",
    "\n",
    "    slow = head\n",
    "    fast = head\n",
    "    prev = None\n",
    "\n",
    "    while fast and fast.next:\n",
    "        fast = fast.next.next\n",
    "        prev = slow\n",
    "        slow = slow.next\n",
    "\n",
    "    prev.next = slow.next\n",
    "\n",
    "    return head"
   ]
  },
  {
   "cell_type": "markdown",
   "id": "54664d6c",
   "metadata": {},
   "source": [
    "- Time and Space Complexity:\n",
    "- The time complexity of this solution is O(N), where N is the number of nodes in the linked list. We need to traverse the entire linked list to find the middle node(s) and update the pointers.\n",
    "- The space complexity is O(1) since we are using a constant amount of additional space to store the pointers."
   ]
  },
  {
   "cell_type": "markdown",
   "id": "f81959ca",
   "metadata": {},
   "source": [
    "\n",
    "💡 **Question 2**\n",
    "\n",
    "Given a linked list of **N** nodes. The task is to check if the linked list has a loop. Linked list can contain self loop.\n"
   ]
  },
  {
   "cell_type": "markdown",
   "id": "f92b8d9a",
   "metadata": {},
   "source": [
    "\n",
    "- Solution:\n",
    "- To check if a linked list has a loop, we can use the Floyd's Cycle Detection Algorithm, also known as the \"tortoise and hare\" algorithm. This algorithm uses two pointers, one moving at a slower pace (tortoise) and the other moving at a faster pace (hare). If there is a loop in the linked list, eventually the hare will catch up to the tortoise, indicating the presence of a loop."
   ]
  },
  {
   "cell_type": "code",
   "execution_count": 2,
   "id": "d2335e5c",
   "metadata": {},
   "outputs": [],
   "source": [
    "class ListNode:\n",
    "    def __init__(self, val=0, next=None):\n",
    "        self.val = val\n",
    "        self.next = next\n",
    "\n",
    "def has_cycle(head):\n",
    "    if not head or not head.next:\n",
    "        return False\n",
    "\n",
    "    slow = head\n",
    "    fast = head.next\n",
    "\n",
    "    while slow != fast:\n",
    "        if not fast or not fast.next:\n",
    "            return False\n",
    "        slow = slow.next\n",
    "        fast = fast.next.next\n",
    "\n",
    "    return True"
   ]
  },
  {
   "cell_type": "markdown",
   "id": "a0033e7d",
   "metadata": {},
   "source": [
    "- Time and Space Complexity:\n",
    "- The time complexity of this algorithm is O(N), where N is the number of nodes in the linked list. In the worst case, when there is a loop, the hare pointer will go around the loop once before meeting the tortoise. Since there are at most N nodes to traverse, the time complexity is linear.\n",
    "- The space complexity is O(1) since we are using a constant amount of additional space to store the pointers."
   ]
  },
  {
   "cell_type": "markdown",
   "id": "ad9ad976",
   "metadata": {},
   "source": [
    "\n",
    "💡 **Question 3**\n",
    "\n",
    "Given a linked list consisting of **L** nodes and given a number **N**. The task is to find the **N**th node from the end of the linked list.\n"
   ]
  },
  {
   "cell_type": "markdown",
   "id": "c3bef16b",
   "metadata": {},
   "source": [
    "- Solution:\n",
    "- To find the Nth node from the end of a linked list, we can use the two-pointer technique. We'll use two pointers, a slow pointer and a fast pointer. The fast pointer will be moved N nodes ahead of the slow pointer initially. Then, we'll move both pointers together until the fast pointer reaches the end of the linked list. At this point, the slow pointer will be pointing to the Nth node from the end.\n",
    "- \n",
    "Python code:"
   ]
  },
  {
   "cell_type": "code",
   "execution_count": 3,
   "id": "e6dee08f",
   "metadata": {},
   "outputs": [],
   "source": [
    "class ListNode:\n",
    "    def __init__(self, val=0, next=None):\n",
    "        self.val = val\n",
    "        self.next = next\n",
    "\n",
    "def nth_node_from_end(head, N):\n",
    "    if not head:\n",
    "        return None\n",
    "\n",
    "    slow = head\n",
    "    fast = head\n",
    "\n",
    "    # Move fast pointer N nodes ahead\n",
    "    for _ in range(N):\n",
    "        if not fast:\n",
    "            return None\n",
    "        fast = fast.next\n",
    "\n",
    "    # Move both pointers until fast reaches the end\n",
    "    while fast and fast.next:\n",
    "        slow = slow.next\n",
    "        fast = fast.next\n",
    "\n",
    "    return slow.val"
   ]
  },
  {
   "cell_type": "markdown",
   "id": "cfe5972f",
   "metadata": {},
   "source": [
    "- Time and Space Complexity:\n",
    "- The time complexity of this solution is O(L), where L is the number of nodes in the linked list. We need to traverse the linked list twice: once to move the fast pointer N nodes ahead, and then again until the fast pointer reaches the end.\n",
    "- The space complexity is O(1) since we are using a constant amount of additional space to store the pointers."
   ]
  },
  {
   "cell_type": "markdown",
   "id": "d88e7d1d",
   "metadata": {},
   "source": [
    "💡 **Question 4**\n",
    "\n",
    "Given a singly linked list of characters, write a function that returns true if the given list is a palindrome, else false.\n"
   ]
  },
  {
   "cell_type": "markdown",
   "id": "fe396a32",
   "metadata": {},
   "source": [
    "- Solution:\n",
    "- To check if a singly linked list of characters is a palindrome, we can utilize the following steps:\n",
    "- Traverse the linked list and store the characters in a list or stack.\n",
    "- Traverse the linked list again, comparing each character with the characters popped from the list or stack.\n",
    "- If all characters match, the linked list is a palindrome; otherwise, it is not. \n",
    "- Python code:"
   ]
  },
  {
   "cell_type": "code",
   "execution_count": 4,
   "id": "75b9b327",
   "metadata": {},
   "outputs": [],
   "source": [
    "class ListNode:\n",
    "    def __init__(self, val=0, next=None):\n",
    "        self.val = val\n",
    "        self.next = next\n",
    "\n",
    "def is_palindrome(head):\n",
    "    # Store characters in a list\n",
    "    characters = []\n",
    "    current = head\n",
    "    while current:\n",
    "        characters.append(current.val)\n",
    "        current = current.next\n",
    "    \n",
    "    # Traverse linked list and compare characters\n",
    "    current = head\n",
    "    while current:\n",
    "        if current.val != characters.pop():\n",
    "            return False\n",
    "        current = current.next\n",
    "    \n",
    "    return True"
   ]
  },
  {
   "cell_type": "markdown",
   "id": "5e6c9673",
   "metadata": {},
   "source": [
    "- Time and Space Complexity:\n",
    "- The time complexity of this solution is O(N), where N is the number of nodes in the linked list. We need to traverse the linked list twice: once to store the characters and once to compare the characters.\n",
    "- The space complexity is O(N), as we need to store the characters in a list or stack, which can have a maximum size of N."
   ]
  },
  {
   "cell_type": "markdown",
   "id": "8827e01d",
   "metadata": {},
   "source": [
    "💡 **Question 5**\n",
    "\n",
    "Given a linked list of **N** nodes such that it may contain a loop.\n",
    "\n",
    "A loop here means that the last node of the link list is connected to the node at position X(1-based index). If the link list does not have any loop, X=0.\n",
    "\n",
    "Remove the loop from the linked list, if it is present, i.e. unlink the last node which is forming the loop.\n"
   ]
  },
  {
   "cell_type": "markdown",
   "id": "72fcbd04",
   "metadata": {},
   "source": [
    "- Solution:\n",
    "- To remove a loop from a linked list, we can use Floyd's Cycle Detection Algorithm. Once a loop is detected, we need to find the node that is causing the loop and break the link to remove the loop.\n",
    "- The steps to remove the loop are as follows:\n",
    "- Detect the loop using the Floyd's Cycle Detection Algorithm.\n",
    "- If a loop is detected, initialize a pointer (let's call it \"ptr\") to the head of the linked list.\n",
    "- Move both the \"ptr\" and the slow pointer at the same pace until they meet. This meeting point is the node that is causing the loop.\n",
    "- Set the next pointer of this meeting point to None, effectively breaking the loop.\n",
    "- Python code:"
   ]
  },
  {
   "cell_type": "code",
   "execution_count": 5,
   "id": "6e2776e1",
   "metadata": {},
   "outputs": [],
   "source": [
    "class ListNode:\n",
    "    def __init__(self, val=0, next=None):\n",
    "        self.val = val\n",
    "        self.next = next\n",
    "\n",
    "def detect_and_remove_loop(head):\n",
    "    if not head or not head.next:\n",
    "        return\n",
    "\n",
    "    slow = head\n",
    "    fast = head\n",
    "\n",
    "    # Detect the loop\n",
    "    while fast and fast.next:\n",
    "        slow = slow.next\n",
    "        fast = fast.next.next\n",
    "        if slow == fast:\n",
    "            break\n",
    "\n",
    "    # No loop found\n",
    "    if slow != fast:\n",
    "        return\n",
    "\n",
    "    # Find the node causing the loop\n",
    "    ptr = head\n",
    "    while ptr.next != slow.next:\n",
    "        ptr = ptr.next\n",
    "        slow = slow.next\n",
    "\n",
    "    # Remove the loop\n",
    "    slow.next = None"
   ]
  },
  {
   "cell_type": "markdown",
   "id": "6ac774eb",
   "metadata": {},
   "source": [
    "- Time and Space Complexity:\n",
    "- The time complexity of this solution is O(N), where N is the number of nodes in the linked list. We need to traverse the linked list twice: once to detect the loop and once to find the node causing the loop.\n",
    "- The space complexity is O(1) since we are using a constant amount of additional space to store the pointers."
   ]
  },
  {
   "cell_type": "markdown",
   "id": "7c94ac8b",
   "metadata": {},
   "source": [
    "\n",
    "💡 **Question 6**\n",
    "\n",
    "Given a linked list and two integers M and N. Traverse the linked list such that you retain M nodes then delete next N nodes, continue the same till end of the linked list.\n",
    "\n",
    "Difficulty Level: Rookie\n"
   ]
  },
  {
   "cell_type": "markdown",
   "id": "c15dba61",
   "metadata": {},
   "source": [
    "- Solution:\n",
    "- To traverse a linked list and retain M nodes while deleting the next N nodes, we can iterate through the linked list and keep track of the nodes to retain and delete. We'll use two pointers, one for the previous node and one for the current node. By updating the next pointers of the previous node, we can remove the nodes to be deleted.\n",
    "- The steps to retain M nodes and delete N nodes are as follows:\n",
    "- Traverse the linked list.\n",
    "- For each iteration, move M nodes and retain them.\n",
    "- Once M nodes are retained, move N nodes and delete them by updating the next pointer of the previous node.\n",
    "- Continue this process until the end of the linked list is reached.\n",
    "- Python code:"
   ]
  },
  {
   "cell_type": "code",
   "execution_count": 6,
   "id": "f700e753",
   "metadata": {},
   "outputs": [],
   "source": [
    "class ListNode:\n",
    "    def __init__(self, val=0, next=None):\n",
    "        self.val = val\n",
    "        self.next = next\n",
    "\n",
    "def retain_delete(head, M, N):\n",
    "    if not head or M <= 0 or N <= 0:\n",
    "        return head\n",
    "\n",
    "    current = head\n",
    "    prev = None\n",
    "\n",
    "    while current:\n",
    "        # Move M nodes and retain\n",
    "        for _ in range(M):\n",
    "            if not current:\n",
    "                return head\n",
    "            prev = current\n",
    "            current = current.next\n",
    "\n",
    "        # Move N nodes and delete\n",
    "        for _ in range(N):\n",
    "            if not current:\n",
    "                break\n",
    "            current = current.next\n",
    "\n",
    "        # Update previous node's next pointer\n",
    "        prev.next = current\n",
    "\n",
    "    return head"
   ]
  },
  {
   "cell_type": "markdown",
   "id": "135d750a",
   "metadata": {},
   "source": [
    "- Time and Space Complexity:\n",
    "- The time complexity of this solution is O(L), where L is the number of nodes in the linked list. We need to traverse the entire linked list once.\n",
    "- The space complexity is O(1) since we are using a constant amount of additional space to store the pointers."
   ]
  },
  {
   "cell_type": "markdown",
   "id": "e021c85b",
   "metadata": {},
   "source": [
    "💡 **Question 7**\n",
    "\n",
    "Given two linked lists, insert nodes of second list into first list at alternate positions of first list.\n",
    "For example, if first list is 5->7->17->13->11 and second is 12->10->2->4->6, the first list should become 5->12->7->10->17->2->13->4->11->6 and second list should become empty. The nodes of second list should only be inserted when there are positions available. For example, if the first list is 1->2->3 and second list is 4->5->6->7->8, then first list should become 1->4->2->5->3->6 and second list to 7->8.\n",
    "\n",
    "Use of extra space is not allowed (Not allowed to create additional nodes), i.e., insertion must be done in-place. Expected time complexity is O(n) where n is number of nodes in first list.\n"
   ]
  },
  {
   "cell_type": "markdown",
   "id": "13cb5d12",
   "metadata": {},
   "source": [
    "- Solution:\n",
    "- To insert nodes of the second linked list into the first list at alternate positions, we can use a merging approach. We'll traverse both lists simultaneously, starting from the head of each list. For each iteration, we'll insert a node from the second list into the first list at the current position and update the pointers accordingly.\n",
    "- The steps to insert nodes at alternate positions are as follows:\n",
    "- Traverse both lists simultaneously until either of the lists reaches its end.\n",
    "- If there are more nodes in the first list, insert the current node from the second list into the first list at the current position.\n",
    "- Update the pointers to maintain the correct order.\n",
    "- If there are remaining nodes in the second list after the first list ends, append them to the end of the first list.\n",
    "- Python code:"
   ]
  },
  {
   "cell_type": "code",
   "execution_count": 7,
   "id": "20ad185d",
   "metadata": {},
   "outputs": [],
   "source": [
    "class ListNode:\n",
    "    def __init__(self, val=0, next=None):\n",
    "        self.val = val\n",
    "        self.next = next\n",
    "\n",
    "def merge_lists(first, second):\n",
    "    if not first:\n",
    "        return second\n",
    "\n",
    "    current1 = first\n",
    "    current2 = second\n",
    "\n",
    "    while current1 and current2:\n",
    "        next1 = current1.next\n",
    "        next2 = current2.next\n",
    "\n",
    "        current1.next = current2\n",
    "        current2.next = next1\n",
    "\n",
    "        current1 = next1\n",
    "        current2 = next2\n",
    "\n",
    "    if current2:\n",
    "        current1.next = current2\n",
    "\n",
    "    return first"
   ]
  },
  {
   "cell_type": "markdown",
   "id": "ecf93ea3",
   "metadata": {},
   "source": [
    "- Time and Space Complexity:\n",
    "- The time complexity of this solution is O(N), where N is the number of nodes in the first list. We need to traverse the first list once to insert the nodes from the second list.\n",
    "- The space complexity is O(1) since we are not using any additional space to store nodes. The insertion is done in-place."
   ]
  },
  {
   "attachments": {
    "image-2.png": {
     "image/png": "[encoded data removed]"
    }
   },
   "cell_type": "markdown",
   "id": "1cbc30fb",
   "metadata": {},
   "source": [
    " **Question 8**\n",
    "\n",
    "Given a singly linked list, find if the linked list is [circular](https://www.geeksforgeeks.org/circular-linked-list/amp/) or not.\n",
    "\n",
    "> A linked list is called circular if it is not NULL-terminated and all nodes are connected in the form of a cycle. Below is an example of a circular linked list.\n",
    "> \n",
    "![image-2.png](attachment:image-2.png)"
   ]
  },
  {
   "cell_type": "markdown",
   "id": "5d85b2ef",
   "metadata": {},
   "source": [
    "- Solution:\n",
    "- To determine if a singly linked list is circular, we can use Floyd's Cycle Detection Algorithm, also known as the \"tortoise and hare\" algorithm. This algorithm uses two pointers, one moving at a slower pace (tortoise) and the other moving at a faster pace (hare). If there is a loop in the linked list, eventually the hare will catch up to the tortoise, indicating the presence of a cycle.\n",
    "- The steps to determine if the linked list is circular are as follows:\n",
    "- Initialize two pointers, slow and fast, to the head of the linked list.Move the slow pointer by one node and the fast pointer by two nodes at each iteration.\n",
    "- If the fast pointer becomes NULL or reaches the end of the linked list, the linked list is not circular.\n",
    "- If the fast pointer catches up to the slow pointer, the linked list is circular.\n",
    "- Python code:"
   ]
  },
  {
   "cell_type": "code",
   "execution_count": 8,
   "id": "c17dd5dc",
   "metadata": {},
   "outputs": [],
   "source": [
    "class ListNode:\n",
    "    def __init__(self, val=0, next=None):\n",
    "        self.val = val\n",
    "        self.next = next\n",
    "\n",
    "def is_circular(head):\n",
    "    if not head or not head.next:\n",
    "        return False\n",
    "\n",
    "    slow = head\n",
    "    fast = head\n",
    "\n",
    "    while fast and fast.next:\n",
    "        slow = slow.next\n",
    "        fast = fast.next.next\n",
    "\n",
    "        if slow == fast:\n",
    "            return True\n",
    "\n",
    "    return False"
   ]
  },
  {
   "cell_type": "markdown",
   "id": "af7408ad",
   "metadata": {},
   "source": [
    "- Time and Space Complexity:\n",
    "- The time complexity of this algorithm is O(N), where N is the number of nodes in the linked list. In the worst case, when there is a cycle, the hare pointer will go around the cycle once before meeting the tortoise. Since there are at most N nodes to traverse, the time complexity is linear.\n",
    "- The space complexity is O(1) since we are using a constant amount of additional space to store the pointers."
   ]
  },
  {
   "cell_type": "code",
   "execution_count": null,
   "id": "4d1d1fa5",
   "metadata": {},
   "outputs": [],
   "source": []
  }
 ],
 "metadata": {
  "kernelspec": {
   "display_name": "Python 3 (ipykernel)",
   "language": "python",
   "name": "python3"
  },
  "language_info": {
   "codemirror_mode": {
    "name": "ipython",
    "version": 3
   },
   "file_extension": ".py",
   "mimetype": "text/x-python",
   "name": "python",
   "nbconvert_exporter": "python",
   "pygments_lexer": "ipython3",
   "version": "3.9.7"
  }
 },
 "nbformat": 4,
 "nbformat_minor": 5
}
