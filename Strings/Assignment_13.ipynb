{
 "cells": [
  {
   "cell_type": "markdown",
   "id": "d4e8784b",
   "metadata": {},
   "source": [
    "\n",
    "💡 **Question 1**\n",
    "\n",
    "Given two linked list of the same size, the task is to create a new linked list using those linked lists. The condition is that the greater node among both linked list will be added to the new linked list.\n"
   ]
  },
  {
   "cell_type": "markdown",
   "id": "6ce765bc",
   "metadata": {},
   "source": [
    "- Solution:\n",
    "- To create a new linked list using two linked lists of the same size, where the greater node among both linked lists is added to the new linked list, we can iterate through both linked lists simultaneously and compare the values of the nodes at each position. We'll create a new node with the greater value and append it to the new linked list.\n",
    "- The steps to create a new linked list with the greater nodes are as follows:\n",
    "- Initialize three pointers, one for each input linked list and one for the new linked list.\n",
    "- Traverse both linked lists simultaneously.\n",
    "- Compare the values of the nodes at the current position.\n",
    "- Create a new node with the greater value and append it to the new linked list.\n",
    "- Move the pointers of both input linked lists and the new linked list to the next position.\n",
    "- Repeat steps 3-5 until the end of both input linked lists is reached.\n",
    "- Python code:"
   ]
  },
  {
   "cell_type": "code",
   "execution_count": 1,
   "id": "edc880db",
   "metadata": {},
   "outputs": [],
   "source": [
    "class ListNode:\n",
    "    def __init__(self, val=0, next=None):\n",
    "        self.val = val\n",
    "        self.next = next\n",
    "\n",
    "def create_new_linked_list(list1, list2):\n",
    "    if not list1 or not list2:\n",
    "        return None\n",
    "\n",
    "    new_head = None\n",
    "    new_current = None\n",
    "    current1 = list1\n",
    "    current2 = list2\n",
    "\n",
    "    while current1 and current2:\n",
    "        if current1.val >= current2.val:\n",
    "            new_node = ListNode(current1.val)\n",
    "            current1 = current1.next\n",
    "        else:\n",
    "            new_node = ListNode(current2.val)\n",
    "            current2 = current2.next\n",
    "\n",
    "        if not new_head:\n",
    "            new_head = new_node\n",
    "            new_current = new_node\n",
    "        else:\n",
    "            new_current.next = new_node\n",
    "            new_current = new_current.next\n",
    "\n",
    "    # Append remaining nodes if any\n",
    "    if current1:\n",
    "        new_current.next = current1\n",
    "    elif current2:\n",
    "        new_current.next = current2\n",
    "\n",
    "    return new_head"
   ]
  },
  {
   "cell_type": "markdown",
   "id": "77565946",
   "metadata": {},
   "source": [
    "- Time and Space Complexity:\n",
    "- The time complexity of this solution is O(N), where N is the number of nodes in the input linked lists. We need to traverse both linked lists simultaneously.\n",
    "- The space complexity is O(1) since we are not using any additional space that scales with the input size. We are creating a new linked list, but it does not consume additional space proportional to the input size."
   ]
  },
  {
   "cell_type": "markdown",
   "id": "995794aa",
   "metadata": {},
   "source": [
    "💡 **Question 2**\n",
    "\n",
    "Write a function that takes a list sorted in non-decreasing order and deletes any duplicate nodes from the list. The list should only be traversed once.\n",
    "\n",
    "For example if the linked list is 11->11->11->21->43->43->60 then removeDuplicates() should convert the list to 11->21->43->60."
   ]
  },
  {
   "cell_type": "markdown",
   "id": "7143f63a",
   "metadata": {},
   "source": [
    "- Solution:\n",
    "- To remove duplicate nodes from a sorted linked list in non-decreasing order, we can traverse the list and compare each node with its next node. If they have the same value, we can update the next pointer of the current node to skip the duplicate node.\n",
    "- The steps to remove duplicate nodes are as follows:\n",
    "- Initialize a pointer to the head of the linked list.\n",
    "- Traverse the linked list.\n",
    "- Compare the value of the current node with the value of its next node.\n",
    "- If they have the same value, update the next pointer of the current node to skip the duplicate node.\n",
    "- Move the pointer to the next node.\n",
    "- Repeat steps 3-5 until the end of the linked list is reached.\n",
    "- Python code:\n",
    "\n",
    "   "
   ]
  },
  {
   "cell_type": "code",
   "execution_count": 2,
   "id": "d493cd90",
   "metadata": {},
   "outputs": [],
   "source": [
    "class ListNode:\n",
    "    def __init__(self, val=0, next=None):\n",
    "        self.val = val\n",
    "        self.next = next\n",
    "\n",
    "def remove_duplicates(head):\n",
    "    if not head or not head.next:\n",
    "        return head\n",
    "\n",
    "    current = head\n",
    "\n",
    "    while current and current.next:\n",
    "        if current.val == current.next.val:\n",
    "            current.next = current.next.next\n",
    "        else:\n",
    "            current = current.next\n",
    "\n",
    "    return head"
   ]
  },
  {
   "cell_type": "markdown",
   "id": "603dbba4",
   "metadata": {},
   "source": [
    "- Time and Space Complexity:\n",
    "- The time complexity of this solution is O(N), where N is the number of nodes in the linked list. We need to traverse the linked list once to remove the duplicate nodes.\n",
    "- The space complexity is O(1) since we are not using any additional space that scales with the input size. We are modifying the linked list in-place."
   ]
  },
  {
   "cell_type": "markdown",
   "id": "253d73c2",
   "metadata": {},
   "source": [
    "💡 **Question 3**\n",
    "\n",
    "Given a linked list of size **N**. The task is to reverse every **k** nodes (where k is an input to the function) in the linked list. If the number of nodes is not a multiple of *k* then left-out nodes, in the end, should be considered as a group and must be reversed (See Example 2 for clarification)."
   ]
  },
  {
   "cell_type": "markdown",
   "id": "4d5c0dae",
   "metadata": {},
   "source": [
    "- To reverse every k nodes in a linked list, we can use a sliding window approach. We'll maintain three pointers: one for the previous node, one for the current node, and one for the next node. By reversing the connections between nodes within the window, we can reverse the group of k nodes.\n",
    "- The steps to reverse every k nodes are as follows:\n",
    "- Initialize three pointers: prev as None, current as the head of the linked list, and next as None.\n",
    "- Traverse the linked list k nodes at a time.\n",
    "- For each group of k nodes, reverse the connections within the group.\n",
    "- Update the pointers accordingly to move to the next group.\n",
    "- If there are remaining nodes that are less than k, no reversal is needed.\n",
    "- Return the new head of the reversed linked list.\n",
    "- Python code:"
   ]
  },
  {
   "cell_type": "code",
   "execution_count": 3,
   "id": "e23426cd",
   "metadata": {},
   "outputs": [],
   "source": [
    "class ListNode:\n",
    "    def __init__(self, val=0, next=None):\n",
    "        self.val = val\n",
    "        self.next = next\n",
    "\n",
    "def reverse_k_nodes(head, k):\n",
    "    if not head or k <= 1:\n",
    "        return head\n",
    "\n",
    "    prev = None\n",
    "    current = head\n",
    "\n",
    "    # Traverse the linked list to reverse every k nodes\n",
    "    while current:\n",
    "        next_node = None\n",
    "        count = 0\n",
    "\n",
    "        # Reverse k nodes\n",
    "        while current and count < k:\n",
    "            next_node = current.next\n",
    "            current.next = prev\n",
    "            prev = current\n",
    "            current = next_node\n",
    "            count += 1\n",
    "\n",
    "        # Connect the reversed group with the previous and next nodes\n",
    "        if prev:\n",
    "            head.next = reverse_k_nodes(next_node, k)\n",
    "            return prev\n",
    "        else:\n",
    "            head.next = reverse_k_nodes(next_node, k)\n",
    "\n",
    "    return prev"
   ]
  },
  {
   "cell_type": "markdown",
   "id": "f4bdb2fc",
   "metadata": {},
   "source": [
    "- Time and Space Complexity:\n",
    "- The time complexity of this solution is O(N), where N is the number of nodes in the linked list. We need to traverse the linked list once, but the reversal operation within each group of k nodes takes constant time.\n",
    "- The space complexity is O(1) since we are using a constant amount of additional space to store the pointers."
   ]
  },
  {
   "cell_type": "markdown",
   "id": "8c944c36",
   "metadata": {},
   "source": [
    "💡 **Question 4**\n",
    "\n",
    "Given a linked list, write a function to reverse every alternate k nodes (where k is an input to the function) in an efficient way. Give the complexity of your algorithm."
   ]
  },
  {
   "cell_type": "markdown",
   "id": "74ffbf4f",
   "metadata": {},
   "source": [
    "- Solution:\n",
    "- To reverse every alternate k nodes in a linked list efficiently, we can modify the approach used in the previous question. Instead of reversing every group of k nodes, we'll reverse only the alternate groups of k nodes.\n",
    "- The steps to reverse every alternate k nodes are as follows:\n",
    "- Initialize three pointers: prev as None, current as the head of the linked list, and next as None.\n",
    "- Traverse the linked list k nodes at a time.\n",
    "- For each alternate group of k nodes, reverse the connections within the group.\n",
    "- Update the pointers accordingly to move to the next group.\n",
    "- If there are remaining nodes that are less than k, no reversal is needed.\n",
    "- Return the new head of the modified linked list.\n",
    "Python code:"
   ]
  },
  {
   "cell_type": "code",
   "execution_count": 4,
   "id": "f34c356f",
   "metadata": {},
   "outputs": [],
   "source": [
    "class ListNode:\n",
    "    def __init__(self, val=0, next=None):\n",
    "        self.val = val\n",
    "        self.next = next\n",
    "\n",
    "def reverse_alternate_k_nodes(head, k):\n",
    "    if not head or k <= 1:\n",
    "        return head\n",
    "\n",
    "    prev = None\n",
    "    current = head\n",
    "    count = 0\n",
    "\n",
    "    # Traverse the linked list to reverse alternate k nodes\n",
    "    while current and count < k:\n",
    "        next_node = current.next\n",
    "\n",
    "        if count % (2 * k) < k:\n",
    "            # Reverse the connections within the alternate group\n",
    "            current.next = prev\n",
    "            prev = current\n",
    "        else:\n",
    "            # Connect the nodes in the original order for non-reversed groups\n",
    "            prev.next = current\n",
    "\n",
    "        current = next_node\n",
    "        count += 1\n",
    "\n",
    "    # Connect the last node of the reversed group to the next non-reversed group\n",
    "    if prev:\n",
    "        head.next = reverse_alternate_k_nodes(current, k)\n",
    "        return prev\n",
    "    else:\n",
    "        head.next = reverse_alternate_k_nodes(current, k)\n",
    "\n",
    "    return head"
   ]
  },
  {
   "cell_type": "markdown",
   "id": "96f398a4",
   "metadata": {},
   "source": [
    "- Time and Space Complexity:\n",
    "- The time complexity of this solution is O(N), where N is the number of nodes in the linked list. We need to traverse the linked list once, and within each group of k nodes, the reversal operation takes constant time.\n",
    "- The space complexity is O(1) since we are using a constant amount of additional space to store the pointers."
   ]
  },
  {
   "cell_type": "markdown",
   "id": "150a2129",
   "metadata": {},
   "source": [
    "💡 **Question 5**\n",
    "Given a linked list and a key to be deleted. Delete last occurrence of key from linked. The list may have duplicates."
   ]
  },
  {
   "cell_type": "markdown",
   "id": "3e8f3b96",
   "metadata": {},
   "source": [
    "- Solution:\n",
    "- To delete the last occurrence of a given key from a linked list, we can use two pointers to keep track of the nodes: prev, which points to the node before the last occurrence of the key, and last, which points to the last occurrence of the key. By updating the next pointer of prev, we can remove the last occurrence of the key from the linked list.\n",
    "- The steps to delete the last occurrence of a key are as follows:\n",
    "- Initialize two pointers: prev as None and last as None.\n",
    "- Traverse the linked list and keep track of the last and prev pointers.\n",
    "- Whenever the key is found, update the last pointer to the current node.\n",
    "- After traversing the linked list, if the last pointer is None, the key is not present in the linked list.\n",
    "- Otherwise, update the next pointer of prev to skip the last occurrence of the key.\n",
    "- Python code:"
   ]
  },
  {
   "cell_type": "code",
   "execution_count": 5,
   "id": "f5de68e1",
   "metadata": {},
   "outputs": [],
   "source": [
    "class ListNode:\n",
    "    def __init__(self, val=0, next=None):\n",
    "        self.val = val\n",
    "        self.next = next\n",
    "\n",
    "def delete_last_occurrence(head, key):\n",
    "    if not head:\n",
    "        return head\n",
    "\n",
    "    prev = None\n",
    "    last = None\n",
    "    current = head\n",
    "\n",
    "    # Traverse the linked list to find the last occurrence of the key\n",
    "    while current:\n",
    "        if current.val == key:\n",
    "            last = current\n",
    "        current = current.next\n",
    "\n",
    "    # If the last pointer is None, the key is not present in the linked list\n",
    "    if not last:\n",
    "        return head\n",
    "\n",
    "    # Traverse the linked list again to update the next pointer of prev\n",
    "    current = head\n",
    "    while current.next:\n",
    "        if current.next == last:\n",
    "            prev = current\n",
    "        current = current.next\n",
    "\n",
    "    # Update the next pointer of prev to skip the last occurrence of the key\n",
    "    prev.next = last.next\n",
    "\n",
    "    return head"
   ]
  },
  {
   "cell_type": "markdown",
   "id": "1af4a32f",
   "metadata": {},
   "source": [
    "- Time and Space Complexity:\n",
    "- The time complexity of this solution is O(N), where N is the number of nodes in the linked list. We need to traverse the linked list twice: once to find the last occurrence of the key and once to update the next pointer of prev.\n",
    "- The space complexity is O(1) since we are using a constant amount of additional space to store the pointers."
   ]
  },
  {
   "cell_type": "markdown",
   "id": "a6669ae6",
   "metadata": {},
   "source": [
    " **Question 6**\n",
    "\n",
    "Given two sorted linked lists consisting of **N** and **M** nodes respectively. The task is to merge both of the lists (in place) and return the head of the merged list."
   ]
  },
  {
   "cell_type": "markdown",
   "id": "a0850c40",
   "metadata": {},
   "source": [
    "- Solution:\n",
    "- To merge two sorted linked lists in place, we can use a pointer for each list and compare the values of the nodes at each step. By rearranging the connections between nodes, we can merge the two lists into a single sorted list.\n",
    "- The steps to merge two sorted linked lists in place are as follows:\n",
    "- Create a dummy node as the head of the merged list.\n",
    "- Initialize two pointers, one for each input list.\n",
    "- Compare the values of the nodes from both lists.\n",
    "- Connect the smaller node to the merged list and move the corresponding pointer forward.\n",
    "- Repeat steps 3-4 until either of the pointers reaches the end of its respective list.\n",
    "- Connect the remaining nodes of the non-empty list to the merged list.\n",
    "- Return the head of the merged list (dummy.next).\n",
    "- Python code:"
   ]
  },
  {
   "cell_type": "code",
   "execution_count": 6,
   "id": "5b9f931a",
   "metadata": {},
   "outputs": [],
   "source": [
    "class ListNode:\n",
    "    def __init__(self, val=0, next=None):\n",
    "        self.val = val\n",
    "        self.next = next\n",
    "\n",
    "def merge_sorted_lists(head1, head2):\n",
    "    # Create a dummy node as the head of the merged list\n",
    "    dummy = ListNode(0)\n",
    "    current = dummy\n",
    "\n",
    "    # Initialize pointers for both input lists\n",
    "    ptr1 = head1\n",
    "    ptr2 = head2\n",
    "\n",
    "    # Compare values and connect the smaller node to the merged list\n",
    "    while ptr1 and ptr2:\n",
    "        if ptr1.val <= ptr2.val:\n",
    "            current.next = ptr1\n",
    "            ptr1 = ptr1.next\n",
    "        else:\n",
    "            current.next = ptr2\n",
    "            ptr2 = ptr2.next\n",
    "        current = current.next\n",
    "\n",
    "    # Connect the remaining nodes of the non-empty list\n",
    "    if ptr1:\n",
    "        current.next = ptr1\n",
    "    elif ptr2:\n",
    "        current.next = ptr2\n",
    "\n",
    "    return dummy.next"
   ]
  },
  {
   "cell_type": "markdown",
   "id": "85cd9aac",
   "metadata": {},
   "source": [
    "- Time and Space Complexity:\n",
    "- The time complexity of this solution is O(N + M), where N and M are the number of nodes in the two input lists. We need to compare and rearrange the connections between nodes, which takes linear time.\n",
    "- The space complexity is O(1) since we are using a constant amount of additional space to store the pointers. The merging is done in place without creating any new nodes."
   ]
  },
  {
   "cell_type": "markdown",
   "id": "f6efcb9c",
   "metadata": {},
   "source": [
    "💡 **Question 7**\n",
    "\n",
    "Given a **Doubly Linked List**, the task is to reverse the given Doubly Linked List."
   ]
  },
  {
   "cell_type": "markdown",
   "id": "1e208aa2",
   "metadata": {},
   "source": [
    "- Solution:\n",
    "- To reverse a doubly linked list, we can traverse the list and swap the prev and next pointers of each node. This will reverse the direction of the links, effectively reversing the doubly linked list.\n",
    "- The steps to reverse a doubly linked list are as follows:\n",
    "- Initialize three pointers: prev as None, current as the head of the linked list, and next as None.\n",
    "- Traverse the linked list and for each node, swap the prev and next pointers.\n",
    "- Update the prev pointer to the current node and move the current pointer to the next node.\n",
    "- After traversing the linked list, update the head pointer to the last node (which is now the first node after reversal).\n",
    "- Python code:"
   ]
  },
  {
   "cell_type": "code",
   "execution_count": 7,
   "id": "f79afbdd",
   "metadata": {},
   "outputs": [],
   "source": [
    "class Node:\n",
    "    def __init__(self, data):\n",
    "        self.data = data\n",
    "        self.prev = None\n",
    "        self.next = None\n",
    "\n",
    "def reverse_doubly_linked_list(head):\n",
    "    if not head or not head.next:\n",
    "        return head\n",
    "\n",
    "    prev = None\n",
    "    current = head\n",
    "\n",
    "    # Traverse the linked list and swap prev and next pointers\n",
    "    while current:\n",
    "        next_node = current.next\n",
    "        current.next = prev\n",
    "        current.prev = next_node\n",
    "        prev = current\n",
    "        current = next_node\n",
    "\n",
    "    # Update the head pointer to the last node (prev)\n",
    "    head = prev\n",
    "\n",
    "    return head"
   ]
  },
  {
   "cell_type": "markdown",
   "id": "06847c71",
   "metadata": {},
   "source": [
    "- Time and Space Complexity:\n",
    "- The time complexity of this solution is O(N), where N is the number of nodes in the doubly linked list. We need to traverse the linked list once and perform constant-time operations for each node.\n",
    "- The space complexity is O(1) since we are using a constant amount of additional space to store the pointers."
   ]
  },
  {
   "cell_type": "markdown",
   "id": "9e27fd19",
   "metadata": {},
   "source": [
    "💡 **Question 8**\n",
    "\n",
    "Given a doubly linked list and a position. The task is to delete a node from given position in a doubly linked list."
   ]
  },
  {
   "cell_type": "markdown",
   "id": "3bb86c7e",
   "metadata": {},
   "source": [
    "Solution:\n",
    "- To delete a node from a doubly linked list at a given position, we need to consider three cases: deleting the head node, deleting a node in the middle, and deleting the tail node.\n",
    "- The steps to delete a node from a given position in a doubly linked list are as follows:\n",
    "- If the doubly linked list is empty, return.\n",
    "- If the position is 1 (i.e., deleting the head node):\n",
    "- Update the next pointer of the head to skip the first node.\n",
    "- Set the prev pointer of the new head (if it exists) to None.\n",
    "- Update the head pointer to the new head.\n",
    "- If the position is greater than 1 (i.e., deleting a node in the middle or at the tail):\n",
    "- Traverse the linked list to find the node at the given position.\n",
    "- Connect the previous node's next pointer to the next node.\n",
    "- Connect the next node's prev pointer to the previous node.\n",
    "- Free the memory of the deleted node.\n",
    "- Python code:\n"
   ]
  },
  {
   "cell_type": "code",
   "execution_count": 8,
   "id": "5cdef1a4",
   "metadata": {},
   "outputs": [],
   "source": [
    "class Node:\n",
    "    def __init__(self, data):\n",
    "        self.data = data\n",
    "        self.prev = None\n",
    "        self.next = None\n",
    "\n",
    "def delete_node_at_position(head, position):\n",
    "    if not head:\n",
    "        return\n",
    "\n",
    "    if position == 1:\n",
    "        # Deleting the head node\n",
    "        next_node = head.next\n",
    "        if next_node:\n",
    "            next_node.prev = None\n",
    "        head = next_node\n",
    "    else:\n",
    "        # Deleting a node in the middle or at the tail\n",
    "        current = head\n",
    "        count = 1\n",
    "\n",
    "        # Traverse to the node at the given position\n",
    "        while current and count < position:\n",
    "            current = current.next\n",
    "            count += 1\n",
    "\n",
    "        if not current:\n",
    "            return\n",
    "\n",
    "        # Connect the previous node and the next node\n",
    "        prev_node = current.prev\n",
    "        next_node = current.next\n",
    "        prev_node.next = next_node\n",
    "        if next_node:\n",
    "            next_node.prev = prev_node\n",
    "\n",
    "    return head"
   ]
  },
  {
   "cell_type": "markdown",
   "id": "1452cf01",
   "metadata": {},
   "source": [
    "- Time and Space Complexity:\n",
    "- The time complexity of this solution is O(N), where N is the number of nodes in the doubly linked list. We may need to traverse the linked list to find the node at the given position.\n",
    "- The space complexity is O(1) since we are using a constant amount of additional space to store the pointers."
   ]
  },
  {
   "cell_type": "code",
   "execution_count": null,
   "id": "cad58b8c",
   "metadata": {},
   "outputs": [],
   "source": []
  }
 ],
 "metadata": {
  "kernelspec": {
   "display_name": "Python 3 (ipykernel)",
   "language": "python",
   "name": "python3"
  },
  "language_info": {
   "codemirror_mode": {
    "name": "ipython",
    "version": 3
   },
   "file_extension": ".py",
   "mimetype": "text/x-python",
   "name": "python",
   "nbconvert_exporter": "python",
   "pygments_lexer": "ipython3",
   "version": "3.9.7"
  }
 },
 "nbformat": 4,
 "nbformat_minor": 5
}
