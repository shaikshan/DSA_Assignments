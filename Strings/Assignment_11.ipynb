{
 "cells": [
  {
   "cell_type": "markdown",
   "id": "1d1e30dd",
   "metadata": {},
   "source": [
    "\n",
    "💡 **Question 1**\n",
    "\n",
    "Given a non-negative integer `x`, return *the square root of* `x` *rounded down to the nearest integer*. The returned integer should be **non-negative** as well.\n",
    "\n",
    "You **must not use** any built-in exponent function or operator.\n",
    "\n",
    "- For example, do not use `pow(x, 0.5)` in c++ or `x ** 0.5` in python."
   ]
  },
  {
   "cell_type": "markdown",
   "id": "d1e4f029",
   "metadata": {},
   "source": [
    "Explanation:\n",
    "\n",
    "- We can use a binary search approach to find the square root of the given number.\n",
    "- We start with a left pointer pointing to 0 and a right pointer pointing to the given number.\n",
    "- While the left pointer is less than or equal to the right pointer, we calculate the mid value as the average of the left and right pointers.\n",
    "- If the square of the mid value is equal to the given number, we return the mid value as the square root.\n",
    "- If the square of the mid value is greater than the given number, we update the right pointer to be mid - 1 and continue the search in the left half.\n",
    "- If the square of the mid value is less than the given number, we update the left pointer to be mid + 1 and continue the search in the right half.\n",
    "- Eventually, the left pointer will become greater than the right pointer, and the right pointer will be pointing to the largest integer whose square is less than or equal to the given number. We return the right pointer as the square root."
   ]
  },
  {
   "cell_type": "code",
   "execution_count": 1,
   "id": "433d4bfc",
   "metadata": {},
   "outputs": [],
   "source": [
    "def mySqrt(x):\n",
    "    left = 0\n",
    "    right = x\n",
    "\n",
    "    while left <= right:\n",
    "        mid = (left + right) // 2\n",
    "        square = mid * mid\n",
    "\n",
    "        if square == x:\n",
    "            return mid\n",
    "        elif square > x:\n",
    "            right = mid - 1\n",
    "        else:\n",
    "            left = mid + 1\n",
    "\n",
    "    return right\n"
   ]
  },
  {
   "cell_type": "markdown",
   "id": "dc3354e7",
   "metadata": {},
   "source": [
    "Time and Space Complexity:\n",
    "- Time complexity: O(log N), where N is the given non-negative integer. The binary search approach reduces the search space by half in each iteration.\n",
    "- Space complexity: O(1). The algorithm uses a constant amount of extra space to store the left and right pointers."
   ]
  },
  {
   "cell_type": "markdown",
   "id": "7e6af3de",
   "metadata": {},
   "source": [
    "        \n",
    "💡 **Question 2**\n",
    "\n",
    "A peak element is an element that is strictly greater than its neighbors.\n",
    "\n",
    "Given a **0-indexed** integer array `nums`, find a peak element, and return its index. If the array contains multiple peaks, return the index to **any of the peaks**.\n",
    "\n",
    "You may imagine that `nums[-1] = nums[n] = -∞`. In other words, an element is always considered to be strictly greater than a neighbor that is outside the array.\n",
    "\n",
    "You must write an algorithm that runs in `O(log n)` time.\n"
   ]
  },
  {
   "cell_type": "markdown",
   "id": "2dc16a89",
   "metadata": {},
   "source": [
    "You must write an algorithm that runs in O(log n) time.\n",
    "ChatGPT\n",
    "- Explanation: \n",
    "- We can use a modified binary search approach to find a peak element in the array.\n",
    "- We start with a left pointer pointing to the start of the array and a right pointer pointing to the end of the array.\n",
    "- While the left pointer is less than the right pointer, we calculate the mid value as the average of the left and right pointers.\n",
    "- We compare the mid value with its adjacent elements, nums[mid-1] and nums[mid+1], to determine if it is a peak element.\n",
    "- If nums[mid] is greater than both of its adjacent elements, it is a peak element, and we return the mid index.\n",
    "- If nums[mid] is smaller than nums[mid+1], it means there is a peak element on the right side of mid, so we update the left pointer to be mid + 1 and continue the search in the right half.\n",
    "- If nums[mid] is smaller than nums[mid-1], it means there is a peak element on the left side of mid, so we update the right pointer to be mid - 1 and continue the search in the left half.\n",
    "- Eventually, the left pointer will become equal to the right pointer, and we return either the left or right pointer as the index of the peak element.\n",
    "- Python code:"
   ]
  },
  {
   "cell_type": "code",
   "execution_count": 2,
   "id": "6084d4d4",
   "metadata": {},
   "outputs": [],
   "source": [
    "def findPeakElement(nums):\n",
    "    left = 0\n",
    "    right = len(nums) - 1\n",
    "\n",
    "    while left < right:\n",
    "        mid = (left + right) // 2\n",
    "\n",
    "        if nums[mid] < nums[mid+1]:\n",
    "            left = mid + 1\n",
    "        else:\n",
    "            right = mid\n",
    "\n",
    "    return left\n"
   ]
  },
  {
   "cell_type": "markdown",
   "id": "c9b99886",
   "metadata": {},
   "source": [
    "- Time and Space Complexity:\n",
    "- Time complexity: O(log N), where N is the length of the array. The binary search approach reduces the search space by half in each iteration.\n",
    "- Space complexity: O(1). The algorithm uses a constant amount of extra space to store the left and right pointers."
   ]
  },
  {
   "cell_type": "markdown",
   "id": "c0df233e",
   "metadata": {},
   "source": [
    "\n",
    "💡 **Question 3**\n",
    "\n",
    "****\n",
    "\n",
    "Given an array `nums` containing `n` distinct numbers in the range `[0, n]`, return *the only number in the range that is missing from the array.*\n",
    "\n"
   ]
  },
  {
   "cell_type": "markdown",
   "id": "e0ed4f03",
   "metadata": {},
   "source": [
    "Explanation:\n",
    "\n",
    "- Since the array contains distinct numbers in the range [0, n], we can assume that the array should have all the numbers from 0 to n.\n",
    "- We can find the missing number by calculating the expected sum of numbers from 0 to n and subtracting the sum of the numbers in the given array.\n",
    "- The expected sum can be calculated using the formula (n * (n + 1)) / 2."
   ]
  },
  {
   "cell_type": "code",
   "execution_count": 4,
   "id": "4797bb7e",
   "metadata": {},
   "outputs": [],
   "source": [
    "def missingNumber(nums):\n",
    "    n = len(nums)\n",
    "    expected_sum = (n * (n + 1)) // 2\n",
    "    actual_sum = sum(nums)\n",
    "    missing_num = expected_sum - actual_sum\n",
    "    return missing_num\n"
   ]
  },
  {
   "cell_type": "markdown",
   "id": "996aa521",
   "metadata": {},
   "source": [
    "- Time and Space Complexity:\n",
    "- Time complexity: O(n), where n is the length of the input array. The algorithm performs a linear scan to calculate the sum of numbers in the array.\n",
    "- Space complexity: O(1). The algorithm uses a constant amount of extra space to store variables for the expected sum, actual sum, and the missing number."
   ]
  },
  {
   "cell_type": "markdown",
   "id": "36c259ec",
   "metadata": {},
   "source": [
    "\n",
    "💡 **Question 4**\n",
    "\n",
    "Given an array of integers `nums` containing `n + 1` integers where each integer is in the range `[1, n]` inclusive.\n",
    "\n",
    "There is only **one repeated number** in `nums`, return *this repeated number*.\n",
    "\n",
    "You must solve the problem **without** modifying the array `nums` and uses only constant extra space.\n",
    "\n"
   ]
  },
  {
   "cell_type": "markdown",
   "id": "1c856506",
   "metadata": {},
   "source": [
    "Explanation:\n",
    "\n",
    "- The given array contains n + 1 integers in the range [1, n], which means there is one repeated number.\n",
    "- We can solve this problem by treating the array as a linked list where the value at each index points to the next index.\n",
    "- We can use Floyd's Tortoise and Hare algorithm (also known as the cycle detection algorithm) to find the duplicate number.\n",
    "- The algorithm involves two pointers: slow and fast. Initially, both pointers start at index 0.\n",
    "- The slow pointer moves one step at a time, and the fast pointer moves two steps at a time.\n",
    "- If there is a cycle in the array, the slow and fast pointers will eventually meet at the same index.\n",
    "- To find the starting point of the cycle (which is the duplicate number), we reset the slow pointer to index 0 and move both pointers one step at a time until they meet again. The meeting point will be the duplicate number.\n",
    "- Python code:"
   ]
  },
  {
   "cell_type": "code",
   "execution_count": 5,
   "id": "170842b2",
   "metadata": {},
   "outputs": [],
   "source": [
    "def findDuplicate(nums):\n",
    "    slow = nums[0]\n",
    "    fast = nums[0]\n",
    "\n",
    "    # Move pointers until they meet\n",
    "    while True:\n",
    "        slow = nums[slow]\n",
    "        fast = nums[nums[fast]]\n",
    "        if slow == fast:\n",
    "            break\n",
    "\n",
    "    # Reset slow pointer to start and move both pointers one step at a time\n",
    "    slow = nums[0]\n",
    "    while slow != fast:\n",
    "        slow = nums[slow]\n",
    "        fast = nums[fast]\n",
    "\n",
    "    return slow"
   ]
  },
  {
   "cell_type": "markdown",
   "id": "dd5497e7",
   "metadata": {},
   "source": [
    "- Time and Space Complexity:\n",
    "- Time complexity: O(n), where n is the length of the input array. The algorithm uses Floyd's Tortoise and Hare algorithm, which requires a linear scan of the array.\n",
    "- Space complexity: O(1). The algorithm uses only constant extra space for the slow and fast pointers."
   ]
  },
  {
   "cell_type": "markdown",
   "id": "52b4facf",
   "metadata": {},
   "source": [
    "\n",
    "💡 **Question 5**\n",
    "\n",
    "Given two integer arrays `nums1` and `nums2`, return *an array of their intersection*. Each element in the result must be **unique** and you may return the result in **any order**.\n",
    "\n"
   ]
  },
  {
   "cell_type": "markdown",
   "id": "5c738220",
   "metadata": {},
   "source": [
    "Explanation:\n",
    "\n",
    "- To find the intersection of two arrays, we can use a hash set to store the unique elements from one array.\n",
    "- We iterate through the first array, nums1, and add each element to the hash set.\n",
    "- Then, we iterate through the second array, nums2, and check if each element is present in the hash set.\n",
    "- If an element is found in the hash set, it is part of the intersection, so we add it to the result array.\n",
    "- Python code:"
   ]
  },
  {
   "cell_type": "code",
   "execution_count": 6,
   "id": "0a851925",
   "metadata": {},
   "outputs": [],
   "source": [
    "def intersection(nums1, nums2):\n",
    "    # Create a hash set to store unique elements\n",
    "    unique_nums = set()\n",
    "\n",
    "    # Add elements from nums1 to the hash set\n",
    "    for num in nums1:\n",
    "        unique_nums.add(num)\n",
    "\n",
    "    # Find intersection of nums2 with unique elements in hash set\n",
    "    result = []\n",
    "    for num in nums2:\n",
    "        if num in unique_nums:\n",
    "            result.append(num)\n",
    "            unique_nums.remove(num)\n",
    "\n",
    "    return result"
   ]
  },
  {
   "cell_type": "markdown",
   "id": "cf24dab1",
   "metadata": {},
   "source": [
    "- Time and Space Complexity:\n",
    "- Time complexity: O(m + n), where m and n are the lengths of nums1 and nums2 respectively. The algorithm iterates through both arrays once.\n",
    "- Space complexity: O(min(m, n)). In the worst case, if both arrays have all unique elements, the hash set will store the smaller array's elements."
   ]
  },
  {
   "cell_type": "markdown",
   "id": "a7c3b799",
   "metadata": {},
   "source": [
    "💡 **Question 6**\n",
    "\n",
    "Suppose an array of length `n` sorted in ascending order is **rotated** between `1` and `n` times. For example, the array `nums = [0,1,2,4,5,6,7]` might become:\n",
    "\n",
    "- `[4,5,6,7,0,1,2]` if it was rotated `4` times.\n",
    "- `[0,1,2,4,5,6,7]` if it was rotated `7` times.\n",
    "\n",
    "Notice that **rotating** an array `[a[0], a[1], a[2], ..., a[n-1]]` 1 time results in the array `[a[n-1], a[0], a[1], a[2], ..., a[n-2]]`.\n",
    "\n",
    "Given the sorted rotated array `nums` of **unique** elements, return *the minimum element of this array*.\n",
    "\n",
    "You must write an algorithm that runs in `O(log n) time.`\n"
   ]
  },
  {
   "cell_type": "markdown",
   "id": "4aa72a48",
   "metadata": {},
   "source": [
    "Explanation:\n",
    "\n",
    "- Since the array is sorted and rotated, we can use a modified binary search algorithm to find the minimum element.\n",
    "- We initialize two pointers, left and right, which represent the start and end indices of the search range.\n",
    "- We compare the element at the middle index with the element at the right index to determine which half of the array to search.\n",
    "- If the middle element is greater than the right element, the minimum element is in the right half, so we update left to be the middle index + 1.\n",
    "- If the middle element is less than or equal to the right element, the minimum element is in the left half or is the middle element itself, so we update right to be the middle index.\n",
    "- We continue this process until the search range reduces to a single element, which is the minimum element.\n",
    "- Python code:"
   ]
  },
  {
   "cell_type": "code",
   "execution_count": 7,
   "id": "b5ee73fc",
   "metadata": {},
   "outputs": [],
   "source": [
    "def findMin(nums):\n",
    "    left, right = 0, len(nums) - 1\n",
    "\n",
    "    while left < right:\n",
    "        mid = (left + right) // 2\n",
    "\n",
    "        if nums[mid] > nums[right]:\n",
    "            left = mid + 1\n",
    "        else:\n",
    "            right = mid\n",
    "\n",
    "    return nums[left]"
   ]
  },
  {
   "cell_type": "markdown",
   "id": "d1de6b26",
   "metadata": {},
   "source": [
    "- Time and Space Complexity:\n",
    "- Time complexity: O(log n), where n is the length of the array. The algorithm performs a binary search, dividing the search range in half at each step.\n",
    "- Space complexity: O(1). The algorithm uses a constant amount of extra space to store the indices and variables for the binary search."
   ]
  },
  {
   "cell_type": "markdown",
   "id": "b1b6f219",
   "metadata": {},
   "source": [
    "💡 **Question 7**\n",
    "\n",
    "Given an array of integers `nums` sorted in non-decreasing order, find the starting and ending position of a given `target` value.\n",
    "\n",
    "If `target` is not found in the array, return `[-1, -1]`.\n",
    "\n",
    "You must write an algorithm with `O(log n)` runtime complexity.\n"
   ]
  },
  {
   "cell_type": "markdown",
   "id": "1f4dd539",
   "metadata": {},
   "source": [
    "Explanation:\n",
    "\n",
    "- Since the array is sorted, we can use a modified binary search algorithm to find the starting and ending positions of the target value.\n",
    "- We initialize two variables, start and end, to store the starting and ending positions respectively. Initially, we set them to -1.\n",
    "- We perform two binary searches:\n",
    "- First, we search for the leftmost occurrence of the target value. If the middle element is greater than or equal to the target value, or if it is the first element, we update end to be the middle index. Otherwise, we update start to be the middle index + 1.\n",
    "- Second, we search for the rightmost occurrence of the target value. If the middle element is less than or equal to the target value, or if it is the last element, we update start to be the middle index. Otherwise, we update end to be the middle index - 1.\n",
    "- We repeat these binary searches until the search range reduces to a single element or the target value is found.\n",
    "- Python code:"
   ]
  },
  {
   "cell_type": "code",
   "execution_count": 8,
   "id": "d04f636e",
   "metadata": {},
   "outputs": [],
   "source": [
    "def searchRange(nums, target):\n",
    "    def findLeftMost():\n",
    "        start, end = 0, len(nums) - 1\n",
    "        leftMost = -1\n",
    "\n",
    "        while start <= end:\n",
    "            mid = (start + end) // 2\n",
    "\n",
    "            if nums[mid] >= target:\n",
    "                end = mid - 1\n",
    "                leftMost = mid\n",
    "            else:\n",
    "                start = mid + 1\n",
    "\n",
    "        return leftMost\n",
    "\n",
    "    def findRightMost():\n",
    "        start, end = 0, len(nums) - 1\n",
    "        rightMost = -1\n",
    "\n",
    "        while start <= end:\n",
    "            mid = (start + end) // 2\n",
    "\n",
    "            if nums[mid] <= target:\n",
    "                start = mid + 1\n",
    "                rightMost = mid\n",
    "            else:\n",
    "                end = mid - 1\n",
    "\n",
    "        return rightMost\n",
    "\n",
    "    left = findLeftMost()\n",
    "    right = findRightMost()\n",
    "\n",
    "    return [left, right]"
   ]
  },
  {
   "cell_type": "markdown",
   "id": "7765c878",
   "metadata": {},
   "source": [
    "- Time and Space Complexity:\n",
    "- Time complexity: O(log n), where n is the length of the array. The algorithm performs two binary searches to find the leftmost and rightmost occurrences of the target value.\n",
    "- Space complexity: O(1). The algorithm uses a constant amount of extra space to store the variables for the binary searches."
   ]
  },
  {
   "cell_type": "markdown",
   "id": "d92414b8",
   "metadata": {},
   "source": [
    "💡 **Question 8**\n",
    "\n",
    "Given two integer arrays `nums1` and `nums2`, return *an array of their intersection*. Each element in the result must appear as many times as it shows in both arrays and you may return the result in **any order**.\n"
   ]
  },
  {
   "cell_type": "markdown",
   "id": "b13a6b9d",
   "metadata": {},
   "source": [
    "Explanation:\n",
    "\n",
    "- We can solve this problem by using a hashmap to store the frequency of elements in nums1.\n",
    "- Then, we iterate through nums2 and check if each element exists in the hashmap. If it does, we decrement the frequency and add the element to the result array.\n",
    "- By doing this, we ensure that each element appears in the result array as many times as it shows in both arrays.\n",
    "- Finally, we return the result array.\n",
    "- Python code:"
   ]
  },
  {
   "cell_type": "code",
   "execution_count": 9,
   "id": "3e8a38f8",
   "metadata": {},
   "outputs": [],
   "source": [
    "from collections import defaultdict\n",
    "\n",
    "def intersect(nums1, nums2):\n",
    "    frequency = defaultdict(int)\n",
    "    result = []\n",
    "\n",
    "    # Count the frequency of elements in nums1\n",
    "    for num in nums1:\n",
    "        frequency[num] += 1\n",
    "\n",
    "    # Check if each element in nums2 exists in the hashmap\n",
    "    # and add it to the result array if it does\n",
    "    for num in nums2:\n",
    "        if frequency[num] > 0:\n",
    "            result.append(num)\n",
    "            frequency[num] -= 1\n",
    "\n",
    "    return result"
   ]
  },
  {
   "cell_type": "markdown",
   "id": "a3e1efce",
   "metadata": {},
   "source": [
    "- Time and Space Complexity:\n",
    "- Time complexity: O(m + n), where m and n are the lengths of nums1 and nums2 respectively. We iterate through both arrays once to count the frequencies and find the intersection.\n",
    "- Space complexity: O(min(m, n)). In the worst case, the hashmap will store the frequencies of all elements in the smaller array."
   ]
  }
 ],
 "metadata": {
  "kernelspec": {
   "display_name": "Python 3 (ipykernel)",
   "language": "python",
   "name": "python3"
  },
  "language_info": {
   "codemirror_mode": {
    "name": "ipython",
    "version": 3
   },
   "file_extension": ".py",
   "mimetype": "text/x-python",
   "name": "python",
   "nbconvert_exporter": "python",
   "pygments_lexer": "ipython3",
   "version": "3.9.7"
  }
 },
 "nbformat": 4,
 "nbformat_minor": 5
}
