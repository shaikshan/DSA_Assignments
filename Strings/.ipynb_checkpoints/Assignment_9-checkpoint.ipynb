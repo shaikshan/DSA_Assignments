{
 "cells": [
  {
   "cell_type": "markdown",
   "id": "7d6408c5",
   "metadata": {},
   "source": [
    "\n",
    "💡 **Question 1**\n",
    "\n",
    "Given an integer `n`, return *`true` if it is a power of two. Otherwise, return `false`*.\n",
    "\n",
    "An integer `n` is a power of two, if there exists an integer `x` such that `n == 2x`.\n"
   ]
  },
  {
   "cell_type": "markdown",
   "id": "a83f39f3",
   "metadata": {},
   "source": [
    "Explanation:\n",
    "\n",
    "- We can solve this problem by checking if the given number is greater than 0 and has only a single bit set to 1. If both conditions are true, then the number is a power of two.\n",
    "- Since a power of two in binary representation has only a single bit set to 1 (e.g., 2 = 10, 4 = 100, 8 = 1000), we can use the bitwise AND operation to check if the number has a single bit set."
   ]
  },
  {
   "cell_type": "code",
   "execution_count": 3,
   "id": "32930b75",
   "metadata": {},
   "outputs": [],
   "source": [
    "def isPowerOfTwo(n):\n",
    "    return n > 0 and (n & (n - 1)) == 0"
   ]
  },
  {
   "cell_type": "markdown",
   "id": "5902f428",
   "metadata": {},
   "source": [
    "Time and Space Complexity:\n",
    "\n",
    "- Time complexity: O(1) - The solution has constant time complexity as it performs a fixed number of operations regardless of the input size.\n",
    "- Space complexity: O(1) - The solution has a constant space complexity as it does not use any additional data structures that grow with the input size."
   ]
  },
  {
   "cell_type": "markdown",
   "id": "757a8b20",
   "metadata": {},
   "source": [
    "💡 **Question 2**\n",
    "\n",
    "Given a number n, find the sum of the first natural numbers.\n",
    "\n"
   ]
  },
  {
   "cell_type": "markdown",
   "id": "02c9b430",
   "metadata": {},
   "source": [
    "\n",
    "Explanation:\n",
    "\n",
    "- To find the sum of the first natural numbers, we can use the formula for the sum of an arithmetic series: sum = (n * (n + 1)) / 2.\n",
    "- The formula calculates the sum of numbers from 1 to n, inclusive."
   ]
  },
  {
   "cell_type": "code",
   "execution_count": 4,
   "id": "43d01441",
   "metadata": {},
   "outputs": [],
   "source": [
    "def sumOfNaturalNumbers(n):\n",
    "    return (n * (n + 1)) // 2"
   ]
  },
  {
   "cell_type": "markdown",
   "id": "0b1c14da",
   "metadata": {},
   "source": [
    "Time and Space Complexity:\n",
    "- Time complexity: O(1) - The solution has constant time complexity as it performs a fixed number of operations regardless of the input size.\n",
    "- Space complexity: O(1) - The solution has a constant space complexity as it does not use any additional data structures that grow with the input size."
   ]
  },
  {
   "cell_type": "markdown",
   "id": "4a695a21",
   "metadata": {},
   "source": [
    "\n",
    "💡 **Question 3**\n",
    "\n",
    "****Given a positive integer, N. Find the factorial of N. "
   ]
  },
  {
   "cell_type": "markdown",
   "id": "74e5464a",
   "metadata": {},
   "source": [
    "Explanation:\n",
    "\n",
    "The factorial of a positive integer N is the product of all positive integers from 1 to N.\n",
    "We can calculate the factorial iteratively by multiplying each number from 1 to N."
   ]
  },
  {
   "cell_type": "code",
   "execution_count": 5,
   "id": "531c0f5d",
   "metadata": {},
   "outputs": [],
   "source": [
    "def factorial(N):\n",
    "    result = 1\n",
    "    for i in range(1, N+1):\n",
    "        result *= i\n",
    "    return result\n"
   ]
  },
  {
   "cell_type": "markdown",
   "id": "b861c2be",
   "metadata": {},
   "source": [
    "Time and Space Complexity:\n",
    "- Time complexity: O(N) - The solution iterates N times to calculate the factorial.\n",
    "- Space complexity: O(1) - The solution uses a constant amount of space to store the result."
   ]
  },
  {
   "cell_type": "markdown",
   "id": "78d16086",
   "metadata": {},
   "source": [
    "\n",
    "💡 **Question 4**\n",
    "\n",
    "Given a number N and a power P, the task is to find the exponent of this number raised to the given power, i.e. N^P.\n"
   ]
  },
  {
   "cell_type": "markdown",
   "id": "e37125d5",
   "metadata": {},
   "source": [
    "Explanation:\n",
    "\n",
    "- To find the exponent of a number N raised to the power P, we can use the exponentiation operator or the power function.\n",
    "- If the programming language supports an exponentiation operator (e.g., ** in Python), we can simply use that operator to calculate N^P.\n",
    "- If the language doesn't have an exponentiation operator, we can use a loop to multiply N by itself P times to get the desired result."
   ]
  },
  {
   "cell_type": "code",
   "execution_count": 6,
   "id": "4189c15d",
   "metadata": {},
   "outputs": [],
   "source": [
    "def exponentiate(N, P):\n",
    "    return N ** P  # Using exponentiation operator\n",
    "\n",
    "# OR\n",
    "\n",
    "def exponentiate(N, P):\n",
    "    result = 1\n",
    "    for _ in range(P):\n",
    "        result *= N\n",
    "    return result\n"
   ]
  },
  {
   "cell_type": "markdown",
   "id": "c63f5ede",
   "metadata": {},
   "source": [
    "- Time and Space Complexity:\n",
    "- Time complexity: O(P) - The solution performs P multiplications to calculate N^P.\n",
    "- Space complexity: O(1) - The solution uses a constant amount of space to store the result"
   ]
  },
  {
   "cell_type": "markdown",
   "id": "f4ce8548",
   "metadata": {},
   "source": [
    "\n",
    "💡 **Question 5**\n",
    "\n",
    "Given an array of integers **arr**, the task is to find maximum element of that array using recursion.\n"
   ]
  },
  {
   "cell_type": "markdown",
   "id": "98409c89",
   "metadata": {},
   "source": [
    "\n",
    "Explanation:\n",
    "\n",
    "- To find the maximum element of an array using recursion, we can divide the array into smaller subarrays and compare the maximum elements of the subarrays.\n",
    "- The base case for the recursion is when the array has only one element. In this case, the maximum element is the single element itself.\n",
    "- For larger arrays, we can recursively find the maximum elements of the left and right halves of the array and compare them to get the maximum overall."
   ]
  },
  {
   "cell_type": "code",
   "execution_count": 7,
   "id": "5f923182",
   "metadata": {},
   "outputs": [],
   "source": [
    "def findMax(arr):\n",
    "    if len(arr) == 1:\n",
    "        return arr[0]\n",
    "    \n",
    "    mid = len(arr) // 2\n",
    "    left_max = findMax(arr[:mid])\n",
    "    right_max = findMax(arr[mid:])\n",
    "    \n",
    "    return max(left_max, right_max)\n"
   ]
  },
  {
   "cell_type": "markdown",
   "id": "a7625c39",
   "metadata": {},
   "source": [
    "- Time and Space Complexity:\n",
    "- Time complexity: O(n log n) - The solution divides the array in half at each recursive step, resulting in a time complexity of O(n log n) in the worst case.\n",
    "- Space complexity: O(log n) - The solution has a space complexity of O(log n) due to the recursive calls on the stack."
   ]
  },
  {
   "cell_type": "markdown",
   "id": "0fd798eb",
   "metadata": {},
   "source": [
    "\n",
    "💡 **Question 6**\n",
    "\n",
    "Given first term (a), common difference (d) and a integer N of the Arithmetic Progression series, the task is to find Nth term of the series.\n"
   ]
  },
  {
   "cell_type": "markdown",
   "id": "e39935bc",
   "metadata": {},
   "source": [
    "\n",
    "Explanation:\n",
    "\n",
    "- In an arithmetic progression series, each term is obtained by adding a constant difference (d) to the previous term.\n",
    "- To find the Nth term of the arithmetic progression, we can use the formula: nth_term = a + (N - 1) * d.\n",
    "- Here, 'a' represents the first term of the series, 'd' represents the common difference, and 'N' is the position of the term we want to find."
   ]
  },
  {
   "cell_type": "code",
   "execution_count": 8,
   "id": "8f412be3",
   "metadata": {},
   "outputs": [],
   "source": [
    "def findNthTerm(a, d, N):\n",
    "    nth_term = a + (N - 1) * d\n",
    "    return nth_term"
   ]
  },
  {
   "cell_type": "markdown",
   "id": "25024fdf",
   "metadata": {},
   "source": [
    "- Time and Space Complexity:\n",
    "- Time complexity: O(1) - The solution has constant time complexity as it performs a fixed number of operations regardless of the input size.\n",
    "- Space complexity: O(1) - The solution uses a constant amount of space to store the nth term."
   ]
  },
  {
   "cell_type": "markdown",
   "id": "8451bde4",
   "metadata": {},
   "source": [
    "\n",
    "💡 **Question 7**\n",
    "\n",
    "Given a string S, the task is to write a program to print all permutations of a given string.\n"
   ]
  },
  {
   "cell_type": "markdown",
   "id": "517d9944",
   "metadata": {},
   "source": [
    "Explanation:\n",
    "\n",
    "- To find all permutations of a given string, we can use recursion and backtracking.\n",
    "- The idea is to fix one character at the beginning and recursively find all permutations of the remaining characters.\n",
    "- We can swap the fixed character with each character in the remaining string and recursively generate permutations for the remaining characters.\n",
    "- We repeat this process for each character in the string to generate all possible permutations."
   ]
  },
  {
   "cell_type": "code",
   "execution_count": 10,
   "id": "90afe921",
   "metadata": {},
   "outputs": [],
   "source": [
    "def permute(s, left, right):\n",
    "    if left == right:\n",
    "        print(''.join(s))\n",
    "    else:\n",
    "        for i in range(left, right + 1):\n",
    "            s[left], s[i] = s[i], s[left]  # Swap characters\n",
    "            permute(s, left + 1, right)  # Recursively generate permutations\n",
    "            s[left], s[i] = s[i], s[left]  # Restore the original order\n",
    "\n",
    "def printPermutations(string):\n",
    "    n = len(string)\n",
    "    s = list(string)\n",
    "    permute(s, 0, n - 1)\n"
   ]
  },
  {
   "cell_type": "markdown",
   "id": "8d8bdbef",
   "metadata": {},
   "source": [
    "- Time and Space Complexity:\n",
    "- Time complexity: O(N!) - There are N! permutations of an N-length string, so the time complexity is factorial.\n",
    "- Space complexity: O(N) - The recursive stack uses space proportional to the length of the string for each recursion level."
   ]
  },
  {
   "cell_type": "markdown",
   "id": "f70b6cf9",
   "metadata": {},
   "source": [
    "\n",
    "💡 **Question 8**\n",
    "\n",
    "Given an array, find a product of all array elements.\n"
   ]
  },
  {
   "cell_type": "markdown",
   "id": "15b7e527",
   "metadata": {},
   "source": [
    "\n",
    "Explanation:\n",
    "\n",
    "- To find the product of all elements in an array, we can iterate through the array and multiply each element with the running product.\n",
    "- We start with an initial product of 1 and multiply it with each element in the array.\n",
    "- After iterating through all elements, the final product will be the product of all array elements"
   ]
  },
  {
   "cell_type": "code",
   "execution_count": 11,
   "id": "81fa66ec",
   "metadata": {},
   "outputs": [],
   "source": [
    "def findProduct(arr):\n",
    "    product = 1\n",
    "    for num in arr:\n",
    "        product *= num\n",
    "    return product"
   ]
  },
  {
   "cell_type": "markdown",
   "id": "94ebc7dd",
   "metadata": {},
   "source": [
    "- Time and Space Complexity:\n",
    "- Time complexity: O(N) - The solution iterates through each element in the array once, resulting in linear time complexity.\n",
    "- Space complexity: O(1) - The solution uses a constant amount of space to store the product variable."
   ]
  }
 ],
 "metadata": {
  "kernelspec": {
   "display_name": "Python 3 (ipykernel)",
   "language": "python",
   "name": "python3"
  },
  "language_info": {
   "codemirror_mode": {
    "name": "ipython",
    "version": 3
   },
   "file_extension": ".py",
   "mimetype": "text/x-python",
   "name": "python",
   "nbconvert_exporter": "python",
   "pygments_lexer": "ipython3",
   "version": "3.9.7"
  }
 },
 "nbformat": 4,
 "nbformat_minor": 5
}
