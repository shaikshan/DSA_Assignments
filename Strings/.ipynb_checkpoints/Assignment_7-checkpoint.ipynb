{
 "cells": [
  {
   "cell_type": "markdown",
   "id": "36f37169",
   "metadata": {},
   "source": [
    "\n",
    "💡 **Question 1**\n",
    "\n",
    "Given two strings s and t, *determine if they are isomorphic*.\n",
    "\n",
    "Two strings s and t are isomorphic if the characters in s can be replaced to get t.\n",
    "\n",
    "All occurrences of a character must be replaced with another character while preserving the order of characters. No two characters may map to the same character, but a character may map to itself.\n"
   ]
  },
  {
   "cell_type": "markdown",
   "id": "17531521",
   "metadata": {},
   "source": [
    "To determine if two strings, s and t, are isomorphic, we need to check if there is a consistent mapping between the characters of s and t. In other words, each character in s should be replaced with the corresponding character in t, and vice versa."
   ]
  },
  {
   "cell_type": "code",
   "execution_count": 1,
   "id": "da45981d",
   "metadata": {},
   "outputs": [],
   "source": [
    "def is_isomorphic(s, t):\n",
    "    if len(s) != len(t):\n",
    "        return False\n",
    "\n",
    "    char_map_s = {}\n",
    "    char_map_t = {}\n",
    "\n",
    "    for i in range(len(s)):\n",
    "        char_s = s[i]\n",
    "        char_t = t[i]\n",
    "\n",
    "        if char_s in char_map_s:\n",
    "            if char_map_s[char_s] != char_t:\n",
    "                return False\n",
    "        else:\n",
    "            char_map_s[char_s] = char_t\n",
    "\n",
    "        if char_t in char_map_t:\n",
    "            if char_map_t[char_t] != char_s:\n",
    "                return False\n",
    "        else:\n",
    "            char_map_t[char_t] = char_s\n",
    "\n",
    "    return True"
   ]
  },
  {
   "cell_type": "markdown",
   "id": "492e9798",
   "metadata": {},
   "source": [
    "The function has a time complexity of O(n) and a space complexity of O(n)."
   ]
  },
  {
   "cell_type": "markdown",
   "id": "d7ec29f6",
   "metadata": {},
   "source": [
    "\n",
    "💡 **Question 2**\n",
    "\n",
    "Given a string num which represents an integer, return true *if* num *is a **strobogrammatic number***.\n",
    "\n",
    "A **strobogrammatic number** is a number that looks the same when rotated 180 degrees (looked at upside down).\n"
   ]
  },
  {
   "cell_type": "markdown",
   "id": "02c3eac9",
   "metadata": {},
   "source": [
    "To determine if a given string num is a strobogrammatic number, we need to check if it remains the same when rotated 180 degrees. In other words, we need to ensure that each digit in the string has a valid rotation counterpart."
   ]
  },
  {
   "cell_type": "code",
   "execution_count": 2,
   "id": "5a360057",
   "metadata": {},
   "outputs": [],
   "source": [
    "def is_strobogrammatic(num):\n",
    "    valid_pairs = {'0': '0', '1': '1', '6': '9', '8': '8', '9': '6'}\n",
    "    left = 0\n",
    "    right = len(num) - 1\n",
    "\n",
    "    while left <= right:\n",
    "        if num[left] not in valid_pairs or num[right] not in valid_pairs:\n",
    "            return False\n",
    "\n",
    "        if num[left] != valid_pairs[num[right]]:\n",
    "            return False\n",
    "\n",
    "        left += 1\n",
    "        right -= 1\n",
    "\n",
    "    return True"
   ]
  },
  {
   "cell_type": "markdown",
   "id": "bfbb2977",
   "metadata": {},
   "source": [
    "function has a time complexity of O(n) and a space complexity of O(1)."
   ]
  },
  {
   "cell_type": "markdown",
   "id": "f9367e79",
   "metadata": {},
   "source": [
    "\n",
    "💡 **Question 3**\n",
    "\n",
    "Given two non-negative integers, num1 and num2 represented as string, return *the sum of* num1 *and* num2 *as a string*.\n",
    "\n",
    "You must solve the problem without using any built-in library for handling large integers (such as BigInteger). You must also not convert the inputs to integers directly.\n"
   ]
  },
  {
   "cell_type": "markdown",
   "id": "74187f7c",
   "metadata": {},
   "source": [
    "To solve the problem of adding two non-negative integers represented as strings, we can perform the addition digit by digit, just like how we do it manually. We start from the rightmost digits and work our way towards the left, keeping track of the carry whenever necessary."
   ]
  },
  {
   "cell_type": "code",
   "execution_count": 3,
   "id": "35649a18",
   "metadata": {},
   "outputs": [],
   "source": [
    "def add_strings(num1, num2):\n",
    "    result = []\n",
    "    carry = 0\n",
    "    i = len(num1) - 1\n",
    "    j = len(num2) - 1\n",
    "\n",
    "    while i >= 0 or j >= 0 or carry:\n",
    "        digit1 = int(num1[i]) if i >= 0 else 0\n",
    "        digit2 = int(num2[j]) if j >= 0 else 0\n",
    "\n",
    "        # Compute the sum of digits and carry\n",
    "        digit_sum = digit1 + digit2 + carry\n",
    "        carry = digit_sum // 10\n",
    "        digit_sum %= 10\n",
    "\n",
    "        # Prepend the current digit to the result\n",
    "        result.append(str(digit_sum))\n",
    "\n",
    "        # Move to the next digits\n",
    "        i -= 1\n",
    "        j -= 1\n",
    "\n",
    "    # Reverse the result and join the digits into a string\n",
    "    return ''.join(result[::-1])\n"
   ]
  },
  {
   "cell_type": "markdown",
   "id": "1637d585",
   "metadata": {},
   "source": [
    "the function has a time complexity of O(max(N, M)) and a space"
   ]
  },
  {
   "cell_type": "markdown",
   "id": "6f579232",
   "metadata": {},
   "source": [
    "\n",
    "💡 **Question 4**\n",
    "\n",
    "Given a string s, reverse the order of characters in each word within a sentence while still preserving whitespace and initial word order.\n",
    "\n"
   ]
  },
  {
   "cell_type": "markdown",
   "id": "70bc923c",
   "metadata": {},
   "source": [
    "\n",
    "To reverse the order of characters in each word of a sentence while preserving whitespace and the initial word order, we can split the sentence into words, reverse each word individually, and then join the reversed words back together."
   ]
  },
  {
   "cell_type": "code",
   "execution_count": 4,
   "id": "07660d9e",
   "metadata": {},
   "outputs": [],
   "source": [
    "def reverse_words(s):\n",
    "    words = s.split(\" \")  # Split the sentence into words\n",
    "    reversed_words = []\n",
    "\n",
    "    for word in words:\n",
    "        reversed_word = word[::-1]  # Reverse the characters of the word\n",
    "        reversed_words.append(reversed_word)\n",
    "\n",
    "    return \" \".join(reversed_words)  # Join the reversed words back together with spaces\n",
    "\n"
   ]
  },
  {
   "cell_type": "markdown",
   "id": "8503095a",
   "metadata": {},
   "source": [
    " function has a time complexity of O(n) and a space complexity of O(n)."
   ]
  },
  {
   "cell_type": "markdown",
   "id": "a5908b71",
   "metadata": {},
   "source": [
    "\n",
    "💡 **Question 5**\n",
    "\n",
    "Given a string s and an integer k, reverse the first k characters for every 2k characters counting from the start of the string.\n",
    "\n",
    "If there are fewer than k characters left, reverse all of them. If there are less than 2k but greater than or equal to k characters, then reverse the first k characters and leave the other as original\n"
   ]
  },
  {
   "cell_type": "markdown",
   "id": "ca70e06a",
   "metadata": {},
   "source": [
    "To reverse the first k characters for every 2k characters in a string, we can iterate through the string in chunks of 2k and reverse the first k characters in each chunk. If there are fewer than k characters left, we reverse all of them."
   ]
  },
  {
   "cell_type": "code",
   "execution_count": 5,
   "id": "f00335e0",
   "metadata": {},
   "outputs": [],
   "source": [
    "def reverse_string(s, k):\n",
    "    n = len(s)\n",
    "    result = list(s)  # Convert the string to a mutable list\n",
    "\n",
    "    for i in range(0, n, 2 * k):\n",
    "        start = i\n",
    "        end = min(i + k, n)  # Handle the case when there are fewer than k characters left\n",
    "\n",
    "        # Reverse the first k characters in the chunk\n",
    "        result[start:end] = result[start:end][::-1]\n",
    "\n",
    "    return \"\".join(result)\n"
   ]
  },
  {
   "cell_type": "markdown",
   "id": "b9839a6d",
   "metadata": {},
   "source": [
    "the function has a time complexity of O(n) and a space complexity of O(n)."
   ]
  },
  {
   "cell_type": "markdown",
   "id": "5a165280",
   "metadata": {},
   "source": [
    "\n",
    "💡 **Question 6**\n",
    "\n",
    "Given two strings s and goal, return true *if and only if* s *can become* goal *after some number of **shifts** on* s.\n",
    "\n",
    "A **shift** on s consists of moving the leftmost character of s to the rightmost position.\n",
    "\n",
    "- For example, if s = \"abcde\", then it will be \"bcdea\" after one shift.\n"
   ]
  },
  {
   "cell_type": "markdown",
   "id": "5745b535",
   "metadata": {},
   "source": [
    "To determine if one string can become another string after some number of shifts, we can check if the second string is a substring of the concatenation of the first string with itself."
   ]
  },
  {
   "cell_type": "code",
   "execution_count": 6,
   "id": "bce83b5e",
   "metadata": {},
   "outputs": [],
   "source": [
    "def can_shift(s, goal):\n",
    "    if len(s) != len(goal):\n",
    "        return False\n",
    "\n",
    "    concatenated = s + s\n",
    "\n",
    "    return goal in concatenated\n"
   ]
  },
  {
   "cell_type": "markdown",
   "id": "33238b19",
   "metadata": {},
   "source": [
    "the function has a time complexity of O(n) and a space complexity of O(n)."
   ]
  },
  {
   "cell_type": "markdown",
   "id": "634dab5e",
   "metadata": {},
   "source": [
    "\n",
    "💡 **Question 7**\n",
    "\n",
    "Given two strings s and t, return true *if they are equal when both are typed into empty text editors*. '#' means a backspace character.\n",
    "\n",
    "Note that after backspacing an empty text, the text will continue empty.\n"
   ]
  },
  {
   "cell_type": "markdown",
   "id": "70aaff2e",
   "metadata": {},
   "source": [
    "To determine if two strings are equal when both are typed into empty text editors (accounting for backspace characters), we can simulate the typing process by using a stack."
   ]
  },
  {
   "cell_type": "code",
   "execution_count": 7,
   "id": "33e8214f",
   "metadata": {},
   "outputs": [],
   "source": [
    "def backspace_compare(s, t):\n",
    "    # Helper function to process the string and return the final typed result\n",
    "    def process_string(string):\n",
    "        stack = []\n",
    "\n",
    "        for char in string:\n",
    "            if char != '#':\n",
    "                stack.append(char)\n",
    "            elif stack:\n",
    "                stack.pop()\n",
    "\n",
    "        return \"\".join(stack)\n",
    "\n",
    "    return process_string(s) == process_string(t)"
   ]
  },
  {
   "cell_type": "markdown",
   "id": "8741c987",
   "metadata": {},
   "source": [
    "function has a time complexity of O(m + n) and a space complexity of O(m + n)."
   ]
  },
  {
   "cell_type": "markdown",
   "id": "4da9e5e1",
   "metadata": {},
   "source": [
    "\n",
    "💡 **Question 8**\n",
    "\n",
    "You are given an array coordinates, coordinates[i] = [x, y], where [x, y] represents the coordinate of a point. Check if these points make a straight line in the XY plane.\n"
   ]
  },
  {
   "cell_type": "markdown",
   "id": "9f621272",
   "metadata": {},
   "source": [
    "To check if a given array of coordinates represents points that lie on a straight line in the XY plane, we can use the concept of slope."
   ]
  },
  {
   "cell_type": "code",
   "execution_count": 8,
   "id": "6497fa1e",
   "metadata": {},
   "outputs": [],
   "source": [
    "def check_straight_line(coordinates):\n",
    "    if len(coordinates) <= 2:\n",
    "        return True\n",
    "\n",
    "    x0, y0 = coordinates[0]\n",
    "    x1, y1 = coordinates[1]\n",
    "\n",
    "    for i in range(2, len(coordinates)):\n",
    "        x, y = coordinates[i]\n",
    "\n",
    "        # Calculate the slope between the current point and the first point\n",
    "        if (y1 - y0) * (x - x0) != (y - y0) * (x1 - x0):\n",
    "            return False\n",
    "\n",
    "    return True\n"
   ]
  },
  {
   "cell_type": "markdown",
   "id": "8ba24844",
   "metadata": {},
   "source": [
    "function has a time complexity of O(n) and a space complexity of O(1)."
   ]
  },
  {
   "cell_type": "code",
   "execution_count": null,
   "id": "bed7bf2a",
   "metadata": {},
   "outputs": [],
   "source": []
  }
 ],
 "metadata": {
  "kernelspec": {
   "display_name": "Python 3 (ipykernel)",
   "language": "python",
   "name": "python3"
  },
  "language_info": {
   "codemirror_mode": {
    "name": "ipython",
    "version": 3
   },
   "file_extension": ".py",
   "mimetype": "text/x-python",
   "name": "python",
   "nbconvert_exporter": "python",
   "pygments_lexer": "ipython3",
   "version": "3.9.7"
  }
 },
 "nbformat": 4,
 "nbformat_minor": 5
}
